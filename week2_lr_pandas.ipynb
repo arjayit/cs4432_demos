{
 "cells": [
  {
   "cell_type": "code",
   "execution_count": null,
   "metadata": {},
   "outputs": [
    {
     "name": "stdout",
     "output_type": "stream",
     "text": [
      "Collecting package metadata (repodata.json): done\n",
      "Solving environment: \\ \n",
      "Warning: 2 possible package resolutions (only showing differing packages):\n",
      "  - defaults/noarch::path.py-12.0.2-py_0, defaults/osx-64::path-13.2.0-py37_0\n",
      "  - defaults/noarch::path.py-12.4.0-0, defaults/osx-64::path-13.1.0-py37done\n",
      "\n",
      "## Package Plan ##\n",
      "\n",
      "  environment location: /Users/rjdaskeivch/anaconda3\n",
      "\n",
      "  added / updated specs:\n",
      "    - scikit-learn\n",
      "\n",
      "\n",
      "The following packages will be downloaded:\n",
      "\n",
      "    package                    |            build\n",
      "    ---------------------------|-----------------\n",
      "    _anaconda_depends-2020.02  |           py37_0           5 KB\n",
      "    _py-xgboost-mutex-2.0      |            cpu_0           8 KB\n",
      "    astroid-2.4.0              |           py37_0         501 KB\n",
      "    astropy-4.0.1.post1        |   py37h01d97ff_1         7.5 MB\n",
      "    atomicwrites-1.4.0         |             py_0          11 KB\n",
      "    beautifulsoup4-4.9.0       |           py37_0         165 KB\n",
      "    bleach-3.1.4               |             py_0         114 KB\n",
      "    bokeh-2.0.2                |           py37_0         6.8 MB\n",
      "    cctools-927.0.2            |       h5ba7a2e_4         1.7 MB\n",
      "    clang-10.0.0               |default_hf57f61e_0        24.2 MB\n",
      "    clang_osx-64-10.0.0        |       h05bbb7f_0          15 KB\n",
      "    clangxx-10.0.0             |default_hf57f61e_0         123 KB\n",
      "    clangxx_osx-64-10.0.0      |       h05bbb7f_0          15 KB\n",
      "    click-7.1.2                |             py_0          67 KB\n",
      "    cloudpickle-1.4.1          |             py_0          30 KB\n",
      "    compiler-rt-10.0.0         |       h47ead80_0          77 KB\n",
      "    compiler-rt_osx-64-10.0.0  |       hbcc88fd_0         3.1 MB\n",
      "    conda-package-handling-1.6.1|   py37h1de35cc_0         1.4 MB\n",
      "    cryptography-2.9.2         |   py37ha12b0ac_0         608 KB\n",
      "    cython-0.29.17             |   py37h0a44026_0         2.0 MB\n",
      "    dask-2.16.0                |             py_0          13 KB\n",
      "    dask-core-2.16.0           |             py_0         610 KB\n",
      "    dbus-1.13.14               |       h517e14e_0         545 KB\n",
      "    distributed-2.16.0         |           py37_0         1.0 MB\n",
      "    flask-1.1.2                |             py_0          74 KB\n",
      "    fsspec-0.7.1               |             py_0          53 KB\n",
      "    hypothesis-5.11.0          |             py_0         227 KB\n",
      "    icu-58.2                   |       h0a44026_3        22.6 MB\n",
      "    jinja2-2.11.2              |             py_0          97 KB\n",
      "    json5-0.9.4                |             py_0          21 KB\n",
      "    jupyter_client-6.1.3       |             py_0          81 KB\n",
      "    jupyter_core-4.6.3         |           py37_0          75 KB\n",
      "    jupyterlab_server-1.1.1    |             py_0          28 KB\n",
      "    keyring-21.1.1             |           py37_2          55 KB\n",
      "    kiwisolver-1.2.0           |   py37h04f5b5a_0          61 KB\n",
      "    ld64-450.3                 |       h3c32e8a_4         1.2 MB\n",
      "    libcxx-10.0.0              |                1         1.0 MB\n",
      "    libffi-3.2.1               |       h0a44026_6          43 KB\n",
      "    libiconv-1.16              |       h1de35cc_0         1.3 MB\n",
      "    liblief-0.10.1             |       h0a44026_0         1.9 MB\n",
      "    libllvm10-10.0.0           |       h21ff451_0        21.1 MB\n",
      "    llvm-openmp-10.0.0         |       h28b9765_0         270 KB\n",
      "    llvmlite-0.32.1            |   py37h8c7ce04_0        13.7 MB\n",
      "    lzo-2.10                   |       h1de35cc_2         180 KB\n",
      "    mock-4.0.2                 |             py_0          31 KB\n",
      "    nbformat-5.0.6             |             py_0         103 KB\n",
      "    ncurses-6.2                |       h0a44026_1        1016 KB\n",
      "    numba-0.49.1               |   py37h86efe34_0         3.3 MB\n",
      "    path-13.2.0                |           py37_0          36 KB\n",
      "    path.py-12.0.2             |             py_0          23 KB\n",
      "    pillow-7.1.2               |   py37h4655f20_0         622 KB\n",
      "    pip-20.0.2                 |           py37_3         1.9 MB\n",
      "    py-lief-0.10.1             |   py37haf313ee_0         1.3 MB\n",
      "    py4j-0.10.7                |           py37_0         251 KB\n",
      "    pylint-2.5.0               |           py37_1         463 KB\n",
      "    pyparsing-2.4.7            |             py_0          64 KB\n",
      "    pyrsistent-0.16.0          |   py37h1de35cc_0          91 KB\n",
      "    pytest-5.4.2               |           py37_0         394 KB\n",
      "    pytest-openfiles-0.5.0     |             py_0          11 KB\n",
      "    python-language-server-0.31.10|           py37_0          74 KB\n",
      "    python-libarchive-c-2.9    |             py_0          50 KB\n",
      "    pytz-2020.1                |             py_0         239 KB\n",
      "    qdarkstyle-2.8.1           |             py_0         156 KB\n",
      "    qtconsole-4.7.4            |             py_0          93 KB\n",
      "    ripgrep-11.0.2             |       he32d670_0         1.2 MB\n",
      "    rope-0.17.0                |             py_0         120 KB\n",
      "    rtree-0.9.4                |           py37_1          48 KB\n",
      "    seaborn-0.10.1             |             py_0         160 KB\n",
      "    setuptools-46.4.0          |           py37_0         663 KB\n",
      "    sphinx-3.0.3               |             py_0         1.5 MB\n",
      "    spyder-4.1.3               |           py37_0         8.1 MB\n",
      "    spyder-kernels-1.9.1       |           py37_0          93 KB\n",
      "    sqlalchemy-1.3.16          |   py37h1de35cc_0         1.8 MB\n",
      "    sqlite-3.31.1              |       h5c1f38d_1         2.4 MB\n",
      "    tapi-1000.10.8             |       ha1b3eb9_0         4.9 MB\n",
      "    toml-0.10.0                |   py37h28b3542_0          28 KB\n",
      "    tqdm-4.46.0                |             py_0          60 KB\n",
      "    typed-ast-1.4.1            |   py37h1de35cc_0         211 KB\n",
      "    wcwidth-0.1.9              |             py_0          24 KB\n",
      "    werkzeug-1.0.1             |             py_0         243 KB\n",
      "    wrapt-1.11.2               |   py37h1de35cc_0          44 KB\n",
      "    xlwings-0.19.0             |           py37_0         413 KB\n",
      "    xz-5.2.5                   |       h1de35cc_0         282 KB\n",
      "    zipp-3.1.0                 |             py_0          13 KB\n",
      "    ------------------------------------------------------------\n",
      "                                           Total:       147.0 MB\n",
      "\n",
      "The following NEW packages will be INSTALLED:\n",
      "\n",
      "  applaunchservices  pkgs/main/noarch::applaunchservices-0.2.1-py_0\n",
      "  argh               pkgs/main/osx-64::argh-0.26.2-py37_0\n",
      "  autopep8           pkgs/main/noarch::autopep8-1.4.4-py_0\n",
      "  compiler-rt_osx-64 pkgs/main/noarch::compiler-rt_osx-64-10.0.0-hbcc88fd_0\n",
      "  diff-match-patch   pkgs/main/noarch::diff-match-patch-20181111-py_0\n",
      "  flake8             pkgs/main/osx-64::flake8-3.7.9-py37_0\n",
      "  fsspec             pkgs/main/noarch::fsspec-0.7.1-py_0\n",
      "  hypothesis         pkgs/main/noarch::hypothesis-5.11.0-py_0\n",
      "  intervaltree       pkgs/main/noarch::intervaltree-3.0.2-py_0\n",
      "  joblib             pkgs/main/noarch::joblib-0.14.1-py_0\n",
      "  json5              pkgs/main/noarch::json5-0.9.4-py_0\n",
      "  libllvm10          pkgs/main/osx-64::libllvm10-10.0.0-h21ff451_0\n",
      "  libspatialindex    pkgs/main/osx-64::libspatialindex-1.9.3-h0a44026_0\n",
      "  matplotlib-base    pkgs/main/osx-64::matplotlib-base-3.1.3-py37h9aa3819_0\n",
      "  mock               pkgs/main/noarch::mock-4.0.2-py_0\n",
      "  path               pkgs/main/osx-64::path-13.2.0-py37_0\n",
      "  pathtools          pkgs/main/noarch::pathtools-0.1.2-py_1\n",
      "  prompt-toolkit     pkgs/main/noarch::prompt-toolkit-3.0.4-py_0\n",
      "  pydocstyle         pkgs/main/noarch::pydocstyle-4.0.1-py_0\n",
      "  pytest-astropy-he~ pkgs/main/noarch::pytest-astropy-header-0.1.2-py_0\n",
      "  python-jsonrpc-se~ pkgs/main/noarch::python-jsonrpc-server-0.3.4-py_0\n",
      "  python-language-s~ pkgs/main/osx-64::python-language-server-0.31.10-py37_0\n",
      "  qdarkstyle         pkgs/main/noarch::qdarkstyle-2.8.1-py_0\n",
      "  ripgrep            pkgs/main/osx-64::ripgrep-11.0.2-he32d670_0\n",
      "  rtree              pkgs/main/osx-64::rtree-0.9.4-py37_1\n",
      "  sphinxcontrib-app~ pkgs/main/noarch::sphinxcontrib-applehelp-1.0.2-py_0\n",
      "  sphinxcontrib-dev~ pkgs/main/noarch::sphinxcontrib-devhelp-1.0.2-py_0\n",
      "  sphinxcontrib-htm~ pkgs/main/noarch::sphinxcontrib-htmlhelp-1.0.3-py_0\n",
      "  sphinxcontrib-jsm~ pkgs/main/noarch::sphinxcontrib-jsmath-1.0.1-py_0\n",
      "  sphinxcontrib-qth~ pkgs/main/noarch::sphinxcontrib-qthelp-1.0.3-py_0\n",
      "  sphinxcontrib-ser~ pkgs/main/noarch::sphinxcontrib-serializinghtml-1.1.4-py_0\n",
      "  tapi               pkgs/main/osx-64::tapi-1000.10.8-ha1b3eb9_0\n",
      "  toml               pkgs/main/osx-64::toml-0.10.0-py37h28b3542_0\n",
      "  typed-ast          pkgs/main/osx-64::typed-ast-1.4.1-py37h1de35cc_0\n",
      "  typing_extensions  pkgs/main/osx-64::typing_extensions-3.7.4.1-py37_0\n",
      "  ujson              pkgs/main/osx-64::ujson-1.35-py37h1de35cc_0\n",
      "  watchdog           pkgs/main/osx-64::watchdog-0.10.2-py37h1de35cc_0\n",
      "  yapf               pkgs/main/noarch::yapf-0.28.0-py_0\n",
      "\n",
      "The following packages will be REMOVED:\n",
      "\n",
      "  backports.os-0.1.1-py37_0\n",
      "  llvm-4.0.1-1\n",
      "  llvm-lto-tapi-4.0.1-1\n",
      "  python_abi-3.7-1_cp37m\n",
      "\n",
      "The following packages will be UPDATED:\n",
      "\n",
      "  _anaconda_depends                          2019.03-py37_0 --> 2020.02-py37_0\n",
      "  anaconda-project   pkgs/main/osx-64::anaconda-project-0.~ --> pkgs/main/noarch::anaconda-project-0.8.4-py_0\n",
      "  asn1crypto                                  0.24.0-py37_0 --> 1.3.0-py37_0\n",
      "  astroid                                      2.2.5-py37_0 --> 2.4.0-py37_0\n",
      "  astropy                              3.1.2-py37h1de35cc_0 --> 4.0.1.post1-py37h01d97ff_1\n",
      "  atomicwrites       pkgs/main/osx-64::atomicwrites-1.3.0-~ --> pkgs/main/noarch::atomicwrites-1.4.0-py_0\n",
      "  attrs               pkgs/main/osx-64::attrs-19.1.0-py37_1 --> pkgs/main/noarch::attrs-19.3.0-py_0\n",
      "  babel                pkgs/main/osx-64::babel-2.6.0-py37_0 --> pkgs/main/noarch::babel-2.8.0-py_0\n",
      "  backports          pkgs/main/osx-64::backports-1.0-py37_1 --> pkgs/main/noarch::backports-1.0-py_2\n",
      "  beautifulsoup4                               4.7.1-py37_1 --> 4.9.0-py37_0\n",
      "  bitarray                             0.8.3-py37h1de35cc_0 --> 1.2.1-py37h1de35cc_0\n",
      "  bleach              pkgs/main/osx-64::bleach-3.1.0-py37_0 --> pkgs/main/noarch::bleach-3.1.4-py_0\n",
      "  blosc                                   1.15.0-hd9629dc_0 --> 1.16.3-hd9629dc_0\n",
      "  bokeh                                        1.0.4-py37_0 --> 2.0.2-py37_0\n",
      "  bottleneck                           1.2.1-py37h1d22016_1 --> 1.3.2-py37h776bbcc_0\n",
      "  bzip2                                    1.0.6-h1de35cc_5 --> 1.0.8-h1de35cc_0\n",
      "  cctools                                             895-1 --> 927.0.2-h5ba7a2e_4\n",
      "  cffi                                1.12.2-py37hb5b8e2f_1 --> 1.14.0-py37hb5b8e2f_0\n",
      "  chardet                                      3.0.4-py37_1 --> 3.0.4-py37_1003\n",
      "  clang                                             4.0.1-1 --> 10.0.0-default_hf57f61e_0\n",
      "  clang_osx-64                            4.0.1-h1ce6c1d_16 --> 10.0.0-h05bbb7f_0\n",
      "  clangxx                                           4.0.1-1 --> 10.0.0-default_hf57f61e_0\n",
      "  clangxx_osx-64                          4.0.1-h22b1bf0_16 --> 10.0.0-h05bbb7f_0\n",
      "  click                  pkgs/main/osx-64::click-7.0-py37_0 --> pkgs/main/noarch::click-7.1.2-py_0\n",
      "  cloudpickle        pkgs/main/osx-64::cloudpickle-0.8.0-p~ --> pkgs/main/noarch::cloudpickle-1.4.1-py_0\n",
      "  colorama           pkgs/main/osx-64::colorama-0.4.1-py37~ --> pkgs/main/noarch::colorama-0.4.3-py_0\n",
      "  compiler-rt                              4.0.1-hcfea43d_1 --> 10.0.0-h47ead80_0\n",
      "  conda-package-han~                   1.6.0-py37h1de35cc_0 --> 1.6.1-py37h1de35cc_0\n",
      "  contextlib2        pkgs/main/osx-64::contextlib2-0.5.5-p~ --> pkgs/main/noarch::contextlib2-0.6.0.post1-py_0\n",
      "  cryptography                         2.6.1-py37ha12b0ac_0 --> 2.9.2-py37ha12b0ac_0\n",
      "  curl                                    7.64.0-ha441bb4_2 --> 7.67.0-ha441bb4_0\n",
      "  cython                              0.29.6-py37h0a44026_0 --> 0.29.17-py37h0a44026_0\n",
      "  cytoolz                            0.9.0.1-py37h1de35cc_1 --> 0.10.1-py37h1de35cc_0\n",
      "  dask                  pkgs/main/osx-64::dask-1.1.4-py37_1 --> pkgs/main/noarch::dask-2.16.0-py_0\n",
      "  dask-core          pkgs/main/osx-64::dask-core-1.1.4-py3~ --> pkgs/main/noarch::dask-core-2.16.0-py_0\n",
      "  dbus                                    1.13.6-h90a0687_0 --> 1.13.14-h517e14e_0\n",
      "  decorator          pkgs/main/osx-64::decorator-4.4.0-py3~ --> pkgs/main/noarch::decorator-4.4.2-py_0\n",
      "  defusedxml         pkgs/main/osx-64::defusedxml-0.5.0-py~ --> pkgs/main/noarch::defusedxml-0.6.0-py_0\n",
      "  distributed                                 1.26.0-py37_1 --> 2.16.0-py37_0\n",
      "  docutils                                      0.14-py37_0 --> 0.16-py37_0\n",
      "  fastcache                            1.0.2-py37h1de35cc_2 --> 1.1.0-py37h1de35cc_0\n",
      "  filelock           pkgs/main/osx-64::filelock-3.0.10-py3~ --> pkgs/main/noarch::filelock-3.0.12-py_0\n",
      "  flask                pkgs/main/osx-64::flask-1.0.2-py37_1 --> pkgs/main/noarch::flask-1.1.2-py_0\n",
      "  future                                      0.17.1-py37_0 --> 0.18.2-py37_0\n",
      "  glib                                    2.56.2-hd9629dc_0 --> 2.63.1-hd977a24_0\n",
      "  glob2                  pkgs/main/osx-64::glob2-0.6-py37_1 --> pkgs/main/noarch::glob2-0.7-py_0\n",
      "  h5py                                 2.9.0-py37h3134771_0 --> 2.10.0-py37h3134771_0\n",
      "  heapdict           pkgs/main/osx-64::heapdict-1.0.0-py37~ --> pkgs/main/noarch::heapdict-1.0.1-py_0\n",
      "  icu                                       58.2-h4b95b61_1 --> 58.2-h0a44026_3\n",
      "  idna                    pkgs/main/osx-64::idna-2.8-py37_0 --> pkgs/main/noarch::idna-2.9-py_1\n",
      "  imageio            pkgs/main/osx-64::imageio-2.5.0-py37_0 --> pkgs/main/noarch::imageio-2.8.0-py_0\n",
      "  imagesize          pkgs/main/osx-64::imagesize-1.1.0-py3~ --> pkgs/main/noarch::imagesize-1.2.0-py_0\n",
      "  importlib_metadata                             0.8-py37_0 --> 1.5.0-py37_0\n",
      "  intel-openmp                                   2019.3-199 --> 2019.4-233\n",
      "  ipykernel                            5.1.0-py37h39e3cac_0 --> 5.1.4-py37h39e3cac_0\n",
      "  ipython                              7.4.0-py37h39e3cac_0 --> 7.13.0-py37h5ca1d4c_0\n",
      "  ipywidgets         pkgs/main/osx-64::ipywidgets-7.4.2-py~ --> pkgs/main/noarch::ipywidgets-7.5.1-py_0\n",
      "  isort                                       4.3.16-py37_0 --> 4.3.21-py37_0\n",
      "  jdcal                  pkgs/main/osx-64::jdcal-1.4-py37_0 --> pkgs/main/noarch::jdcal-1.4.1-py_0\n",
      "  jedi                                        0.13.3-py37_0 --> 0.15.2-py37_0\n",
      "  jinja2               pkgs/main/osx-64::jinja2-2.10-py37_0 --> pkgs/main/noarch::jinja2-2.11.2-py_0\n",
      "  jsonschema                                   3.0.1-py37_0 --> 3.2.0-py37_0\n",
      "  jupyter_client     pkgs/main/osx-64::jupyter_client-5.2.~ --> pkgs/main/noarch::jupyter_client-6.1.3-py_0\n",
      "  jupyter_console    pkgs/main/osx-64::jupyter_console-6.0~ --> pkgs/main/noarch::jupyter_console-6.1.0-py_0\n",
      "  jupyter_core                                 4.4.0-py37_0 --> 4.6.3-py37_0\n",
      "  jupyterlab         pkgs/main/osx-64::jupyterlab-0.35.4-p~ --> pkgs/main/noarch::jupyterlab-1.2.6-pyhf63ae98_0\n",
      "  jupyterlab_server  pkgs/main/osx-64::jupyterlab_server-0~ --> pkgs/main/noarch::jupyterlab_server-1.1.1-py_0\n",
      "  keyring                                     18.0.0-py37_0 --> 21.1.1-py37_2\n",
      "  kiwisolver                           1.0.1-py37h0a44026_0 --> 1.2.0-py37h04f5b5a_0\n",
      "  krb5                                    1.16.1-hddcf347_7 --> 1.16.4-hddcf347_0\n",
      "  lazy-object-proxy                    1.3.1-py37h1de35cc_2 --> 1.4.3-py37h1de35cc_0\n",
      "  ld64                                              274.2-1 --> 450.3-h3c32e8a_4\n",
      "  libcurl                                 7.64.0-h051b688_2 --> 7.67.0-h051b688_0\n",
      "  libcxx                                   4.0.1-hcfea43d_1 --> 10.0.0-1\n",
      "  libffi                                   3.2.1-h475c297_4 --> 3.2.1-h0a44026_6\n",
      "  libiconv                                  1.15-hdd342a3_7 --> 1.16-h1de35cc_0\n",
      "  liblief                                  0.9.0-h2a1bed3_2 --> 0.10.1-h0a44026_0\n",
      "  libpng                                  1.6.36-ha441bb4_0 --> 1.6.37-ha441bb4_0\n",
      "  libssh2                                  1.8.0-ha12b0ac_4 --> 1.9.0-ha12b0ac_1\n",
      "  libtiff                                 4.0.10-hcb84e12_2 --> 4.1.0-hcb84e12_0\n",
      "  libxml2                                  2.9.9-hab757c2_0 --> 2.9.9-hf6e021a_1\n",
      "  llvm-openmp                              4.0.1-hcfea43d_1 --> 10.0.0-h28b9765_0\n",
      "  llvmlite                            0.28.0-py37h8c7ce04_0 --> 0.32.1-py37h8c7ce04_0\n",
      "  lxml                                 4.3.2-py37hef8c89e_0 --> 4.5.0-py37hef8c89e_0\n",
      "  matplotlib                           3.0.3-py37h54f8f79_0 --> 3.1.3-py37_0\n",
      "  mkl                                            2019.3-199 --> 2019.4-233\n",
      "  mkl-service                          1.1.2-py37hfbe908c_5 --> 2.3.0-py37hfbe908c_0\n",
      "  mkl_fft                             1.0.10-py37h5e564d8_0 --> 1.0.15-py37h5e564d8_0\n",
      "  mkl_random                           1.0.2-py37h27c97d8_0 --> 1.1.0-py37ha771720_0\n",
      "  more-itertools     pkgs/main/osx-64::more-itertools-6.0.~ --> pkgs/main/noarch::more-itertools-8.2.0-py_0\n",
      "  msgpack-python                       0.6.1-py37h04f5b5a_1 --> 1.0.0-py37h04f5b5a_1\n",
      "  nbconvert                                    5.4.1-py37_3 --> 5.6.1-py37_0\n",
      "  nbformat           pkgs/main/osx-64::nbformat-4.4.0-py37~ --> pkgs/main/noarch::nbformat-5.0.6-py_0\n",
      "  ncurses                                    6.1-h0a44026_1 --> 6.2-h0a44026_1\n",
      "  networkx            pkgs/main/osx-64::networkx-2.2-py37_1 --> pkgs/main/noarch::networkx-2.4-py_0\n",
      "  nltk                                           3.4-py37_1 --> 3.4.5-py37_0\n",
      "  notebook                                     5.7.8-py37_0 --> 6.0.3-py37_0\n",
      "  numba                               0.43.1-py37h6440ff4_0 --> 0.49.1-py37h86efe34_0\n",
      "  numexpr                              2.6.9-py37h7413580_0 --> 2.7.1-py37hce01a72_0\n",
      "  numpy                               1.16.2-py37hacdab7b_0 --> 1.18.1-py37h7241aed_0\n",
      "  numpy-base                          1.16.2-py37h6575580_0 --> 1.18.1-py37h6575580_1\n",
      "  numpydoc           pkgs/main/osx-64::numpydoc-0.8.0-py37~ --> pkgs/main/noarch::numpydoc-0.9.2-py_0\n",
      "  openpyxl           pkgs/main/osx-64::openpyxl-2.6.1-py37~ --> pkgs/main/noarch::openpyxl-3.0.3-py_0\n",
      "  packaging          pkgs/main/osx-64::packaging-19.0-py37~ --> pkgs/main/noarch::packaging-20.3-py_0\n",
      "  pandas                              0.24.2-py37h0a44026_0 --> 1.0.3-py37h6c726b0_0\n",
      "  parso                pkgs/main/osx-64::parso-0.3.4-py37_0 --> pkgs/main/noarch::parso-0.5.2-py_0\n",
      "  partd               pkgs/main/osx-64::partd-0.3.10-py37_1 --> pkgs/main/noarch::partd-1.1.0-py_0\n",
      "  path.py            pkgs/main/osx-64::path.py-11.5.0-py37~ --> pkgs/main/noarch::path.py-12.0.2-py_0\n",
      "  pathlib2                                     2.3.3-py37_0 --> 2.3.5-py37_0\n",
      "  pexpect                                      4.6.0-py37_0 --> 4.8.0-py37_0\n",
      "  pillow                               5.4.1-py37hb68e598_0 --> 7.1.2-py37h4655f20_0\n",
      "  pip                                         19.0.3-py37_0 --> 20.0.2-py37_3\n",
      "  pluggy                                       0.9.0-py37_0 --> 0.13.1-py37_0\n",
      "  prometheus_client  pkgs/main/osx-64::prometheus_client-0~ --> pkgs/main/noarch::prometheus_client-0.7.1-py_0\n",
      "  prompt_toolkit     pkgs/main/osx-64::prompt_toolkit-2.0.~ --> pkgs/main/noarch::prompt_toolkit-3.0.4-0\n",
      "  psutil                               5.6.1-py37h1de35cc_0 --> 5.7.0-py37h1de35cc_0\n",
      "  py                      pkgs/main/osx-64::py-1.8.0-py37_0 --> pkgs/main/noarch::py-1.8.1-py_0\n",
      "  py-lief                              0.9.0-py37h1413db1_2 --> 0.10.1-py37haf313ee_0\n",
      "  pycparser          pkgs/main/osx-64::pycparser-2.19-py37~ --> pkgs/main/noarch::pycparser-2.20-py_0\n",
      "  pycurl                            7.43.0.2-py37ha12b0ac_0 --> 7.43.0.5-py37ha12b0ac_0\n",
      "  pygments           pkgs/main/osx-64::pygments-2.3.1-py37~ --> pkgs/main/noarch::pygments-2.6.1-py_0\n",
      "  pylint                                       2.3.1-py37_0 --> 2.5.0-py37_1\n",
      "  pyodbc                              4.0.26-py37h0a44026_0 --> 4.0.30-py37h0a44026_0\n",
      "  pyopenssl                                   19.0.0-py37_0 --> 19.1.0-py37_0\n",
      "  pyparsing          pkgs/main/osx-64::pyparsing-2.3.1-py3~ --> pkgs/main/noarch::pyparsing-2.4.7-py_0\n",
      "  pyrsistent                         0.14.11-py37h1de35cc_0 --> 0.16.0-py37h1de35cc_0\n",
      "  pysocks                                      1.6.8-py37_0 --> 1.7.1-py37_0\n",
      "  pytables                             3.5.1-py37h5bccee9_0 --> 3.6.1-py37h5bccee9_0\n",
      "  pytest                                       4.3.1-py37_0 --> 5.4.2-py37_0\n",
      "  pytest-astropy     pkgs/main/osx-64::pytest-astropy-0.5.~ --> pkgs/main/noarch::pytest-astropy-0.8.0-py_0\n",
      "  pytest-doctestplus pkgs/main/osx-64::pytest-doctestplus-~ --> pkgs/main/noarch::pytest-doctestplus-0.5.0-py_0\n",
      "  pytest-openfiles   pkgs/main/osx-64::pytest-openfiles-0.~ --> pkgs/main/noarch::pytest-openfiles-0.5.0-py_0\n",
      "  pytest-remotedata                            0.3.1-py37_0 --> 0.3.2-py37_0\n",
      "  python-dateutil    pkgs/main/osx-64::python-dateutil-2.8~ --> pkgs/main/noarch::python-dateutil-2.8.1-py_0\n",
      "  python-libarchive~ pkgs/main/osx-64::python-libarchive-c~ --> pkgs/main/noarch::python-libarchive-c-2.9-py_0\n",
      "  pytz                 pkgs/main/osx-64::pytz-2018.9-py37_0 --> pkgs/main/noarch::pytz-2020.1-py_0\n",
      "  pywavelets                           1.0.2-py37h1d22016_0 --> 1.1.1-py37h1de35cc_0\n",
      "  pyyaml                                 5.1-py37h1de35cc_0 --> 5.3.1-py37h1de35cc_0\n",
      "  pyzmq                               18.0.0-py37h0a44026_0 --> 18.1.1-py37h0a44026_0\n",
      "  qtawesome          pkgs/main/osx-64::qtawesome-0.5.7-py3~ --> pkgs/main/noarch::qtawesome-0.7.0-py_0\n",
      "  qtconsole          pkgs/main/osx-64::qtconsole-4.4.3-py3~ --> pkgs/main/noarch::qtconsole-4.7.4-py_0\n",
      "  qtpy                  pkgs/main/osx-64::qtpy-1.7.0-py37_1 --> pkgs/main/noarch::qtpy-1.9.0-py_0\n",
      "  requests                                    2.21.0-py37_0 --> 2.23.0-py37_0\n",
      "  rope                 pkgs/main/osx-64::rope-0.12.0-py37_0 --> pkgs/main/noarch::rope-0.17.0-py_0\n",
      "  ruamel_yaml                        0.15.46-py37h1de35cc_0 --> 0.15.87-py37h1de35cc_0\n",
      "  scikit-image                        0.14.2-py37h0a44026_0 --> 0.16.2-py37h6c726b0_0\n",
      "  scikit-learn                        0.20.3-py37h27c97d8_0 --> 0.22.1-py37h27c97d8_0\n",
      "  scipy                                1.2.1-py37h1410ff5_0 --> 1.4.1-py37h9fa6033_0\n",
      "  seaborn            pkgs/main/osx-64::seaborn-0.9.0-py37_0 --> pkgs/main/noarch::seaborn-0.10.1-py_0\n",
      "  setuptools                                  40.8.0-py37_0 --> 46.4.0-py37_0\n",
      "  six                                         1.12.0-py37_0 --> 1.14.0-py37_0\n",
      "  snowballstemmer    pkgs/main/osx-64::snowballstemmer-1.2~ --> pkgs/main/noarch::snowballstemmer-2.0.0-py_0\n",
      "  soupsieve          pkgs/main/osx-64::soupsieve-1.8-py37_0 --> pkgs/main/noarch::soupsieve-2.0-py_0\n",
      "  sphinx              pkgs/main/osx-64::sphinx-1.8.5-py37_0 --> pkgs/main/noarch::sphinx-3.0.3-py_0\n",
      "  sphinxcontrib-web~ pkgs/main/osx-64::sphinxcontrib-websu~ --> pkgs/main/noarch::sphinxcontrib-websupport-1.2.1-py_0\n",
      "  spyder                                       3.3.3-py37_0 --> 4.1.3-py37_0\n",
      "  spyder-kernels                               0.4.2-py37_0 --> 1.9.1-py37_0\n",
      "  sqlalchemy                           1.3.1-py37h1de35cc_0 --> 1.3.16-py37h1de35cc_0\n",
      "  sqlite                                  3.27.2-ha441bb4_0 --> 3.31.1-h5c1f38d_1\n",
      "  statsmodels                          0.9.0-py37h1d22016_0 --> 0.11.0-py37h1de35cc_0\n",
      "  sympy                                          1.3-py37_0 --> 1.5.1-py37_0\n",
      "  tblib                pkgs/main/osx-64::tblib-1.3.2-py37_0 --> pkgs/main/noarch::tblib-1.6.0-py_0\n",
      "  terminado                                    0.8.1-py37_1 --> 0.8.3-py37_0\n",
      "  testpath           pkgs/main/osx-64::testpath-0.4.2-py37~ --> pkgs/main/noarch::testpath-0.4.4-py_0\n",
      "  toolz                pkgs/main/osx-64::toolz-0.9.0-py37_0 --> pkgs/main/noarch::toolz-0.10.0-py_0\n",
      "  tornado                              6.0.2-py37h1de35cc_0 --> 6.0.4-py37h1de35cc_1\n",
      "  tqdm                 pkgs/main/osx-64::tqdm-4.31.1-py37_1 --> pkgs/main/noarch::tqdm-4.46.0-py_0\n",
      "  traitlets                                    4.3.2-py37_0 --> 4.3.3-py37_0\n",
      "  urllib3                                     1.24.1-py37_0 --> 1.25.8-py37_0\n",
      "  wcwidth            pkgs/main/osx-64::wcwidth-0.1.7-py37_0 --> pkgs/main/noarch::wcwidth-0.1.9-py_0\n",
      "  werkzeug           pkgs/main/osx-64::werkzeug-0.14.1-py3~ --> pkgs/main/noarch::werkzeug-1.0.1-py_0\n",
      "  wheel                                       0.33.1-py37_0 --> 0.34.2-py37_0\n",
      "  widgetsnbextension                           3.4.2-py37_0 --> 3.5.1-py37_0\n",
      "  wrapt                               1.11.1-py37h1de35cc_0 --> 1.11.2-py37h1de35cc_0\n",
      "  wurlitzer                                    1.0.2-py37_0 --> 2.0.0-py37_0\n",
      "  xlsxwriter         pkgs/main/osx-64::xlsxwriter-1.1.5-py~ --> pkgs/main/noarch::xlsxwriter-1.2.8-py_0\n",
      "  xlwings                                     0.15.4-py37_0 --> 0.19.0-py37_0\n",
      "  xz                                       5.2.4-h1de35cc_4 --> 5.2.5-h1de35cc_0\n",
      "  zict                  pkgs/main/osx-64::zict-0.1.4-py37_0 --> pkgs/main/noarch::zict-2.0.0-py_0\n",
      "  zipp                  pkgs/main/osx-64::zipp-0.3.3-py37_1 --> pkgs/main/noarch::zipp-3.1.0-py_0\n",
      "\n",
      "The following packages will be SUPERSEDED by a higher-priority channel:\n",
      "\n",
      "  _py-xgboost-mutex                             conda-forge --> pkgs/main\n",
      "  ca-certificates    conda-forge::ca-certificates-2020.4.5~ --> pkgs/main::ca-certificates-2020.1.1-0\n",
      "  certifi            conda-forge::certifi-2020.4.5.1-py37h~ --> pkgs/main::certifi-2020.4.5.1-py37_0\n",
      "  conda              conda-forge::conda-4.8.3-py37hc8dfbb8~ --> pkgs/main::conda-4.8.3-py37_0\n",
      "  openssl            conda-forge::openssl-1.1.1g-h0b31af3_0 --> pkgs/main::openssl-1.1.1g-h1de35cc_0\n",
      "  py4j                 conda-forge/noarch::py4j-0.10.7-py_1 --> pkgs/main/osx-64::py4j-0.10.7-py37_0\n",
      "\n",
      "The following packages will be DOWNGRADED:\n",
      "\n",
      "  lzo                                       2.10-h362108e_2 --> 2.10-h1de35cc_2\n",
      "\n",
      "\n",
      "Proceed ([y]/n)? "
     ]
    }
   ],
   "source": [
    "#!conda upgrade scikit-learn"
   ]
  },
  {
   "cell_type": "code",
   "execution_count": 1,
   "metadata": {},
   "outputs": [
    {
     "name": "stdout",
     "output_type": "stream",
     "text": [
      "\n",
      "INSTALLED VERSIONS\n",
      "------------------\n",
      "commit           : None\n",
      "python           : 3.7.3.final.0\n",
      "python-bits      : 64\n",
      "OS               : Darwin\n",
      "OS-release       : 17.7.0\n",
      "machine          : x86_64\n",
      "processor        : i386\n",
      "byteorder        : little\n",
      "LC_ALL           : None\n",
      "LANG             : en_US.UTF-8\n",
      "LOCALE           : en_US.UTF-8\n",
      "\n",
      "pandas           : 1.0.3\n",
      "numpy            : 1.18.1\n",
      "pytz             : 2020.1\n",
      "dateutil         : 2.8.1\n",
      "pip              : 20.0.2\n",
      "setuptools       : 46.4.0.post20200518\n",
      "Cython           : 0.29.17\n",
      "pytest           : 5.4.2\n",
      "hypothesis       : 5.11.0\n",
      "sphinx           : 3.0.3\n",
      "blosc            : None\n",
      "feather          : None\n",
      "xlsxwriter       : 1.2.8\n",
      "lxml.etree       : 4.5.0\n",
      "html5lib         : 1.0.1\n",
      "pymysql          : None\n",
      "psycopg2         : None\n",
      "jinja2           : 2.11.2\n",
      "IPython          : 7.13.0\n",
      "pandas_datareader: None\n",
      "bs4              : 4.9.0\n",
      "bottleneck       : 1.3.2\n",
      "fastparquet      : None\n",
      "gcsfs            : None\n",
      "lxml.etree       : 4.5.0\n",
      "matplotlib       : 3.1.3\n",
      "numexpr          : 2.7.1\n",
      "odfpy            : None\n",
      "openpyxl         : 3.0.3\n",
      "pandas_gbq       : None\n",
      "pyarrow          : None\n",
      "pytables         : None\n",
      "pytest           : 5.4.2\n",
      "pyxlsb           : None\n",
      "s3fs             : None\n",
      "scipy            : 1.4.1\n",
      "sqlalchemy       : 1.3.16\n",
      "tables           : 3.6.1\n",
      "tabulate         : None\n",
      "xarray           : None\n",
      "xlrd             : 1.2.0\n",
      "xlwt             : 1.3.0\n",
      "xlsxwriter       : 1.2.8\n",
      "numba            : 0.49.1\n"
     ]
    },
    {
     "data": {
      "text/plain": [
       "'0.22.1'"
      ]
     },
     "execution_count": 1,
     "metadata": {},
     "output_type": "execute_result"
    }
   ],
   "source": [
    "#prepare the environment\n",
    "import numpy as np\n",
    "import pandas as pd\n",
    "import matplotlib\n",
    "import matplotlib.pyplot as plt\n",
    "import sklearn\n",
    "\n",
    "import sklearn\n",
    "pd.show_versions()\n",
    "#matplotlib.__version__\n",
    "sklearn.__version__"
   ]
  },
  {
   "cell_type": "code",
   "execution_count": 11,
   "metadata": {},
   "outputs": [],
   "source": [
    "#!ls\n"
   ]
  },
  {
   "cell_type": "code",
   "execution_count": 12,
   "metadata": {},
   "outputs": [
    {
     "name": "stdout",
     "output_type": "stream",
     "text": [
      "<class 'sklearn.utils.Bunch'>\n"
     ]
    }
   ],
   "source": [
    "#load the data\n",
    "from sklearn.datasets import load_boston\n",
    "boston_dataset = load_boston()\n",
    "print(type(boston_dataset))"
   ]
  },
  {
   "cell_type": "code",
   "execution_count": 13,
   "metadata": {},
   "outputs": [
    {
     "name": "stdout",
     "output_type": "stream",
     "text": [
      "dict_keys(['data', 'target', 'feature_names', 'DESCR', 'filename'])\n",
      "['CRIM' 'ZN' 'INDUS' 'CHAS' 'NOX' 'RM' 'AGE' 'DIS' 'RAD' 'TAX' 'PTRATIO'\n",
      " 'B' 'LSTAT']\n",
      "<class 'numpy.ndarray'>\n",
      ".. _boston_dataset:\n",
      "\n",
      "Boston house prices dataset\n",
      "---------------------------\n",
      "\n",
      "**Data Set Characteristics:**  \n",
      "\n",
      "    :Number of Instances: 506 \n",
      "\n",
      "    :Number of Attributes: 13 numeric/categorical predictive. Median Value (attribute 14) is usually the target.\n",
      "\n",
      "    :Attribute Information (in order):\n",
      "        - CRIM     per capita crime rate by town\n",
      "        - ZN       proportion of residential land zoned for lots over 25,000 sq.ft.\n",
      "        - INDUS    proportion of non-retail business acres per town\n",
      "        - CHAS     Charles River dummy variable (= 1 if tract bounds river; 0 otherwise)\n",
      "        - NOX      nitric oxides concentration (parts per 10 million)\n",
      "        - RM       average number of rooms per dwelling\n",
      "        - AGE      proportion of owner-occupied units built prior to 1940\n",
      "        - DIS      weighted distances to five Boston employment centres\n",
      "        - RAD      index of accessibility to radial highways\n",
      "        - TAX      full-value property-tax rate per $10,000\n",
      "        - PTRATIO  pupil-teacher ratio by town\n",
      "        - B        1000(Bk - 0.63)^2 where Bk is the proportion of blacks by town\n",
      "        - LSTAT    % lower status of the population\n",
      "        - MEDV     Median value of owner-occupied homes in $1000's\n",
      "\n",
      "    :Missing Attribute Values: None\n",
      "\n",
      "    :Creator: Harrison, D. and Rubinfeld, D.L.\n",
      "\n",
      "This is a copy of UCI ML housing dataset.\n",
      "https://archive.ics.uci.edu/ml/machine-learning-databases/housing/\n",
      "\n",
      "\n",
      "This dataset was taken from the StatLib library which is maintained at Carnegie Mellon University.\n",
      "\n",
      "The Boston house-price data of Harrison, D. and Rubinfeld, D.L. 'Hedonic\n",
      "prices and the demand for clean air', J. Environ. Economics & Management,\n",
      "vol.5, 81-102, 1978.   Used in Belsley, Kuh & Welsch, 'Regression diagnostics\n",
      "...', Wiley, 1980.   N.B. Various transformations are used in the table on\n",
      "pages 244-261 of the latter.\n",
      "\n",
      "The Boston house-price data has been used in many machine learning papers that address regression\n",
      "problems.   \n",
      "     \n",
      ".. topic:: References\n",
      "\n",
      "   - Belsley, Kuh & Welsch, 'Regression diagnostics: Identifying Influential Data and Sources of Collinearity', Wiley, 1980. 244-261.\n",
      "   - Quinlan,R. (1993). Combining Instance-Based and Model-Based Learning. In Proceedings on the Tenth International Conference of Machine Learning, 236-243, University of Massachusetts, Amherst. Morgan Kaufmann.\n",
      "\n"
     ]
    }
   ],
   "source": [
    "#explore the data\n",
    "print(boston_dataset.keys())\n",
    "print(boston_dataset['feature_names'])\n",
    "print(type(boston_dataset['feature_names']))\n",
    "print(boston_dataset['DESCR'])\n"
   ]
  },
  {
   "cell_type": "markdown",
   "metadata": {},
   "source": [
    "Let's look at how the number of rooms (RM) affects the price (MEDV)\n",
    "In our linear regression, MEDV will be our Y value.  RM will be our X value.  "
   ]
  },
  {
   "cell_type": "code",
   "execution_count": 14,
   "metadata": {},
   "outputs": [
    {
     "name": "stdout",
     "output_type": "stream",
     "text": [
      "(379, 1)\n",
      "(379, 1)\n",
      "(127, 1)\n",
      "[7.393]\n"
     ]
    }
   ],
   "source": [
    "#prepare the data\n",
    "from sklearn.model_selection import train_test_split\n",
    "num_Rooms_Train, num_Rooms_Test, med_price_Train, med_Price_Test = train_test_split(boston_dataset.data[:,5].reshape(-1,1), boston_dataset.target.reshape(-1,1))\n",
    "print(num_Rooms_Train.shape)\n",
    "print(med_price_Train.shape)\n",
    "print(num_Rooms_Test.shape)\n",
    "print(num_Rooms_Test[0])\n"
   ]
  },
  {
   "cell_type": "code",
   "execution_count": 15,
   "metadata": {},
   "outputs": [
    {
     "name": "stdout",
     "output_type": "stream",
     "text": [
      "<class 'sklearn.linear_model.base.LinearRegression'>\n"
     ]
    },
    {
     "data": {
      "text/plain": [
       "LinearRegression(copy_X=True, fit_intercept=True, n_jobs=None,\n",
       "         normalize=False)"
      ]
     },
     "execution_count": 15,
     "metadata": {},
     "output_type": "execute_result"
    }
   ],
   "source": [
    "#implement linear regression model\n",
    "from sklearn.linear_model import LinearRegression\n",
    "price_room = LinearRegression()\n",
    "print(type(price_room))\n",
    "price_room.fit (num_Rooms_Train,med_price_Train)"
   ]
  },
  {
   "cell_type": "code",
   "execution_count": 1,
   "metadata": {},
   "outputs": [
    {
     "ename": "NameError",
     "evalue": "name 'price_room' is not defined",
     "output_type": "error",
     "traceback": [
      "\u001b[0;31m---------------------------------------------------------------------------\u001b[0m",
      "\u001b[0;31mNameError\u001b[0m                                 Traceback (most recent call last)",
      "\u001b[0;32m<ipython-input-1-80dfa89ced62>\u001b[0m in \u001b[0;36m<module>\u001b[0;34m()\u001b[0m\n\u001b[1;32m      2\u001b[0m \u001b[0;34m\u001b[0m\u001b[0m\n\u001b[1;32m      3\u001b[0m \u001b[0;31m#print(price_room.predict(num_Rooms_Test[0].reshape(-1,1)))\u001b[0m\u001b[0;34m\u001b[0m\u001b[0;34m\u001b[0m\u001b[0m\n\u001b[0;32m----> 4\u001b[0;31m \u001b[0mprint\u001b[0m\u001b[0;34m(\u001b[0m\u001b[0mprice_room\u001b[0m\u001b[0;34m.\u001b[0m\u001b[0mpredict\u001b[0m\u001b[0;34m(\u001b[0m\u001b[0mnp\u001b[0m\u001b[0;34m.\u001b[0m\u001b[0marray\u001b[0m\u001b[0;34m(\u001b[0m\u001b[0;34m[\u001b[0m\u001b[0;36m7.564\u001b[0m\u001b[0;34m,\u001b[0m\u001b[0;36m4.7\u001b[0m\u001b[0;34m,\u001b[0m\u001b[0;36m9.3\u001b[0m\u001b[0;34m]\u001b[0m\u001b[0;34m)\u001b[0m\u001b[0;34m.\u001b[0m\u001b[0mreshape\u001b[0m\u001b[0;34m(\u001b[0m\u001b[0;34m-\u001b[0m\u001b[0;36m1\u001b[0m\u001b[0;34m,\u001b[0m\u001b[0;36m1\u001b[0m\u001b[0;34m)\u001b[0m\u001b[0;34m)\u001b[0m\u001b[0;34m)\u001b[0m\u001b[0;34m\u001b[0m\u001b[0m\n\u001b[0m\u001b[1;32m      5\u001b[0m \u001b[0;31m#print(num_Rooms_Test[0])\u001b[0m\u001b[0;34m\u001b[0m\u001b[0;34m\u001b[0m\u001b[0m\n\u001b[1;32m      6\u001b[0m \u001b[0;31m#print([7.564])\u001b[0m\u001b[0;34m\u001b[0m\u001b[0;34m\u001b[0m\u001b[0m\n",
      "\u001b[0;31mNameError\u001b[0m: name 'price_room' is not defined"
     ]
    }
   ],
   "source": [
    "#predict on linear regression model\n",
    "\n",
    "#print(price_room.predict(num_Rooms_Test[0].reshape(-1,1)))\n",
    "print(price_room.predict(np.array([7.564,4.7,9.3]).reshape(-1,1)))\n",
    "#print(num_Rooms_Test[0])\n",
    "#print([7.564])\n",
    "print(price_room.predict(num_Rooms_Test[5].reshape(-1,1)))\n",
    "print(price_room.predict(num_Rooms_Test[1:10]))\n",
    "med_price_pred = price_room.predict(num_Rooms_Test)      "
   ]
  },
  {
   "cell_type": "code",
   "execution_count": 17,
   "metadata": {},
   "outputs": [
    {
     "data": {
      "image/png": "[encoded data removed]",
      "text/plain": [
       "<Figure size 432x288 with 1 Axes>"
      ]
     },
     "metadata": {
      "needs_background": "light"
     },
     "output_type": "display_data"
    }
   ],
   "source": [
    "#Let's graph it:\n",
    "#num_Rooms_Train, num_Rooms_Test, med_price_Train, med_Price_Test\n",
    "\n",
    "import matplotlib.pyplot as plt\n",
    "plt.scatter(num_Rooms_Train, med_price_Train, color = 'green')\n",
    "plt.scatter(num_Rooms_Test, med_Price_Test, color = 'red')   \n",
    "plt.scatter(num_Rooms_Test, med_price_pred, color = 'blue')  # The predicted temperatures of the same X_test input.\n",
    "plt.plot(num_Rooms_Test, price_room.predict(num_Rooms_Test), color = 'gray')\n",
    "plt.title('house price based on number of rooms')\n",
    "plt.xlabel('number of rooms')\n",
    "plt.ylabel('house price')\n",
    "plt.show()"
   ]
  },
  {
   "cell_type": "code",
   "execution_count": 18,
   "metadata": {},
   "outputs": [
    {
     "data": {
      "text/plain": [
       "6.467038724760706"
      ]
     },
     "execution_count": 18,
     "metadata": {},
     "output_type": "execute_result"
    }
   ],
   "source": [
    "from sklearn.metrics import mean_squared_error\n",
    "price_room_predictions = price_room.predict(num_Rooms_Train)\n",
    "pr_mse = mean_squared_error(med_price_Train,price_room_predictions)\n",
    "pr_rmse = np.sqrt(pr_mse)\n",
    "pr_rmse"
   ]
  },
  {
   "cell_type": "code",
   "execution_count": 19,
   "metadata": {},
   "outputs": [],
   "source": [
    "data = pd.DataFrame(boston_dataset.data, columns = boston_dataset.feature_names)"
   ]
  },
  {
   "cell_type": "code",
   "execution_count": 20,
   "metadata": {
    "scrolled": true
   },
   "outputs": [
    {
     "data": {
      "text/html": [
       "<div>\n",
       "<style scoped>\n",
       "    .dataframe tbody tr th:only-of-type {\n",
       "        vertical-align: middle;\n",
       "    }\n",
       "\n",
       "    .dataframe tbody tr th {\n",
       "        vertical-align: top;\n",
       "    }\n",
       "\n",
       "    .dataframe thead th {\n",
       "        text-align: right;\n",
       "    }\n",
       "</style>\n",
       "<table border=\"1\" class=\"dataframe\">\n",
       "  <thead>\n",
       "    <tr style=\"text-align: right;\">\n",
       "      <th></th>\n",
       "      <th>CRIM</th>\n",
       "      <th>ZN</th>\n",
       "      <th>INDUS</th>\n",
       "      <th>CHAS</th>\n",
       "      <th>NOX</th>\n",
       "      <th>RM</th>\n",
       "      <th>AGE</th>\n",
       "      <th>DIS</th>\n",
       "      <th>RAD</th>\n",
       "      <th>TAX</th>\n",
       "      <th>PTRATIO</th>\n",
       "      <th>B</th>\n",
       "      <th>LSTAT</th>\n",
       "    </tr>\n",
       "  </thead>\n",
       "  <tbody>\n",
       "    <tr>\n",
       "      <th>0</th>\n",
       "      <td>0.00632</td>\n",
       "      <td>18.0</td>\n",
       "      <td>2.31</td>\n",
       "      <td>0.0</td>\n",
       "      <td>0.538</td>\n",
       "      <td>6.575</td>\n",
       "      <td>65.2</td>\n",
       "      <td>4.0900</td>\n",
       "      <td>1.0</td>\n",
       "      <td>296.0</td>\n",
       "      <td>15.3</td>\n",
       "      <td>396.90</td>\n",
       "      <td>4.98</td>\n",
       "    </tr>\n",
       "    <tr>\n",
       "      <th>1</th>\n",
       "      <td>0.02731</td>\n",
       "      <td>0.0</td>\n",
       "      <td>7.07</td>\n",
       "      <td>0.0</td>\n",
       "      <td>0.469</td>\n",
       "      <td>6.421</td>\n",
       "      <td>78.9</td>\n",
       "      <td>4.9671</td>\n",
       "      <td>2.0</td>\n",
       "      <td>242.0</td>\n",
       "      <td>17.8</td>\n",
       "      <td>396.90</td>\n",
       "      <td>9.14</td>\n",
       "    </tr>\n",
       "    <tr>\n",
       "      <th>2</th>\n",
       "      <td>0.02729</td>\n",
       "      <td>0.0</td>\n",
       "      <td>7.07</td>\n",
       "      <td>0.0</td>\n",
       "      <td>0.469</td>\n",
       "      <td>7.185</td>\n",
       "      <td>61.1</td>\n",
       "      <td>4.9671</td>\n",
       "      <td>2.0</td>\n",
       "      <td>242.0</td>\n",
       "      <td>17.8</td>\n",
       "      <td>392.83</td>\n",
       "      <td>4.03</td>\n",
       "    </tr>\n",
       "    <tr>\n",
       "      <th>3</th>\n",
       "      <td>0.03237</td>\n",
       "      <td>0.0</td>\n",
       "      <td>2.18</td>\n",
       "      <td>0.0</td>\n",
       "      <td>0.458</td>\n",
       "      <td>6.998</td>\n",
       "      <td>45.8</td>\n",
       "      <td>6.0622</td>\n",
       "      <td>3.0</td>\n",
       "      <td>222.0</td>\n",
       "      <td>18.7</td>\n",
       "      <td>394.63</td>\n",
       "      <td>2.94</td>\n",
       "    </tr>\n",
       "    <tr>\n",
       "      <th>4</th>\n",
       "      <td>0.06905</td>\n",
       "      <td>0.0</td>\n",
       "      <td>2.18</td>\n",
       "      <td>0.0</td>\n",
       "      <td>0.458</td>\n",
       "      <td>7.147</td>\n",
       "      <td>54.2</td>\n",
       "      <td>6.0622</td>\n",
       "      <td>3.0</td>\n",
       "      <td>222.0</td>\n",
       "      <td>18.7</td>\n",
       "      <td>396.90</td>\n",
       "      <td>5.33</td>\n",
       "    </tr>\n",
       "  </tbody>\n",
       "</table>\n",
       "</div>"
      ],
      "text/plain": [
       "      CRIM    ZN  INDUS  CHAS    NOX     RM   AGE     DIS  RAD    TAX  \\\n",
       "0  0.00632  18.0   2.31   0.0  0.538  6.575  65.2  4.0900  1.0  296.0   \n",
       "1  0.02731   0.0   7.07   0.0  0.469  6.421  78.9  4.9671  2.0  242.0   \n",
       "2  0.02729   0.0   7.07   0.0  0.469  7.185  61.1  4.9671  2.0  242.0   \n",
       "3  0.03237   0.0   2.18   0.0  0.458  6.998  45.8  6.0622  3.0  222.0   \n",
       "4  0.06905   0.0   2.18   0.0  0.458  7.147  54.2  6.0622  3.0  222.0   \n",
       "\n",
       "   PTRATIO       B  LSTAT  \n",
       "0     15.3  396.90   4.98  \n",
       "1     17.8  396.90   9.14  \n",
       "2     17.8  392.83   4.03  \n",
       "3     18.7  394.63   2.94  \n",
       "4     18.7  396.90   5.33  "
      ]
     },
     "execution_count": 20,
     "metadata": {},
     "output_type": "execute_result"
    }
   ],
   "source": [
    "data.head(5)"
   ]
  },
  {
   "cell_type": "code",
   "execution_count": 21,
   "metadata": {},
   "outputs": [
    {
     "data": {
      "text/plain": [
       "(506,)"
      ]
     },
     "execution_count": 21,
     "metadata": {},
     "output_type": "execute_result"
    }
   ],
   "source": [
    "boston_dataset.target.shape\n"
   ]
  },
  {
   "cell_type": "code",
   "execution_count": 22,
   "metadata": {
    "scrolled": true
   },
   "outputs": [
    {
     "data": {
      "text/html": [
       "<div>\n",
       "<style scoped>\n",
       "    .dataframe tbody tr th:only-of-type {\n",
       "        vertical-align: middle;\n",
       "    }\n",
       "\n",
       "    .dataframe tbody tr th {\n",
       "        vertical-align: top;\n",
       "    }\n",
       "\n",
       "    .dataframe thead th {\n",
       "        text-align: right;\n",
       "    }\n",
       "</style>\n",
       "<table border=\"1\" class=\"dataframe\">\n",
       "  <thead>\n",
       "    <tr style=\"text-align: right;\">\n",
       "      <th></th>\n",
       "      <th>CRIM</th>\n",
       "      <th>ZN</th>\n",
       "      <th>INDUS</th>\n",
       "      <th>CHAS</th>\n",
       "      <th>NOX</th>\n",
       "      <th>RM</th>\n",
       "      <th>AGE</th>\n",
       "      <th>DIS</th>\n",
       "      <th>RAD</th>\n",
       "      <th>TAX</th>\n",
       "      <th>PTRATIO</th>\n",
       "      <th>B</th>\n",
       "      <th>LSTAT</th>\n",
       "      <th>Price</th>\n",
       "    </tr>\n",
       "  </thead>\n",
       "  <tbody>\n",
       "    <tr>\n",
       "      <th>0</th>\n",
       "      <td>0.00632</td>\n",
       "      <td>18.0</td>\n",
       "      <td>2.31</td>\n",
       "      <td>0.0</td>\n",
       "      <td>0.538</td>\n",
       "      <td>6.575</td>\n",
       "      <td>65.2</td>\n",
       "      <td>4.0900</td>\n",
       "      <td>1.0</td>\n",
       "      <td>296.0</td>\n",
       "      <td>15.3</td>\n",
       "      <td>396.90</td>\n",
       "      <td>4.98</td>\n",
       "      <td>24.0</td>\n",
       "    </tr>\n",
       "    <tr>\n",
       "      <th>1</th>\n",
       "      <td>0.02731</td>\n",
       "      <td>0.0</td>\n",
       "      <td>7.07</td>\n",
       "      <td>0.0</td>\n",
       "      <td>0.469</td>\n",
       "      <td>6.421</td>\n",
       "      <td>78.9</td>\n",
       "      <td>4.9671</td>\n",
       "      <td>2.0</td>\n",
       "      <td>242.0</td>\n",
       "      <td>17.8</td>\n",
       "      <td>396.90</td>\n",
       "      <td>9.14</td>\n",
       "      <td>21.6</td>\n",
       "    </tr>\n",
       "    <tr>\n",
       "      <th>2</th>\n",
       "      <td>0.02729</td>\n",
       "      <td>0.0</td>\n",
       "      <td>7.07</td>\n",
       "      <td>0.0</td>\n",
       "      <td>0.469</td>\n",
       "      <td>7.185</td>\n",
       "      <td>61.1</td>\n",
       "      <td>4.9671</td>\n",
       "      <td>2.0</td>\n",
       "      <td>242.0</td>\n",
       "      <td>17.8</td>\n",
       "      <td>392.83</td>\n",
       "      <td>4.03</td>\n",
       "      <td>34.7</td>\n",
       "    </tr>\n",
       "    <tr>\n",
       "      <th>3</th>\n",
       "      <td>0.03237</td>\n",
       "      <td>0.0</td>\n",
       "      <td>2.18</td>\n",
       "      <td>0.0</td>\n",
       "      <td>0.458</td>\n",
       "      <td>6.998</td>\n",
       "      <td>45.8</td>\n",
       "      <td>6.0622</td>\n",
       "      <td>3.0</td>\n",
       "      <td>222.0</td>\n",
       "      <td>18.7</td>\n",
       "      <td>394.63</td>\n",
       "      <td>2.94</td>\n",
       "      <td>33.4</td>\n",
       "    </tr>\n",
       "    <tr>\n",
       "      <th>4</th>\n",
       "      <td>0.06905</td>\n",
       "      <td>0.0</td>\n",
       "      <td>2.18</td>\n",
       "      <td>0.0</td>\n",
       "      <td>0.458</td>\n",
       "      <td>7.147</td>\n",
       "      <td>54.2</td>\n",
       "      <td>6.0622</td>\n",
       "      <td>3.0</td>\n",
       "      <td>222.0</td>\n",
       "      <td>18.7</td>\n",
       "      <td>396.90</td>\n",
       "      <td>5.33</td>\n",
       "      <td>36.2</td>\n",
       "    </tr>\n",
       "  </tbody>\n",
       "</table>\n",
       "</div>"
      ],
      "text/plain": [
       "      CRIM    ZN  INDUS  CHAS    NOX     RM   AGE     DIS  RAD    TAX  \\\n",
       "0  0.00632  18.0   2.31   0.0  0.538  6.575  65.2  4.0900  1.0  296.0   \n",
       "1  0.02731   0.0   7.07   0.0  0.469  6.421  78.9  4.9671  2.0  242.0   \n",
       "2  0.02729   0.0   7.07   0.0  0.469  7.185  61.1  4.9671  2.0  242.0   \n",
       "3  0.03237   0.0   2.18   0.0  0.458  6.998  45.8  6.0622  3.0  222.0   \n",
       "4  0.06905   0.0   2.18   0.0  0.458  7.147  54.2  6.0622  3.0  222.0   \n",
       "\n",
       "   PTRATIO       B  LSTAT  Price  \n",
       "0     15.3  396.90   4.98   24.0  \n",
       "1     17.8  396.90   9.14   21.6  \n",
       "2     17.8  392.83   4.03   34.7  \n",
       "3     18.7  394.63   2.94   33.4  \n",
       "4     18.7  396.90   5.33   36.2  "
      ]
     },
     "execution_count": 22,
     "metadata": {},
     "output_type": "execute_result"
    }
   ],
   "source": [
    "data['Price']= boston_dataset.target\n",
    "data.head()"
   ]
  },
  {
   "cell_type": "code",
   "execution_count": 23,
   "metadata": {},
   "outputs": [
    {
     "data": {
      "text/html": [
       "<div>\n",
       "<style scoped>\n",
       "    .dataframe tbody tr th:only-of-type {\n",
       "        vertical-align: middle;\n",
       "    }\n",
       "\n",
       "    .dataframe tbody tr th {\n",
       "        vertical-align: top;\n",
       "    }\n",
       "\n",
       "    .dataframe thead th {\n",
       "        text-align: right;\n",
       "    }\n",
       "</style>\n",
       "<table border=\"1\" class=\"dataframe\">\n",
       "  <thead>\n",
       "    <tr style=\"text-align: right;\">\n",
       "      <th></th>\n",
       "      <th>CRIM</th>\n",
       "      <th>ZN</th>\n",
       "      <th>INDUS</th>\n",
       "      <th>CHAS</th>\n",
       "      <th>NOX</th>\n",
       "      <th>RM</th>\n",
       "      <th>AGE</th>\n",
       "      <th>DIS</th>\n",
       "      <th>RAD</th>\n",
       "      <th>TAX</th>\n",
       "      <th>PTRATIO</th>\n",
       "      <th>B</th>\n",
       "      <th>LSTAT</th>\n",
       "      <th>Price</th>\n",
       "    </tr>\n",
       "  </thead>\n",
       "  <tbody>\n",
       "    <tr>\n",
       "      <th>count</th>\n",
       "      <td>506.000000</td>\n",
       "      <td>506.000000</td>\n",
       "      <td>506.000000</td>\n",
       "      <td>506.000000</td>\n",
       "      <td>506.000000</td>\n",
       "      <td>506.000000</td>\n",
       "      <td>506.000000</td>\n",
       "      <td>506.000000</td>\n",
       "      <td>506.000000</td>\n",
       "      <td>506.000000</td>\n",
       "      <td>506.000000</td>\n",
       "      <td>506.000000</td>\n",
       "      <td>506.000000</td>\n",
       "      <td>506.000000</td>\n",
       "    </tr>\n",
       "    <tr>\n",
       "      <th>mean</th>\n",
       "      <td>3.613524</td>\n",
       "      <td>11.363636</td>\n",
       "      <td>11.136779</td>\n",
       "      <td>0.069170</td>\n",
       "      <td>0.554695</td>\n",
       "      <td>6.284634</td>\n",
       "      <td>68.574901</td>\n",
       "      <td>3.795043</td>\n",
       "      <td>9.549407</td>\n",
       "      <td>408.237154</td>\n",
       "      <td>18.455534</td>\n",
       "      <td>356.674032</td>\n",
       "      <td>12.653063</td>\n",
       "      <td>22.532806</td>\n",
       "    </tr>\n",
       "    <tr>\n",
       "      <th>std</th>\n",
       "      <td>8.601545</td>\n",
       "      <td>23.322453</td>\n",
       "      <td>6.860353</td>\n",
       "      <td>0.253994</td>\n",
       "      <td>0.115878</td>\n",
       "      <td>0.702617</td>\n",
       "      <td>28.148861</td>\n",
       "      <td>2.105710</td>\n",
       "      <td>8.707259</td>\n",
       "      <td>168.537116</td>\n",
       "      <td>2.164946</td>\n",
       "      <td>91.294864</td>\n",
       "      <td>7.141062</td>\n",
       "      <td>9.197104</td>\n",
       "    </tr>\n",
       "    <tr>\n",
       "      <th>min</th>\n",
       "      <td>0.006320</td>\n",
       "      <td>0.000000</td>\n",
       "      <td>0.460000</td>\n",
       "      <td>0.000000</td>\n",
       "      <td>0.385000</td>\n",
       "      <td>3.561000</td>\n",
       "      <td>2.900000</td>\n",
       "      <td>1.129600</td>\n",
       "      <td>1.000000</td>\n",
       "      <td>187.000000</td>\n",
       "      <td>12.600000</td>\n",
       "      <td>0.320000</td>\n",
       "      <td>1.730000</td>\n",
       "      <td>5.000000</td>\n",
       "    </tr>\n",
       "    <tr>\n",
       "      <th>25%</th>\n",
       "      <td>0.082045</td>\n",
       "      <td>0.000000</td>\n",
       "      <td>5.190000</td>\n",
       "      <td>0.000000</td>\n",
       "      <td>0.449000</td>\n",
       "      <td>5.885500</td>\n",
       "      <td>45.025000</td>\n",
       "      <td>2.100175</td>\n",
       "      <td>4.000000</td>\n",
       "      <td>279.000000</td>\n",
       "      <td>17.400000</td>\n",
       "      <td>375.377500</td>\n",
       "      <td>6.950000</td>\n",
       "      <td>17.025000</td>\n",
       "    </tr>\n",
       "    <tr>\n",
       "      <th>50%</th>\n",
       "      <td>0.256510</td>\n",
       "      <td>0.000000</td>\n",
       "      <td>9.690000</td>\n",
       "      <td>0.000000</td>\n",
       "      <td>0.538000</td>\n",
       "      <td>6.208500</td>\n",
       "      <td>77.500000</td>\n",
       "      <td>3.207450</td>\n",
       "      <td>5.000000</td>\n",
       "      <td>330.000000</td>\n",
       "      <td>19.050000</td>\n",
       "      <td>391.440000</td>\n",
       "      <td>11.360000</td>\n",
       "      <td>21.200000</td>\n",
       "    </tr>\n",
       "    <tr>\n",
       "      <th>75%</th>\n",
       "      <td>3.677083</td>\n",
       "      <td>12.500000</td>\n",
       "      <td>18.100000</td>\n",
       "      <td>0.000000</td>\n",
       "      <td>0.624000</td>\n",
       "      <td>6.623500</td>\n",
       "      <td>94.075000</td>\n",
       "      <td>5.188425</td>\n",
       "      <td>24.000000</td>\n",
       "      <td>666.000000</td>\n",
       "      <td>20.200000</td>\n",
       "      <td>396.225000</td>\n",
       "      <td>16.955000</td>\n",
       "      <td>25.000000</td>\n",
       "    </tr>\n",
       "    <tr>\n",
       "      <th>max</th>\n",
       "      <td>88.976200</td>\n",
       "      <td>100.000000</td>\n",
       "      <td>27.740000</td>\n",
       "      <td>1.000000</td>\n",
       "      <td>0.871000</td>\n",
       "      <td>8.780000</td>\n",
       "      <td>100.000000</td>\n",
       "      <td>12.126500</td>\n",
       "      <td>24.000000</td>\n",
       "      <td>711.000000</td>\n",
       "      <td>22.000000</td>\n",
       "      <td>396.900000</td>\n",
       "      <td>37.970000</td>\n",
       "      <td>50.000000</td>\n",
       "    </tr>\n",
       "  </tbody>\n",
       "</table>\n",
       "</div>"
      ],
      "text/plain": [
       "             CRIM          ZN       INDUS        CHAS         NOX          RM  \\\n",
       "count  506.000000  506.000000  506.000000  506.000000  506.000000  506.000000   \n",
       "mean     3.613524   11.363636   11.136779    0.069170    0.554695    6.284634   \n",
       "std      8.601545   23.322453    6.860353    0.253994    0.115878    0.702617   \n",
       "min      0.006320    0.000000    0.460000    0.000000    0.385000    3.561000   \n",
       "25%      0.082045    0.000000    5.190000    0.000000    0.449000    5.885500   \n",
       "50%      0.256510    0.000000    9.690000    0.000000    0.538000    6.208500   \n",
       "75%      3.677083   12.500000   18.100000    0.000000    0.624000    6.623500   \n",
       "max     88.976200  100.000000   27.740000    1.000000    0.871000    8.780000   \n",
       "\n",
       "              AGE         DIS         RAD         TAX     PTRATIO           B  \\\n",
       "count  506.000000  506.000000  506.000000  506.000000  506.000000  506.000000   \n",
       "mean    68.574901    3.795043    9.549407  408.237154   18.455534  356.674032   \n",
       "std     28.148861    2.105710    8.707259  168.537116    2.164946   91.294864   \n",
       "min      2.900000    1.129600    1.000000  187.000000   12.600000    0.320000   \n",
       "25%     45.025000    2.100175    4.000000  279.000000   17.400000  375.377500   \n",
       "50%     77.500000    3.207450    5.000000  330.000000   19.050000  391.440000   \n",
       "75%     94.075000    5.188425   24.000000  666.000000   20.200000  396.225000   \n",
       "max    100.000000   12.126500   24.000000  711.000000   22.000000  396.900000   \n",
       "\n",
       "            LSTAT       Price  \n",
       "count  506.000000  506.000000  \n",
       "mean    12.653063   22.532806  \n",
       "std      7.141062    9.197104  \n",
       "min      1.730000    5.000000  \n",
       "25%      6.950000   17.025000  \n",
       "50%     11.360000   21.200000  \n",
       "75%     16.955000   25.000000  \n",
       "max     37.970000   50.000000  "
      ]
     },
     "execution_count": 23,
     "metadata": {},
     "output_type": "execute_result"
    }
   ],
   "source": [
    "data.describe()"
   ]
  },
  {
   "cell_type": "code",
   "execution_count": 24,
   "metadata": {},
   "outputs": [
    {
     "data": {
      "text/plain": [
       "0.0    471\n",
       "1.0     35\n",
       "Name: CHAS, dtype: int64"
      ]
     },
     "execution_count": 24,
     "metadata": {},
     "output_type": "execute_result"
    }
   ],
   "source": [
    "data[\"CHAS\"].value_counts()"
   ]
  },
  {
   "cell_type": "code",
   "execution_count": 25,
   "metadata": {
    "scrolled": true
   },
   "outputs": [
    {
     "name": "stdout",
     "output_type": "stream",
     "text": [
      "<class 'pandas.core.frame.DataFrame'>\n",
      "RangeIndex: 506 entries, 0 to 505\n",
      "Data columns (total 14 columns):\n",
      "CRIM       506 non-null float64\n",
      "ZN         506 non-null float64\n",
      "INDUS      506 non-null float64\n",
      "CHAS       506 non-null float64\n",
      "NOX        506 non-null float64\n",
      "RM         506 non-null float64\n",
      "AGE        506 non-null float64\n",
      "DIS        506 non-null float64\n",
      "RAD        506 non-null float64\n",
      "TAX        506 non-null float64\n",
      "PTRATIO    506 non-null float64\n",
      "B          506 non-null float64\n",
      "LSTAT      506 non-null float64\n",
      "Price      506 non-null float64\n",
      "dtypes: float64(14)\n",
      "memory usage: 55.4 KB\n"
     ]
    }
   ],
   "source": [
    "data.info()"
   ]
  },
  {
   "cell_type": "code",
   "execution_count": 26,
   "metadata": {
    "scrolled": true
   },
   "outputs": [
    {
     "data": {
      "image/png": "[encoded data removed]",
      "text/plain": [
       "<Figure size 1440x1080 with 16 Axes>"
      ]
     },
     "metadata": {
      "needs_background": "light"
     },
     "output_type": "display_data"
    }
   ],
   "source": [
    "%matplotlib inline\n",
    "data.hist(bins=50, figsize=(20,15))\n",
    "plt.show()"
   ]
  },
  {
   "cell_type": "code",
   "execution_count": 27,
   "metadata": {},
   "outputs": [],
   "source": [
    "from sklearn.model_selection import train_test_split\n",
    "train_set, test_set = train_test_split(data, test_size=0.2,random_state=42)\n",
    "\n",
    "    "
   ]
  },
  {
   "cell_type": "code",
   "execution_count": 28,
   "metadata": {},
   "outputs": [
    {
     "name": "stdout",
     "output_type": "stream",
     "text": [
      "(404, 14)\n",
      "(102, 14)\n",
      "<class 'pandas.core.frame.DataFrame'>\n",
      "         CRIM    ZN  INDUS  CHAS     NOX     RM   AGE     DIS   RAD    TAX  \\\n",
      "477  15.02340   0.0  18.10   0.0  0.6140  5.304  97.3  2.1007  24.0  666.0   \n",
      "15    0.62739   0.0   8.14   0.0  0.5380  5.834  56.5  4.4986   4.0  307.0   \n",
      "332   0.03466  35.0   6.06   0.0  0.4379  6.031  23.3  6.6407   1.0  304.0   \n",
      "423   7.05042   0.0  18.10   0.0  0.6140  6.103  85.1  2.0218  24.0  666.0   \n",
      "19    0.72580   0.0   8.14   0.0  0.5380  5.727  69.5  3.7965   4.0  307.0   \n",
      "\n",
      "     PTRATIO       B  LSTAT  Price  \n",
      "477     20.2  349.48  24.91   12.0  \n",
      "15      21.0  395.62   8.47   19.9  \n",
      "332     16.9  362.25   7.83   19.4  \n",
      "423     20.2    2.52  23.29   13.4  \n",
      "19      21.0  390.95  11.28   18.2  \n"
     ]
    }
   ],
   "source": [
    "print(train_set.shape)\n",
    "print(test_set.shape)\n",
    "print(type(train_set))\n",
    "print(train_set[:5])"
   ]
  },
  {
   "cell_type": "code",
   "execution_count": 29,
   "metadata": {},
   "outputs": [
    {
     "name": "stdout",
     "output_type": "stream",
     "text": [
      "<class 'pandas.core.frame.DataFrame'>\n",
      "(14, 14)\n",
      "CRIM      -0.388305\n",
      "ZN         0.360445\n",
      "INDUS     -0.483725\n",
      "CHAS       0.175260\n",
      "NOX       -0.427321\n",
      "RM         0.695360\n",
      "AGE       -0.376955\n",
      "DIS        0.249929\n",
      "RAD       -0.381626\n",
      "TAX       -0.468536\n",
      "PTRATIO   -0.507787\n",
      "B          0.333461\n",
      "LSTAT     -0.737663\n",
      "Price      1.000000\n",
      "Name: Price, dtype: float64\n"
     ]
    }
   ],
   "source": [
    "corr_matrix = data.corr()\n",
    "print(type(corr_matrix))\n",
    "print(corr_matrix.shape)\n",
    "print(corr_matrix[\"Price\"])"
   ]
  },
  {
   "cell_type": "code",
   "execution_count": 30,
   "metadata": {},
   "outputs": [
    {
     "data": {
      "text/plain": [
       "Price      1.000000\n",
       "RM         0.695360\n",
       "ZN         0.360445\n",
       "B          0.333461\n",
       "DIS        0.249929\n",
       "CHAS       0.175260\n",
       "AGE       -0.376955\n",
       "RAD       -0.381626\n",
       "CRIM      -0.388305\n",
       "NOX       -0.427321\n",
       "TAX       -0.468536\n",
       "INDUS     -0.483725\n",
       "PTRATIO   -0.507787\n",
       "LSTAT     -0.737663\n",
       "Name: Price, dtype: float64"
      ]
     },
     "execution_count": 30,
     "metadata": {},
     "output_type": "execute_result"
    }
   ],
   "source": [
    "corr_matrix[\"Price\"].sort_values(ascending=False)"
   ]
  },
  {
   "cell_type": "code",
   "execution_count": 31,
   "metadata": {},
   "outputs": [
    {
     "data": {
      "image/png": "[encoded data removed]",
      "text/plain": [
       "<Figure size 720x720 with 2 Axes>"
      ]
     },
     "metadata": {
      "needs_background": "light"
     },
     "output_type": "display_data"
    }
   ],
   "source": [
    "import seaborn as sns\n",
    "\n",
    "plt.figure(figsize=(10,10))\n",
    "ax = sns.heatmap(corr_matrix, annot=True)\n",
    "plt.show()"
   ]
  },
  {
   "cell_type": "code",
   "execution_count": 32,
   "metadata": {},
   "outputs": [
    {
     "data": {
      "image/png": "[encoded data removed]",
      "text/plain": [
       "<Figure size 540x540 with 12 Axes>"
      ]
     },
     "metadata": {
      "needs_background": "light"
     },
     "output_type": "display_data"
    }
   ],
   "source": [
    "sns.pairplot(data[[\"Price\",\"LSTAT\",\"RM\"]])\n",
    "plt.show()"
   ]
  },
  {
   "cell_type": "code",
   "execution_count": 33,
   "metadata": {
    "scrolled": true
   },
   "outputs": [
    {
     "name": "stdout",
     "output_type": "stream",
     "text": [
      "<class 'pandas.core.frame.DataFrame'>\n",
      "         CRIM    ZN  INDUS  CHAS     NOX     RM   AGE     DIS   RAD    TAX  \\\n",
      "477  15.02340   0.0  18.10   0.0  0.6140  5.304  97.3  2.1007  24.0  666.0   \n",
      "15    0.62739   0.0   8.14   0.0  0.5380  5.834  56.5  4.4986   4.0  307.0   \n",
      "332   0.03466  35.0   6.06   0.0  0.4379  6.031  23.3  6.6407   1.0  304.0   \n",
      "423   7.05042   0.0  18.10   0.0  0.6140  6.103  85.1  2.0218  24.0  666.0   \n",
      "19    0.72580   0.0   8.14   0.0  0.5380  5.727  69.5  3.7965   4.0  307.0   \n",
      "\n",
      "     PTRATIO       B  LSTAT  \n",
      "477     20.2  349.48  24.91  \n",
      "15      21.0  395.62   8.47  \n",
      "332     16.9  362.25   7.83  \n",
      "423     20.2    2.52  23.29  \n",
      "19      21.0  390.95  11.28  \n",
      "<class 'pandas.core.series.Series'>\n",
      "477    12.0\n",
      "15     19.9\n",
      "332    19.4\n",
      "423    13.4\n",
      "19     18.2\n",
      "Name: Price, dtype: float64\n"
     ]
    }
   ],
   "source": [
    "features=train_set.drop(\"Price\",axis=1)\n",
    "label=train_set[\"Price\"].copy()\n",
    "print(type(features))\n",
    "print(features.head())\n",
    "print(type(label))\n",
    "print(label.head())"
   ]
  },
  {
   "cell_type": "code",
   "execution_count": 34,
   "metadata": {},
   "outputs": [
    {
     "name": "stderr",
     "output_type": "stream",
     "text": [
      "/Users/rjdaskeivch/anaconda3/lib/python3.7/site-packages/sklearn/preprocessing/_encoders.py:371: FutureWarning: The handling of integer data will change in version 0.22. Currently, the categories are determined based on the range [0, max(values)], while in the future they will be determined based on the unique values.\n",
      "If you want the future behaviour and silence this warning, you can specify \"categories='auto'\".\n",
      "In case you used a LabelEncoder before this OneHotEncoder to convert the categories to integers, then you can now use the OneHotEncoder directly.\n",
      "  warnings.warn(msg, FutureWarning)\n"
     ]
    },
    {
     "data": {
      "text/plain": [
       "<506x2 sparse matrix of type '<class 'numpy.float64'>'\n",
       "\twith 506 stored elements in Compressed Sparse Row format>"
      ]
     },
     "execution_count": 34,
     "metadata": {},
     "output_type": "execute_result"
    }
   ],
   "source": [
    "from sklearn.preprocessing import OneHotEncoder\n",
    "cat_encoder=OneHotEncoder()\n",
    "CHAS_1hot = cat_encoder.fit_transform(data[[\"CHAS\"]])\n",
    "CHAS_1hot\n"
   ]
  },
  {
   "cell_type": "code",
   "execution_count": 35,
   "metadata": {},
   "outputs": [
    {
     "name": "stdout",
     "output_type": "stream",
     "text": [
      "[[1. 0.]\n",
      " [1. 0.]\n",
      " [1. 0.]\n",
      " ...\n",
      " [1. 0.]\n",
      " [1. 0.]\n",
      " [1. 0.]]\n"
     ]
    }
   ],
   "source": [
    "print(CHAS_1hot.toarray())"
   ]
  },
  {
   "cell_type": "code",
   "execution_count": 36,
   "metadata": {},
   "outputs": [
    {
     "data": {
      "text/plain": [
       "Index(['CRIM', 'ZN', 'INDUS', 'NOX', 'RM', 'AGE', 'DIS', 'RAD', 'TAX',\n",
       "       'PTRATIO', 'B', 'LSTAT'],\n",
       "      dtype='object')"
      ]
     },
     "execution_count": 36,
     "metadata": {},
     "output_type": "execute_result"
    }
   ],
   "source": [
    "#only numerical features need to be scaled:\n",
    "num_features = features.drop(\"CHAS\",axis=1)\n",
    "num_features.columns"
   ]
  },
  {
   "cell_type": "code",
   "execution_count": 37,
   "metadata": {},
   "outputs": [],
   "source": [
    "from sklearn.pipeline import Pipeline\n",
    "from sklearn.preprocessing import StandardScaler\n",
    "from sklearn.compose import ColumnTransformer\n",
    "num_attribs = list(num_features)\n",
    "cat_attribs = [\"CHAS\"]\n",
    "\n",
    "prep_pipeline = ColumnTransformer([\n",
    "    (\"std_scaler\", StandardScaler(),num_attribs),\n",
    "    (\"one_hot\", OneHotEncoder(),cat_attribs)\n",
    "])\n"
   ]
  },
  {
   "cell_type": "code",
   "execution_count": 38,
   "metadata": {},
   "outputs": [
    {
     "name": "stderr",
     "output_type": "stream",
     "text": [
      "/Users/rjdaskeivch/anaconda3/lib/python3.7/site-packages/sklearn/preprocessing/_encoders.py:371: FutureWarning: The handling of integer data will change in version 0.22. Currently, the categories are determined based on the range [0, max(values)], while in the future they will be determined based on the unique values.\n",
      "If you want the future behaviour and silence this warning, you can specify \"categories='auto'\".\n",
      "In case you used a LabelEncoder before this OneHotEncoder to convert the categories to integers, then you can now use the OneHotEncoder directly.\n",
      "  warnings.warn(msg, FutureWarning)\n"
     ]
    }
   ],
   "source": [
    "data_prepared = prep_pipeline.fit_transform(features)"
   ]
  },
  {
   "cell_type": "code",
   "execution_count": 39,
   "metadata": {},
   "outputs": [
    {
     "data": {
      "text/plain": [
       "array([[ 1.28770177, -0.50032012,  1.03323679,  0.48925206, -1.42806858,\n",
       "         1.02801516, -0.80217296,  1.70689143,  1.57843444,  0.84534281,\n",
       "        -0.07433689,  1.75350503,  1.        ,  0.        ],\n",
       "       [-0.33638447, -0.50032012, -0.41315956, -0.15723342, -0.68008655,\n",
       "        -0.43119908,  0.32434893, -0.62435988, -0.58464788,  1.20474139,\n",
       "         0.4301838 , -0.5614742 ,  1.        ,  0.        ],\n",
       "       [-0.40325332,  1.01327135, -0.71521823, -1.00872286, -0.40206304,\n",
       "        -1.6185989 ,  1.3306972 , -0.97404758, -0.60272378, -0.63717631,\n",
       "         0.06529747, -0.65159505,  1.        ,  0.        ],\n",
       "       [ 0.38822983, -0.50032012,  1.03323679,  0.48925206, -0.30045039,\n",
       "         0.59168149, -0.8392398 ,  1.70689143,  1.57843444,  0.84534281,\n",
       "        -3.86819251,  1.52538664,  1.        ,  0.        ],\n",
       "       [-0.32528234, -0.50032012, -0.41315956, -0.15723342, -0.83109424,\n",
       "         0.03374663, -0.00549428, -0.62435988, -0.58464788,  1.20474139,\n",
       "         0.3791194 , -0.16578736,  1.        ,  0.        ]])"
      ]
     },
     "execution_count": 39,
     "metadata": {},
     "output_type": "execute_result"
    }
   ],
   "source": [
    "data_prepared[:5]"
   ]
  },
  {
   "cell_type": "code",
   "execution_count": 40,
   "metadata": {},
   "outputs": [
    {
     "name": "stdout",
     "output_type": "stream",
     "text": [
      "<class 'numpy.ndarray'>\n"
     ]
    }
   ],
   "source": [
    "print(type(data_prepared))"
   ]
  },
  {
   "cell_type": "code",
   "execution_count": 41,
   "metadata": {},
   "outputs": [
    {
     "data": {
      "text/plain": [
       "LinearRegression(copy_X=True, fit_intercept=True, n_jobs=None,\n",
       "         normalize=False)"
      ]
     },
     "execution_count": 41,
     "metadata": {},
     "output_type": "execute_result"
    }
   ],
   "source": [
    "from sklearn.linear_model import LinearRegression\n",
    "\n",
    "lr = LinearRegression()\n",
    "lr.fit(data_prepared, label)"
   ]
  },
  {
   "cell_type": "code",
   "execution_count": 42,
   "metadata": {},
   "outputs": [
    {
     "name": "stdout",
     "output_type": "stream",
     "text": [
      "Predictions: [10.96952405 19.41196567 23.06419602 12.1470648  18.3738116 ]\n"
     ]
    }
   ],
   "source": [
    "some_data = features.iloc[:5]\n",
    "some_labels = label.iloc[:5]\n",
    "some_data_prepared = prep_pipeline.transform(some_data)\n",
    "print(\"Predictions:\", lr.predict(some_data_prepared))\n"
   ]
  },
  {
   "cell_type": "code",
   "execution_count": 43,
   "metadata": {},
   "outputs": [
    {
     "name": "stdout",
     "output_type": "stream",
     "text": [
      "Labels: [12.0, 19.9, 19.4, 13.4, 18.2]\n"
     ]
    }
   ],
   "source": [
    "print(\"Labels:\", list(some_labels))"
   ]
  },
  {
   "cell_type": "code",
   "execution_count": 44,
   "metadata": {},
   "outputs": [
    {
     "data": {
      "text/plain": [
       "4.6520331848801675"
      ]
     },
     "execution_count": 44,
     "metadata": {},
     "output_type": "execute_result"
    }
   ],
   "source": [
    "from sklearn.metrics import mean_squared_error\n",
    "bh_predictions = lr.predict(data_prepared)\n",
    "lr_mse = mean_squared_error(label,bh_predictions)\n",
    "lr_rmse = np.sqrt(lr_mse)\n",
    "lr_rmse"
   ]
  },
  {
   "cell_type": "code",
   "execution_count": 45,
   "metadata": {},
   "outputs": [
    {
     "data": {
      "text/plain": [
       "6.467038724760706"
      ]
     },
     "execution_count": 45,
     "metadata": {},
     "output_type": "execute_result"
    }
   ],
   "source": [
    "#Let's compare this against our one-feature analysis earlier:\n",
    "from sklearn.metrics import mean_squared_error\n",
    "price_room_predictions = price_room.predict(num_Rooms_Train)\n",
    "pr_mse = mean_squared_error(med_price_Train,price_room_predictions)\n",
    "pr_rmse = np.sqrt(pr_mse)\n",
    "pr_rmse\n"
   ]
  },
  {
   "cell_type": "code",
   "execution_count": 46,
   "metadata": {},
   "outputs": [
    {
     "data": {
      "text/plain": [
       "0.0"
      ]
     },
     "execution_count": 46,
     "metadata": {},
     "output_type": "execute_result"
    }
   ],
   "source": [
    "from sklearn.tree import DecisionTreeRegressor\n",
    "#print(data_prepared)\n",
    "#print(label)\n",
    "#print(label.values)\n",
    "\n",
    "tree_reg = DecisionTreeRegressor()\n",
    "\n",
    "tree_reg.fit(data_prepared,label)\n",
    "tree_predictions = tree_reg.predict(data_prepared)\n",
    "tree_mse = mean_squared_error(label,tree_predictions)\n",
    "tree_rmse = np.sqrt(tree_mse)\n",
    "tree_rmse"
   ]
  },
  {
   "cell_type": "code",
   "execution_count": 47,
   "metadata": {},
   "outputs": [],
   "source": [
    "from sklearn.model_selection import cross_val_score\n",
    "scores = cross_val_score(tree_reg, data_prepared, label, scoring=\"neg_mean_squared_error\", cv=10)\n",
    "tree_rmse_scores = np.sqrt(-scores)"
   ]
  },
  {
   "cell_type": "code",
   "execution_count": 48,
   "metadata": {},
   "outputs": [
    {
     "name": "stdout",
     "output_type": "stream",
     "text": [
      "Scores: [3.8137428  4.21839757 5.48652451 7.04444081 7.74130157 3.69824283\n",
      " 4.89867329 5.27612547 4.15695201 5.51606744]\n"
     ]
    }
   ],
   "source": [
    "print(\"Scores:\", tree_rmse_scores)"
   ]
  },
  {
   "cell_type": "code",
   "execution_count": 49,
   "metadata": {},
   "outputs": [
    {
     "name": "stdout",
     "output_type": "stream",
     "text": [
      "Mean: 5.185046829850171\n"
     ]
    }
   ],
   "source": [
    "print(\"Mean:\", tree_rmse_scores.mean())"
   ]
  },
  {
   "cell_type": "code",
   "execution_count": 50,
   "metadata": {},
   "outputs": [
    {
     "name": "stdout",
     "output_type": "stream",
     "text": [
      "Standard deviation: 1.2792577331681259\n"
     ]
    }
   ],
   "source": [
    "print(\"Standard deviation:\", tree_rmse_scores.std())"
   ]
  },
  {
   "cell_type": "code",
   "execution_count": 51,
   "metadata": {},
   "outputs": [],
   "source": [
    "from sklearn.model_selection import cross_val_score\n",
    "lr_scores = cross_val_score(lr, data_prepared, label, scoring=\"neg_mean_squared_error\", cv=10)\n",
    "lr_rmse_scores = np.sqrt(-lr_scores)"
   ]
  },
  {
   "cell_type": "code",
   "execution_count": 52,
   "metadata": {},
   "outputs": [
    {
     "name": "stdout",
     "output_type": "stream",
     "text": [
      "Scores: [3.76298481 4.25110998 5.34719644 6.71464778 4.59265163 5.17395941\n",
      " 4.43145447 4.5777583  3.6723473  5.77030866]\n"
     ]
    }
   ],
   "source": [
    "print(\"Scores:\", lr_rmse_scores)"
   ]
  },
  {
   "cell_type": "code",
   "execution_count": 53,
   "metadata": {},
   "outputs": [
    {
     "name": "stdout",
     "output_type": "stream",
     "text": [
      "Mean: 4.829441880454275\n"
     ]
    }
   ],
   "source": [
    "print(\"Mean:\", lr_rmse_scores.mean())"
   ]
  },
  {
   "cell_type": "code",
   "execution_count": 54,
   "metadata": {},
   "outputs": [
    {
     "name": "stdout",
     "output_type": "stream",
     "text": [
      "Standard deviation: 0.8896329730748544\n"
     ]
    }
   ],
   "source": [
    "print(\"Standard deviation:\", lr_rmse_scores.std())"
   ]
  },
  {
   "cell_type": "code",
   "execution_count": 55,
   "metadata": {},
   "outputs": [
    {
     "name": "stderr",
     "output_type": "stream",
     "text": [
      "/Users/rjdaskeivch/anaconda3/lib/python3.7/site-packages/sklearn/ensemble/forest.py:246: FutureWarning: The default value of n_estimators will change from 10 in version 0.20 to 100 in 0.22.\n",
      "  \"10 in version 0.20 to 100 in 0.22.\", FutureWarning)\n"
     ]
    },
    {
     "data": {
      "text/plain": [
       "1.5490719035526523"
      ]
     },
     "execution_count": 55,
     "metadata": {},
     "output_type": "execute_result"
    }
   ],
   "source": [
    "from sklearn.ensemble import RandomForestRegressor\n",
    "forest_reg = RandomForestRegressor()\n",
    "forest_reg.fit(data_prepared,label)\n",
    "forest_predictions = forest_reg.predict(data_prepared)\n",
    "forest_mse = mean_squared_error(label,forest_predictions)\n",
    "forest_rmse = np.sqrt(forest_mse)\n",
    "forest_rmse"
   ]
  },
  {
   "cell_type": "code",
   "execution_count": 56,
   "metadata": {},
   "outputs": [],
   "source": [
    "forest_scores = cross_val_score(forest_reg, data_prepared, label, scoring=\"neg_mean_squared_error\", cv=10)\n",
    "forest_rmse_scores = np.sqrt(-forest_scores)"
   ]
  },
  {
   "cell_type": "code",
   "execution_count": 57,
   "metadata": {},
   "outputs": [
    {
     "name": "stdout",
     "output_type": "stream",
     "text": [
      "Scores: [3.310014   3.49689165 2.46450114 5.54768156 5.27535283 2.96548563\n",
      " 3.69575162 3.10178376 3.09928701 4.90155486]\n",
      "Mean: 3.7858304056337615\n",
      "Standard Deviation: 1.0121154521888276\n"
     ]
    }
   ],
   "source": [
    "print(\"Scores:\", forest_rmse_scores)\n",
    "print(\"Mean:\", forest_rmse_scores.mean())\n",
    "print(\"Standard Deviation:\", forest_rmse_scores.std())"
   ]
  },
  {
   "cell_type": "code",
   "execution_count": 58,
   "metadata": {},
   "outputs": [
    {
     "name": "stdout",
     "output_type": "stream",
     "text": [
      "Mean: 3.7858304056337615\n"
     ]
    }
   ],
   "source": [
    "print(\"Mean:\", forest_rmse_scores.mean())"
   ]
  },
  {
   "cell_type": "code",
   "execution_count": 59,
   "metadata": {},
   "outputs": [
    {
     "name": "stdout",
     "output_type": "stream",
     "text": [
      "Standard Deviation: 1.0121154521888276\n"
     ]
    }
   ],
   "source": [
    "print(\"Standard Deviation:\", forest_rmse_scores.std())"
   ]
  },
  {
   "cell_type": "code",
   "execution_count": 60,
   "metadata": {},
   "outputs": [
    {
     "data": {
      "text/plain": [
       "{'bootstrap': True,\n",
       " 'criterion': 'mse',\n",
       " 'max_depth': None,\n",
       " 'max_features': 'auto',\n",
       " 'max_leaf_nodes': None,\n",
       " 'min_impurity_decrease': 0.0,\n",
       " 'min_impurity_split': None,\n",
       " 'min_samples_leaf': 1,\n",
       " 'min_samples_split': 2,\n",
       " 'min_weight_fraction_leaf': 0.0,\n",
       " 'n_estimators': 10,\n",
       " 'n_jobs': None,\n",
       " 'oob_score': False,\n",
       " 'random_state': None,\n",
       " 'verbose': 0,\n",
       " 'warm_start': False}"
      ]
     },
     "execution_count": 60,
     "metadata": {},
     "output_type": "execute_result"
    }
   ],
   "source": [
    "forest_reg.get_params()"
   ]
  },
  {
   "cell_type": "code",
   "execution_count": 61,
   "metadata": {},
   "outputs": [],
   "source": [
    "from sklearn.model_selection import GridSearchCV\n",
    "\n",
    "param_grid = [{'n_estimators':[3,10,30], 'max_features':[2,4,6,8]},\n",
    "             {'bootstrap': [False], 'n_estimators':[3,10], 'max_features':[2,3,4]}]"
   ]
  },
  {
   "cell_type": "raw",
   "metadata": {},
   "source": [
    "forest_reg = RandomForestRegressor()"
   ]
  },
  {
   "cell_type": "code",
   "execution_count": 62,
   "metadata": {},
   "outputs": [],
   "source": [
    "grid_search = GridSearchCV(forest_reg, param_grid, cv=5, scoring='neg_mean_squared_error',\n",
    "                           return_train_score=True)"
   ]
  },
  {
   "cell_type": "code",
   "execution_count": 63,
   "metadata": {},
   "outputs": [
    {
     "name": "stderr",
     "output_type": "stream",
     "text": [
      "/Users/rjdaskeivch/anaconda3/lib/python3.7/site-packages/sklearn/model_selection/_search.py:841: DeprecationWarning: The default of the `iid` parameter will change from True to False in version 0.22 and will be removed in 0.24. This will change numeric results when test-set sizes are unequal.\n",
      "  DeprecationWarning)\n"
     ]
    },
    {
     "data": {
      "text/plain": [
       "GridSearchCV(cv=5, error_score='raise-deprecating',\n",
       "       estimator=RandomForestRegressor(bootstrap=True, criterion='mse', max_depth=None,\n",
       "           max_features='auto', max_leaf_nodes=None,\n",
       "           min_impurity_decrease=0.0, min_impurity_split=None,\n",
       "           min_samples_leaf=1, min_samples_split=2,\n",
       "           min_weight_fraction_leaf=0.0, n_estimators=10, n_jobs=None,\n",
       "           oob_score=False, random_state=None, verbose=0, warm_start=False),\n",
       "       fit_params=None, iid='warn', n_jobs=None,\n",
       "       param_grid=[{'n_estimators': [3, 10, 30], 'max_features': [2, 4, 6, 8]}, {'bootstrap': [False], 'n_estimators': [3, 10], 'max_features': [2, 3, 4]}],\n",
       "       pre_dispatch='2*n_jobs', refit=True, return_train_score=True,\n",
       "       scoring='neg_mean_squared_error', verbose=0)"
      ]
     },
     "execution_count": 63,
     "metadata": {},
     "output_type": "execute_result"
    }
   ],
   "source": [
    "grid_search.fit(data_prepared, label)"
   ]
  },
  {
   "cell_type": "code",
   "execution_count": 64,
   "metadata": {},
   "outputs": [
    {
     "data": {
      "text/plain": [
       "{'bootstrap': False, 'max_features': 4, 'n_estimators': 10}"
      ]
     },
     "execution_count": 64,
     "metadata": {},
     "output_type": "execute_result"
    }
   ],
   "source": [
    "grid_search.best_params_"
   ]
  },
  {
   "cell_type": "code",
   "execution_count": 65,
   "metadata": {},
   "outputs": [
    {
     "data": {
      "text/plain": [
       "RandomForestRegressor(bootstrap=False, criterion='mse', max_depth=None,\n",
       "           max_features=4, max_leaf_nodes=None, min_impurity_decrease=0.0,\n",
       "           min_impurity_split=None, min_samples_leaf=1,\n",
       "           min_samples_split=2, min_weight_fraction_leaf=0.0,\n",
       "           n_estimators=10, n_jobs=None, oob_score=False,\n",
       "           random_state=None, verbose=0, warm_start=False)"
      ]
     },
     "execution_count": 65,
     "metadata": {},
     "output_type": "execute_result"
    }
   ],
   "source": [
    "grid_search.best_estimator_"
   ]
  },
  {
   "cell_type": "code",
   "execution_count": 66,
   "metadata": {},
   "outputs": [
    {
     "name": "stdout",
     "output_type": "stream",
     "text": [
      "<class 'dict'>\n"
     ]
    }
   ],
   "source": [
    "cvres = grid_search.cv_results_\n",
    "print(type(cvres))"
   ]
  },
  {
   "cell_type": "code",
   "execution_count": 67,
   "metadata": {},
   "outputs": [
    {
     "name": "stdout",
     "output_type": "stream",
     "text": [
      "dict_keys(['mean_fit_time', 'std_fit_time', 'mean_score_time', 'std_score_time', 'param_max_features', 'param_n_estimators', 'param_bootstrap', 'params', 'split0_test_score', 'split1_test_score', 'split2_test_score', 'split3_test_score', 'split4_test_score', 'mean_test_score', 'std_test_score', 'rank_test_score', 'split0_train_score', 'split1_train_score', 'split2_train_score', 'split3_train_score', 'split4_train_score', 'mean_train_score', 'std_train_score'])\n"
     ]
    }
   ],
   "source": [
    "print(cvres.keys())"
   ]
  },
  {
   "cell_type": "code",
   "execution_count": 68,
   "metadata": {},
   "outputs": [
    {
     "name": "stdout",
     "output_type": "stream",
     "text": [
      "4.998720408321719 {'max_features': 2, 'n_estimators': 3}\n",
      "4.195065642224714 {'max_features': 2, 'n_estimators': 10}\n",
      "4.053546158050447 {'max_features': 2, 'n_estimators': 30}\n",
      "4.3232441573434635 {'max_features': 4, 'n_estimators': 3}\n",
      "3.982143434964851 {'max_features': 4, 'n_estimators': 10}\n",
      "3.740092272795005 {'max_features': 4, 'n_estimators': 30}\n",
      "4.6435678925021895 {'max_features': 6, 'n_estimators': 3}\n",
      "3.973605708513701 {'max_features': 6, 'n_estimators': 10}\n",
      "3.7998871682918667 {'max_features': 6, 'n_estimators': 30}\n",
      "4.5501402316426205 {'max_features': 8, 'n_estimators': 3}\n",
      "3.7927803354883776 {'max_features': 8, 'n_estimators': 10}\n",
      "3.6738957352498933 {'max_features': 8, 'n_estimators': 30}\n",
      "4.755285693226267 {'bootstrap': False, 'max_features': 2, 'n_estimators': 3}\n",
      "4.066644047845986 {'bootstrap': False, 'max_features': 2, 'n_estimators': 10}\n",
      "4.557750986989739 {'bootstrap': False, 'max_features': 3, 'n_estimators': 3}\n",
      "3.814461636228293 {'bootstrap': False, 'max_features': 3, 'n_estimators': 10}\n",
      "4.227267554709296 {'bootstrap': False, 'max_features': 4, 'n_estimators': 3}\n",
      "3.5104398754019246 {'bootstrap': False, 'max_features': 4, 'n_estimators': 10}\n"
     ]
    }
   ],
   "source": [
    "for mean_score, params in zip(cvres[\"mean_test_score\"], cvres[\"params\"]):\n",
    "    print(np.sqrt(-mean_score), params)\n",
    "    "
   ]
  },
  {
   "cell_type": "code",
   "execution_count": 69,
   "metadata": {},
   "outputs": [
    {
     "data": {
      "text/plain": [
       "array([0.06312138, 0.00550838, 0.09412486, 0.07222751, 0.32347615,\n",
       "       0.02080104, 0.05941111, 0.01347722, 0.01406386, 0.11337014,\n",
       "       0.02049494, 0.1849661 , 0.00978941, 0.00516792])"
      ]
     },
     "execution_count": 69,
     "metadata": {},
     "output_type": "execute_result"
    }
   ],
   "source": [
    "feature_importances = grid_search.best_estimator_.feature_importances_\n",
    "feature_importances"
   ]
  },
  {
   "cell_type": "code",
   "execution_count": 70,
   "metadata": {},
   "outputs": [
    {
     "data": {
      "text/plain": [
       "[0.0, 1.0]"
      ]
     },
     "execution_count": 70,
     "metadata": {},
     "output_type": "execute_result"
    }
   ],
   "source": [
    "cat_encoder = prep_pipeline.named_transformers_[\"one_hot\"]\n",
    "cat_one_hot_attribs = list(cat_encoder.categories_[0])\n",
    "cat_one_hot_attribs"
   ]
  },
  {
   "cell_type": "code",
   "execution_count": 71,
   "metadata": {},
   "outputs": [
    {
     "data": {
      "text/plain": [
       "[(0.0051679153604253375, 1.0),\n",
       " (0.00550837773595606, 'ZN'),\n",
       " (0.009789405589732566, 0.0),\n",
       " (0.01347721606206766, 'RAD'),\n",
       " (0.014063863007236627, 'TAX'),\n",
       " (0.020494942765730537, 'B'),\n",
       " (0.020801040129656473, 'AGE'),\n",
       " (0.05941110824753145, 'DIS'),\n",
       " (0.06312137883744447, 'CRIM'),\n",
       " (0.07222750930139123, 'NOX'),\n",
       " (0.09412485731734055, 'INDUS'),\n",
       " (0.1133701371125793, 'PTRATIO'),\n",
       " (0.18496609800646022, 'LSTAT'),\n",
       " (0.3234761505264475, 'RM')]"
      ]
     },
     "execution_count": 71,
     "metadata": {},
     "output_type": "execute_result"
    }
   ],
   "source": [
    "sorted(zip(feature_importances, (num_attribs+cat_one_hot_attribs)))"
   ]
  },
  {
   "cell_type": "code",
   "execution_count": 72,
   "metadata": {},
   "outputs": [],
   "source": [
    "final_model = grid_search.best_estimator_\n",
    "\n",
    "X_test = test_set.drop(\"Price\", axis=1)\n",
    "y_test = test_set[\"Price\"].copy()"
   ]
  },
  {
   "cell_type": "code",
   "execution_count": 73,
   "metadata": {},
   "outputs": [
    {
     "data": {
      "text/plain": [
       "3.198959696097296"
      ]
     },
     "execution_count": 73,
     "metadata": {},
     "output_type": "execute_result"
    }
   ],
   "source": [
    "X_test_prepared = prep_pipeline.transform(X_test)\n",
    "final_predictions = final_model.predict(X_test_prepared)\n",
    "final_mse = mean_squared_error(y_test, final_predictions)\n",
    "final_rmse = np.sqrt(final_mse)\n",
    "final_rmse"
   ]
  },
  {
   "cell_type": "code",
   "execution_count": 74,
   "metadata": {},
   "outputs": [
    {
     "data": {
      "text/plain": [
       "['my_model.pkl']"
      ]
     },
     "execution_count": 74,
     "metadata": {},
     "output_type": "execute_result"
    }
   ],
   "source": [
    "from sklearn.externals import joblib\n",
    "joblib.dump(final_model, \"my_model.pkl\")"
   ]
  },
  {
   "cell_type": "code",
   "execution_count": 75,
   "metadata": {},
   "outputs": [
    {
     "name": "stdout",
     "output_type": "stream",
     "text": [
      "my_model.pkl\r\n"
     ]
    }
   ],
   "source": [
    "!ls my_model.*\n"
   ]
  },
  {
   "cell_type": "code",
   "execution_count": null,
   "metadata": {},
   "outputs": [],
   "source": []
  }
 ],
 "metadata": {
  "kernelspec": {
   "display_name": "Python 3",
   "language": "python",
   "name": "python3"
  },
  "language_info": {
   "codemirror_mode": {
    "name": "ipython",
    "version": 3
   },
   "file_extension": ".py",
   "mimetype": "text/x-python",
   "name": "python",
   "nbconvert_exporter": "python",
   "pygments_lexer": "ipython3",
   "version": "3.7.3"
  }
 },
 "nbformat": 4,
 "nbformat_minor": 2
}
