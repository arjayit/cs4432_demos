{
 "cells": [
  {
   "cell_type": "markdown",
   "metadata": {},
   "source": [
    "<center><font size =6, color=\"marquee\"> Twitter US Airline Sentiment Classification using \n",
    "    navie bayes generative classifier </font></center>\n",
    "\n",
    "  https://www.kaggle.com/crowdflower/twitter-airline-sentiment\n",
    "  \n",
    "  Data can be downloaded from the following link. You have to login to the kaggle site to get access to the data.\n",
    "Unzip the data in folder where notebook is running. There should be a file called **Tweet.csv**\n",
    "\n",
    "https://www.kaggle.com/crowdflower/twitter-airline-sentiment/downloads/twitter-airline-sentiment.zip/2"
   ]
  },
  {
   "cell_type": "markdown",
   "metadata": {},
   "source": [
    "<img src=\"https://images.unsplash.com/photo-1529990131237-cfa5ce9517b6?ixlib=rb-1.2.1&auto=format&fit=crop&w=1949&q=80\"  width=\"900\" height=\"400\">"
   ]
  },
  {
   "cell_type": "markdown",
   "metadata": {},
   "source": [
    "This excercise will help us to get started with navie bayes generative classifier and using tools(pandas, sklearn etc) from python eco system. Most of the code is already written but please understand it.\n",
    "\n",
    "**Problem statement:** classify sentiment based on text as positive or negative* using **naive bayes** in supervised machine setting.\n",
    "See this link to get an idea supervised learning workflow [supervsed learning workflow](http://www.allprogrammingtutorials.com/tutorials/introduction-to-machine-learning.php)\n",
    "\n",
    "**Dataset:** See the link above\n",
    "\n",
    "\n",
    "credit:\n",
    "\n",
    "\n",
    "- some of the images are from  https://unsplash.com\n"
   ]
  },
  {
   "cell_type": "code",
   "execution_count": 1,
   "metadata": {},
   "outputs": [],
   "source": [
    "#Must for inline plot\n",
    "%matplotlib inline \n",
    "import numpy as np\n",
    "import pandas as pd # for data analysis\n",
    "import matplotlib.pyplot as plt # for plotting\n",
    "\n"
   ]
  },
  {
   "cell_type": "code",
   "execution_count": 2,
   "metadata": {},
   "outputs": [
    {
     "name": "stdout",
     "output_type": "stream",
     "text": [
      "Requirement already up-to-date: gensim in /Users/rjdaskevich/opt/anaconda3/lib/python3.8/site-packages (4.0.1)\n",
      "Requirement already satisfied, skipping upgrade: smart-open>=1.8.1 in /Users/rjdaskevich/opt/anaconda3/lib/python3.8/site-packages (from gensim) (5.0.0)\n",
      "Requirement already satisfied, skipping upgrade: numpy>=1.11.3 in /Users/rjdaskevich/opt/anaconda3/lib/python3.8/site-packages (from gensim) (1.19.2)\n",
      "Requirement already satisfied, skipping upgrade: scipy>=0.18.1 in /Users/rjdaskevich/opt/anaconda3/lib/python3.8/site-packages (from gensim) (1.5.2)\n"
     ]
    }
   ],
   "source": [
    "# You may have to install following libraries too. Please uncomment to install\n",
    "#pip install scikit-learn\n",
    "!pip install -U gensim\n",
    "#!pip install -U setuptools\n",
    "#!conda install pattern\n",
    "#! install --upgrade pip"
   ]
  },
  {
   "cell_type": "code",
   "execution_count": 3,
   "metadata": {
    "scrolled": true
   },
   "outputs": [],
   "source": [
    "#!ls\n",
    "data_url = 'Tweets.csv'\n",
    " "
   ]
  },
  {
   "cell_type": "code",
   "execution_count": 4,
   "metadata": {},
   "outputs": [
    {
     "name": "stdout",
     "output_type": "stream",
     "text": [
      "tweet_id,airline_sentiment,airline_sentiment_confidence,negativereason,negativereason_confidence,airline,airline_sentiment_gold,name,negativereason_gold,retweet_count,text,tweet_coord,tweet_created,tweet_location,user_timezone\n",
      "570306133677760513,neutral,1.0,,,Virgin America,,cairdin,,0,@VirginAmerica What @dhepburn said.,,2015-02-24 11:35:52 -0800,,Eastern Time (US & Canada)\n",
      "570301130888122368,positive,0.3486,,0.0,Virgin America,,jnardino,,0,@VirginAmerica plus you've added commercials to the experience... tacky.,,2015-02-24 11:15:59 -0800,,Pacific Time (US & Canada)\n",
      "570301083672813571,neutral,0.6837,,,Virgin America,,yvonnalynn,,0,@VirginAmerica I didn't today... Must mean I need to take another trip!,,2015-02-24 11:15:48 -0800,Lets Play,Central Time (US & Canada)\n",
      "570301031407624196,negative,1.0,Bad Flight,0.7033,Virgin America,,jnardino,,0,\"@VirginAmerica it's really aggressive to blast obnoxious \"\"entertainment\"\" in your guests' faces &amp; they have little recourse\",,2015-02-24 11:15:36 -0800,,Pacific Time (US & Canada)\n"
     ]
    }
   ],
   "source": [
    "!head -n 5  Tweets.csv"
   ]
  },
  {
   "cell_type": "markdown",
   "metadata": {},
   "source": [
    "Clearly it is a comma separated csv file."
   ]
  },
  {
   "cell_type": "markdown",
   "metadata": {},
   "source": [
    "\n",
    "First step before jumping into using any machine learning model is understanding the data by **describing it's statistical attribute and visualizating samples or sample property**.\n",
    "We can use CSV file reader and try to accomplish above task. But as they say python is a language with **battery(libraries) included**. Let's use **pandas and matplotlib** libraries to do this task as cleanly as possible. What to describe and what to plot will be an essential skill we build as we do various data science or machine learning tasks. Also with time you will also built a knowledge of various packages available for different domain in python eco system. Most of the time reading blog and google search does the job of finding right libraries. Various packages for download and installation are avaiable at [PyPI - the Python Package Index](https://pypi.python.org/pypi)\n",
    "\n",
    "**Optional**\n",
    "This is [10 Minutes to pandas](https://pandas.pydata.org/pandas-docs/stable/10min.html)\n",
    "\n",
    "If you have more time look into this link [Pandas Tutorial: DataFrames in Python](https://www.datacamp.com/community/tutorials/pandas-tutorial-dataframe-python#gs.dEdNuDM)\n",
    "\n",
    "Let's load the csv file in pandas dataframe"
   ]
  },
  {
   "cell_type": "code",
   "execution_count": 5,
   "metadata": {},
   "outputs": [
    {
     "data": {
      "text/html": [
       "<div>\n",
       "<style scoped>\n",
       "    .dataframe tbody tr th:only-of-type {\n",
       "        vertical-align: middle;\n",
       "    }\n",
       "\n",
       "    .dataframe tbody tr th {\n",
       "        vertical-align: top;\n",
       "    }\n",
       "\n",
       "    .dataframe thead th {\n",
       "        text-align: right;\n",
       "    }\n",
       "</style>\n",
       "<table border=\"1\" class=\"dataframe\">\n",
       "  <thead>\n",
       "    <tr style=\"text-align: right;\">\n",
       "      <th></th>\n",
       "      <th>tweet_id</th>\n",
       "      <th>airline_sentiment</th>\n",
       "      <th>airline_sentiment_confidence</th>\n",
       "      <th>negativereason</th>\n",
       "      <th>negativereason_confidence</th>\n",
       "      <th>airline</th>\n",
       "      <th>airline_sentiment_gold</th>\n",
       "      <th>name</th>\n",
       "      <th>negativereason_gold</th>\n",
       "      <th>retweet_count</th>\n",
       "      <th>text</th>\n",
       "      <th>tweet_coord</th>\n",
       "      <th>tweet_created</th>\n",
       "      <th>tweet_location</th>\n",
       "      <th>user_timezone</th>\n",
       "    </tr>\n",
       "  </thead>\n",
       "  <tbody>\n",
       "    <tr>\n",
       "      <th>0</th>\n",
       "      <td>570306133677760513</td>\n",
       "      <td>neutral</td>\n",
       "      <td>1.0000</td>\n",
       "      <td>NaN</td>\n",
       "      <td>NaN</td>\n",
       "      <td>Virgin America</td>\n",
       "      <td>NaN</td>\n",
       "      <td>cairdin</td>\n",
       "      <td>NaN</td>\n",
       "      <td>0</td>\n",
       "      <td>@VirginAmerica What @dhepburn said.</td>\n",
       "      <td>NaN</td>\n",
       "      <td>2015-02-24 11:35:52 -0800</td>\n",
       "      <td>NaN</td>\n",
       "      <td>Eastern Time (US &amp; Canada)</td>\n",
       "    </tr>\n",
       "    <tr>\n",
       "      <th>1</th>\n",
       "      <td>570301130888122368</td>\n",
       "      <td>positive</td>\n",
       "      <td>0.3486</td>\n",
       "      <td>NaN</td>\n",
       "      <td>0.0000</td>\n",
       "      <td>Virgin America</td>\n",
       "      <td>NaN</td>\n",
       "      <td>jnardino</td>\n",
       "      <td>NaN</td>\n",
       "      <td>0</td>\n",
       "      <td>@VirginAmerica plus you've added commercials t...</td>\n",
       "      <td>NaN</td>\n",
       "      <td>2015-02-24 11:15:59 -0800</td>\n",
       "      <td>NaN</td>\n",
       "      <td>Pacific Time (US &amp; Canada)</td>\n",
       "    </tr>\n",
       "    <tr>\n",
       "      <th>2</th>\n",
       "      <td>570301083672813571</td>\n",
       "      <td>neutral</td>\n",
       "      <td>0.6837</td>\n",
       "      <td>NaN</td>\n",
       "      <td>NaN</td>\n",
       "      <td>Virgin America</td>\n",
       "      <td>NaN</td>\n",
       "      <td>yvonnalynn</td>\n",
       "      <td>NaN</td>\n",
       "      <td>0</td>\n",
       "      <td>@VirginAmerica I didn't today... Must mean I n...</td>\n",
       "      <td>NaN</td>\n",
       "      <td>2015-02-24 11:15:48 -0800</td>\n",
       "      <td>Lets Play</td>\n",
       "      <td>Central Time (US &amp; Canada)</td>\n",
       "    </tr>\n",
       "    <tr>\n",
       "      <th>3</th>\n",
       "      <td>570301031407624196</td>\n",
       "      <td>negative</td>\n",
       "      <td>1.0000</td>\n",
       "      <td>Bad Flight</td>\n",
       "      <td>0.7033</td>\n",
       "      <td>Virgin America</td>\n",
       "      <td>NaN</td>\n",
       "      <td>jnardino</td>\n",
       "      <td>NaN</td>\n",
       "      <td>0</td>\n",
       "      <td>@VirginAmerica it's really aggressive to blast...</td>\n",
       "      <td>NaN</td>\n",
       "      <td>2015-02-24 11:15:36 -0800</td>\n",
       "      <td>NaN</td>\n",
       "      <td>Pacific Time (US &amp; Canada)</td>\n",
       "    </tr>\n",
       "    <tr>\n",
       "      <th>4</th>\n",
       "      <td>570300817074462722</td>\n",
       "      <td>negative</td>\n",
       "      <td>1.0000</td>\n",
       "      <td>Can't Tell</td>\n",
       "      <td>1.0000</td>\n",
       "      <td>Virgin America</td>\n",
       "      <td>NaN</td>\n",
       "      <td>jnardino</td>\n",
       "      <td>NaN</td>\n",
       "      <td>0</td>\n",
       "      <td>@VirginAmerica and it's a really big bad thing...</td>\n",
       "      <td>NaN</td>\n",
       "      <td>2015-02-24 11:14:45 -0800</td>\n",
       "      <td>NaN</td>\n",
       "      <td>Pacific Time (US &amp; Canada)</td>\n",
       "    </tr>\n",
       "    <tr>\n",
       "      <th>5</th>\n",
       "      <td>570300767074181121</td>\n",
       "      <td>negative</td>\n",
       "      <td>1.0000</td>\n",
       "      <td>Can't Tell</td>\n",
       "      <td>0.6842</td>\n",
       "      <td>Virgin America</td>\n",
       "      <td>NaN</td>\n",
       "      <td>jnardino</td>\n",
       "      <td>NaN</td>\n",
       "      <td>0</td>\n",
       "      <td>@VirginAmerica seriously would pay $30 a fligh...</td>\n",
       "      <td>NaN</td>\n",
       "      <td>2015-02-24 11:14:33 -0800</td>\n",
       "      <td>NaN</td>\n",
       "      <td>Pacific Time (US &amp; Canada)</td>\n",
       "    </tr>\n",
       "  </tbody>\n",
       "</table>\n",
       "</div>"
      ],
      "text/plain": [
       "             tweet_id airline_sentiment  airline_sentiment_confidence  \\\n",
       "0  570306133677760513           neutral                        1.0000   \n",
       "1  570301130888122368          positive                        0.3486   \n",
       "2  570301083672813571           neutral                        0.6837   \n",
       "3  570301031407624196          negative                        1.0000   \n",
       "4  570300817074462722          negative                        1.0000   \n",
       "5  570300767074181121          negative                        1.0000   \n",
       "\n",
       "  negativereason  negativereason_confidence         airline  \\\n",
       "0            NaN                        NaN  Virgin America   \n",
       "1            NaN                     0.0000  Virgin America   \n",
       "2            NaN                        NaN  Virgin America   \n",
       "3     Bad Flight                     0.7033  Virgin America   \n",
       "4     Can't Tell                     1.0000  Virgin America   \n",
       "5     Can't Tell                     0.6842  Virgin America   \n",
       "\n",
       "  airline_sentiment_gold        name negativereason_gold  retweet_count  \\\n",
       "0                    NaN     cairdin                 NaN              0   \n",
       "1                    NaN    jnardino                 NaN              0   \n",
       "2                    NaN  yvonnalynn                 NaN              0   \n",
       "3                    NaN    jnardino                 NaN              0   \n",
       "4                    NaN    jnardino                 NaN              0   \n",
       "5                    NaN    jnardino                 NaN              0   \n",
       "\n",
       "                                                text tweet_coord  \\\n",
       "0                @VirginAmerica What @dhepburn said.         NaN   \n",
       "1  @VirginAmerica plus you've added commercials t...         NaN   \n",
       "2  @VirginAmerica I didn't today... Must mean I n...         NaN   \n",
       "3  @VirginAmerica it's really aggressive to blast...         NaN   \n",
       "4  @VirginAmerica and it's a really big bad thing...         NaN   \n",
       "5  @VirginAmerica seriously would pay $30 a fligh...         NaN   \n",
       "\n",
       "               tweet_created tweet_location               user_timezone  \n",
       "0  2015-02-24 11:35:52 -0800            NaN  Eastern Time (US & Canada)  \n",
       "1  2015-02-24 11:15:59 -0800            NaN  Pacific Time (US & Canada)  \n",
       "2  2015-02-24 11:15:48 -0800      Lets Play  Central Time (US & Canada)  \n",
       "3  2015-02-24 11:15:36 -0800            NaN  Pacific Time (US & Canada)  \n",
       "4  2015-02-24 11:14:45 -0800            NaN  Pacific Time (US & Canada)  \n",
       "5  2015-02-24 11:14:33 -0800            NaN  Pacific Time (US & Canada)  "
      ]
     },
     "execution_count": 5,
     "metadata": {},
     "output_type": "execute_result"
    }
   ],
   "source": [
    "# You will see how wrapping the file in pandas simplify lot of tasks\n",
    "airlines_sentiment_df = pd.read_csv('Tweets.csv')\n",
    "airlines_sentiment_df.head(6) # there are other functions like tail and sample to check record in dataset\n"
   ]
  },
  {
   "cell_type": "code",
   "execution_count": 6,
   "metadata": {},
   "outputs": [
    {
     "name": "stdout",
     "output_type": "stream",
     "text": [
      "<class 'pandas.core.frame.DataFrame'>\n",
      "RangeIndex: 14640 entries, 0 to 14639\n",
      "Data columns (total 15 columns):\n",
      " #   Column                        Non-Null Count  Dtype  \n",
      "---  ------                        --------------  -----  \n",
      " 0   tweet_id                      14640 non-null  int64  \n",
      " 1   airline_sentiment             14640 non-null  object \n",
      " 2   airline_sentiment_confidence  14640 non-null  float64\n",
      " 3   negativereason                9178 non-null   object \n",
      " 4   negativereason_confidence     10522 non-null  float64\n",
      " 5   airline                       14640 non-null  object \n",
      " 6   airline_sentiment_gold        40 non-null     object \n",
      " 7   name                          14640 non-null  object \n",
      " 8   negativereason_gold           32 non-null     object \n",
      " 9   retweet_count                 14640 non-null  int64  \n",
      " 10  text                          14640 non-null  object \n",
      " 11  tweet_coord                   1019 non-null   object \n",
      " 12  tweet_created                 14640 non-null  object \n",
      " 13  tweet_location                9907 non-null   object \n",
      " 14  user_timezone                 9820 non-null   object \n",
      "dtypes: float64(2), int64(2), object(11)\n",
      "memory usage: 1.7+ MB\n"
     ]
    }
   ],
   "source": [
    "airlines_sentiment_df.info()"
   ]
  },
  {
   "cell_type": "code",
   "execution_count": null,
   "metadata": {},
   "outputs": [],
   "source": []
  },
  {
   "cell_type": "markdown",
   "metadata": {},
   "source": [
    "# Let's select observation with positive and negative sentiment only."
   ]
  },
  {
   "cell_type": "code",
   "execution_count": 7,
   "metadata": {},
   "outputs": [],
   "source": [
    "airlines_sentiment_no_neutral = airlines_sentiment_df[airlines_sentiment_df.airline_sentiment.isin(['positive', 'negative'])]\n",
    "\n",
    "airlines_sentiment_df = airlines_sentiment_no_neutral"
   ]
  },
  {
   "cell_type": "code",
   "execution_count": 8,
   "metadata": {},
   "outputs": [
    {
     "data": {
      "text/plain": [
       "tweet_id                        11541\n",
       "airline_sentiment               11541\n",
       "airline_sentiment_confidence    11541\n",
       "negativereason                   9178\n",
       "negativereason_confidence        9508\n",
       "airline                         11541\n",
       "airline_sentiment_gold             37\n",
       "name                            11541\n",
       "negativereason_gold                32\n",
       "retweet_count                   11541\n",
       "text                            11541\n",
       "tweet_coord                       838\n",
       "tweet_created                   11541\n",
       "tweet_location                   7770\n",
       "user_timezone                    7692\n",
       "dtype: int64"
      ]
     },
     "execution_count": 8,
     "metadata": {},
     "output_type": "execute_result"
    }
   ],
   "source": [
    "#Let's view some random record\n",
    "#airlines_sentiment_df.sample(10)\n",
    "airlines_sentiment_df.count()"
   ]
  },
  {
   "cell_type": "code",
   "execution_count": 9,
   "metadata": {},
   "outputs": [
    {
     "data": {
      "text/plain": [
       "Index(['tweet_id', 'airline_sentiment', 'airline_sentiment_confidence',\n",
       "       'negativereason', 'negativereason_confidence', 'airline',\n",
       "       'airline_sentiment_gold', 'name', 'negativereason_gold',\n",
       "       'retweet_count', 'text', 'tweet_coord', 'tweet_created',\n",
       "       'tweet_location', 'user_timezone'],\n",
       "      dtype='object')"
      ]
     },
     "execution_count": 9,
     "metadata": {},
     "output_type": "execute_result"
    }
   ],
   "source": [
    "airlines_sentiment_no_neutral.columns"
   ]
  },
  {
   "cell_type": "code",
   "execution_count": 10,
   "metadata": {},
   "outputs": [
    {
     "data": {
      "text/plain": [
       "negative    9178\n",
       "positive    2363\n",
       "Name: airline_sentiment, dtype: int64"
      ]
     },
     "execution_count": 10,
     "metadata": {},
     "output_type": "execute_result"
    }
   ],
   "source": [
    "airlines_sentiment_no_neutral['airline_sentiment'].value_counts()"
   ]
  },
  {
   "cell_type": "markdown",
   "metadata": {},
   "source": [
    "Let's select only airline_sentiment and text filed."
   ]
  },
  {
   "cell_type": "code",
   "execution_count": 11,
   "metadata": {},
   "outputs": [
    {
     "name": "stdout",
     "output_type": "stream",
     "text": [
      "<class 'pandas.core.frame.DataFrame'>\n"
     ]
    }
   ],
   "source": [
    "airlines_sentiment_no_neutral = airlines_sentiment_no_neutral[['airline_sentiment', 'text']]\n",
    "print(type(airlines_sentiment_no_neutral))"
   ]
  },
  {
   "cell_type": "code",
   "execution_count": 12,
   "metadata": {},
   "outputs": [
    {
     "name": "stdout",
     "output_type": "stream",
     "text": [
      "  airline_sentiment                                               text\n",
      "1          positive  @VirginAmerica plus you've added commercials t...\n",
      "3          negative  @VirginAmerica it's really aggressive to blast...\n",
      "4          negative  @VirginAmerica and it's a really big bad thing...\n",
      "5          negative  @VirginAmerica seriously would pay $30 a fligh...\n",
      "6          positive  @VirginAmerica yes, nearly every time I fly VX...\n"
     ]
    },
    {
     "data": {
      "text/plain": [
       "airline_sentiment    11541\n",
       "text                 11541\n",
       "dtype: int64"
      ]
     },
     "execution_count": 12,
     "metadata": {},
     "output_type": "execute_result"
    }
   ],
   "source": [
    "print(airlines_sentiment_no_neutral.head())\n",
    "airlines_sentiment_no_neutral.count()"
   ]
  },
  {
   "cell_type": "markdown",
   "metadata": {},
   "source": [
    "**This is our  data set $\\mathcal{D} = \\{({x_i}, y_i)\\}_{i=1}^{N=5574}$ $x_i$ is text field and $y_i$ is airlines_sentiment(positive or negative)**. Using using this we will train(learn parameters $\\theta$ of a models(Naive bayes, Discriminant anlaysis based etc.)) and use trained model to classify new text as positive or negative.\n"
   ]
  },
  {
   "cell_type": "code",
   "execution_count": 13,
   "metadata": {},
   "outputs": [
    {
     "data": {
      "text/plain": [
       "airline_sentiment    object\n",
       "text                 object\n",
       "dtype: object"
      ]
     },
     "execution_count": 13,
     "metadata": {},
     "output_type": "execute_result"
    }
   ],
   "source": [
    "airlines_sentiment_no_neutral.dtypes\n",
    "\n"
   ]
  },
  {
   "cell_type": "markdown",
   "metadata": {},
   "source": [
    "airline_sentiment attribute is not in proper format but we will use it's string value later to create class label(positive=1, negative =0)"
   ]
  },
  {
   "cell_type": "code",
   "execution_count": 14,
   "metadata": {},
   "outputs": [
    {
     "data": {
      "text/plain": [
       "airline_sentiment    0\n",
       "text                 0\n",
       "dtype: int64"
      ]
     },
     "execution_count": 14,
     "metadata": {},
     "output_type": "execute_result"
    }
   ],
   "source": [
    "airlines_sentiment_no_neutral.isna().sum()"
   ]
  },
  {
   "cell_type": "markdown",
   "metadata": {},
   "source": [
    "Dataset doesn't contain any nan and  looks clean."
   ]
  },
  {
   "cell_type": "markdown",
   "metadata": {},
   "source": [
    "Typically we should do an extensive EDA(exploratory data analysis) on this data to see distribution of various attribute on **positive** and **negative** class. This can give some more insight into distriubtion of text/words in these two classes and help in further cleanup of text  data.\n",
    "\n",
    "We'll go ahead use the current text field and sentiment label to build naive bayes classifier."
   ]
  },
  {
   "cell_type": "markdown",
   "metadata": {},
   "source": [
    "## Computer only understand scalar or vector or matrices. We need to convert text to vectors(feature).\n"
   ]
  },
  {
   "cell_type": "markdown",
   "metadata": {},
   "source": [
    "# Feature engineering"
   ]
  },
  {
   "cell_type": "markdown",
   "metadata": {},
   "source": [
    "we'll use the [Bag-of-words model](https://en.wikipedia.org/wiki/Bag-of-words_model) approach for creating feature\n",
    "representing our  message.\n",
    "\n",
    "### Bag of words model for document:\n",
    "\n",
    "In BOW  we treat document as collection of word without any order. \n",
    "\n",
    "- **Bernoulli document model:** message is represented by a binary feature vector of *absence or presence of word*.\n",
    "- **Multinomial document model**: message is represented by an *integer feature vector of word frequency*.\n",
    "\n",
    " Later we will see\n",
    "there are better model for sentence or document representation **where words order matters**. There are model which takes into account the word order like [N-gram](https://en.wikipedia.org/wiki/N-gram) etc.\n",
    "Infact, Deep learning has enabled us to learn even better embedding of words using context of words(co-occurrence ).\n",
    "We will try to use them in **deep learning section** [**optional** see [GloVe: Global Vectors for Word Representation](https://nlp.stanford.edu/projects/glove/)]"
   ]
  },
  {
   "cell_type": "markdown",
   "metadata": {},
   "source": [
    "**Let's build Multinomial document model**"
   ]
  },
  {
   "cell_type": "markdown",
   "metadata": {},
   "source": [
    "Converting to vector is bit involved and require a good understanding of NLP(natural language processing).\n",
    "\n",
    "But in general, to convert a message into vector we need to:\n",
    "1. convert a sentence into word token\n",
    "2. Normalize the words(lemmatization, stemming), removing stop words, Capital form(Cow vs cow) handling etc.\n",
    "3. Build a dictionary of words and map the messages into vector of counts using this dictionary.\n",
    "4. Finally train a  Naive Bayes model."
   ]
  },
  {
   "cell_type": "markdown",
   "metadata": {},
   "source": [
    "Again can use a python library [nltk](https://www.nltk.org/) to perform above task as per our need(in tools1 we did similar exercises) but current exercise we'll use another common library, **gensim** to do the basic cleanup.\n"
   ]
  },
  {
   "cell_type": "markdown",
   "metadata": {},
   "source": [
    "**Let's only do [lemmatization](https://en.wikipedia.org/wiki/Lemmatisation)**"
   ]
  },
  {
   "cell_type": "code",
   "execution_count": 15,
   "metadata": {},
   "outputs": [
    {
     "data": {
      "text/html": [
       "<div>\n",
       "<style scoped>\n",
       "    .dataframe tbody tr th:only-of-type {\n",
       "        vertical-align: middle;\n",
       "    }\n",
       "\n",
       "    .dataframe tbody tr th {\n",
       "        vertical-align: top;\n",
       "    }\n",
       "\n",
       "    .dataframe thead th {\n",
       "        text-align: right;\n",
       "    }\n",
       "</style>\n",
       "<table border=\"1\" class=\"dataframe\">\n",
       "  <thead>\n",
       "    <tr style=\"text-align: right;\">\n",
       "      <th></th>\n",
       "      <th>airline_sentiment</th>\n",
       "      <th>text</th>\n",
       "    </tr>\n",
       "  </thead>\n",
       "  <tbody>\n",
       "    <tr>\n",
       "      <th>1</th>\n",
       "      <td>positive</td>\n",
       "      <td>@VirginAmerica plus you've added commercials t...</td>\n",
       "    </tr>\n",
       "    <tr>\n",
       "      <th>3</th>\n",
       "      <td>negative</td>\n",
       "      <td>@VirginAmerica it's really aggressive to blast...</td>\n",
       "    </tr>\n",
       "    <tr>\n",
       "      <th>4</th>\n",
       "      <td>negative</td>\n",
       "      <td>@VirginAmerica and it's a really big bad thing...</td>\n",
       "    </tr>\n",
       "    <tr>\n",
       "      <th>5</th>\n",
       "      <td>negative</td>\n",
       "      <td>@VirginAmerica seriously would pay $30 a fligh...</td>\n",
       "    </tr>\n",
       "    <tr>\n",
       "      <th>6</th>\n",
       "      <td>positive</td>\n",
       "      <td>@VirginAmerica yes, nearly every time I fly VX...</td>\n",
       "    </tr>\n",
       "  </tbody>\n",
       "</table>\n",
       "</div>"
      ],
      "text/plain": [
       "  airline_sentiment                                               text\n",
       "1          positive  @VirginAmerica plus you've added commercials t...\n",
       "3          negative  @VirginAmerica it's really aggressive to blast...\n",
       "4          negative  @VirginAmerica and it's a really big bad thing...\n",
       "5          negative  @VirginAmerica seriously would pay $30 a fligh...\n",
       "6          positive  @VirginAmerica yes, nearly every time I fly VX..."
      ]
     },
     "execution_count": 15,
     "metadata": {},
     "output_type": "execute_result"
    }
   ],
   "source": [
    "airlines_sentiment_df = airlines_sentiment_no_neutral\n",
    "airlines_sentiment_df.head()"
   ]
  },
  {
   "cell_type": "code",
   "execution_count": 16,
   "metadata": {},
   "outputs": [
    {
     "name": "stdout",
     "output_type": "stream",
     "text": [
      "Requirement already satisfied: simplemma in /Users/rjdaskevich/opt/anaconda3/lib/python3.8/site-packages (0.3.0)\n"
     ]
    }
   ],
   "source": [
    "!pip install simplemma"
   ]
  },
  {
   "cell_type": "code",
   "execution_count": 17,
   "metadata": {},
   "outputs": [],
   "source": [
    "import simplemma\n",
    "#from pattern.en import parse\n",
    "#from gensim.utils import lemmatize\n",
    "#gensim.utils.lemmatize"
   ]
  },
  {
   "cell_type": "markdown",
   "metadata": {},
   "source": [
    "Let' see how it works on an example."
   ]
  },
  {
   "cell_type": "code",
   "execution_count": 18,
   "metadata": {},
   "outputs": [
    {
     "name": "stdout",
     "output_type": "stream",
     "text": [
      "['hello', 'machine', 'learn', 'bueno']\n",
      "['hello', 'machine', 'learn', 'bueno']\n",
      "['short', 'shortest', 'shorter']\n",
      "['short', 'short', 'short']\n"
     ]
    }
   ],
   "source": [
    "langdata = simplemma.load_data('en')\n",
    "langdata1 = simplemma.load_data('es')\n",
    "test = ['Hi', 'Machine' , 'learning','bueno']\n",
    "print([simplemma.lemmatize(token, langdata, langdata1) for token in test])\n",
    "print([simplemma.lemmatize(token, langdata, langdata1) for token in test])\n",
    "\n",
    "test = \"short shortest shorter\"\n",
    "print(simplemma.simple_tokenizer(test))\n",
    "\n",
    "#and both\n",
    "\n",
    "print(simplemma.text_lemmatizer(test, langdata))\n"
   ]
  },
  {
   "cell_type": "markdown",
   "metadata": {},
   "source": [
    "As you can see apart from lemmatizing we also get part of speech attached to the word"
   ]
  },
  {
   "cell_type": "markdown",
   "metadata": {},
   "source": [
    "# Q1(.75 points). Finish the following lambda so that we only capture lemmatized words. *apply* will apply  written lambda to each text value.\n",
    "\n",
    "Hint:\n",
    "Your preprocessed_messages(a pandas Series) should look like\n",
    "\n",
    "1    [virginamerica, ve, add, commercial, experienc...\n",
    "\n",
    "3    [virginamerica, really, aggressive, blast, obn..."
   ]
  },
  {
   "cell_type": "code",
   "execution_count": 19,
   "metadata": {
    "scrolled": true
   },
   "outputs": [
    {
     "data": {
      "text/plain": [
       "pandas.core.series.Series"
      ]
     },
     "execution_count": 19,
     "metadata": {},
     "output_type": "execute_result"
    }
   ],
   "source": [
    "# Finish this lambda\n",
    "preprocessed_messages= airlines_sentiment_df.text.apply(lambda text: [word for word in simplemma.text_lemmatizer(text, langdata)])\n",
    "type(preprocessed_messages)"
   ]
  },
  {
   "cell_type": "markdown",
   "metadata": {},
   "source": [
    "Let see how lemmatization looks likes."
   ]
  },
  {
   "cell_type": "code",
   "execution_count": 20,
   "metadata": {},
   "outputs": [
    {
     "data": {
      "text/plain": [
       "1    [@VirginAmerica, plus, you, ', have, add, comm...\n",
       "3    [@VirginAmerica, it, ', s, really, aggressive,...\n",
       "4    [@VirginAmerica, and, it, ', s, a, really, big...\n",
       "5    [@VirginAmerica, seriously, would, pay, $30, a...\n",
       "6    [@VirginAmerica, yes, ,, nearly, every, time, ...\n",
       "Name: text, dtype: object"
      ]
     },
     "execution_count": 20,
     "metadata": {},
     "output_type": "execute_result"
    }
   ],
   "source": [
    "preprocessed_messages.head()"
   ]
  },
  {
   "cell_type": "markdown",
   "metadata": {},
   "source": [
    "As you can see this is very basic clean and further clean can be done like removing more stop words, spell correction etc."
   ]
  },
  {
   "cell_type": "markdown",
   "metadata": {},
   "source": [
    "In the first text, see how **added** to changed to **add**. We can do some more pre processing  with some justifucation but let's go\n",
    "ahead with current manipulation.\n",
    "\n",
    "There are lots of other natural language processing libraries in python for performing above activities like\n",
    "- [Spacy](https://spacy.io/)\n",
    "- [nltk](https://www.nltk.org/)"
   ]
  },
  {
   "cell_type": "markdown",
   "metadata": {},
   "source": [
    "- One of the fundamental concern in machine learning is *Generalization*, **how well our machine is going to work on unseen/future data. Does it generalize well on future data**?\n",
    "- If we wanted to do well on given data, why  would we even bother to build an algorithm. We can just store the data and do a lookup for any message.\n",
    "\n",
    "We will come back to this question later in the course when we talk about **model selection and evaluation**.\n",
    "\n",
    "One simple way to answer to above question is to hide some portion of dataset and use remaining dataset for building the model i.e. learning the parameters of the model. Once we have build the model, we can report some number/measure on hidden dataset to tell how well the model will perform on unseen data."
   ]
  },
  {
   "cell_type": "code",
   "execution_count": 21,
   "metadata": {},
   "outputs": [
    {
     "data": {
      "text/plain": [
       "1    positive\n",
       "3    negative\n",
       "4    negative\n",
       "5    negative\n",
       "6    positive\n",
       "Name: airline_sentiment, dtype: object"
      ]
     },
     "execution_count": 21,
     "metadata": {},
     "output_type": "execute_result"
    }
   ],
   "source": [
    "messages_labels = airlines_sentiment_df.airline_sentiment\n",
    "messages_labels.head()\n"
   ]
  },
  {
   "cell_type": "markdown",
   "metadata": {},
   "source": [
    "# Let's partition our data into training and test set"
   ]
  },
  {
   "cell_type": "code",
   "execution_count": 22,
   "metadata": {},
   "outputs": [
    {
     "name": "stdout",
     "output_type": "stream",
     "text": [
      "Shape of training X (9232,) and train Y (9232,)\n",
      "Shape of test X (2309,) and test Y (2309,)\n"
     ]
    }
   ],
   "source": [
    "from sklearn.model_selection import train_test_split\n",
    "\n",
    "training_messages, test_messages, training_labels, test_labels = train_test_split(preprocessed_messages,\n",
    "                                                                                 messages_labels,\n",
    "                                                                                test_size= .2,\n",
    "                                                                                 stratify= messages_labels)\n",
    "print('Shape of training X {} and train Y {}'.format(training_messages.shape, training_labels.shape))\n",
    "print('Shape of test X {} and test Y {}'.format(test_messages.shape, test_labels.shape))"
   ]
  },
  {
   "cell_type": "markdown",
   "metadata": {},
   "source": [
    "**We'll use training messages only for building the model**\n",
    "\n",
    "- We need to convert each message into count vector. Where a positive/negative message is mapped to vector representing each word frequency in the message\n",
    "    + To do this we need to build a dictionary of words first"
   ]
  },
  {
   "cell_type": "markdown",
   "metadata": {},
   "source": [
    "# Q 2(.25 point) Write code to update the python set. We are using set as it takes care of duplicate words."
   ]
  },
  {
   "cell_type": "code",
   "execution_count": 23,
   "metadata": {},
   "outputs": [
    {
     "name": "stdout",
     "output_type": "stream",
     "text": [
      "<class 'set'>\n"
     ]
    },
    {
     "data": {
      "text/plain": [
       "{'bad',\n",
       " 'tmrw',\n",
       " 'mistreat',\n",
       " 'CAE',\n",
       " 'former',\n",
       " 'nbr',\n",
       " 'dream',\n",
       " 'myself',\n",
       " 'dunno',\n",
       " '8273993',\n",
       " 'Airserv',\n",
       " 'functionally',\n",
       " 'Gonna',\n",
       " '#luvforSW',\n",
       " 'shoulder',\n",
       " 'sliver',\n",
       " 'acknowledge',\n",
       " '6-10pm',\n",
       " 'qqlzk2jkzR',\n",
       " 'hotspot',\n",
       " '7th',\n",
       " 'record-',\n",
       " 'FLL',\n",
       " 'thS10LDY2a',\n",
       " 'Honululu',\n",
       " 'un-delay',\n",
       " '#media',\n",
       " 'coffeemaker',\n",
       " 'evaluate',\n",
       " 'speechless',\n",
       " 'interim',\n",
       " 'bitcoin',\n",
       " '#Chairman',\n",
       " 'turbulence',\n",
       " 'role-model',\n",
       " '#lovejetblue',\n",
       " 'UA6',\n",
       " 'exact',\n",
       " 'sob',\n",
       " 'doesn',\n",
       " 'efficient',\n",
       " 'jx4s2t',\n",
       " 'misinformation',\n",
       " 'K7uBOTMr1r',\n",
       " 'jetgreen',\n",
       " 'soft',\n",
       " '#whereismybag',\n",
       " 'here',\n",
       " 'strong',\n",
       " 'EU',\n",
       " 'EVERYTIME',\n",
       " 'unreLate',\n",
       " '@ti2469',\n",
       " 'associate',\n",
       " 'outdoor',\n",
       " 'whether',\n",
       " 'er',\n",
       " 'Stacy',\n",
       " 'swoop',\n",
       " 'torture',\n",
       " 'km',\n",
       " 'advisory-now',\n",
       " '3231DTW',\n",
       " '443min',\n",
       " '@USChamber',\n",
       " 'Yup',\n",
       " 'assholes',\n",
       " 'nozzle',\n",
       " 'tsaprecheck',\n",
       " '645',\n",
       " 'bar',\n",
       " '#BundleUp',\n",
       " '50',\n",
       " ' 330..',\n",
       " 'asset',\n",
       " 'diff',\n",
       " 'unaccomidating',\n",
       " '@aircanada',\n",
       " 'suitcase',\n",
       " 'gal',\n",
       " 'wanna',\n",
       " 'EXTREMELY',\n",
       " '#2053',\n",
       " 'PU',\n",
       " 'jan',\n",
       " 'pleasant',\n",
       " '#problems',\n",
       " '#redcarpet',\n",
       " '@airlinequality',\n",
       " 'argue',\n",
       " 'dadeland',\n",
       " 'assault',\n",
       " 'wiedersehen',\n",
       " ',\"',\n",
       " 'report',\n",
       " '#1680',\n",
       " ' 815',\n",
       " 'booster',\n",
       " '@czamkoff',\n",
       " 'iad',\n",
       " 'jetway',\n",
       " 'same-day',\n",
       " 'fun',\n",
       " 'Whats',\n",
       " 'most',\n",
       " 'aflame',\n",
       " 'balls-turn',\n",
       " 'oversize',\n",
       " 'addition',\n",
       " 'sickcrew',\n",
       " 'WiFi',\n",
       " 'AA3688',\n",
       " 'barcode',\n",
       " 'toss',\n",
       " 'street',\n",
       " 'AWE1701',\n",
       " 'bot',\n",
       " '@etihad',\n",
       " 'writing',\n",
       " 'QRO',\n",
       " ' 120',\n",
       " 'UA82',\n",
       " '#1stTimeFlyer',\n",
       " '#pleasecomeback',\n",
       " 'frontrunner',\n",
       " 'cushion',\n",
       " ' 4663.',\n",
       " '@dotnetnate',\n",
       " 'hizouse',\n",
       " 'USA',\n",
       " 'CSddCCMvbD',\n",
       " '#CheapFlights',\n",
       " 'initial',\n",
       " '#oaaret',\n",
       " 'GOSH',\n",
       " '#horriblecustomerservice',\n",
       " 'bagtag',\n",
       " 'clOB5qwMXR',\n",
       " 'blacklist',\n",
       " 'window',\n",
       " '@chicagotribune',\n",
       " 'Flightaware',\n",
       " 'Twitter',\n",
       " 'Flightd',\n",
       " '#airport',\n",
       " 'retard',\n",
       " 'aaU9MKA6Zy',\n",
       " 'feedback',\n",
       " 'UNEDUCATED',\n",
       " '#air',\n",
       " 'annoy',\n",
       " 'sometime',\n",
       " 'Lve',\n",
       " 'pittsburgh',\n",
       " '$8.51',\n",
       " '@my',\n",
       " 'companion',\n",
       " 'pl9Sop5IHu',\n",
       " 'whoot',\n",
       " 'desire',\n",
       " 'eye',\n",
       " 'BusinessFirst',\n",
       " 'undrstnd',\n",
       " 'donation',\n",
       " 'money',\n",
       " '#sytycd',\n",
       " 'straighten',\n",
       " 'swa',\n",
       " 'TYSVM',\n",
       " '#badcustomerservice',\n",
       " 'movie',\n",
       " 'chaos',\n",
       " 'origin',\n",
       " ' 3',\n",
       " 'unproductiv',\n",
       " 'customerservice',\n",
       " 'monetary',\n",
       " ' 2463',\n",
       " 'vv8cFyhKVb',\n",
       " '#unitedwithivy',\n",
       " '6.5hr',\n",
       " 'DMs',\n",
       " 'port',\n",
       " 'pullin',\n",
       " '1491...plane',\n",
       " 'booking',\n",
       " '617-653-3040',\n",
       " 'Probably',\n",
       " 'stonewall',\n",
       " 'Janna',\n",
       " '#Ridiculousness',\n",
       " 'delayedl',\n",
       " '#outstanding',\n",
       " '#thismosaicnothappy',\n",
       " '6am',\n",
       " 'o3CjsVSsqF',\n",
       " 'UA252',\n",
       " 'difference',\n",
       " 'pants',\n",
       " 'Boooo',\n",
       " 'homosexual',\n",
       " '#worst',\n",
       " 'MDW',\n",
       " 'dedicate',\n",
       " 'squarely',\n",
       " '#disgutedindenver',\n",
       " 'gold',\n",
       " 'US755-AA2595',\n",
       " 'sadly',\n",
       " 'fresh',\n",
       " '@flySFO',\n",
       " '#strandedinnashville',\n",
       " 'dot',\n",
       " '#worsttraveldayever',\n",
       " 'code',\n",
       " '\",',\n",
       " '#PH6RPS',\n",
       " '#flt803',\n",
       " '$324.',\n",
       " 'XHSUUpHeZe',\n",
       " '@MEGENTRIPODI',\n",
       " '@matthewebel',\n",
       " '2maro',\n",
       " '@marccopely',\n",
       " 'NYT',\n",
       " ' 253',\n",
       " 'stucked',\n",
       " 'burning',\n",
       " 'frustration',\n",
       " 'unsafe',\n",
       " ' 2:',\n",
       " 'shocker',\n",
       " ' 1708',\n",
       " '#883',\n",
       " '#WashingtonDC',\n",
       " 'inappropriate',\n",
       " 'unacceptable',\n",
       " 'garbage',\n",
       " 'Unexpected',\n",
       " 'criminal',\n",
       " 'forget',\n",
       " 'coupon',\n",
       " 'hinder',\n",
       " '2hr30min',\n",
       " '#RIPOFF',\n",
       " 'transactional',\n",
       " 'uTfDhxa8pU',\n",
       " 'h6cE3mWCqj',\n",
       " '#bestdressed',\n",
       " 'oyu',\n",
       " 'CXL',\n",
       " 'truly',\n",
       " 'faceless',\n",
       " 'representative',\n",
       " '\").',\n",
       " 'dignity',\n",
       " 'unsettle',\n",
       " 'UA1150',\n",
       " '#flySW',\n",
       " 'requirement',\n",
       " '$27,000',\n",
       " 'handy',\n",
       " 'dept',\n",
       " 'higgs',\n",
       " 'speed',\n",
       " 'prom',\n",
       " 'Leah',\n",
       " 'thankful',\n",
       " ' 2488',\n",
       " '530',\n",
       " 'badly',\n",
       " 'popuLate',\n",
       " '#shittydeal',\n",
       " 'sayin',\n",
       " 'Thur',\n",
       " 'deny',\n",
       " 'conditioning',\n",
       " 'to',\n",
       " 'AC',\n",
       " 'Tulsa',\n",
       " ' 823',\n",
       " '#TheWorstAirline',\n",
       " '??',\n",
       " 'cave',\n",
       " 'dump',\n",
       " '#badservice',\n",
       " 'Nader',\n",
       " '#MintyFresh',\n",
       " '#FoodAllergy',\n",
       " 'once',\n",
       " '#feelingtheluv',\n",
       " 'imma',\n",
       " 'remorse',\n",
       " 'versace',\n",
       " 'TwETPXUpPN',\n",
       " 'gotcha',\n",
       " 'reserve',\n",
       " '#nohotel',\n",
       " 'rate',\n",
       " 'prob',\n",
       " 'unreliable',\n",
       " 'Friday',\n",
       " '#UnitedFail',\n",
       " 'on-plane',\n",
       " 'phantom',\n",
       " 'December',\n",
       " 'smile',\n",
       " 'prior',\n",
       " 'Detroit',\n",
       " ' 5:00,',\n",
       " 'iPad',\n",
       " 'resell',\n",
       " '#usairwaysfflyer',\n",
       " 'maimi',\n",
       " 'backyard',\n",
       " 'jasKYPLWt5',\n",
       " 'dope',\n",
       " 'c',\n",
       " 'Laissez',\n",
       " 'Deborah',\n",
       " 'grow',\n",
       " '#nonsense',\n",
       " 'drove',\n",
       " 'formal',\n",
       " '#PHL',\n",
       " 'pssngrs',\n",
       " '#impressive',\n",
       " '?????????',\n",
       " ' 58',\n",
       " 'inform',\n",
       " 'angry',\n",
       " 'option',\n",
       " 'Ben',\n",
       " 'OArDjjGrrD',\n",
       " '#letdown',\n",
       " 'fr',\n",
       " '@gmail',\n",
       " '#incompetent',\n",
       " ' 6,000',\n",
       " ' 1802.',\n",
       " 'extend',\n",
       " 'guru',\n",
       " 'Riedel',\n",
       " 'V',\n",
       " 'enforcement',\n",
       " ' 240',\n",
       " '67k4N9eQ6E',\n",
       " ' 580815',\n",
       " 'for',\n",
       " 'Pittsburgh',\n",
       " 'reserv',\n",
       " 'begrudgingly',\n",
       " 'ICU',\n",
       " 'lightyears',\n",
       " 'fall',\n",
       " 'aft',\n",
       " '#2955',\n",
       " '@Heathrowairport',\n",
       " '4JdvK8tCqx',\n",
       " 'oTTy5rYMzD',\n",
       " 'sms',\n",
       " '#ua1523',\n",
       " 'join',\n",
       " 'spirit',\n",
       " 'scramble',\n",
       " '#lost',\n",
       " '1079871763',\n",
       " 'UA1534',\n",
       " 'LaGuardia',\n",
       " 'poker',\n",
       " 'newark',\n",
       " '#americandairlinesSUCKS',\n",
       " 'season',\n",
       " 'detective',\n",
       " 'ewr',\n",
       " 'spotty',\n",
       " 'mash',\n",
       " 'accordingly',\n",
       " '@thehipmunk',\n",
       " 'cash',\n",
       " 'crackers',\n",
       " 'ant',\n",
       " 'iatanbul',\n",
       " 'arrival',\n",
       " ' 6:30.',\n",
       " '05',\n",
       " '41',\n",
       " 'Sept',\n",
       " 'carsl',\n",
       " 'ahem',\n",
       " ' 1170',\n",
       " '#Spotify',\n",
       " '#TripAdvisor',\n",
       " 'Kravitz',\n",
       " 'mor',\n",
       " 'transparent',\n",
       " '#YouKnowYouWantTo',\n",
       " 'sunday',\n",
       " 'ten',\n",
       " 'reps-',\n",
       " ' 1219.',\n",
       " '#fromthefrontseat',\n",
       " 'Burlington',\n",
       " 'bore',\n",
       " 'arrangement',\n",
       " 'chk',\n",
       " '#phl',\n",
       " 'pack',\n",
       " 'unsmiling',\n",
       " 'UQGW6qsFFU',\n",
       " 'route',\n",
       " 'loanr',\n",
       " 'US626',\n",
       " '@SouthwestAir',\n",
       " 'SXM',\n",
       " 'orig',\n",
       " 'difficult',\n",
       " 'AUS',\n",
       " '#mergers',\n",
       " 'FY6f9rZB9k',\n",
       " 'authority',\n",
       " '#FlyQuiet',\n",
       " 'automatic',\n",
       " 'X4rsvAGIjN',\n",
       " '31',\n",
       " 'diamond',\n",
       " '@LeslieWolfson',\n",
       " '@malhoit',\n",
       " 'craving',\n",
       " 'CXrZhcdTVz',\n",
       " 'due',\n",
       " 'wound',\n",
       " 'breast',\n",
       " '#amateur',\n",
       " '#help',\n",
       " '#578',\n",
       " 'c11',\n",
       " '757-300',\n",
       " 'Robyn',\n",
       " 'semester',\n",
       " ' 878',\n",
       " 'disappear',\n",
       " 'ua',\n",
       " 'Ummmm',\n",
       " '@ChrysiChrysic',\n",
       " 'SxVaGbRTlI',\n",
       " '#professional',\n",
       " '!=',\n",
       " '#UnansweredQuestions',\n",
       " 'buisness',\n",
       " 'foolish',\n",
       " 'practice',\n",
       " 'registration',\n",
       " 'below',\n",
       " '66NXZhBbMT',\n",
       " '#Accessibility',\n",
       " '#thanks',\n",
       " ' 10:45',\n",
       " 'Wyoming',\n",
       " '#Delayed',\n",
       " '@flyLAXairport',\n",
       " 'Mary',\n",
       " 'PBI',\n",
       " '$360',\n",
       " 'transcontinental',\n",
       " ' 26',\n",
       " 'callbacks',\n",
       " '@jamaica',\n",
       " 'IFE',\n",
       " 'Tue',\n",
       " '#340',\n",
       " '@CodyCleverly',\n",
       " 'Westagard',\n",
       " '#HelpImStuck',\n",
       " 'dark',\n",
       " 'redesign',\n",
       " 'cardholder',\n",
       " ' 59:57',\n",
       " '#goodluckamericanair',\n",
       " 'ton',\n",
       " '#packingayak',\n",
       " '2Boh2Mh3cb',\n",
       " '#badcustomerexperience',\n",
       " 'nightmare',\n",
       " 'ud',\n",
       " 'stock',\n",
       " 'candy',\n",
       " 'spam',\n",
       " '#passengersarepeople',\n",
       " '@dgruber1700',\n",
       " '#UA3785',\n",
       " '!!!!!!!!!!!',\n",
       " 'T-shirt',\n",
       " 'star',\n",
       " 'indeed',\n",
       " 'fav',\n",
       " 'encounter',\n",
       " ' 1217',\n",
       " '#nomorevirgin',\n",
       " 'truth',\n",
       " 'whyyy',\n",
       " 'locator',\n",
       " '4AM',\n",
       " 'MileagePlus',\n",
       " 'battery',\n",
       " 'equivalent',\n",
       " 'HHOxQPsUbA',\n",
       " '#Miami',\n",
       " 'ua3417',\n",
       " '$514',\n",
       " 'top-down',\n",
       " '@ccicanine',\n",
       " 'saver',\n",
       " 'starve',\n",
       " 'fill',\n",
       " 'appear',\n",
       " '#YoureDoingItWrong',\n",
       " 'func',\n",
       " 'thanke',\n",
       " 'unprofessional',\n",
       " '#breakup',\n",
       " 'bonus',\n",
       " 'conveyer',\n",
       " '8MWItRi9kF',\n",
       " 'deck',\n",
       " 'lucky',\n",
       " 'WMASS',\n",
       " '@delk',\n",
       " ' 6:05',\n",
       " ' 4:15',\n",
       " ' 69',\n",
       " 'crossing',\n",
       " 'infuriate',\n",
       " ' 9:20',\n",
       " 'sneaky',\n",
       " 'light',\n",
       " 'dime',\n",
       " '800-428-4322',\n",
       " '#Mia',\n",
       " 'cant',\n",
       " '@LaurieAMeacham',\n",
       " 'military',\n",
       " 'BKmfeY7QOL',\n",
       " 'right',\n",
       " 'dN1if2cGwE',\n",
       " \"''\",\n",
       " 'Noooo',\n",
       " 'clean',\n",
       " 'hanger',\n",
       " '#Neptune',\n",
       " ' 5137',\n",
       " 'do',\n",
       " 'someone-awesome',\n",
       " '@Forsyth_factor',\n",
       " 'grief',\n",
       " '49pV3KcHNR',\n",
       " '#incubator',\n",
       " 'accept',\n",
       " '#idontwanttocallback',\n",
       " 'jetred',\n",
       " 'beat',\n",
       " '12',\n",
       " 'rudeness',\n",
       " '$77.',\n",
       " '$200.',\n",
       " ' 21.',\n",
       " 'Huntsville',\n",
       " 'Ky',\n",
       " 'ad',\n",
       " '#F8NEQM',\n",
       " '#notcool',\n",
       " 'nthin',\n",
       " ' 1415',\n",
       " 'cld',\n",
       " '#useless',\n",
       " '@suntoshi',\n",
       " '#yucki',\n",
       " 'don',\n",
       " 'measle',\n",
       " 'Christmas',\n",
       " 'grab',\n",
       " '27A',\n",
       " 'capable',\n",
       " 'US',\n",
       " '@dan_roam',\n",
       " 'exception',\n",
       " '140',\n",
       " '07p',\n",
       " '#youareonyourown',\n",
       " '17pm',\n",
       " 'brag',\n",
       " '#iwantmymoneyback',\n",
       " 'alright',\n",
       " 'IAH-HNL',\n",
       " 'America',\n",
       " '#mardigras',\n",
       " 'wht',\n",
       " 'beg',\n",
       " '#Denver',\n",
       " 'afford',\n",
       " '@AlaskaAir',\n",
       " '#wemosaictogether',\n",
       " 'argg',\n",
       " 'sorry',\n",
       " 'refurbish',\n",
       " 'Flightlation-',\n",
       " '#umosaicmecrazy',\n",
       " 'bankrupt',\n",
       " '#guessweflyingdelta',\n",
       " '54pm',\n",
       " 'eta',\n",
       " 'respond',\n",
       " 'MPWNC2',\n",
       " '#stellarservice',\n",
       " 'integrity',\n",
       " 'effort',\n",
       " ' 2:15',\n",
       " 'ORD',\n",
       " 'couple',\n",
       " 'month',\n",
       " 'superior',\n",
       " '@BBB_medium',\n",
       " 'halfway',\n",
       " 'IRRLCD',\n",
       " 'mia',\n",
       " 'Monica',\n",
       " '#outoftouchwithreality',\n",
       " 'teenager',\n",
       " 'sentiment',\n",
       " 'unaccompanied',\n",
       " '#yousuck',\n",
       " 'unreal',\n",
       " 'merge',\n",
       " 'rin',\n",
       " 'Jacqueline',\n",
       " 'scheme',\n",
       " 'vape',\n",
       " '#FlightFail',\n",
       " '3nsUSfSBPv',\n",
       " 'ignore',\n",
       " '@baldordash',\n",
       " '+.',\n",
       " 'newborn',\n",
       " 'friday',\n",
       " 'wrong',\n",
       " '#bagawim',\n",
       " 'insert',\n",
       " 'kitchen',\n",
       " '#shoutout',\n",
       " '@NatProdExpo',\n",
       " 'vulnerable',\n",
       " 'three',\n",
       " 'bark',\n",
       " 'norm',\n",
       " '@3',\n",
       " '#worstever',\n",
       " '#smoothflight',\n",
       " 'under',\n",
       " '@qlyss8',\n",
       " 'amount',\n",
       " 'DIS-service',\n",
       " 'condition',\n",
       " '#69',\n",
       " 'dl',\n",
       " 'considerably',\n",
       " 'cat',\n",
       " 'strtd',\n",
       " 'Canadian',\n",
       " 'piece',\n",
       " 'archaic',\n",
       " '@Tumitravel',\n",
       " 'gt',\n",
       " 'LHR-IAH',\n",
       " 'phone-',\n",
       " 'mHA3xXaeD5',\n",
       " ' 1997',\n",
       " 'x2',\n",
       " 'hap4gboSTU',\n",
       " 'dissapointing',\n",
       " 'upset',\n",
       " 'devalue',\n",
       " ' 300',\n",
       " '#scareair',\n",
       " 'header',\n",
       " '$600',\n",
       " 'retweet',\n",
       " 'maximization',\n",
       " 'breaker',\n",
       " 'explorer',\n",
       " '#ClosePWCS',\n",
       " 'Kim',\n",
       " 'hangup',\n",
       " 'F6',\n",
       " 'following',\n",
       " 'holy',\n",
       " 'uncle',\n",
       " '2plains',\n",
       " 'outage',\n",
       " 'guesstimate',\n",
       " 'drop',\n",
       " 'hardworking',\n",
       " 'punish',\n",
       " 'UA978',\n",
       " 'voucher',\n",
       " 'hundred',\n",
       " 'direct',\n",
       " '6cpYPGFnD6',\n",
       " ':/',\n",
       " 'smth',\n",
       " 'quiche',\n",
       " '5th',\n",
       " 'ashamed',\n",
       " 'own',\n",
       " 'cypRHe5GOK',\n",
       " 'thieve',\n",
       " 'Dehli',\n",
       " '@kdepetro313',\n",
       " 'reasonable',\n",
       " '@jabevan221',\n",
       " 'timely',\n",
       " '#greatjob',\n",
       " 'fab',\n",
       " 'Jax',\n",
       " '#nbc',\n",
       " '#Rams',\n",
       " 'tomorrow',\n",
       " 'music',\n",
       " 'oh',\n",
       " '#667',\n",
       " '#bffs',\n",
       " 'loft',\n",
       " 'iPhone',\n",
       " 'Wouldn',\n",
       " '#showup',\n",
       " 'Secondly',\n",
       " '#nofilterneeded',\n",
       " ' 1808',\n",
       " '25min',\n",
       " '#Late',\n",
       " '.\\'\"',\n",
       " 'ffanixJhwh',\n",
       " 'click',\n",
       " 'bro',\n",
       " '6',\n",
       " '#nola',\n",
       " 'fee',\n",
       " '34',\n",
       " 'definitely',\n",
       " 'grace',\n",
       " ' 22',\n",
       " 'mix',\n",
       " 'S3EsW5AgUm',\n",
       " '11pm',\n",
       " 'tradition',\n",
       " 'Sadly',\n",
       " 'pushy',\n",
       " '#philly',\n",
       " 'ua90',\n",
       " 'UA1207',\n",
       " 'abundance',\n",
       " 'goodbye',\n",
       " 'waiver',\n",
       " 'winner',\n",
       " 'DCA',\n",
       " 'accelerate',\n",
       " 'matter',\n",
       " 'mci',\n",
       " 'btwn',\n",
       " 'officially',\n",
       " 'SXM-CLT',\n",
       " 'charleston',\n",
       " ' 2424',\n",
       " 'E36',\n",
       " ' 0',\n",
       " 'Preciate',\n",
       " '5396',\n",
       " 'inflexible',\n",
       " 'exceptional',\n",
       " '#incompetence',\n",
       " 'jam',\n",
       " 'member',\n",
       " '#irritated',\n",
       " 'Antonio',\n",
       " 'lowercase',\n",
       " '@AirSouthwest',\n",
       " 'late',\n",
       " 'terrific',\n",
       " 'breach',\n",
       " 'Orbitz',\n",
       " 'Spvsr',\n",
       " 'vastly',\n",
       " 'Ricardo',\n",
       " 'veer',\n",
       " '@CNN',\n",
       " 'type',\n",
       " 'confuse',\n",
       " 'resource',\n",
       " 'OC',\n",
       " '@walls29',\n",
       " '2wks',\n",
       " '#life',\n",
       " 'BTTGmyN0A0',\n",
       " '@DAI_president',\n",
       " 'read',\n",
       " 're-upgrade',\n",
       " 'single',\n",
       " 'LGA',\n",
       " '3hrs-',\n",
       " 'eternal',\n",
       " '#oscars',\n",
       " '@YeniettElswood',\n",
       " '@SVLLINDIA',\n",
       " 'mare',\n",
       " 'unman',\n",
       " 'aa',\n",
       " '#USAirSucks',\n",
       " 'Econ',\n",
       " 'industry',\n",
       " 'ever',\n",
       " '$539',\n",
       " '@Dawn_Davis',\n",
       " 'no',\n",
       " '#MoveAboutTheCountry',\n",
       " 'US1799',\n",
       " 'DM',\n",
       " 'Flightlation',\n",
       " 'GD',\n",
       " 'centre',\n",
       " 'onTarmac',\n",
       " 'February-I',\n",
       " 'Kevin',\n",
       " 'BESTY',\n",
       " 'intentionally',\n",
       " 'ORD-LHR',\n",
       " '#Fargo',\n",
       " '6wks',\n",
       " 'FvlxIRh1F1',\n",
       " 'HELLA',\n",
       " 'm2PHoavRxC',\n",
       " 'stay',\n",
       " '@ALSTDI',\n",
       " '#FlyItForward',\n",
       " 'agts',\n",
       " 'thete',\n",
       " 'MGA',\n",
       " 'simplify',\n",
       " '1tix',\n",
       " 'humor',\n",
       " 'diversion',\n",
       " 'replacement',\n",
       " '#musician',\n",
       " 'mysteriously',\n",
       " '#family',\n",
       " ' 8:30',\n",
       " 'input',\n",
       " '$27',\n",
       " 'rollercoaster',\n",
       " 'repeatedly',\n",
       " 'pass',\n",
       " ' 1074',\n",
       " ' 11:00',\n",
       " 'NYC',\n",
       " 'incapable',\n",
       " 'Herman',\n",
       " 'BETSY',\n",
       " '3x',\n",
       " 'view',\n",
       " '@momsgoodeats',\n",
       " 'Thursday',\n",
       " '#cali',\n",
       " 'faulty',\n",
       " 'pa',\n",
       " 'destroy',\n",
       " 'sean',\n",
       " 'guess',\n",
       " ' 419.',\n",
       " 'astound',\n",
       " '@PoteetTJ',\n",
       " 'arise',\n",
       " 'JP',\n",
       " 'automobile',\n",
       " '#favoriteairline',\n",
       " 'unanticipated',\n",
       " 'folder',\n",
       " 'injure',\n",
       " 'awfully',\n",
       " 'KTA',\n",
       " 'gKgKZLAwpR',\n",
       " ' 409',\n",
       " 'en',\n",
       " 'kickin',\n",
       " 'chemistry',\n",
       " 'Haha',\n",
       " 'exhaust',\n",
       " 'rotten',\n",
       " 'prescreen',\n",
       " '.....',\n",
       " '#flight4592',\n",
       " '@ErieAirport',\n",
       " 'ACY',\n",
       " 'SJC-',\n",
       " '$99',\n",
       " '#idonotcare',\n",
       " 'hour--not',\n",
       " 'reader',\n",
       " '#fattuesday',\n",
       " 'hasn',\n",
       " '#keepusguessing',\n",
       " '#IWantCoffee',\n",
       " '24hr',\n",
       " 'ill',\n",
       " 'multi-x',\n",
       " '#2298',\n",
       " 'bus',\n",
       " 'display',\n",
       " '@juliasinton948',\n",
       " '15mins-it',\n",
       " 'kAcY2AwDbW',\n",
       " '@5',\n",
       " 'OW',\n",
       " 'stuff',\n",
       " 'Buf',\n",
       " '#USAirways',\n",
       " '!???',\n",
       " '#unhappycustomer',\n",
       " 'entry',\n",
       " 'aCebo6ELPa',\n",
       " 'MEM',\n",
       " 'let',\n",
       " 'XNA',\n",
       " '15',\n",
       " '#traveler',\n",
       " '@nickcunningham1',\n",
       " '@JimCramer',\n",
       " ' 1625',\n",
       " 'zIK2UoXGnW',\n",
       " 'infographic',\n",
       " '25mn',\n",
       " 'performance',\n",
       " 'jump',\n",
       " 'ca',\n",
       " 'RIC',\n",
       " 'model',\n",
       " 'audience',\n",
       " 'Nashville',\n",
       " 'Rhonda',\n",
       " '#FoodAllergies',\n",
       " 'ZL4bVEXmcJ',\n",
       " '2015',\n",
       " '45min',\n",
       " 't',\n",
       " 'JDHADP',\n",
       " 'galley',\n",
       " 'Durango',\n",
       " 'intention',\n",
       " 'LAX-IAD',\n",
       " 'toll',\n",
       " 'cond',\n",
       " '#Japan',\n",
       " 'tckt',\n",
       " '#ABCLetJetBlueStreamFeed',\n",
       " '1pm10',\n",
       " '#LHRT2',\n",
       " 'hungry',\n",
       " 'tU9JX2jaZN',\n",
       " 'deteriorate',\n",
       " 'chicken',\n",
       " 'overseas',\n",
       " ' 413.',\n",
       " ' 2119',\n",
       " 'hang',\n",
       " 'hate',\n",
       " '@BWI',\n",
       " 'divert',\n",
       " 'stare',\n",
       " 'army',\n",
       " '@airlines',\n",
       " 'AA106',\n",
       " '29',\n",
       " 'solve',\n",
       " '@Pacificbiznews',\n",
       " 'havin',\n",
       " 'US1937',\n",
       " 'cheap',\n",
       " 'USAirway',\n",
       " 'mtg',\n",
       " 'stdby',\n",
       " 'KPHL',\n",
       " 'A-list-ey',\n",
       " '#3HrDelay',\n",
       " 'reduction',\n",
       " 'C29',\n",
       " 'given',\n",
       " 'exceptionally',\n",
       " 'appointment',\n",
       " 'p',\n",
       " 'sKKewqhssG',\n",
       " 'Calgary',\n",
       " 'acoustic',\n",
       " 'transpire',\n",
       " ...}"
      ]
     },
     "execution_count": 23,
     "metadata": {},
     "output_type": "execute_result"
    }
   ],
   "source": [
    "unique_word = set()\n",
    "print(type(unique_word))\n",
    "\n",
    "for message in training_messages:\n",
    "    unique_word.update(message)\n",
    "    \n",
    "unique_word"
   ]
  },
  {
   "cell_type": "markdown",
   "metadata": {},
   "source": [
    "<font size = 6 color=\"red\"> See, how dictionary is build using only training data </font>"
   ]
  },
  {
   "cell_type": "code",
   "execution_count": 24,
   "metadata": {},
   "outputs": [
    {
     "data": {
      "text/plain": [
       "11189"
      ]
     },
     "execution_count": 24,
     "metadata": {},
     "output_type": "execute_result"
    }
   ],
   "source": [
    "# how many words in vocabulary\n",
    "num_unique_words = len(unique_word)\n",
    "num_unique_words"
   ]
  },
  {
   "cell_type": "markdown",
   "metadata": {},
   "source": [
    "We will convert each **num_messages** messages into **num_unique_words** dimensional vector. Each entry in the vector counts number of times a word occurs in the text.  In machine earning we call activity like this **feature engineering**. \n",
    "\n",
    "First we need to assign each word a unique location/index in a **num_unique_words** dimensional vector."
   ]
  },
  {
   "cell_type": "code",
   "execution_count": 25,
   "metadata": {},
   "outputs": [
    {
     "name": "stdout",
     "output_type": "stream",
     "text": [
      "defaultdict(<class 'int'>, {'bad': 0, 'tmrw': 1, 'mistreat': 2, 'CAE': 3, 'former': 4, 'nbr': 5, 'dream': 6, 'myself': 7, 'dunno': 8, '8273993': 9, 'Airserv': 10, 'functionally': 11, 'Gonna': 12, '#luvforSW': 13, 'shoulder': 14, 'sliver': 15, 'acknowledge': 16, '6-10pm': 17, 'qqlzk2jkzR': 18, 'hotspot': 19, '7th': 20, 'record-': 21, 'FLL': 22, 'thS10LDY2a': 23, 'Honululu': 24, 'un-delay': 25, '#media': 26, 'coffeemaker': 27, 'evaluate': 28, 'speechless': 29, 'interim': 30, 'bitcoin': 31, '#Chairman': 32, 'turbulence': 33, 'role-model': 34, '#lovejetblue': 35, 'UA6': 36, 'exact': 37, 'sob': 38, 'doesn': 39, 'efficient': 40, 'jx4s2t': 41, 'misinformation': 42, 'K7uBOTMr1r': 43, 'jetgreen': 44, 'soft': 45, '#whereismybag': 46, 'here': 47, 'strong': 48, 'EU': 49, 'EVERYTIME': 50, 'unreLate': 51, '@ti2469': 52, 'associate': 53, 'outdoor': 54, 'whether': 55, 'er': 56, 'Stacy': 57, 'swoop': 58, 'torture': 59, 'km': 60, 'advisory-now': 61, '3231DTW': 62, '443min': 63, '@USChamber': 64, 'Yup': 65, 'assholes': 66, 'nozzle': 67, 'tsaprecheck': 68, '645': 69, 'bar': 70, '#BundleUp': 71, '50': 72, ' 330..': 73, 'asset': 74, 'diff': 75, 'unaccomidating': 76, '@aircanada': 77, 'suitcase': 78, 'gal': 79, 'wanna': 80, 'EXTREMELY': 81, '#2053': 82, 'PU': 83, 'jan': 84, 'pleasant': 85, '#problems': 86, '#redcarpet': 87, '@airlinequality': 88, 'argue': 89, 'dadeland': 90, 'assault': 91, 'wiedersehen': 92, ',\"': 93, 'report': 94, '#1680': 95, ' 815': 96, 'booster': 97, '@czamkoff': 98, 'iad': 99, 'jetway': 100, 'same-day': 101, 'fun': 102, 'Whats': 103, 'most': 104, 'aflame': 105, 'balls-turn': 106, 'oversize': 107, 'addition': 108, 'sickcrew': 109, 'WiFi': 110, 'AA3688': 111, 'barcode': 112, 'toss': 113, 'street': 114, 'AWE1701': 115, 'bot': 116, '@etihad': 117, 'writing': 118, 'QRO': 119, ' 120': 120, 'UA82': 121, '#1stTimeFlyer': 122, '#pleasecomeback': 123, 'frontrunner': 124, 'cushion': 125, ' 4663.': 126, '@dotnetnate': 127, 'hizouse': 128, 'USA': 129, 'CSddCCMvbD': 130, '#CheapFlights': 131, 'initial': 132, '#oaaret': 133, 'GOSH': 134, '#horriblecustomerservice': 135, 'bagtag': 136, 'clOB5qwMXR': 137, 'blacklist': 138, 'window': 139, '@chicagotribune': 140, 'Flightaware': 141, 'Twitter': 142, 'Flightd': 143, '#airport': 144, 'retard': 145, 'aaU9MKA6Zy': 146, 'feedback': 147, 'UNEDUCATED': 148, '#air': 149, 'annoy': 150, 'sometime': 151, 'Lve': 152, 'pittsburgh': 153, '$8.51': 154, '@my': 155, 'companion': 156, 'pl9Sop5IHu': 157, 'whoot': 158, 'desire': 159, 'eye': 160, 'BusinessFirst': 161, 'undrstnd': 162, 'donation': 163, 'money': 164, '#sytycd': 165, 'straighten': 166, 'swa': 167, 'TYSVM': 168, '#badcustomerservice': 169, 'movie': 170, 'chaos': 171, 'origin': 172, ' 3': 173, 'unproductiv': 174, 'customerservice': 175, 'monetary': 176, ' 2463': 177, 'vv8cFyhKVb': 178, '#unitedwithivy': 179, '6.5hr': 180, 'DMs': 181, 'port': 182, 'pullin': 183, '1491...plane': 184, 'booking': 185, '617-653-3040': 186, 'Probably': 187, 'stonewall': 188, 'Janna': 189, '#Ridiculousness': 190, 'delayedl': 191, '#outstanding': 192, '#thismosaicnothappy': 193, '6am': 194, 'o3CjsVSsqF': 195, 'UA252': 196, 'difference': 197, 'pants': 198, 'Boooo': 199, 'homosexual': 200, '#worst': 201, 'MDW': 202, 'dedicate': 203, 'squarely': 204, '#disgutedindenver': 205, 'gold': 206, 'US755-AA2595': 207, 'sadly': 208, 'fresh': 209, '@flySFO': 210, '#strandedinnashville': 211, 'dot': 212, '#worsttraveldayever': 213, 'code': 214, '\",': 215, '#PH6RPS': 216, '#flt803': 217, '$324.': 218, 'XHSUUpHeZe': 219, '@MEGENTRIPODI': 220, '@matthewebel': 221, '2maro': 222, '@marccopely': 223, 'NYT': 224, ' 253': 225, 'stucked': 226, 'burning': 227, 'frustration': 228, 'unsafe': 229, ' 2:': 230, 'shocker': 231, ' 1708': 232, '#883': 233, '#WashingtonDC': 234, 'inappropriate': 235, 'unacceptable': 236, 'garbage': 237, 'Unexpected': 238, 'criminal': 239, 'forget': 240, 'coupon': 241, 'hinder': 242, '2hr30min': 243, '#RIPOFF': 244, 'transactional': 245, 'uTfDhxa8pU': 246, 'h6cE3mWCqj': 247, '#bestdressed': 248, 'oyu': 249, 'CXL': 250, 'truly': 251, 'faceless': 252, 'representative': 253, '\").': 254, 'dignity': 255, 'unsettle': 256, 'UA1150': 257, '#flySW': 258, 'requirement': 259, '$27,000': 260, 'handy': 261, 'dept': 262, 'higgs': 263, 'speed': 264, 'prom': 265, 'Leah': 266, 'thankful': 267, ' 2488': 268, '530': 269, 'badly': 270, 'popuLate': 271, '#shittydeal': 272, 'sayin': 273, 'Thur': 274, 'deny': 275, 'conditioning': 276, 'to': 277, 'AC': 278, 'Tulsa': 279, ' 823': 280, '#TheWorstAirline': 281, '??': 282, 'cave': 283, 'dump': 284, '#badservice': 285, 'Nader': 286, '#MintyFresh': 287, '#FoodAllergy': 288, 'once': 289, '#feelingtheluv': 290, 'imma': 291, 'remorse': 292, 'versace': 293, 'TwETPXUpPN': 294, 'gotcha': 295, 'reserve': 296, '#nohotel': 297, 'rate': 298, 'prob': 299, 'unreliable': 300, 'Friday': 301, '#UnitedFail': 302, 'on-plane': 303, 'phantom': 304, 'December': 305, 'smile': 306, 'prior': 307, 'Detroit': 308, ' 5:00,': 309, 'iPad': 310, 'resell': 311, '#usairwaysfflyer': 312, 'maimi': 313, 'backyard': 314, 'jasKYPLWt5': 315, 'dope': 316, 'c': 317, 'Laissez': 318, 'Deborah': 319, 'grow': 320, '#nonsense': 321, 'drove': 322, 'formal': 323, '#PHL': 324, 'pssngrs': 325, '#impressive': 326, '?????????': 327, ' 58': 328, 'inform': 329, 'angry': 330, 'option': 331, 'Ben': 332, 'OArDjjGrrD': 333, '#letdown': 334, 'fr': 335, '@gmail': 336, '#incompetent': 337, ' 6,000': 338, ' 1802.': 339, 'extend': 340, 'guru': 341, 'Riedel': 342, 'V': 343, 'enforcement': 344, ' 240': 345, '67k4N9eQ6E': 346, ' 580815': 347, 'for': 348, 'Pittsburgh': 349, 'reserv': 350, 'begrudgingly': 351, 'ICU': 352, 'lightyears': 353, 'fall': 354, 'aft': 355, '#2955': 356, '@Heathrowairport': 357, '4JdvK8tCqx': 358, 'oTTy5rYMzD': 359, 'sms': 360, '#ua1523': 361, 'join': 362, 'spirit': 363, 'scramble': 364, '#lost': 365, '1079871763': 366, 'UA1534': 367, 'LaGuardia': 368, 'poker': 369, 'newark': 370, '#americandairlinesSUCKS': 371, 'season': 372, 'detective': 373, 'ewr': 374, 'spotty': 375, 'mash': 376, 'accordingly': 377, '@thehipmunk': 378, 'cash': 379, 'crackers': 380, 'ant': 381, 'iatanbul': 382, 'arrival': 383, ' 6:30.': 384, '05': 385, '41': 386, 'Sept': 387, 'carsl': 388, 'ahem': 389, ' 1170': 390, '#Spotify': 391, '#TripAdvisor': 392, 'Kravitz': 393, 'mor': 394, 'transparent': 395, '#YouKnowYouWantTo': 396, 'sunday': 397, 'ten': 398, 'reps-': 399, ' 1219.': 400, '#fromthefrontseat': 401, 'Burlington': 402, 'bore': 403, 'arrangement': 404, 'chk': 405, '#phl': 406, 'pack': 407, 'unsmiling': 408, 'UQGW6qsFFU': 409, 'route': 410, 'loanr': 411, 'US626': 412, '@SouthwestAir': 413, 'SXM': 414, 'orig': 415, 'difficult': 416, 'AUS': 417, '#mergers': 418, 'FY6f9rZB9k': 419, 'authority': 420, '#FlyQuiet': 421, 'automatic': 422, 'X4rsvAGIjN': 423, '31': 424, 'diamond': 425, '@LeslieWolfson': 426, '@malhoit': 427, 'craving': 428, 'CXrZhcdTVz': 429, 'due': 430, 'wound': 431, 'breast': 432, '#amateur': 433, '#help': 434, '#578': 435, 'c11': 436, '757-300': 437, 'Robyn': 438, 'semester': 439, ' 878': 440, 'disappear': 441, 'ua': 442, 'Ummmm': 443, '@ChrysiChrysic': 444, 'SxVaGbRTlI': 445, '#professional': 446, '!=': 447, '#UnansweredQuestions': 448, 'buisness': 449, 'foolish': 450, 'practice': 451, 'registration': 452, 'below': 453, '66NXZhBbMT': 454, '#Accessibility': 455, '#thanks': 456, ' 10:45': 457, 'Wyoming': 458, '#Delayed': 459, '@flyLAXairport': 460, 'Mary': 461, 'PBI': 462, '$360': 463, 'transcontinental': 464, ' 26': 465, 'callbacks': 466, '@jamaica': 467, 'IFE': 468, 'Tue': 469, '#340': 470, '@CodyCleverly': 471, 'Westagard': 472, '#HelpImStuck': 473, 'dark': 474, 'redesign': 475, 'cardholder': 476, ' 59:57': 477, '#goodluckamericanair': 478, 'ton': 479, '#packingayak': 480, '2Boh2Mh3cb': 481, '#badcustomerexperience': 482, 'nightmare': 483, 'ud': 484, 'stock': 485, 'candy': 486, 'spam': 487, '#passengersarepeople': 488, '@dgruber1700': 489, '#UA3785': 490, '!!!!!!!!!!!': 491, 'T-shirt': 492, 'star': 493, 'indeed': 494, 'fav': 495, 'encounter': 496, ' 1217': 497, '#nomorevirgin': 498, 'truth': 499, 'whyyy': 500, 'locator': 501, '4AM': 502, 'MileagePlus': 503, 'battery': 504, 'equivalent': 505, 'HHOxQPsUbA': 506, '#Miami': 507, 'ua3417': 508, '$514': 509, 'top-down': 510, '@ccicanine': 511, 'saver': 512, 'starve': 513, 'fill': 514, 'appear': 515, '#YoureDoingItWrong': 516, 'func': 517, 'thanke': 518, 'unprofessional': 519, '#breakup': 520, 'bonus': 521, 'conveyer': 522, '8MWItRi9kF': 523, 'deck': 524, 'lucky': 525, 'WMASS': 526, '@delk': 527, ' 6:05': 528, ' 4:15': 529, ' 69': 530, 'crossing': 531, 'infuriate': 532, ' 9:20': 533, 'sneaky': 534, 'light': 535, 'dime': 536, '800-428-4322': 537, '#Mia': 538, 'cant': 539, '@LaurieAMeacham': 540, 'military': 541, 'BKmfeY7QOL': 542, 'right': 543, 'dN1if2cGwE': 544, \"''\": 545, 'Noooo': 546, 'clean': 547, 'hanger': 548, '#Neptune': 549, ' 5137': 550, 'do': 551, 'someone-awesome': 552, '@Forsyth_factor': 553, 'grief': 554, '49pV3KcHNR': 555, '#incubator': 556, 'accept': 557, '#idontwanttocallback': 558, 'jetred': 559, 'beat': 560, '12': 561, 'rudeness': 562, '$77.': 563, '$200.': 564, ' 21.': 565, 'Huntsville': 566, 'Ky': 567, 'ad': 568, '#F8NEQM': 569, '#notcool': 570, 'nthin': 571, ' 1415': 572, 'cld': 573, '#useless': 574, '@suntoshi': 575, '#yucki': 576, 'don': 577, 'measle': 578, 'Christmas': 579, 'grab': 580, '27A': 581, 'capable': 582, 'US': 583, '@dan_roam': 584, 'exception': 585, '140': 586, '07p': 587, '#youareonyourown': 588, '17pm': 589, 'brag': 590, '#iwantmymoneyback': 591, 'alright': 592, 'IAH-HNL': 593, 'America': 594, '#mardigras': 595, 'wht': 596, 'beg': 597, '#Denver': 598, 'afford': 599, '@AlaskaAir': 600, '#wemosaictogether': 601, 'argg': 602, 'sorry': 603, 'refurbish': 604, 'Flightlation-': 605, '#umosaicmecrazy': 606, 'bankrupt': 607, '#guessweflyingdelta': 608, '54pm': 609, 'eta': 610, 'respond': 611, 'MPWNC2': 612, '#stellarservice': 613, 'integrity': 614, 'effort': 615, ' 2:15': 616, 'ORD': 617, 'couple': 618, 'month': 619, 'superior': 620, '@BBB_medium': 621, 'halfway': 622, 'IRRLCD': 623, 'mia': 624, 'Monica': 625, '#outoftouchwithreality': 626, 'teenager': 627, 'sentiment': 628, 'unaccompanied': 629, '#yousuck': 630, 'unreal': 631, 'merge': 632, 'rin': 633, 'Jacqueline': 634, 'scheme': 635, 'vape': 636, '#FlightFail': 637, '3nsUSfSBPv': 638, 'ignore': 639, '@baldordash': 640, '+.': 641, 'newborn': 642, 'friday': 643, 'wrong': 644, '#bagawim': 645, 'insert': 646, 'kitchen': 647, '#shoutout': 648, '@NatProdExpo': 649, 'vulnerable': 650, 'three': 651, 'bark': 652, 'norm': 653, '@3': 654, '#worstever': 655, '#smoothflight': 656, 'under': 657, '@qlyss8': 658, 'amount': 659, 'DIS-service': 660, 'condition': 661, '#69': 662, 'dl': 663, 'considerably': 664, 'cat': 665, 'strtd': 666, 'Canadian': 667, 'piece': 668, 'archaic': 669, '@Tumitravel': 670, 'gt': 671, 'LHR-IAH': 672, 'phone-': 673, 'mHA3xXaeD5': 674, ' 1997': 675, 'x2': 676, 'hap4gboSTU': 677, 'dissapointing': 678, 'upset': 679, 'devalue': 680, ' 300': 681, '#scareair': 682, 'header': 683, '$600': 684, 'retweet': 685, 'maximization': 686, 'breaker': 687, 'explorer': 688, '#ClosePWCS': 689, 'Kim': 690, 'hangup': 691, 'F6': 692, 'following': 693, 'holy': 694, 'uncle': 695, '2plains': 696, 'outage': 697, 'guesstimate': 698, 'drop': 699, 'hardworking': 700, 'punish': 701, 'UA978': 702, 'voucher': 703, 'hundred': 704, 'direct': 705, '6cpYPGFnD6': 706, ':/': 707, 'smth': 708, 'quiche': 709, '5th': 710, 'ashamed': 711, 'own': 712, 'cypRHe5GOK': 713, 'thieve': 714, 'Dehli': 715, '@kdepetro313': 716, 'reasonable': 717, '@jabevan221': 718, 'timely': 719, '#greatjob': 720, 'fab': 721, 'Jax': 722, '#nbc': 723, '#Rams': 724, 'tomorrow': 725, 'music': 726, 'oh': 727, '#667': 728, '#bffs': 729, 'loft': 730, 'iPhone': 731, 'Wouldn': 732, '#showup': 733, 'Secondly': 734, '#nofilterneeded': 735, ' 1808': 736, '25min': 737, '#Late': 738, '.\\'\"': 739, 'ffanixJhwh': 740, 'click': 741, 'bro': 742, '6': 743, '#nola': 744, 'fee': 745, '34': 746, 'definitely': 747, 'grace': 748, ' 22': 749, 'mix': 750, 'S3EsW5AgUm': 751, '11pm': 752, 'tradition': 753, 'Sadly': 754, 'pushy': 755, '#philly': 756, 'ua90': 757, 'UA1207': 758, 'abundance': 759, 'goodbye': 760, 'waiver': 761, 'winner': 762, 'DCA': 763, 'accelerate': 764, 'matter': 765, 'mci': 766, 'btwn': 767, 'officially': 768, 'SXM-CLT': 769, 'charleston': 770, ' 2424': 771, 'E36': 772, ' 0': 773, 'Preciate': 774, '5396': 775, 'inflexible': 776, 'exceptional': 777, '#incompetence': 778, 'jam': 779, 'member': 780, '#irritated': 781, 'Antonio': 782, 'lowercase': 783, '@AirSouthwest': 784, 'late': 785, 'terrific': 786, 'breach': 787, 'Orbitz': 788, 'Spvsr': 789, 'vastly': 790, 'Ricardo': 791, 'veer': 792, '@CNN': 793, 'type': 794, 'confuse': 795, 'resource': 796, 'OC': 797, '@walls29': 798, '2wks': 799, '#life': 800, 'BTTGmyN0A0': 801, '@DAI_president': 802, 'read': 803, 're-upgrade': 804, 'single': 805, 'LGA': 806, '3hrs-': 807, 'eternal': 808, '#oscars': 809, '@YeniettElswood': 810, '@SVLLINDIA': 811, 'mare': 812, 'unman': 813, 'aa': 814, '#USAirSucks': 815, 'Econ': 816, 'industry': 817, 'ever': 818, '$539': 819, '@Dawn_Davis': 820, 'no': 821, '#MoveAboutTheCountry': 822, 'US1799': 823, 'DM': 824, 'Flightlation': 825, 'GD': 826, 'centre': 827, 'onTarmac': 828, 'February-I': 829, 'Kevin': 830, 'BESTY': 831, 'intentionally': 832, 'ORD-LHR': 833, '#Fargo': 834, '6wks': 835, 'FvlxIRh1F1': 836, 'HELLA': 837, 'm2PHoavRxC': 838, 'stay': 839, '@ALSTDI': 840, '#FlyItForward': 841, 'agts': 842, 'thete': 843, 'MGA': 844, 'simplify': 845, '1tix': 846, 'humor': 847, 'diversion': 848, 'replacement': 849, '#musician': 850, 'mysteriously': 851, '#family': 852, ' 8:30': 853, 'input': 854, '$27': 855, 'rollercoaster': 856, 'repeatedly': 857, 'pass': 858, ' 1074': 859, ' 11:00': 860, 'NYC': 861, 'incapable': 862, 'Herman': 863, 'BETSY': 864, '3x': 865, 'view': 866, '@momsgoodeats': 867, 'Thursday': 868, '#cali': 869, 'faulty': 870, 'pa': 871, 'destroy': 872, 'sean': 873, 'guess': 874, ' 419.': 875, 'astound': 876, '@PoteetTJ': 877, 'arise': 878, 'JP': 879, 'automobile': 880, '#favoriteairline': 881, 'unanticipated': 882, 'folder': 883, 'injure': 884, 'awfully': 885, 'KTA': 886, 'gKgKZLAwpR': 887, ' 409': 888, 'en': 889, 'kickin': 890, 'chemistry': 891, 'Haha': 892, 'exhaust': 893, 'rotten': 894, 'prescreen': 895, '.....': 896, '#flight4592': 897, '@ErieAirport': 898, 'ACY': 899, 'SJC-': 900, '$99': 901, '#idonotcare': 902, 'hour--not': 903, 'reader': 904, '#fattuesday': 905, 'hasn': 906, '#keepusguessing': 907, '#IWantCoffee': 908, '24hr': 909, 'ill': 910, 'multi-x': 911, '#2298': 912, 'bus': 913, 'display': 914, '@juliasinton948': 915, '15mins-it': 916, 'kAcY2AwDbW': 917, '@5': 918, 'OW': 919, 'stuff': 920, 'Buf': 921, '#USAirways': 922, '!???': 923, '#unhappycustomer': 924, 'entry': 925, 'aCebo6ELPa': 926, 'MEM': 927, 'let': 928, 'XNA': 929, '15': 930, '#traveler': 931, '@nickcunningham1': 932, '@JimCramer': 933, ' 1625': 934, 'zIK2UoXGnW': 935, 'infographic': 936, '25mn': 937, 'performance': 938, 'jump': 939, 'ca': 940, 'RIC': 941, 'model': 942, 'audience': 943, 'Nashville': 944, 'Rhonda': 945, '#FoodAllergies': 946, 'ZL4bVEXmcJ': 947, '2015': 948, '45min': 949, 't': 950, 'JDHADP': 951, 'galley': 952, 'Durango': 953, 'intention': 954, 'LAX-IAD': 955, 'toll': 956, 'cond': 957, '#Japan': 958, 'tckt': 959, '#ABCLetJetBlueStreamFeed': 960, '1pm10': 961, '#LHRT2': 962, 'hungry': 963, 'tU9JX2jaZN': 964, 'deteriorate': 965, 'chicken': 966, 'overseas': 967, ' 413.': 968, ' 2119': 969, 'hang': 970, 'hate': 971, '@BWI': 972, 'divert': 973, 'stare': 974, 'army': 975, '@airlines': 976, 'AA106': 977, '29': 978, 'solve': 979, '@Pacificbiznews': 980, 'havin': 981, 'US1937': 982, 'cheap': 983, 'USAirway': 984, 'mtg': 985, 'stdby': 986, 'KPHL': 987, 'A-list-ey': 988, '#3HrDelay': 989, 'reduction': 990, 'C29': 991, 'given': 992, 'exceptionally': 993, 'appointment': 994, 'p': 995, 'sKKewqhssG': 996, 'Calgary': 997, 'acoustic': 998, 'transpire': 999, 'habitrails': 1000, '16h': 1001, '#seriously': 1002, 'vOUUFRN4jS': 1003, '@henrikwagner73': 1004, 'PQMs': 1005, ' 1917': 1006, 'sardine': 1007, '@LeeAnnHealey': 1008, 'ground': 1009, 'royally': 1010, ' 858': 1011, 'Specially': 1012, 'ty': 1013, '@PeterStraubMMA': 1014, 'joe': 1015, 'appropriate': 1016, 'lag': 1017, 'slam': 1018, '#custexp': 1019, ' 4:50': 1020, ' 1101': 1021, 'sweatshirt': 1022, 'deli': 1023, 'uncall': 1024, '@mrerickv': 1025, 'Vermont': 1026, 'enjoyable': 1027, '#rockingthetweets': 1028, '#LuvInTheAir': 1029, '#nytimes': 1030, ':': 1031, 'CDG': 1032, '#WheresTheCustomerServiceAt': 1033, 'trqlpeinzW': 1034, '#dontflythem': 1035, 'c17': 1036, 'amenity': 1037, 'ourselves': 1038, 'save': 1039, 'princess': 1040, 'Pandu': 1041, 'saga': 1042, 'longstanding': 1043, '#TravelProblems': 1044, '#MeetTheFleet': 1045, '27L': 1046, 'audition': 1047, 'TYVM': 1048, 'manage': 1049, 'Joanna': 1050, 'partnership': 1051, '...?': 1052, 'stun': 1053, 'skin': 1054, '9-hour': 1055, 'perfectly': 1056, ' 1707': 1057, 'staffer': 1058, ' 2000': 1059, 'speedy': 1060, 'elevate': 1061, 'recover': 1062, 'diaper': 1063, '#stuck': 1064, 'RIC2DFW': 1065, 'NGG3N0wIaR': 1066, ' 1389': 1067, 'niece': 1068, 'blackish': 1069, 'reign': 1070, 'dungeon': 1071, 'UA1022': 1072, 'wifi': 1073, 'proceed': 1074, 'INFO': 1075, 'admiral': 1076, 'MKE': 1077, 'By3vDioSUA': 1078, 'Sheesh': 1079, 'z5znfwkKWP': 1080, '#LobsterMac': 1081, '@garywerk': 1082, '#canthurtasking': 1083, 'illegal': 1084, ' 3130': 1085, 'also': 1086, '7gB0hgW51t': 1087, 'nonetheless': 1088, 'spot': 1089, 'vocab': 1090, 'consequence': 1091, 'skype': 1092, ' 1.': 1093, 'slc': 1094, '#toolong': 1095, 'NRT': 1096, 'rent': 1097, 'HG7vEqhGHy': 1098, 'Utah': 1099, '#ThankYou': 1100, 'asleep': 1101, '#yourock': 1102, 'party': 1103, 'valentine': 1104, 'growe': 1105, 'Albuquer': 1106, 'degree': 1107, '@HirasmusBidragi': 1108, 'teach': 1109, 'joke': 1110, 'preventable': 1111, 'plane': 1112, 'concourse': 1113, 'AA4285': 1114, 'notch': 1115, 'vital': 1116, 'interview': 1117, 'offline': 1118, 'helpless': 1119, ' 5653': 1120, '#disappointed': 1121, 'Tim': 1122, 'constructive': 1123, 'bitchslap': 1124, 'probls': 1125, 'JetBlue': 1126, '#CheapOairChat': 1127, 'realistic': 1128, 'h2o': 1129, 'elderly': 1130, 'MoBay': 1131, 'buffalo': 1132, 'tool': 1133, ' 1855': 1134, 'pwm': 1135, 'traveler': 1136, 'NAS': 1137, 'Fri': 1138, 'comment': 1139, 'PTO': 1140, 'male': 1141, 'championship': 1142, 'upgrade-': 1143, 'broad': 1144, 'kCqnwIXUCm': 1145, 'Huston': 1146, '@dfpietra': 1147, 'mileage': 1148, 'tN5cXCld6M': 1149, '7min': 1150, '108639': 1151, '36min': 1152, 'daydream': 1153, '#filthyplane': 1154, 'Shotwest': 1155, '#SWfan': 1156, '@of': 1157, 'demo': 1158, 'NOT-': 1159, 'tx': 1160, 'JOrEScfb4x': 1161, '#WorstAirlineInAmerica': 1162, 'G4O6yX7TMJ': 1163, 'somewhere': 1164, 'AAY5avg99b': 1165, 'ATX': 1166, '#759': 1167, 'move': 1168, 'story': 1169, 'weigh': 1170, 'advance': 1171, 'Portland': 1172, 'Uh': 1173, 'Barely': 1174, 'screening': 1175, 'flt2417': 1176, '@MrRenevendez': 1177, 'auction': 1178, ' 1557,': 1179, 'boom': 1180, 'play': 1181, '#HollyMais': 1182, '@BrianReganComic': 1183, 'injury': 1184, 'tFjfMSHa2k': 1185, 'Terri': 1186, '@SuuperG': 1187, 'YO': 1188, 'ots': 1189, 'JS': 1190, '10pm': 1191, 'reativation': 1192, ' 1265': 1193, 'mom': 1194, 'hunky-dory': 1195, 'EWR-MCO': 1196, '9': 1197, '#4781': 1198, 'USDELAY-way': 1199, '#ffstatusdontmatter': 1200, 'eyeglass': 1201, 'already-get': 1202, 'awkward': 1203, 'bed': 1204, 'scroll': 1205, '@12am': 1206, 'elm': 1207, ' 307': 1208, 'ha': 1209, 'thru': 1210, 'Vmsg': 1211, '#jetbluebos': 1212, 'AA3230': 1213, 'tight': 1214, ' 1856': 1215, 'damper': 1216, 'RNO': 1217, 'noon': 1218, '#330': 1219, 'est': 1220, ' 5136': 1221, 'OoEJ4d4JoP': 1222, 'indication': 1223, '#JetBlueSoFly': 1224, 'discover': 1225, '#wewanttoknow': 1226, 'DeLacy': 1227, ' 2258': 1228, 'bcz': 1229, '2pUJvCElNg': 1230, 'grand': 1231, 'disrespectful': 1232, 'across': 1233, 'connect': 1234, 'visible': 1235, ' 7700': 1236, '#1589': 1237, '#TeamUSA': 1238, 'mac': 1239, '@MallowFairy': 1240, '#FUSTURATED': 1241, 'energy': 1242, 'sleepless': 1243, 'Emer': 1244, ' 2133.': 1245, 'moveup': 1246, 'document': 1247, '#trappedhouston': 1248, ' 403': 1249, ' 130,': 1250, 'transport': 1251, 'repair': 1252, ' 03.03.': 1253, ' 728': 1254, 'abandon': 1255, 'donut': 1256, 'div': 1257, 'beginning': 1258, 'confident': 1259, 'layover': 1260, '@GoGo': 1261, ':))': 1262, 'volume': 1263, ' 1580': 1264, 'MCO': 1265, 'continue': 1266, '#Delays': 1267, 'Problemss': 1268, 'kj1iljaebV': 1269, 'gluten': 1270, 'dilemma': 1271, 'Vallarta': 1272, 'OMA': 1273, '#DenverAirport': 1274, 'AA1224': 1275, 'legal': 1276, '#558': 1277, 'section': 1278, '#BOOKS': 1279, 'Zambia': 1280, '@nathankillam': 1281, ' 738': 1282, 'IND43728M': 1283, 'goto': 1284, 'ZHxOk07Aqa': 1285, 'interaction': 1286, 'passenger': 1287, 'Bonnie': 1288, 'belief': 1289, '#Costa': 1290, 'incoming': 1291, 'tjDzaMHPEw': 1292, 'localize': 1293, '@virginmedia': 1294, 'her': 1295, 'sjo-iad': 1296, '#MSNBC': 1297, 'know': 1298, 'file': 1299, 'Oakland': 1300, 'phl': 1301, 'wend': 1302, ' 3:50': 1303, '#flight919': 1304, ' 5.5': 1305, '#4386': 1306, 'fairway': 1307, ' 577': 1308, 'sport': 1309, 'solo': 1310, 'Karen': 1311, 'luggages': 1312, 'bruh': 1313, ')!': 1314, 'exactly': 1315, ' 8:00': 1316, 'goal': 1317, '400,we': 1318, 'describe': 1319, 'enormous': 1320, 'nap': 1321, '@Skiplagged': 1322, '#doyourjob': 1323, '#Vacation': 1324, 'class': 1325, ' 0600': 1326, 'ubetter': 1327, 'sympathetic': 1328, 'horrid': 1329, 'Adv': 1330, 'disregard': 1331, 'ensue': 1332, 'flight-': 1333, 'B16': 1334, 'safe': 1335, 'our': 1336, '#firstworldproblems': 1337, 'per': 1338, '@FastCompany': 1339, ' 830': 1340, '#hopeidonotgetsick': 1341, 'sept': 1342, 'fuselage': 1343, 'although': 1344, 'typo': 1345, 'staff': 1346, 'stiiiil': 1347, 'warning': 1348, 'raft': 1349, ' 1463': 1350, 'AA104': 1351, 'Montrose': 1352, '317': 1353, 'livid': 1354, ' 5957': 1355, '?!?!': 1356, '=': 1357, 'kid': 1358, '#hateful': 1359, '#worstflightexperienceever': 1360, 'Geraldine': 1361, 'Lloyd': 1362, 'emerald': 1363, 'half-thought': 1364, 'submit': 1365, 'mishap': 1366, '!!': 1367, '#missedconnection': 1368, 'lol': 1369, '$800': 1370, 'airway': 1371, '20hrs': 1372, '#GoPatriots': 1373, 'oUmC1LrXDN': 1374, 'narrowly': 1375, 'truck': 1376, 'PB': 1377, '1per': 1378, ' 912.': 1379, 'purpose': 1380, 'grade': 1381, 'th': 1382, 'T78k7aBtWF': 1383, 'Lagos': 1384, 'mold': 1385, '@USAirwaysCenter': 1386, '@USAirways': 1387, '#Mosaic': 1388, 'alliance': 1389, ' 4007': 1390, 'lapse': 1391, '#UA507': 1392, 'sooo': 1393, 'Additionally': 1394, 'mean': 1395, 'FWHEI6': 1396, ' 3:15': 1397, 'Cavalli': 1398, 'send': 1399, '#inexcusable': 1400, '#airplanemodewason': 1401, 'ph': 1402, 'pEUc0BMij9': 1403, '230am': 1404, 'intrusive': 1405, 'quietly': 1406, 'enhance': 1407, '@acnewsguy': 1408, '2IKbP8gxWi': 1409, 'anythin': 1410, '#aviation': 1411, '3880': 1412, ' 1583': 1413, 'Divident': 1414, ' 3710': 1415, 'boycott': 1416, 'UA230': 1417, 'nick': 1418, ' 105': 1419, 'icing': 1420, 'momma': 1421, '#flying': 1422, '#lifeneedsfrosting': 1423, 'pure': 1424, 'recvd': 1425, '#PromoteThatGirl': 1426, 'legroom': 1427, 'glove': 1428, '#irmafromDallas': 1429, 'DCA-STL': 1430, '#sfo2lax': 1431, '#pathetic': 1432, 'coat': 1433, 'ahhhh': 1434, 'spell': 1435, '#customerserviceplease': 1436, '28': 1437, '#YeseniaHernandez': 1438, '#CustomersFirst': 1439, 'unnerve': 1440, 'Kauai': 1441, 'feature': 1442, '@BRizzyberg27': 1443, 'Alan': 1444, '@__RWG__': 1445, 'sleet': 1446, 'charity': 1447, '#goodgenes': 1448, '#717': 1449, '$50.': 1450, '@casleah': 1451, '!!!\"': 1452, '#zfv': 1453, 'y': 1454, 'UA1157': 1455, 'glad': 1456, '#getmeoutofhere': 1457, 'custs': 1458, 'DMing': 1459, 'tmw': 1460, 'calve': 1461, '62GoDFaKNB': 1462, 'EB': 1463, 'ERJ145': 1464, '.\"': 1465, 'converse': 1466, 'ambivalence': 1467, ' 65': 1468, '#UnitedAirlinesSux': 1469, 'cosmetic': 1470, 'Disney': 1471, '#whydidntiflysouthwest': 1472, 'expedient': 1473, '=)': 1474, 'school': 1475, 'Natt': 1476, 'Manch': 1477, 'proud': 1478, 'CDG-LAS': 1479, 'credit': 1480, 'maverick': 1481, 'overFlight': 1482, '#oversold': 1483, 'WHAGPknnLF': 1484, 'buybacks': 1485, 'aggravate': 1486, 'Miler': 1487, ' 21,': 1488, 'craziness': 1489, 'unexplained': 1490, 'hangar': 1491, 'Myers': 1492, '#aa2227': 1493, 'VrQDpqEPFW': 1494, ' 4348': 1495, 'Ha': 1496, 'unavailable': 1497, 'corny': 1498, 'reinstate': 1499, 'in-person': 1500, 'underway': 1501, 'rum': 1502, '$100.': 1503, 'minor': 1504, 'chrome': 1505, '8h': 1506, 'clearly': 1507, 'phi': 1508, 'main': 1509, 'UA3645': 1510, 'rearrange': 1511, 'devaluation': 1512, 'CT': 1513, 'instruction': 1514, 'pairing': 1515, 'vacation': 1516, ' 917': 1517, 'Elise': 1518, 'Exicted': 1519, 'Eyyyy': 1520, ' 4:45': 1521, 'room': 1522, 'record': 1523, 'quick': 1524, 'tacky': 1525, 'pain': 1526, 'EYW': 1527, 'button': 1528, 'defer': 1529, 'WN3946': 1530, 'wasn': 1531, 'slime': 1532, 'welfare': 1533, 'swipe': 1534, 'near': 1535, 'getaway': 1536, 'prioritize': 1537, 'DCA-pit': 1538, '@GreyhoundBus': 1539, ' 1': 1540, 'accompany': 1541, 'transaction': 1542, ' 413': 1543, 'newspaper*': 1544, '#cardholder': 1545, 'gah': 1546, 'maintenance': 1547, 'edinburgh': 1548, 'UA1118': 1549, 'Urgently': 1550, '7a': 1551, 'dear': 1552, 'UA3787': 1553, 'aa223': 1554, '@brendanpshannon': 1555, 'Literally': 1556, 'reaction': 1557, '#blizzard': 1558, 'skillful': 1559, '#nutsaboutsouthwest': 1560, '?!?!?': 1561, '#616': 1562, '?': 1563, 'stone': 1564, 'Clearly': 1565, '@SentieriMelinda': 1566, 'forward': 1567, 'Albuquerque': 1568, 'AA362': 1569, '27aitZl6nd': 1570, 'Donna': 1571, '@Disneyland': 1572, 'Flightncy': 1573, 'unaccpetable': 1574, '1153': 1575, 'scan': 1576, '...!': 1577, 'airline': 1578, 'lOecO4gmvd': 1579, 'medal': 1580, '@aegeanairlines': 1581, 'skip': 1582, 'surreal': 1583, 'MAINTENECE': 1584, '#oldplanes': 1585, 'outsourcing': 1586, '5SdlyN9MSS': 1587, 'likelihood': 1588, 'bng': 1589, '@DeltaPoints': 1590, 'ordeal': 1591, 'availability': 1592, '#DoBetter': 1593, 'rely': 1594, 'postpone': 1595, 'exper': 1596, 'lyoocx5mSH': 1597, 'brutal': 1598, 'warmth': 1599, '#DEN': 1600, 'adventure': 1601, 'slash': 1602, ' 1007': 1603, 'letter': 1604, '@perfectomobile': 1605, 'sombrons': 1606, 'displease': 1607, 'commute': 1608, '@KeamBleam': 1609, 'manufacture': 1610, '@LaGuardiaAir': 1611, 'Scott': 1612, '3A': 1613, 'wing': 1614, '#excellentcustomerservice': 1615, 'yvr': 1616, 'FSD': 1617, '1ZT2kEe8up': 1618, '#sorrynotsorry': 1619, 'Michelle': 1620, 'apply': 1621, 'disgruntle': 1622, '#brandloveaffair': 1623, 'o1u96Xc3bo': 1624, 'DH2rfUIJYP': 1625, '1k': 1626, 'half': 1627, 'honourable': 1628, '#exp': 1629, 'DEN-dal': 1630, 'Dca': 1631, 'Amtrak': 1632, '10-minute': 1633, 'lung': 1634, 'anytime': 1635, 'Cuzco': 1636, ' 45': 1637, 'midway': 1638, 'staticy': 1639, '@C2Next': 1640, '#learncustomerservice': 1641, '@MarinaDomine': 1642, '50minssss': 1643, 'g': 1644, 'flgt': 1645, 'progress': 1646, '#UA49': 1647, 'router': 1648, '#americanair': 1649, 'Puerto': 1650, '#neveragain': 1651, 'inquire': 1652, 'uygeW2Nosr': 1653, '}': 1654, 'disclose': 1655, '23rd': 1656, 'offensively': 1657, 'case': 1658, 'application': 1659, 'tEFHpuWMdJ': 1660, 'fifth': 1661, 'psp': 1662, 'advice': 1663, ' 24': 1664, ' 740': 1665, 'arrive': 1666, 'incredibly': 1667, 'midnite': 1668, 'category': 1669, 'take': 1670, '@gg8929': 1671, '#ScienceBehindTheExperience': 1672, 'overhaul': 1673, '@TeamTreehouse': 1674, 'CST': 1675, 'fraction': 1676, 'complaint': 1677, 'Jax2BNA': 1678, 'big': 1679, 'expedite': 1680, '@Sagerooski': 1681, ' 0510,': 1682, 'prize': 1683, 'tuesday': 1684, 'retrieve': 1685, 'ld': 1686, 'ID': 1687, 'cannot': 1688, 'EQP': 1689, 'boston': 1690, 'fligt': 1691, '#unitedairlines': 1692, 'Jua': 1693, 'Av2rfFHMcV': 1694, 'outdate': 1695, 'wack': 1696, 'misread': 1697, '#MakingLoveOutofNothingAtAll': 1698, 'GFC': 1699, 'same': 1700, ' 150': 1701, 'failure': 1702, 'Wholly': 1703, 'deWIthPeW2': 1704, 'Aa': 1705, '#SAN': 1706, ' 436.': 1707, ' 132': 1708, 'politely': 1709, 'sound': 1710, 'L7lWjaZiOA': 1711, 'explanation': 1712, '#Lasttweetaboutthis': 1713, 'market': 1714, 'controllable': 1715, 'cc': 1716, 'Lou': 1717, 'ft': 1718, '$1600': 1719, 'regarde': 1720, 'uOARyQ98PU': 1721, 'slip': 1722, 'crucial': 1723, 'surliness': 1724, 'genuine': 1725, ' 423': 1726, 'Sylvie': 1727, 'block': 1728, 'LAS': 1729, 'rtn': 1730, '@parryaftab': 1731, '8jceDiKY9U': 1732, 'anticipation': 1733, '1625': 1734, 'ORD-DCA': 1735, 'shortly': 1736, '#luvswa': 1737, 'more': 1738, 'message': 1739, 'petty': 1740, ' 800': 1741, 'their': 1742, 'concierge': 1743, '@AUmilo1': 1744, 'cranky': 1745, 'takr': 1746, '#Yousuck': 1747, 'follower': 1748, 'numb': 1749, 'twin': 1750, 'squawk': 1751, 'channel': 1752, 'crâpe': 1753, '#tired': 1754, 'Argentina': 1755, '#ideserveareward': 1756, 'along': 1757, 'precheck': 1758, '#SouthwestRally': 1759, 'mention': 1760, 'tag': 1761, 'cont': 1762, 'math': 1763, 'untruthful': 1764, ' 11.': 1765, 'DCA-BOS': 1766, ' 10': 1767, '#poorlyhandled': 1768, '@ZKatcher': 1769, ' 7.': 1770, 'TsviBTvT8h': 1771, 'fortunately': 1772, 'Flt1088': 1773, ' 5:55': 1774, 'nxt': 1775, '#nocrew': 1776, 'saturday': 1777, 'betch': 1778, 'design': 1779, 'cun': 1780, 'definitive': 1781, 'BMI': 1782, 'EEReKDf9Fq': 1783, '...“': 1784, 'north': 1785, '#thenewaa': 1786, 'listen': 1787, 'sooooo': 1788, 'bone': 1789, 'frequency': 1790, '@j_beatz247': 1791, 'preferr': 1792, ' 15': 1793, 'fiasco': 1794, 'Salisbury': 1795, 'Kax': 1796, 'address': 1797, 'settle': 1798, 'Unimpressed': 1799, 'thank': 1800, '#needtobehonest': 1801, 'complicate': 1802, 'clue': 1803, 'miracle': 1804, '03': 1805, 'Sg7IQqFVsO': 1806, 'awake': 1807, '#itsthelittlethings': 1808, 'GRR': 1809, 'nothin': 1810, 'Paris': 1811, 'ontime': 1812, 'tour': 1813, 'dishearten': 1814, 'policy-': 1815, 'express': 1816, 'officer': 1817, 'empl': 1818, 'add': 1819, 'ALB': 1820, 'bereavement': 1821, 'pat': 1822, 'bos': 1823, '#usairwaysssuck': 1824, 'me': 1825, '9v8tMUsJvU': 1826, 'prolong': 1827, '++': 1828, ' 1000': 1829, '#pleasehelp': 1830, 'S4': 1831, 'SEATAC': 1832, 'century': 1833, 'NYC-': 1834, 'phoenix': 1835, 'Geraghty': 1836, 'wont': 1837, '#LookforwardtoflywithAA': 1838, 'shaky': 1839, '#upset': 1840, 'Kristie': 1841, 'potable': 1842, 'con': 1843, '#autoresponse': 1844, '#exhorbitantfees': 1845, 'land': 1846, '3zpJr7kWbk': 1847, '@luxclark': 1848, ' 826': 1849, 'virtual': 1850, 'SFO-': 1851, 'incase': 1852, ' 639': 1853, 'unprofessionally': 1854, 'request': 1855, '#be': 1856, '#1thingafteranother': 1857, 'Phx': 1858, 'arrogant': 1859, 'ack': 1860, ' 486': 1861, 'childish': 1862, 'false': 1863, 'fluctuate': 1864, 'counterpart': 1865, 'fl1289': 1866, 'FWKJ49B1LE': 1867, '@ActingOutMgmnt': 1868, 'bundle': 1869, '5hrs': 1870, 'rollaboard': 1871, 'hormone': 1872, 'acceptable': 1873, 'rno': 1874, 'guidance': 1875, '#shitshow': 1876, 'JFK-SFO': 1877, 'approach': 1878, '@LukeWyckoff': 1879, '@JMS2802': 1880, 'allready': 1881, 'MCO-': 1882, '21st': 1883, 'crutch': 1884, 'Jacquelyn': 1885, '#Randomactsofcorporategreed': 1886, '#roasted': 1887, '#pleasegod': 1888, '#DestinationDragons': 1889, '#howhardcanthatreallybe': 1890, 'oscars': 1891, 'tissue': 1892, 'owe': 1893, 'furnish': 1894, 'apple': 1895, ' 1500': 1896, 'LAS-FLL-SJU': 1897, 'question': 1898, ' 2396': 1899, 'appropriately': 1900, '@WikiPearl': 1901, 'kys': 1902, 'conf': 1903, 'warehouse': 1904, 'asse': 1905, '#whereisthelove': 1906, '#OldPoliciesWayBetter': 1907, 'Terribly': 1908, 'correctness': 1909, 'intercom': 1910, 'AUH': 1911, 'nationalize': 1912, 'airtran': 1913, 'extra-speed': 1914, '20minute': 1915, 'recieved': 1916, 'LA397zaoAY': 1917, ' 3.5': 1918, ' 336': 1919, 'Jose': 1920, 'spk': 1921, '#Havana': 1922, 'way-i': 1923, ' 87': 1924, 'lord': 1925, 'Greenville': 1926, 'AU1066': 1927, 'rn': 1928, 'Umm': 1929, '1xzrK66wVQ': 1930, 'WTW': 1931, 'Luz': 1932, '#lizaapproved': 1933, 'nine': 1934, 'world-8': 1935, 'slowly': 1936, 'ethics': 1937, 'kind': 1938, 'RINGLING': 1939, 'MEXICO': 1940, '@WestJet': 1941, 'beating': 1942, 'ticket': 1943, 'what': 1944, 'FlightR': 1945, 'misery': 1946, 'Paso': 1947, 'Lax-EWR': 1948, 'approximate': 1949, '#woase2015': 1950, 'act': 1951, '@abc7newsBayArea': 1952, 'eight': 1953, 'chance': 1954, '@Delta': 1955, 'C14': 1956, ' 4124': 1957, '...': 1958, 'USD': 1959, 'doing': 1960, 'FL': 1961, '2min': 1962, 'Jamie': 1963, 'glass': 1964, '#notimpressed': 1965, 'properly': 1966, 'unprepared': 1967, 'incidental': 1968, ' 1591': 1969, ' 813': 1970, 'if*': 1971, '#Elevate': 1972, 'finally': 1973, ')…': 1974, 'magically': 1975, '#KeepItUp': 1976, 'dent': 1977, '@TheHaileyTate': 1978, 'rat': 1979, 'promo': 1980, '@CineDrones': 1981, 'Denver': 1982, 'pig': 1983, 'UA768': 1984, 'rumor': 1985, 'k0MHZrJF6e': 1986, 'gross': 1987, ' 8:38': 1988, '#elpaso': 1989, ' 10:39.': 1990, '@JohnWayneAir': 1991, '#OhNo': 1992, '#saveus': 1993, 'toddler': 1994, 'non-delay': 1995, ' 1.5': 1996, ' 11:40.': 1997, 'heyo': 1998, '@NASCAR': 1999, 'Vieques': 2000, '#4569': 2001, 'depart': 2002, ' 1514': 2003, 'ramada': 2004, 'hurry': 2005, 'ncB2oNcS9i': 2006, 'affect': 2007, 'inefficiency': 2008, 'fee-you': 2009, 'college': 2010, 'girl': 2011, 'paint': 2012, 'thought': 2013, 'JbDkxd6eFz': 2014, '#work': 2015, ' 68': 2016, '#findurgrip': 2017, '#scumbag': 2018, 'DCA-RSW': 2019, 'concrete': 2020, '#nakedmeetings': 2021, 'Uncool': 2022, 'DVT': 2023, '@RobCNYC': 2024, 'Bzwgp7aDVE': 2025, 'enforce': 2026, 'apeared': 2027, '#airplane': 2028, 'a0YoSJHZMc': 2029, '#PGAShow': 2030, 'redemption': 2031, 'CTL': 2032, 'Manchester-BWI': 2033, '#what': 2034, 'Nicely': 2035, 'nut': 2036, 'loner': 2037, 'cxl': 2038, 'irregularity': 2039, 'Yep': 2040, ' 75': 2041, 'center': 2042, 'drink': 2043, 'floor': 2044, '55...but': 2045, 'premier': 2046, '30mins': 2047, '$700': 2048, 'rivet': 2049, 'UA3774': 2050, 'memphis': 2051, 'CHO': 2052, ' 135.': 2053, 'MDBEEI': 2054, 'of': 2055, '$7': 2056, 'bearable': 2057, 'summer': 2058, 'outbound': 2059, '#SMH': 2060, '#THANKYOU': 2061, ' 2:14': 2062, '#777': 2063, 'A18': 2064, 'YPVPVdlTYs': 2065, 'ord': 2066, 'MOAR': 2067, 'Jetblue': 2068, 'gso': 2069, 'SMFH': 2070, 'ISP': 2071, '@sylvie75015': 2072, 'heaven': 2073, 'hunt': 2074, 'broke': 2075, 'radio': 2076, ' 99': 2077, '@campilley': 2078, ' 5534.': 2079, 'stressful': 2080, 'both': 2081, 'bag': 2082, ' 3336': 2083, 'surfboardbag': 2084, 'sock': 2085, 'Geeeeezzzzz': 2086, 'together': 2087, 'Fouty': 2088, '#customerserviceWIN': 2089, 'callback': 2090, 'serious': 2091, ' 2218': 2092, 'carryons': 2093, ' 136': 2094, 'accomplish': 2095, 'cafe': 2096, 'umpteen': 2097, '#soulandinspiration': 2098, 'Uwon': 2099, 'nwF2FkA8fY': 2100, 'inclemental': 2101, '#thingsyoucantmakeup': 2102, 'recommend': 2103, '#amazing': 2104, 'resend': 2105, 'Colo': 2106, 'organization': 2107, 'bk': 2108, ' 1614': 2109, '@hoagy10': 2110, '#premier1K': 2111, ' 2324': 2112, 'American': 2113, '#sunshine': 2114, 'attndt': 2115, 'serving': 2116, ' 1970.': 2117, 'comfort': 2118, 'iberia': 2119, '#badmgmt': 2120, '9am': 2121, ' 441,': 2122, 'Larry': 2123, '05am': 2124, 'original': 2125, 'create': 2126, 'phI2IfNjIT': 2127, 'spitshine': 2128, ' 734': 2129, 'storm': 2130, 'correct': 2131, '@usairwis': 2132, 'fax': 2133, ' 5639': 2134, '@karabuxthomps': 2135, 'suspect': 2136, '#unprofessional': 2137, '@AshevilleAir': 2138, '@FAANews': 2139, 'inflatable': 2140, 'sure': 2141, 'entirely': 2142, 'need': 2143, 'BARNUM': 2144, 'PxdEL1nq3l': 2145, '\"?': 2146, '#WorstCustomerService': 2147, 'yell': 2148, 'jerk': 2149, 'heck': 2150, 'court': 2151, 'NY-er': 2152, 'AKA': 2153, 'oop': 2154, 'clever': 2155, ' 45.5': 2156, '#3252': 2157, '#DIA': 2158, '#outrage': 2159, '#226': 2160, ' 4435': 2161, ' 2202': 2162, '#jetbluesofly': 2163, 'duh': 2164, 'cross-browser': 2165, 'Etihad': 2166, '#winterops': 2167, '40am': 2168, 'EWR': 2169, 'mother': 2170, 'crawl': 2171, 'fan-': 2172, '#Comps': 2173, 'August': 2174, '#PriceDiscrimination': 2175, 'refer': 2176, '#telleveryone': 2177, 'just': 2178, 'preregistration': 2179, 'gettin': 2180, 'HOU': 2181, '6hrs': 2182, 'go-help': 2183, 'chathes': 2184, ' 442998.': 2185, 'QxWW1p09a0': 2186, '#YXE': 2187, 'Aquadilla': 2188, 'urgently': 2189, 'low': 2190, 'inv': 2191, 'however': 2192, 'versus': 2193, '#669': 2194, 'VX413': 2195, 'by': 2196, 'ReFlight': 2197, '10th': 2198, 'mT8sPlm02v': 2199, 'otherwise': 2200, 'regularly': 2201, '#SaveTheDiagonals': 2202, '#Gold': 2203, 'win': 2204, '#EvenMoreView': 2205, 'reputation': 2206, 'thats': 2207, ' 184': 2208, 'AND': 2209, 'Tamara': 2210, 'undignify': 2211, 'ship': 2212, 'Irene': 2213, '#smitten': 2214, '#donedeal': 2215, 'heavily': 2216, 'satellite': 2217, '#flydelta': 2218, '@eatgregeat': 2219, 'bio': 2220, 'backup': 2221, 'fairly': 2222, 'life': 2223, 'VIP': 2224, 'PIvxean3jY': 2225, 'Gotta': 2226, '@Dulles_airport': 2227, ' 654': 2228, 'qs': 2229, 'Whoa': 2230, 'crazy': 2231, ' 4297': 2232, 'goodness': 2233, '#greatservice': 2234, 'Bangkok': 2235, 'mountain': 2236, 'retract': 2237, 'Bahamas': 2238, 'supply': 2239, ' 52': 2240, '#WheresThePilot': 2241, 'smoking': 2242, 'dandy': 2243, '#losing': 2244, 'Payton': 2245, ' 50.000': 2246, 'assed': 2247, '#success': 2248, ' 3056': 2249, 'coworker': 2250, 'waitlist': 2251, ' 360': 2252, 'deplorable': 2253, '@UsAirwaysSuck': 2254, 'oscar': 2255, 'tooth': 2256, 'graduate': 2257, 'PIR': 2258, 'yea': 2259, 'routine': 2260, 'Ashley': 2261, '20minutes': 2262, '#epicfailure': 2263, 'knowledge': 2264, 'KTM': 2265, 'othr': 2266, 'Mitchell': 2267, 'st': 2268, 'cdZhTyd0aK': 2269, '3QYEzHjGsb': 2270, '@aa': 2271, ' 759': 2272, 'teco': 2273, 'fact': 2274, 'Lastly': 2275, 'VT': 2276, 'rodeo': 2277, 'sellout': 2278, 'write': 2279, ' 400,': 2280, 'sale': 2281, '#LOVESOUTHWESTAIR': 2282, 'escape': 2283, '!!!': 2284, '6hr': 2285, '@FlyYOW': 2286, 'litter': 2287, '@RobBogart': 2288, 'rly': 2289, 'remote': 2290, 'misjudge': 2291, '2bestfriends': 2292, 'vote': 2293, 'EWK': 2294, '#frequentflyer': 2295, 'surgery': 2296, ' 1776': 2297, '#2': 2298, '08': 2299, 'vague': 2300, 'F': 2301, ' 597': 2302, '4me': 2303, '@virginamerica': 2304, '#LivePersonPlease': 2305, '#toyingwithouremotions': 2306, '#40': 2307, '\"{{': 2308, '#dontdothistome': 2309, 'tune': 2310, 'UA3728': 2311, '#priceless': 2312, 'lesson': 2313, 'States': 2314, 'contd': 2315, '$300.': 2316, 'brush': 2317, '150202-000419': 2318, 'pacify': 2319, ' 5080': 2320, 'qP6Aw3nLIP': 2321, 'classy': 2322, '#HourAndTenMinuteDelay': 2323, 'KmaNLdQbh4': 2324, 'enough': 2325, 'fistfight': 2326, ' 1230': 2327, 'always': 2328, 'entertainmnt': 2329, '#getittogether': 2330, 'UA4636': 2331, '@44Stocker': 2332, 'stat': 2333, '#talktoahuman': 2334, 'track': 2335, 'applicable': 2336, '21L': 2337, 'highly': 2338, 'will': 2339, 'jpd7NsGRT7': 2340, 'ltr': 2341, '#wellplayed': 2342, 'price': 2343, '@Dmoukdarath': 2344, '7': 2345, '#neverfails': 2346, 'caf2cx3gfi': 2347, ' 96': 2348, 'hitch': 2349, 'FxNv618B1A': 2350, 'TRUE': 2351, 'Jennings': 2352, 'LAX-mad': 2353, 'rudely': 2354, '@FernHeinig18': 2355, 'Samartzis': 2356, '55pm': 2357, 'uTdfqF5WPA': 2358, '#sunset': 2359, 'caffeine': 2360, 'maintain': 2361, 'paperwork': 2362, 'boat': 2363, '10min': 2364, 'signal': 2365, 'figure': 2366, '#5': 2367, ' 15:30': 2368, '#MCO': 2369, 'ouch': 2370, 'involuntarily': 2371, '#5102newflight': 2372, 'PHX-': 2373, 'foreign': 2374, 'snowstorm': 2375, '#elevategold': 2376, 'dart': 2377, 'temp': 2378, 'Oscars': 2379, 'kill': 2380, 'airbus': 2381, ' 8:50': 2382, 'ID-': 2383, '@therealaviation': 2384, '@longbeachairport': 2385, 'finish': 2386, 'Youve': 2387, 'hearing': 2388, 'nmbHNGnMkI': 2389, 'reply': 2390, 'his': 2391, 'departure': 2392, 'aunt': 2393, 'AAdvantage': 2394, 'AA951': 2395, '#unamericanairlines': 2396, ' 6377': 2397, 'boot': 2398, '#noshadetothedmv': 2399, 'history': 2400, 'me2make': 2401, 'buying': 2402, 'engine': 2403, 'Eh': 2404, 'odd': 2405, '#flt': 2406, 'somebody': 2407, 'passport': 2408, '$25': 2409, 'IT-problem': 2410, 'UAL': 2411, ' 104.': 2412, 'closure': 2413, 'AV-8B': 2414, 'seek': 2415, 'drinker': 2416, 'any': 2417, 'smelly': 2418, 'ESP': 2419, '1K': 2420, 'Jason': 2421, ' 719': 2422, 'mother-in-law': 2423, 'contingency': 2424, 'bday': 2425, '@taylormdowns': 2426, '#onechildfourbags': 2427, '#fuckinlame': 2428, '7pm': 2429, 'pizza': 2430, '#hopethegearmakesitintact': 2431, 'wouldnt': 2432, 'extremely': 2433, '#disspointed': 2434, 'unsecured': 2435, 'DtW': 2436, '755VpYm4Mv': 2437, 'force': 2438, 'US1562': 2439, 'a7NvbJ8ipx': 2440, '@danihampton': 2441, 'god': 2442, 'rest': 2443, 'aircraft': 2444, '#earnedmybusiness': 2445, ' 1689': 2446, '4-50': 2447, 'Iowa': 2448, 'RCD': 2449, 'lease': 2450, 'needlessly': 2451, 'less': 2452, '#UA992': 2453, 'second': 2454, 'rarely': 2455, ' 3574.': 2456, 'mile': 2457, '@Analystdoc': 2458, 'on': 2459, 'DAL-DCA': 2460, 'handling': 2461, 'directly': 2462, ' 23.': 2463, 'wed': 2464, 'fave': 2465, 'inconsiderate': 2466, '#winterstorm': 2467, 'full-fare': 2468, 'CVG': 2469, ' 810': 2470, '#disgruntled': 2471, '#betsy': 2472, '#yourairlinesucks': 2473, 'lodge': 2474, 'impatience': 2475, 'capacity': 2476, 'invitational': 2477, '#668': 2478, '2.19-2': 2479, 'capital': 2480, 'enIQg0buzj': 2481, 'June': 2482, '#notgoodenough': 2483, ' 3359': 2484, '@delta': 2485, 'TSA-pre': 2486, 'senior': 2487, '??!!': 2488, '3hrs': 2489, '@reebok': 2490, 'costing': 2491, ' 1:23.': 2492, 'youve': 2493, 'SNA': 2494, 'codeshare': 2495, 'harsh': 2496, 'register': 2497, 'Gary': 2498, 'outpost': 2499, '@s_myc88': 2500, 'air-mile': 2501, ' 4:08': 2502, 'tmr': 2503, 'thing': 2504, 'plus': 2505, 'Nov': 2506, '8D': 2507, '4days': 2508, 'LGA-': 2509, 'incompetence': 2510, 'ex': 2511, 'polite': 2512, 'step': 2513, '#fend4yourself': 2514, 'reuse': 2515, '#scam': 2516, 'comedy': 2517, 'confidence': 2518, 'screw': 2519, 'plenty': 2520, ' 4649': 2521, 'sink': 2522, ' 9,': 2523, 'ogg': 2524, ' 4595.': 2525, 'west': 2526, 'award': 2527, '@jtrexsocial': 2528, 'Honolulu': 2529, 'B2Xi4YG5T8': 2530, 'SD': 2531, 'rock': 2532, '#PaxEx': 2533, 'tick': 2534, 'ought': 2535, 'coordinate': 2536, 'nGxAl9OmL6': 2537, 'webpage': 2538, 'situation': 2539, 'uphold': 2540, 'electronics': 2541, '#StatusMatchPaidOff': 2542, 'sdf': 2543, 'Doesn': 2544, 'RTW': 2545, '#FRAUD': 2546, 'OtFZ7CygUQ': 2547, '@el_ingeniero': 2548, 'provide': 2549, 'answere': 2550, 'RSW': 2551, 'Perth': 2552, 'Fidencio': 2553, 'crewmember': 2554, '#837': 2555, '#shafted': 2556, 'emotional': 2557, 'UA1543': 2558, 'Europe': 2559, '#spreadtheword': 2560, 'wednesday': 2561, '#disastrous': 2562, '????????': 2563, 'transportation': 2564, ' 3883': 2565, 'TSA': 2566, '#GoingForGreatnessFAIL': 2567, 'breath': 2568, 'LHR': 2569, ' 454.': 2570, 'Irina': 2571, '#489': 2572, ' 1632': 2573, ' 4606': 2574, '#epicfail': 2575, 'fault': 2576, 'mel': 2577, 'loooooong': 2578, 'everyones': 2579, 'prerecord': 2580, '6A': 2581, 'del': 2582, 'infinite': 2583, 'TPA-DFW-lax': 2584, 'Doo': 2585, '#Cuba': 2586, '#shesaidrun': 2587, 'function': 2588, '#slapintheface': 2589, '#fixthis': 2590, '#USAIRsucks': 2591, ' 3.30': 2592, '#fend4urself': 2593, 'office': 2594, 'federal': 2595, 'inexcusable': 2596, 'Winston-Salem': 2597, 'congrats': 2598, 're': 2599, 'france': 2600, 'poor': 2601, 'additional': 2602, 'wireless': 2603, '#innovation': 2604, 'misfortune': 2605, 'downstairs': 2606, 'plead': 2607, 'IAd-sit': 2608, '#terriblecommunication': 2609, '@BBBNE_SD_KS_IA': 2610, 'nOfG0TQHYN': 2611, 'forum': 2612, 'MBJ': 2613, '@Beamske': 2614, '#Overbooked': 2615, 'forfeit': 2616, 'wasnt': 2617, 'unfortunately': 2618, 'IVGpZSjtkW': 2619, 'Logically': 2620, '#delays': 2621, 'march': 2622, 'HSV': 2623, '@cheerUPDATES': 2624, 'FB': 2625, 'assist': 2626, 'suggestion': 2627, 'smash': 2628, '#nomorecheckedbags': 2629, ' 18': 2630, '#Edinburgh': 2631, 'horrendous': 2632, 'alittlebetter': 2633, 'wo': 2634, 'atwyiFh6Zy': 2635, 'UA1565': 2636, 'basics': 2637, 'egKvFoKogj': 2638, 'game': 2639, '\"....': 2640, 'youre': 2641, ' 5187': 2642, '#cheap': 2643, 'okay': 2644, '#5hourwait': 2645, '6x': 2646, 'poop': 2647, 'weight': 2648, 'holiday': 2649, '3yr': 2650, '#BlameShiftOverload': 2651, ' 2016': 2652, 'rack': 2653, 'may': 2654, 'eastern': 2655, ' 776.20': 2656, 'AA45': 2657, 'FW': 2658, 'Katie': 2659, 'Anthony': 2660, 'silly': 2661, 'process': 2662, '#Unacceptable': 2663, ' 5:50': 2664, '@Andrew_Wasila': 2665, 'worthy': 2666, 'wet': 2667, '#dot': 2668, '45': 2669, 'night-deplane': 2670, 'overbook': 2671, 'Killeen': 2672, 'oversell': 2673, 'cost': 2674, '@NATCA': 2675, 'finding': 2676, '10F': 2677, '30AM': 2678, 'economic': 2679, 'french': 2680, '@loganairports': 2681, 'RE': 2682, 'contempt': 2683, 'envoy': 2684, 'champagne': 2685, 'srq': 2686, 'terrifyingly': 2687, 'Murdock': 2688, 'charlotte': 2689, 'boil': 2690, 'US728': 2691, '#livewelltraveled': 2692, 'persist': 2693, '#quote': 2694, '@AllegiantTravel': 2695, 'SCL-': 2696, ' 746.': 2697, 'comedic': 2698, '1h08': 2699, 'puppy': 2700, 'Luckily': 2701, '#SmoothOperation': 2702, 'IND': 2703, 'image': 2704, '60': 2705, '#jetbluejfk': 2706, 'loss': 2707, 'MIA': 2708, ' 7:40': 2709, '@Kristi_Capel': 2710, 'podium': 2711, 'narrow': 2712, 'wU3LbCNcr9': 2713, '22..I': 2714, 'pet': 2715, 'loudspeaker': 2716, 'mech': 2717, 'Club_': 2718, '1world': 2719, 'NbZ45jCd1r': 2720, 'discourage': 2721, 'transit': 2722, 'Sincerely': 2723, 'JI7xkS2jkk': 2724, 'facing': 2725, ' 1117': 2726, ' 3739,': 2727, ' 1568': 2728, 'roc': 2729, 'co': 2730, 'empathize': 2731, 'subsequently': 2732, 'nonsense': 2733, '17th': 2734, '@amybruni': 2735, 'Norma': 2736, 'apathy': 2737, 'UNBELIEVABLY': 2738, 'conn': 2739, 'reticket': 2740, 'reek': 2741, 'Alabama': 2742, 'winter': 2743, 'uncompromising': 2744, 'embarrassment': 2745, 'avoid': 2746, '#pumped': 2747, 'communication': 2748, 'hence': 2749, 'hopeful': 2750, 'touch': 2751, '@CapeAir': 2752, 'ho': 2753, 'inhumane': 2754, 'untrain': 2755, 'dr5oCtp1DY': 2756, 'unaware': 2757, 'Manuel': 2758, '#AA2444': 2759, 'trv': 2760, '#FireVan': 2761, 'mostly': 2762, 'Seatmate': 2763, 'bingo': 2764, 'doctor': 2765, 'beach': 2766, 'Buffalo-Niagara': 2767, 'carry': 2768, 'suree': 2769, 'English': 2770, '#avgeek': 2771, 'plague': 2772, '#damageluggage': 2773, ' 8000': 2774, '#Oscars': 2775, '@leigh_emery': 2776, 'EY': 2777, 'SJO': 2778, 'Flightation': 2779, 'time-have': 2780, 'DeeDee': 2781, 'p3N2w8JfpS': 2782, 'behavior': 2783, 'Nonrefundable': 2784, 'madness': 2785, '#cnn': 2786, 'v24QNp3DOi': 2787, 'colossal': 2788, ' 4:36': 2789, 'pick': 2790, 'scratch': 2791, 'distance': 2792, '#diverted': 2793, '#KeepItMovin': 2794, 'UPC': 2795, '#FrequentFlyers': 2796, 'sour': 2797, 'US4623': 2798, 'useful': 2799, 'outstand': 2800, '@Kaneshow': 2801, '#findanothergate': 2802, '#sucks': 2803, '#oscars2016': 2804, '#winterstorm2015': 2805, '#angryairtravel': 2806, '#yuck': 2807, ' 136.': 2808, 'therefore': 2809, 'charlote': 2810, 'swear': 2811, 'Sc': 2812, 'competitively': 2813, '@ShowExpert': 2814, 'exclusive': 2815, '4.': 2816, 'LLY144': 2817, ' 4199': 2818, ' 9:05': 2819, '@DeniseJTaylor': 2820, 'blizzard': 2821, 'choose': 2822, 'lt': 2823, 'amateur': 2824, 'bring': 2825, ' 1027,': 2826, 'PST': 2827, '#missedWork': 2828, ' 1137': 2829, '#been3hours': 2830, '#igiveup': 2831, 'instantly': 2832, 'regret': 2833, 'Awww': 2834, '#support': 2835, '25m': 2836, 'tic': 2837, '30k': 2838, 'outside': 2839, 'he': 2840, 'HRL': 2841, 'pleasure-': 2842, 'cooler': 2843, 'ua1673': 2844, 'va': 2845, 'FUKING': 2846, 'delayed-thats': 2847, '#AA1457': 2848, 'international': 2849, 'brilliant': 2850, 'remotely': 2851, 'picture': 2852, ' 496.': 2853, 'STL-BOS': 2854, 'jurassic': 2855, '#pretend': 2856, 'T5': 2857, 'lifetime': 2858, 'assuage': 2859, '#missedflight': 2860, 'Pd3nbAAkxH': 2861, 'faint': 2862, 'lexington': 2863, 'deice': 2864, 'ventilation': 2865, 'ohare': 2866, '#OneLove': 2867, ' 464': 2868, 'daycare': 2869, ' 5203': 2870, 'character': 2871, '#whatgives': 2872, 'meds': 2873, 'ASE': 2874, 'UA5396': 2875, '@BrittanyOBX11': 2876, 'cincy': 2877, 'obsess': 2878, 'b737-800w': 2879, 'update': 2880, 'acquisition': 2881, 'combat': 2882, 'dinosaur': 2883, 'dmv': 2884, '#BUF': 2885, 'savings': 2886, 'bash': 2887, 'Easter': 2888, ' 1027': 2889, 'restrm': 2890, 'pD7R1lL6Re': 2891, '#3': 2892, 'nd': 2893, 'StL': 2894, ' 5721': 2895, '@marxsterbcow': 2896, '#RockStar': 2897, 'myers': 2898, 'unfair': 2899, '@NHLonNBCSports': 2900, 'empathetic': 2901, 'flashlight': 2902, ' 3866': 2903, '$1': 2904, 'tarmac': 2905, ' 605.': 2906, 'woulda': 2907, '#whichisworsedenordfw': 2908, '!?!': 2909, '#Theft': 2910, 'NS1aCFqCdQ': 2911, '544': 2912, 'gfc': 2913, '!).': 2914, '3': 2915, '500': 2916, ' 5979': 2917, 'Cory': 2918, '51pm': 2919, '35X': 2920, 'last': 2921, 'guarantee': 2922, 'desktop': 2923, 'each': 2924, 'IAH': 2925, '#ua688': 2926, '#whyjeff': 2927, 'attendant': 2928, 'shirt': 2929, '#jobfail': 2930, 'mAqw2nLNiU': 2931, 'WJIiGZtiwg': 2932, '#intuitlife': 2933, ' 11:20': 2934, '90s': 2935, 'gee': 2936, 'pend': 2937, '#thelodge': 2938, 'southern': 2939, ' 670': 2940, 'visa': 2941, 'anchorage': 2942, ' 89': 2943, 'priceless': 2944, 'one-way': 2945, 'taxi': 2946, '@FedEx': 2947, 'sche': 2948, '#roadwarrior': 2949, '#longday': 2950, 'l8r': 2951, 'Marcos': 2952, '@Skywest': 2953, ' 1229': 2954, '#ChillyCVZ': 2955, 'abuse': 2956, ' 290': 2957, 'complete': 2958, '#flt348': 2959, 'junction': 2960, '#updateyourwebsite': 2961, 'massive': 2962, '@poisonpill76': 2963, 'musician': 2964, ' 1583,': 2965, 'sux': 2966, '#30timesenough': 2967, 'Las': 2968, 'luggage-': 2969, 'VX9vBCTdLf': 2970, 'NYC-JFK': 2971, 'B1': 2972, '@BrandsSayingBae': 2973, 'AIs': 2974, 'GCWVFuopl2': 2975, 'point': 2976, '#AttitudeIssues': 2977, 'diUfep8n2q': 2978, 'marshal': 2979, ' 236': 2980, '1874get': 2981, 'hotl': 2982, '@Clarkey_19': 2983, 'minute': 2984, 'glitch': 2985, '2of2': 2986, ' 1580.': 2987, 'handicap': 2988, '@10AM': 2989, ' 9:56,': 2990, 'esp': 2991, 'sauna': 2992, '#itravelalot': 2993, '#onholdfordays': 2994, '#premier1k': 2995, '#BlackLivesMatter': 2996, 'HDN': 2997, 'empty': 2998, 'PR': 2999, '#475': 3000, 'reflect': 3001, 'mTHM9waObu': 3002, 'Akron': 3003, '@landonschott': 3004, 'backlog': 3005, '#twitterhug': 3006, '#BWI': 3007, 'c7Kzbvf8h8': 3008, 'fan': 3009, 'MPAgent': 3010, 'attendents': 3011, 'UNAmerican': 3012, 'give': 3013, 'dragon': 3014, 'nominate': 3015, '@ContinentalAir1': 3016, '0WbJAWx7xD': 3017, 'dorm': 3018, 'pKy7ZhnNRH': 3019, 'LaRKC8vc4s': 3020, ' 47': 3021, 'goodwill': 3022, 'p7fSLuxEGW': 3023, 'hostage': 3024, 'auto-reFlight': 3025, 'DAjWzhLVyu': 3026, ' 3:': 3027, 'tkt': 3028, '#BFF': 3029, 'pink': 3030, '#1814': 3031, '30pm': 3032, 'proj': 3033, 'like': 3034, '@flypdx': 3035, '10yr': 3036, 'descend': 3037, '!????': 3038, 'yourselves': 3039, '#noloveforsurfers': 3040, 'ain': 3041, 'Gettin': 3042, 'parhetic': 3043, 'DOMINICK': 3044, 'Nothin': 3045, '#WhatCustomerService': 3046, '#VIPLiveintheVieyard': 3047, '#patience': 3048, 'commission': 3049, '#unfriendlyskies': 3050, 'actualy': 3051, '#1786': 3052, '@aacustomerservice': 3053, '#DELAYED': 3054, '6Zj6L2ZTua': 3055, '0.21mbps': 3056, 'upstate': 3057, 'mouse': 3058, 'hover': 3059, '#loweredexpectations': 3060, 'medium': 3061, 'opposite': 3062, '#waitinginphilly': 3063, 'PgwUkrpMOx': 3064, ' 2321': 3065, '$337': 3066, '#676': 3067, 'delayUA53': 3068, 'cache': 3069, 'wudda': 3070, 'Alison': 3071, 'SFO-JFK': 3072, 'animal': 3073, 'Flightr': 3074, 'Munich': 3075, 'Inflight': 3076, 'captive': 3077, 'revenue': 3078, '!!!!!!!!!!': 3079, 'GRK13575M': 3080, '20mins': 3081, '$19..': 3082, 'lO6LghPcdU': 3083, ' 0671': 3084, 'usairways': 3085, 'sTQY9V8256': 3086, '#insane': 3087, 'reach': 3088, 'footage': 3089, ' 729': 3090, 'swift': 3091, 'glitchy': 3092, 'Vicky': 3093, 'Becky': 3094, 'wreck': 3095, '#yyz': 3096, '#waivethefee': 3097, 'TUES': 3098, 'clt': 3099, '@RussellsWriting': 3100, '250': 3101, 'strut': 3102, 'communist': 3103, 'angrybird': 3104, 'Fred': 3105, 'Gate4': 3106, 'prefer': 3107, ' 28': 3108, '#FIOUSAirways': 3109, 'numOfPointsAvailable': 3110, 'sweepstake': 3111, 'PVR': 3112, 'JetBae': 3113, '@velourlive': 3114, 'sensitive': 3115, 'bop': 3116, 'dishonest': 3117, '#AltonBrownLive': 3118, '@TMobile': 3119, 'severally': 3120, 'Moodlighting': 3121, 'frowny': 3122, 'nonstop': 3123, 'wtf': 3124, '#nonupgrade': 3125, 'subpar': 3126, 'Cgroup': 3127, 'seriousness': 3128, 'looong': 3129, ' 14': 3130, '+)': 3131, 'bd': 3132, '@MaxAbrahms': 3133, 'Ase': 3134, 'Four-hour': 3135, '#NoCoatCloset': 3136, 'secure': 3137, 'sun': 3138, '15-4': 3139, 'grt': 3140, 'ahoy': 3141, '#facepalm': 3142, 'ripoff': 3143, 'economy': 3144, 'rise': 3145, '#filmcrew': 3146, 'upon': 3147, 'sigh': 3148, ' 9': 3149, 'q8VSfFRd1u': 3150, 'Bellagio': 3151, 'ALS': 3152, 'MLI-': 3153, 'cap': 3154, '#jetblue': 3155, 'diane': 3156, 'mild': 3157, 'CUST': 3158, '@ladygaga': 3159, '#Grossedout': 3160, 'where': 3161, '#donthavehighhopes': 3162, 'plz': 3163, '70': 3164, '@PeterPiatetsky': 3165, '$70': 3166, 'location': 3167, 'responsibility': 3168, 'Hi6Fl1AX9E': 3169, 'tank': 3170, 'incl': 3171, 'vanish': 3172, 'Melissa': 3173, 'debacle': 3174, 'battle': 3175, 'exhibit': 3176, 'takeoff': 3177, 'KigfKVXxDQ': 3178, 'funny': 3179, 'labyrinth': 3180, 'plane--how': 3181, ' 603': 3182, 'always-': 3183, '#FlyFi': 3184, 'giggle': 3185, '#heartbroken': 3186, 'accommodate': 3187, 'smell': 3188, 'b16': 3189, 'fWZClBvuG4': 3190, 'continuous': 3191, '#pit': 3192, '#BNA': 3193, 'IAH-MNL': 3194, 'Easily': 3195, 'chaotic': 3196, 'trace': 3197, 'tel': 3198, 'cellphone': 3199, '#403': 3200, 'niggaz': 3201, 'bg': 3202, '@mypompanobeach': 3203, 'X': 3204, 'hime': 3205, 'mike': 3206, '#thanksDave': 3207, 'infringement': 3208, 'access': 3209, '#dc': 3210, '@InternJohnRadio': 3211, '#bringbackrealstaff': 3212, 'Bussey': 3213, 'student': 3214, 'biggie': 3215, 'cancun': 3216, '#refund': 3217, ' 2010': 3218, 'phn': 3219, '......': 3220, 'sea': 3221, 'become': 3222, 'cracker-jack': 3223, 'agent': 3224, 'lessen': 3225, '@roxydigital': 3226, ' 1171': 3227, '@JasonWhitely': 3228, 'flight1407': 3229, 'hury': 3230, 'FTL': 3231, ' 4603': 3232, '#SFO': 3233, 'okie': 3234, '????': 3235, 'accuse': 3236, 'escaLate': 3237, 'Levi': 3238, '#daddyshome': 3239, 'sample': 3240, '@CBCNews': 3241, 'Albany': 3242, 'Amarillo': 3243, 'whenever': 3244, 'selection': 3245, ' 4491': 3246, '#TrueBluePoints': 3247, '#clt': 3248, 'DEN-PHX': 3249, 'proof': 3250, '13th': 3251, '#stillnotonmyflight': 3252, 'slew': 3253, 'z1': 3254, ' 4232': 3255, '5lbs': 3256, 'kl9BAiMES6': 3257, '2yo': 3258, 'quote': 3259, 'flavor': 3260, 'dallas': 3261, 'hesitant': 3262, '#cycle': 3263, '99': 3264, 'DJ': 3265, 'rdu': 3266, 'robotic': 3267, 'rico': 3268, 'Jfk': 3269, '21FEB15': 3270, '@CallMeStanley7': 3271, '#FlyDelta': 3272, 'sing': 3273, 'ing': 3274, 'wait': 3275, '3min': 3276, 'BOS-PHL': 3277, 'lawsuit': 3278, ' 8': 3279, 'lax': 3280, '#disgrace': 3281, '@jfk': 3282, 'player': 3283, 'disconnect': 3284, 'way': 3285, '$320': 3286, 'buzzkill': 3287, 'I7Vdi9WqSF': 3288, ' 11:30': 3289, '@AmericanAir': 3290, 'weve': 3291, 'overzealous': 3292, 'ultimately': 3293, 'sauce': 3294, 'r8p2Zy3fe4': 3295, 'lwOtKIEKGU': 3296, '9sKrLyrZ1O': 3297, 'citizen': 3298, '!!!/': 3299, '0HXLNvZknP': 3300, 'awful': 3301, 'currently': 3302, 'compensation': 3303, 'vYUAnh4Iqr': 3304, '#unitedairlinessucks': 3305, 'unsure': 3306, '#patiencerunningout': 3307, ' 1600': 3308, '40mins': 3309, 'come': 3310, 'Tallahassee': 3311, '#stuckintheloop': 3312, 'fund': 3313, '8TJUuM22dD': 3314, ' 1687': 3315, 'kthxbai': 3316, '@ClaudOakeshott': 3317, 'outward': 3318, ' 1943': 3319, 'tea': 3320, '1B': 3321, 'Sotelo': 3322, '#FLT1999': 3323, 'functionality': 3324, 'cover': 3325, 'complain': 3326, 'CHI-BUF': 3327, 'alive': 3328, ' 947': 3329, ' 2516': 3330, 'bound': 3331, '@UPS': 3332, 'Willl': 3333, 'nit': 3334, 'voicemail': 3335, '#s': 3336, 'shady': 3337, 'change': 3338, 'loser': 3339, '4yr': 3340, 'Va': 3341, '#girlsweekend': 3342, '#cameragear': 3343, 'HfoF33iyhi': 3344, 'neurosurgery': 3345, 'whch': 3346, 'Oreos': 3347, 'jewel': 3348, '1hour': 3349, '#BrandLoveAffair': 3350, 'CSR': 3351, 'left': 3352, '3FheS0lPMU': 3353, '@rayja9': 3354, 'FYI': 3355, 'dev': 3356, 'confirmation': 3357, 'oil': 3358, 'ILC0HP': 3359, '#brokenpromises': 3360, 'UA507': 3361, 'marshall': 3362, 'protect': 3363, 'AA304': 3364, 'heart': 3365, '#worstairlineever': 3366, 'transferable': 3367, 'op': 3368, 'fyi': 3369, 'atleast': 3370, 'dislike': 3371, 'DPX3yoGTEj': 3372, 'pt': 3373, 'aware': 3374, '#viracopos': 3375, ' 4478': 3376, 'XGgCNTco8m': 3377, 'failing': 3378, '#PIT': 3379, 'attentiveness': 3380, 'fnd': 3381, 'Florida': 3382, 'paranoid': 3383, '45am': 3384, 'today-': 3385, 'enter': 3386, ' 630.': 3387, 'GxvFumn3iZ': 3388, 'Ritz': 3389, '#UMosaicMeCrazy': 3390, 'Originally': 3391, 'rsrv': 3392, 'regard': 3393, 'SFO--new': 3394, '50lbs': 3395, 'ABQ': 3396, 'fib': 3397, ' 5:30': 3398, ' 4285.': 3399, 'fly-away': 3400, ' 4411': 3401, 'jimmy': 3402, 'service': 3403, '#JetScrew': 3404, 'Richard': 3405, 'transformative': 3406, 'nephew': 3407, 'ua22': 3408, 'sapphire': 3409, 'face': 3410, ' 3494': 3411, 'AZ-': 3412, '@noltnancy': 3413, 'fl1289sfo': 3414, 'president': 3415, 'Liza': 3416, 'Stubbornly': 3417, '#T5': 3418, '#BDSM': 3419, 'compliment': 3420, '#idnumber8569822': 3421, 'doesnt': 3422, 'trading': 3423, 'sandwich': 3424, 'mi': 3425, '#NoExcusesAccepted': 3426, 'B36a': 3427, '1220': 3428, 'peopleOn': 3429, 'above': 3430, 'mccaren': 3431, ' 4420': 3432, 'Bosnia': 3433, 'repurchase': 3434, 'carry-on': 3435, 'life-threaten': 3436, ':)))': 3437, 'shin': 3438, 'concern': 3439, 'robot': 3440, 'unfriendly': 3441, 'KCI': 3442, 'somewhat': 3443, 'txt': 3444, 'affair': 3445, 'WA': 3446, 'check-in': 3447, 'bass': 3448, 'incls': 3449, '#sad': 3450, '#stepitup': 3451, 'Roanoke': 3452, 'barrel': 3453, 'overnight': 3454, ' 494': 3455, '13': 3456, '@TheFAAOnline': 3457, 'frigid': 3458, 'relationship': 3459, 'vacay': 3460, ' 838': 3461, 'string': 3462, 'reprehensible': 3463, '#CRYING': 3464, '11am': 3465, 'regular': 3466, ' 5:39': 3467, 'LE4H2gTzXZ': 3468, 'UA423': 3469, '#filmjobnoequipment': 3470, '#AspenBaggageFail': 3471, 'into': 3472, 'gentleman': 3473, '#chairmanlove': 3474, '@business': 3475, 'unresolved': 3476, 'account': 3477, 'Coles': 3478, 'XPM98Igqjn': 3479, 'tongue-in-cheek': 3480, 'national': 3481, 'cement': 3482, 'impersonal': 3483, 'Usair': 3484, 'reward': 3485, 'outbreak': 3486, '#hopeless': 3487, 'UA922': 3488, 't6fYyBHjhL': 3489, 'through': 3490, 'etiquette': 3491, '@DRVRugby': 3492, 'self-upgrade': 3493, ' 167': 3494, 'xCVQXYkg49': 3495, 'forty': 3496, '41min': 3497, 'excite': 3498, '#natural': 3499, 'UA6465': 3500, '@KCIAirport': 3501, ' 259': 3502, 'have': 3503, '#fleek': 3504, '#notanymore': 3505, 'suck': 3506, 'UA1088': 3507, 'slightly': 3508, 'believe': 3509, 'stage': 3510, 'tech': 3511, ' 2705': 3512, 'anger': 3513, ' 5:30,': 3514, 'UA1589': 3515, 'demonstration': 3516, ' 6:30': 3517, '@nlrphoto': 3518, ':)”': 3519, 'withhold': 3520, '5xvNnmLTiW': 3521, 'investigate': 3522, 'dine': 3523, ' 683,': 3524, 'penalty': 3525, '#1691': 3526, 'convince': 3527, 'hanging': 3528, 'travell': 3529, 'vanity': 3530, 'lawyer': 3531, ' 732': 3532, '@FortuneMagazine': 3533, '#cannedtweet': 3534, 'frustrate': 3535, 'shuffle': 3536, 'pattern': 3537, 'elevateUser': 3538, 'inadequate': 3539, 'crap': 3540, '#schedule': 3541, 'time': 3542, 'felt': 3543, 'Danbury': 3544, 'legally': 3545, 'controller': 3546, 'multimillion': 3547, '@_RobPrice': 3548, 'm1yyWAFkFI': 3549, 'carryon': 3550, 'checker': 3551, 'congest': 3552, 'Ted': 3553, 'set': 3554, ' 3076.': 3555, 'alert': 3556, '#FAA': 3557, 'sis': 3558, 'CSM': 3559, '#ghettofab': 3560, '@harris': 3561, 'Aires': 3562, 'id': 3563, ' 4:30': 3564, '$200': 3565, 'lite': 3566, 'Omaha': 3567, 'maneuver': 3568, '@kanne822': 3569, ' 1914': 3570, 'awfulness': 3571, '@AerocivilCol': 3572, 'handler': 3573, 'memorial': 3574, 'dad': 3575, 'overtime': 3576, 'cldnt': 3577, 'laptop-large': 3578, 'Fll': 3579, '#notcomingback': 3580, 'Gotcha': 3581, ' 80': 3582, 'medical': 3583, 'dep': 3584, 'stagnant': 3585, 'Jackson': 3586, 'Hm': 3587, 'NTUIx5dbYR': 3588, '00pm': 3589, 'Norway': 3590, 'logo': 3591, 'nbd': 3592, 'Simply': 3593, ' 23': 3594, 'budget': 3595, 'orange': 3596, '@challemann': 3597, 'being': 3598, '#SouthWestAirlines': 3599, ' 106': 3600, 'OneWorld': 3601, 'Thx': 3602, 'lolol': 3603, 'down': 3604, 'belligerent': 3605, 'Pw1eudlcZg': 3606, 'flip-side': 3607, 'int': 3608, 'jet': 3609, '#nocompensation': 3610, 'flght': 3611, 'Betty': 3612, 'publicly': 3613, 'Happily': 3614, '#swaculture': 3615, '#A320': 3616, '@latimes': 3617, ' 1613': 3618, '#VX358': 3619, '#WeAppreciateYou': 3620, 'UA1159': 3621, 'acct': 3622, '@Tinman2IronMan': 3623, 'frustrating--it': 3624, 'require': 3625, '#worstcustomerserviceever': 3626, '#IAdore': 3627, 'unanswered': 3628, '8544484': 3629, 'meat': 3630, 'Montana': 3631, 'dig': 3632, 'Dec': 3633, 'construction': 3634, 'Hopkins': 3635, 'accurate': 3636, ' 3:35': 3637, 'me2sit': 3638, 'Thats': 3639, 'Disneyworld': 3640, ' 2.23': 3641, '96fTLZWtvO': 3642, 'deaf': 3643, 'teen': 3644, ' 4:45.': 3645, 'fancy': 3646, 'par': 3647, ' 4251': 3648, '://': 3649, 'Beatriz': 3650, 'mon': 3651, 'Danny': 3652, ' 34': 3653, '@JenniferWalshPR': 3654, '@NY_NJairports': 3655, 'replace': 3656, 'snit': 3657, 'SWA1004': 3658, '#Newarkliberty': 3659, 'avoidable': 3660, 'insist': 3661, 'serv': 3662, 'Conf': 3663, 'curbside': 3664, 'deceive': 3665, 'sign': 3666, '2d': 3667, 'pre-check': 3668, ' 174': 3669, 'corrupt': 3670, 'unapologetic': 3671, '$125': 3672, 'Isn': 3673, 'OH-ing': 3674, '#westpalmbeach': 3675, 'row-': 3676, 'houston': 3677, '#390': 3678, 'Rett': 3679, 'midterm': 3680, 'I*': 3681, 'Nh2i9ZlzMk': 3682, '@WSJ': 3683, ' 150000': 3684, 'pretzel': 3685, 'India': 3686, 'mt': 3687, 'sabre': 3688, '21': 3689, 'encouragement': 3690, 'protection': 3691, 'Finally': 3692, 'paycheck': 3693, 'especially': 3694, '#AnotherDisappointment': 3695, '@Apollochplayers': 3696, '#nobackup': 3697, '7hours': 3698, 'busy': 3699, '#nothanks': 3700, 'protocol': 3701, 'log': 3702, 'negligent': 3703, '#embarrassing': 3704, 'passive': 3705, 'dissatisfaction': 3706, 'Sao': 3707, 'earring': 3708, 'omaha': 3709, 'collide': 3710, 'partner': 3711, 'attend': 3712, '#3322': 3713, 'bait': 3714, 'beverage': 3715, 'e-certificate': 3716, 'plot': 3717, 'bathroom': 3718, 'Ruth': 3719, 'Judas': 3720, '#Houston': 3721, 'irony': 3722, '$550': 3723, 'wentook3': 3724, 'Arizona': 3725, 'operator': 3726, 'Ricky': 3727, 'BuwjTVUWKM': 3728, 'Stevie': 3729, 'still': 3730, 'out': 3731, 'Somthing': 3732, 'realise': 3733, 'sests': 3734, 'sub': 3735, 'found': 3736, 'wine': 3737, 'Otis': 3738, 'Luvin': 3739, 'close': 3740, 'inbox': 3741, '@united--excite': 3742, '#2hrs35minOnHold': 3743, 'LHRDFW': 3744, 'spite': 3745, '737-900s': 3746, 'sitting': 3747, 'tyXAZtMQ1U': 3748, '#UA6259': 3749, 'advise': 3750, 'promote': 3751, 'Woo-hoo': 3752, '#US2218': 3753, ' 2.24.': 3754, 'cruise': 3755, 'WPG': 3756, ' 4275': 3757, '#legit': 3758, 'pathetic': 3759, 'HQHdAD7fvK': 3760, '?”': 3761, '11AM': 3762, '#12': 3763, '#firstclass': 3764, '600mph': 3765, 'transpacific': 3766, '@jeff_hofmann': 3767, 'Howdy': 3768, 'COMPLETELY': 3769, '@LGB': 3770, 'Stewart': 3771, 'recovery': 3772, 'precipitation': 3773, 'criticism': 3774, 'tonne': 3775, 'coffee': 3776, ' 1249': 3777, 'cell': 3778, '#sna2ord': 3779, 'sincerely': 3780, 'vow': 3781, 'reality': 3782, ' 2692': 3783, 'yay': 3784, 'tryng': 3785, '@FlyFrontier': 3786, '@gripeo': 3787, '?!': 3788, ' 6457': 3789, 'full': 3790, 'toe': 3791, 'rKPRxTGvfL': 3792, '#GoldenTickets': 3793, 'telephone': 3794, 'infrastructure': 3795, '$90': 3796, '#Disappointed': 3797, 'gif': 3798, 'maybemange': 3799, 'gangway': 3800, '$900': 3801, 'carousel': 3802, ' 3586': 3803, 'Newark': 3804, ' 1796': 3805, 'DMed': 3806, '@martysg': 3807, '#CNN': 3808, 'D1MQF5': 3809, ' 5202': 3810, '@British_airway': 3811, 'job': 3812, 'circulation': 3813, 'bish': 3814, '#wasteoftime': 3815, 'squeak': 3816, '#13': 3817, ' 10,000': 3818, 'chair': 3819, 'ineligible': 3820, 'badbadbad': 3821, 'aske': 3822, 'react': 3823, 'US5268': 3824, 'calendar': 3825, 'Gainesville': 3826, 'opportunity': 3827, 'age': 3828, ' 2034.': 3829, 'Austin': 3830, 'thankfully': 3831, 'ridicule': 3832, 'Aug': 3833, '@United': 3834, 'zf5wjgtXzT': 3835, 'craft': 3836, 'droppeditoffyet': 3837, 'easily': 3838, '#Done': 3839, 'Tv': 3840, 'untrue': 3841, 'Phl': 3842, 'of40': 3843, 'reconsider': 3844, 'ensure': 3845, '#hangup': 3846, 'you': 3847, 'ear': 3848, '#CX': 3849, '#ALWAYSLate': 3850, '40-50': 3851, '!?': 3852, 'Bergstrom': 3853, '2hr': 3854, '#SWA': 3855, 'be': 3856, 'with': 3857, ' 787': 3858, 'details-no': 3859, 'untd': 3860, 'hugely': 3861, 'POS-MIA': 3862, '#4663': 3863, ' 2022': 3864, 'nexus': 3865, '#bags': 3866, 'us2118': 3867, 'Ugh': 3868, '@PRof_solution': 3869, 'year': 3870, 'present': 3871, 'BGR': 3872, 'headache': 3873, 'refund': 3874, 'circumstance': 3875, 'feC4i3Vwq7': 3876, 'apology': 3877, '#gettingthirsty': 3878, '@amexserve': 3879, 'TV': 3880, ' 837': 3881, '#bestairlineever': 3882, 'isnt': 3883, 'hurricane': 3884, 'entertain': 3885, '(\"': 3886, 'D4': 3887, 'wig': 3888, ' 704': 3889, '77min': 3890, 'overweight': 3891, '#soreback': 3892, ',(': 3893, ' 2168': 3894, 'toward': 3895, '@dogbuckeye': 3896, 'embarrass': 3897, 'C-team': 3898, 'I7Ut2ZvHCO': 3899, ' 683': 3900, ' 3.': 3901, 'SLLYIBE2vQ': 3902, 'woeful': 3903, 'publicity': 3904, 'compliant': 3905, 'generic': 3906, 'Miami': 3907, ' 59': 3908, '@UNO_baseball': 3909, '#time2switch': 3910, '#BadBussiness': 3911, '???????????': 3912, '#americanview': 3913, 'alleviate': 3914, 'enemy': 3915, '5cDX2ROAE6': 3916, 'hmm': 3917, 'displeasure': 3918, 'AAdv': 3919, 'itself': 3920, '@saianel': 3921, 'status': 3922, 'avail': 3923, 'long': 3924, '@AirlineAdviser': 3925, '10a': 3926, '4th': 3927, 'PGH': 3928, 'active': 3929, '40': 3930, '#fun': 3931, 'nDTLJ15ZpU': 3932, '#tech': 3933, 'bcs': 3934, '445pm': 3935, 'costumers': 3936, 'dupe': 3937, '12th': 3938, 'SMH': 3939, '#worstflightever': 3940, '@OBJ_3': 3941, 'numerous': 3942, 'meaningful': 3943, ' 2.': 3944, 'Tryna': 3945, 'tablet': 3946, '8pm': 3947, 'choppy': 3948, '#SouthwestAir': 3949, 'typical': 3950, 'Hey': 3951, 'palm': 3952, 'luv': 3953, 'mint': 3954, 'awesome': 3955, 'auFM4xdaj2': 3956, ' 180': 3957, 'uncomfortable': 3958, 'fourth': 3959, 'POTUS': 3960, '730pm': 3961, '#415': 3962, 'inspire': 3963, ' 4443': 3964, '(!)': 3965, 'demand': 3966, '#JetSetter': 3967, 'elbow': 3968, '#noreimbursement': 3969, 'mail': 3970, 'PGFRYZ': 3971, 'venture': 3972, '@PatrichRuben': 3973, 'spare': 3974, 'aka': 3975, 'lit': 3976, 'billing': 3977, 'sittin': 3978, '#LuvSW': 3979, 'impressed--and': 3980, 'UA5': 3981, '@ALfamilyoffour': 3982, 'inlaw': 3983, 'PQD': 3984, 'SHV': 3985, 'ATfRKp6goY': 3986, 'LMAO': 3987, 'run': 3988, 'tactic': 3989, ' 127': 3990, '@TRUU_tall': 3991, 'example': 3992, '80th': 3993, '#tiredcustomer': 3994, '#goDelta': 3995, 'miserably': 3996, '#keepingtraditionsalive': 3997, ' 338': 3998, ' 747': 3999, 'deserve': 4000, 'difficulties-what': 4001, 'furious': 4002, 'Greg': 4003, ' 16,000': 4004, '#JamesAsworth': 4005, 'mere': 4006, '9SHhTvIOTI': 4007, '#breakdown': 4008, 'stupidly': 4009, '581': 4010, 'supvsr': 4011, 'pre': 4012, '#TelAviv': 4013, '27': 4014, \":'(\": 4015, ' 4994': 4016, 'professor': 4017, 'ease': 4018, '24hours': 4019, 'Amsterdam': 4020, 'Staduim': 4021, '#mad': 4022, ' 1800': 4023, 'wind': 4024, 'appease': 4025, '#Boston': 4026, '$750': 4027, ' 1.50': 4028, ' 763': 4029, 'nite': 4030, 'throughout': 4031, 'Kelsey': 4032, 'comedian': 4033, '@Active_Aly': 4034, 'Alaska': 4035, 'Dan': 4036, 'tip': 4037, '43rd': 4038, 'Flintstone': 4039, '#csfail': 4040, 'N3LrFo4UaY': 4041, '??????': 4042, '#sunrise': 4043, 'Finnair': 4044, 'porn': 4045, '#ServiceFail': 4046, 'already': 4047, ' 2078': 4048, 'damn': 4049, 'rim': 4050, 'before': 4051, 'Houston-Bogota': 4052, '@AndrewBiga': 4053, ' 162,': 4054, '10-hour': 4055, 'Re-book': 4056, 'event': 4057, 'tray': 4058, 'endlessly': 4059, '#angry': 4060, 'Currently': 4061, 'coma': 4062, '@JayVig': 4063, 'ongoing': 4064, ' 296': 4065, ' 518,758': 4066, 'barrier': 4067, 'rap': 4068, 'FAs': 4069, '@UsAirways': 4070, 'classic': 4071, '#ua3728': 4072, 'leinenkugels': 4073, '))': 4074, 'b6': 4075, '#loveisintheair': 4076, '#unacceptable': 4077, ' 1557': 4078, 'kindly': 4079, 'CHA': 4080, 'guitar': 4081, 'burger': 4082, 'rxmjWoo7Qi': 4083, 'RJ-145s': 4084, 'white': 4085, 'triple': 4086, 'sched': 4087, 'rebook': 4088, ' 6:23': 4089, 'famous': 4090, ').': 4091, 'sUPrLfOi8T': 4092, '60th': 4093, 'FjkvQMbmaS': 4094, 'patient': 4095, '#flythefriendlyskies': 4096, 'Travis': 4097, 'TYR': 4098, 'forNpF69Ky': 4099, '@usairways': 4100, ' 894,': 4101, 'couldnt': 4102, '#OptOut': 4103, 'Saturday': 4104, 'normally': 4105, 'asap': 4106, 'abound': 4107, 'Bogota': 4108, ' 1242,': 4109, 'Sooooo': 4110, 'rethink': 4111, 'bool': 4112, ' 4': 4113, 'Auckland': 4114, ' 4487': 4115, '7z3GqEBfK2': 4116, 'anything*': 4117, '@tcunningham10': 4118, '3fq3XElbOn': 4119, ';)”': 4120, ' 1142,': 4121, 'dpt': 4122, ' 3:55.': 4123, '#hiremorepeople': 4124, '10mins': 4125, 'tarmack': 4126, 'Nigeria': 4127, 'discourteous': 4128, '@BostonLogan': 4129, 'Boise': 4130, '@jparkermastin': 4131, 'McMullen': 4132, 'blame': 4133, 'bT37KyrByJ': 4134, '#AlsoNoDrinkCartComingAround': 4135, 'train': 4136, 'birder': 4137, '#options': 4138, 'UA415': 4139, 'lifesaver': 4140, '#TeamNKH': 4141, 'Carta': 4142, 'DkZl57uPQI': 4143, '8C': 4144, ' 56': 4145, 'treat': 4146, 'retrain': 4147, 'proving': 4148, '$500': 4149, '@louprice13': 4150, '1-4am': 4151, 'grandma': 4152, 'bravo': 4153, '@orlandosentinel': 4154, 'shop': 4155, 'rather': 4156, 'United': 4157, '#TrueBlue': 4158, 'Teco': 4159, 'BOS-DCA': 4160, ' 39': 4161, 'prompt': 4162, 'organizational': 4163, '#MKT': 4164, 'means': 4165, 'CSTSVC': 4166, 'slogan': 4167, 'further': 4168, 'wether': 4169, 'loyal': 4170, 'feed': 4171, 'deceptive': 4172, 'suggestion-': 4173, 'hire': 4174, '#likingyoulessandless': 4175, ' 2595': 4176, 'yesterday': 4177, '#BadService': 4178, ' 03': 4179, 'runaround': 4180, 'helpful': 4181, 'shanghai': 4182, ' 1651': 4183, '@portlandjetport': 4184, '#unreliable': 4185, 'guy': 4186, 'experience': 4187, 'loyalty': 4188, 'position': 4189, 'token': 4190, 'sunrise': 4191, '#offensive': 4192, 'delete': 4193, 'Carolina': 4194, 'itover': 4195, 'legitimately': 4196, 'panic': 4197, ' 210': 4198, '#smugsmirk': 4199, '#WeRVirgin': 4200, 'Especially': 4201, '@_emmaclifford': 4202, 'thaw': 4203, 'iah': 4204, '#2214': 4205, '#stillnobags': 4206, 'laptop': 4207, 'Unprofessional': 4208, 'Finq5Fh6ue': 4209, 'haul': 4210, '@TiffanyAndCo': 4211, 'worker': 4212, 'mine': 4213, 'Ridiculously': 4214, '#nexttimeiwillflysouthwest': 4215, ' 16,': 4216, '@Ernie_vigil': 4217, ' 883': 4218, '9c': 4219, '#EvenMoreSpace': 4220, '#PTFO': 4221, ' 5547': 4222, 'segment': 4223, 'lineup': 4224, 'AUS-cun': 4225, '#boise': 4226, 'enuf': 4227, 'sw': 4228, 'thousandth': 4229, 'awww': 4230, 'Diego': 4231, 'a-ok': 4232, 'AA3390': 4233, 'claim': 4234, ' 2046': 4235, 'initiate': 4236, 'MDE': 4237, '3.5hrs': 4238, 'birthday': 4239, 'bill': 4240, 'numerical': 4241, '#Pura': 4242, ' 35': 4243, 'whatever': 4244, 'FFL': 4245, 'Tnx': 4246, 'embassy': 4247, 'AA3186': 4248, ' 689': 4249, 'Ib8kyjBCJM': 4250, ' 195': 4251, 'cnceld': 4252, 'WD40': 4253, 'troubleshoot': 4254, 'Hawaii': 4255, ' 3:22': 4256, 'thrill': 4257, '#frustrated': 4258, 'curtesy': 4259, 'UA1731': 4260, 'general': 4261, 'AA1344': 4262, 'Joanne': 4263, 'contest': 4264, ' 545,': 4265, 'ending': 4266, 'the16': 4267, 'fulfill': 4268, '20k': 4269, 'backpack': 4270, 'DnStITRzWy': 4271, 'BWI-BOSTON': 4272, 'upload': 4273, 'approval': 4274, '#521': 4275, 'queue': 4276, 'Sl6BDRXfN8': 4277, 'pen': 4278, 'passengers-': 4279, 'revers': 4280, '13-17': 4281, 'midght': 4282, 'hj5kq82Chn': 4283, 'JWA': 4284, 'necessary': 4285, '10-10': 4286, 'thu': 4287, 'legacy': 4288, 'herba': 4289, 'unused': 4290, '#crew': 4291, '46': 4292, 'formally': 4293, 'duecto': 4294, 'conversation': 4295, 'shampoo': 4296, '#589': 4297, 'JFK-LHR': 4298, '@fargoairport': 4299, 'Noah': 4300, 'sexually': 4301, 'car': 4302, ' 750.': 4303, '#WakingInMemphis': 4304, ' 1657': 4305, 'dub': 4306, '#choosekind': 4307, '#ThankYouForEverything': 4308, '#costumerservice': 4309, '@MIDOExhibition': 4310, 'VA370': 4311, '@nrosenb1': 4312, 'Muchas': 4313, 'impression': 4314, '#gettingbetter': 4315, '@SouljaCoy': 4316, 'holding': 4317, '#givethemraises': 4318, 'TLH': 4319, '#JUSTWRONG': 4320, ' 623': 4321, '…?': 4322, 'kDMq0jps02': 4323, '00am': 4324, '@yaffasolin': 4325, 'resched': 4326, 'allowabl': 4327, 'decision': 4328, 'airlineGave': 4329, 'shitty': 4330, '4pm': 4331, 'obviously': 4332, 'bloody': 4333, 'fare': 4334, ' 19': 4335, 'essentially': 4336, '8o3SCR5EFW': 4337, 'inbound': 4338, 'idiot': 4339, '#CMH': 4340, '#upgrademe': 4341, 'wake': 4342, 'virus': 4343, '#not': 4344, '#GTH239': 4345, '@MelanieSpring': 4346, 'hiccup': 4347, ' 372': 4348, '#shouldhaveflownjetblue': 4349, '@vanessaannz': 4350, 'bein': 4351, 'align': 4352, 'tug': 4353, ' 6': 4354, 'rev': 4355, 'provider': 4356, ' 94': 4357, '#Charlotte': 4358, '#logistics': 4359, 'repeat': 4360, '@TuftsEnergyConf': 4361, '@AnnetteNaif': 4362, '#4487': 4363, 'despicable': 4364, 'die': 4365, 'incredible': 4366, 'Delhi': 4367, 'Dm': 4368, 'preparation': 4369, 'UA5631': 4370, '#boldflavors': 4371, 'breastfeed': 4372, 'interesting-agent': 4373, 'convey': 4374, '4443.We': 4375, '@PortColumbusCMH': 4376, 'valuable': 4377, 'fron': 4378, '@julesdameron': 4379, '#UA1516': 4380, '#iusedtoloveu': 4381, '@KevinSwan_': 4382, '....': 4383, ' 72': 4384, '#Seductive': 4385, 'bridge': 4386, '$12': 4387, 'length': 4388, '1-800': 4389, 'terminal': 4390, 'hair': 4391, 'Fl': 4392, 'cncdld': 4393, 'PDX': 4394, '@ESPN_CoachMack': 4395, '@americanair': 4396, 'v': 4397, '$400': 4398, 'connector': 4399, 'internship': 4400, 'PRN': 4401, 'boo': 4402, 'sec': 4403, 'conjunction': 4404, 'say': 4405, '#Promised': 4406, 'UA7985': 4407, 'off': 4408, '#btv': 4409, 'loose': 4410, 'blog': 4411, 'clarion': 4412, ' 100': 4413, 'spontaneously': 4414, 'EBHSET': 4415, 'mate': 4416, 'platinum': 4417, 'neither': 4418, '@_austrian': 4419, ' 2017': 4420, 'activate': 4421, 'flight--': 4422, 'YASSS': 4423, '@SilverAirways': 4424, '#terrible': 4425, '#TrueBlueLove': 4426, '#failed': 4427, 'small': 4428, 'schooler': 4429, 'EGE': 4430, '587701925COUNT': 4431, '800-433-7300': 4432, '#whyisusairALWAYSDELAYED': 4433, 'talent': 4434, 'solid': 4435, '#flyfi': 4436, '#ELMIRA': 4437, 'morning': 4438, 'SF': 4439, '..??': 4440, 'debate': 4441, 'rep': 4442, ' 601': 4443, ' 702': 4444, 'Norfolk': 4445, '#IAD': 4446, '@timbennettg3': 4447, ' 2222': 4448, 'I': 4449, '#CommunicationFail': 4450, 'skill': 4451, 'hold-': 4452, 'Jane': 4453, 'author': 4454, '#NoCharge': 4455, '2hours': 4456, ' 2:00...': 4457, '#usairwayssucks': 4458, 'helping': 4459, ' 25': 4460, 'API': 4461, '@karajusto': 4462, ' 0016': 4463, 'Walmart': 4464, '@naomi_cooper': 4465, 'smoothie': 4466, 'afterward': 4467, '$788.': 4468, 'involve': 4469, '#unitedfail': 4470, 'Mexico': 4471, 'MIA-': 4472, '#massivefail': 4473, '9TRvfnCedL': 4474, '#fullprice': 4475, 'excellence': 4476, 'Hartford': 4477, 'combination': 4478, 'myrtle': 4479, '#WORSTAIRLINEEVER': 4480, 'ST': 4481, 'UA5184': 4482, '#DISAPPOINTED': 4483, 'doke': 4484, '#SFOtoBOS': 4485, 'hcNN0wXQQr': 4486, 'believable': 4487, '7F': 4488, '#JetBae': 4489, ' 12:30': 4490, '#greed': 4491, '#destinationdragons': 4492, 'Seattle': 4493, 'vebeen': 4494, 'Pafe': 4495, 'customary': 4496, 'jN3V3k3qGv': 4497, 'x': 4498, 'sorta': 4499, '@CAexhibitions': 4500, ' 640': 4501, '2nt': 4502, '#JustifyThisSupport': 4503, 'IpaamZT7Z2': 4504, 'unable': 4505, 'team': 4506, 'Oveur': 4507, '#RefundProcedureNotTooPainful': 4508, 'nah': 4509, 'current': 4510, '5.5hrs': 4511, 'Acarl4': 4512, 'Ella': 4513, 'fkn': 4514, 'handshake': 4515, 'project': 4516, 'Vr9k180LaI': 4517, 'duct-tape': 4518, '#notwheelsup': 4519, ' 1535': 4520, 'front': 4521, 'station': 4522, 'trap': 4523, 'Comcast': 4524, 'silence': 4525, 'PHL-SFO': 4526, 'reject': 4527, 'PHONEEEEE': 4528, ' 3709.': 4529, 'FlightAware': 4530, 'longterm': 4531, 'razor': 4532, 'F623': 4533, 'courtsey': 4534, 'xAIzW2isml': 4535, '#Flight7': 4536, 'NUhpLNXRIq': 4537, 'rub': 4538, 'DCA-': 4539, 'pretty': 4540, '#sodone': 4541, '#Optimistic': 4542, '#3thparty': 4543, 'MKWLKR': 4544, 'chkin': 4545, 'trump': 4546, '#backhome': 4547, 'steam': 4548, '#NotEvenJV': 4549, ' 6232': 4550, '#tiredofthis': 4551, 'lining': 4552, 'FC': 4553, 'defective': 4554, 'feces': 4555, 'hungary': 4556, 'theres': 4557, 'Kerry': 4558, 'unheard': 4559, 'compassion': 4560, ' 2069': 4561, 'sky': 4562, ' 3837': 4563, 'Ua6318': 4564, '#thanksunited': 4565, 'swimsuit': 4566, 'bootbag': 4567, 'mbr': 4568, '$7.99.': 4569, '#stuckinmemphis': 4570, 'huge': 4571, 'agent-': 4572, 'James': 4573, 'clunky': 4574, 'doll': 4575, 'racist': 4576, '@FiDiFamilies': 4577, '#onholdwith': 4578, 'SYR': 4579, 'art': 4580, '9xbO5daKaK': 4581, 'phx': 4582, 'outfit': 4583, 'tvk0PyxQv5': 4584, 'skyscanner': 4585, '#thenewamerican': 4586, 'Ua649': 4587, '2ndary': 4588, '?!?!?!': 4589, '_exact_': 4590, 'Boston': 4591, 'unwind': 4592, 'except': 4593, 'circle': 4594, ' 1472,': 4595, ' 130': 4596, 'weather-reLate': 4597, '?????': 4598, 'moron': 4599, 'mosaic': 4600, 'refuel': 4601, 'awesomeness': 4602, '(': 4603, '@reagan': 4604, 'organize': 4605, 'randomly': 4606, ' 1838,': 4607, '10voucherwhatajoke': 4608, '#2390': 4609, 'denver': 4610, 'whammie': 4611, '2hrs': 4612, '!!!!!)': 4613, 'LT1pYKfvRq': 4614, '!!!!!!!': 4615, 'outlet': 4616, 'FUK': 4617, 'expiration': 4618, 'spoke': 4619, 'version': 4620, 'language': 4621, '!?!?': 4622, 'TruBlue': 4623, '2X': 4624, 'cushy': 4625, 'b4': 4626, '$120': 4627, 'Cmon': 4628, 'scare': 4629, 'peanut': 4630, '@PHXSkyHarbor': 4631, 'though': 4632, ' 1510.': 4633, 'everywhere': 4634, ' 2373': 4635, '@Truthh4': 4636, '5am': 4637, 'fit': 4638, 'kdHRUF54sW': 4639, 'stranger': 4640, 'communicate': 4641, ' 10:30': 4642, 'SM': 4643, '#raise': 4644, '@iTunesMusic': 4645, 'nice': 4646, 'vendor': 4647, '#dietcoke': 4648, 'impatient': 4649, 'ANA': 4650, 'disability': 4651, 'tailwind': 4652, 'Rosetta': 4653, 'cousin': 4654, 'reinforcement': 4655, 'AA2334': 4656, 'istead': 4657, '#wrong': 4658, 'dissapointed': 4659, '$300': 4660, '#epitimeoffail': 4661, 'adjustment': 4662, 'agree': 4663, 'chipper': 4664, '#FebruaryFreezeFox17': 4665, '#professionalism': 4666, '5hr': 4667, 'HAJ5lKqjW4': 4668, 'sp': 4669, '630a': 4670, 'clockwork': 4671, '#safetyfirst': 4672, '#customerservicenot': 4673, '3.30PM': 4674, '@Carrieunderwood': 4675, '#guiltypleasures': 4676, ' 30,': 4677, 'removal': 4678, 'overload': 4679, 'UR': 4680, '#BookofNegroes': 4681, 'UA3530': 4682, 'america': 4683, '#baggageissues': 4684, 'bail': 4685, 'check': 4686, 'recheck': 4687, 'stream': 4688, '#cxp': 4689, 'coffin': 4690, 'happiness': 4691, 'oversleep': 4692, 'seven': 4693, 'lbb': 4694, 'period': 4695, '200fee': 4696, 'restroom': 4697, 'several': 4698, 'cling': 4699, 'inline': 4700, 'Burbank': 4701, 'nothing': 4702, '@robthecameraman': 4703, 'FEHQNE': 4704, 'Dunno': 4705, '#nocareforcustomers': 4706, 'mechanical': 4707, 'auGJsCmoLu': 4708, '1-2888155964': 4709, '#hotelliving': 4710, 'fiscal': 4711, 'conection': 4712, 'appreciation': 4713, '#nexttime': 4714, 'interior': 4715, ' 13': 4716, '@nrhodes85': 4717, 'ATC': 4718, '@Jetblue': 4719, 'UX': 4720, 'tho': 4721, 'familiar': 4722, 'Bleh': 4723, ' 1180': 4724, 'undefine': 4725, '#backtowinter': 4726, 'Lv9HwQDK9A': 4727, 'GGuIg3t28z': 4728, 'rick': 4729, '#NotHappy': 4730, '7.Unnecessary': 4731, 'retrn': 4732, 'even': 4733, ' 43': 4734, 'Surely': 4735, 'Claudia': 4736, 'disconnection': 4737, 'lead': 4738, 'heel': 4739, 'weatherless': 4740, '89ish': 4741, 'pickng': 4742, '#4251': 4743, 'delay': 4744, 'quadruple': 4745, 'scream': 4746, '#eternity': 4747, 'premiere': 4748, 'pregnant': 4749, 'N7oSjz8a59': 4750, '1M': 4751, 'playe': 4752, 'lengthy': 4753, 'shut': 4754, 'droped': 4755, 'disruption': 4756, 'and': 4757, 'fairbanks': 4758, '#beingsuckontarmacsucks': 4759, 'flatiron': 4760, 'back': 4761, '#AA65': 4762, 'reload': 4763, ' 471': 4764, 'plainly': 4765, 'boyfriend': 4766, 'gone-now': 4767, 'Jan': 4768, 'skipper': 4769, 'argument': 4770, 'differently': 4771, 'visor': 4772, '#cheapslogannotmotto': 4773, ' 3867': 4774, 'r': 4775, 'behave': 4776, 'ur': 4777, 'remark': 4778, '@jmercadoMMA': 4779, 'sfo': 4780, 'disinfectant': 4781, 'aftr': 4782, '#3397': 4783, '#nogood': 4784, 'Wichita': 4785, 'custy': 4786, 'blank': 4787, '@IATA': 4788, 'Flightly': 4789, '#FrigidFriday': 4790, 'WTF': 4791, '#custserv': 4792, 'tax': 4793, 'spin': 4794, '@AndrewFallis': 4795, 'appropriation': 4796, '#notsatisfied': 4797, 's': 4798, 'totally': 4799, 'philly': 4800, ' 893.': 4801, 'suuuuper': 4802, 'detail': 4803, 'cus': 4804, 'CLL': 4805, '#missedupgrades': 4806, 'lousy': 4807, 'um': 4808, '#clientNotHappy': 4809, 'reminder': 4810, 'aww': 4811, 'GAgent': 4812, '757s': 4813, '@PaytonTaylor129': 4814, '#Jetbae': 4815, '8465981': 4816, 'Sukhdeep': 4817, ' 37': 4818, 'rollerboards': 4819, '.:)': 4820, 'coshared': 4821, '@kirkwoodtiger': 4822, 'que': 4823, 'planet': 4824, 'road': 4825, 'G3Uy6w28QH': 4826, 'help--faith': 4827, '#neverflyAAagain': 4828, 'jack': 4829, 'AA111': 4830, 'surf': 4831, '@hemispheresmag': 4832, 'hdn': 4833, 'promise': 4834, 'La': 4835, '#OrthoDoc': 4836, 'Mmm': 4837, 'lovely': 4838, '#RaganDisney': 4839, 'Didn': 4840, '#southwestfail': 4841, 'Usairways': 4842, 'substandard': 4843, '2b': 4844, 'executive': 4845, '11PM': 4846, 'suddenly': 4847, '#rockstars': 4848, 'song': 4849, ' 3078': 4850, 'cle': 4851, ' 9:48': 4852, 'sally': 4853, 'churn': 4854, 'kindle': 4855, 'lack': 4856, 'SAN-SFO': 4857, 'superfast': 4858, 'amongst': 4859, '#1702': 4860, 'zoom': 4861, 'riot': 4862, 'donaldaroberts1': 4863, 'hotel': 4864, 'size': 4865, 'sloppy': 4866, 'm7MMq2f5FA': 4867, 'tolerable': 4868, 'adore': 4869, 'PQDs': 4870, 'caribbean': 4871, '#4229': 4872, '$389.50': 4873, '@Fly_Nashville': 4874, '1AAVvoREpH': 4875, 'disgrace': 4876, 'group': 4877, 'leather': 4878, '1030pm': 4879, 'bank': 4880, 'bum': 4881, 'ben': 4882, 'luck': 4883, 'onbrd': 4884, 'nigga': 4885, ' 200': 4886, 'two': 4887, ':/??': 4888, 'expire': 4889, '#happyflier': 4890, 'ual': 4891, 'Sydney': 4892, 'AnyHelp': 4893, '#mileageplus': 4894, 'civilize': 4895, 'ysqbVq6Mgb': 4896, 'avert': 4897, 'operation': 4898, 'deal': 4899, 'snag': 4900, 'shift': 4901, 'readily': 4902, 'somehow': 4903, 'cargo': 4904, 'explore': 4905, 'ILS': 4906, 'h44uJ63CJG': 4907, 'Paypal': 4908, '21p': 4909, '#cantblametheweather': 4910, 'stingy': 4911, '@DISupdates': 4912, 'extreme': 4913, 'SdyLuKR7pt': 4914, '#1644': 4915, 'continually': 4916, 'tell': 4917, 'run-around': 4918, 'talk': 4919, 'combo': 4920, 'Sunday': 4921, 'qjLzrYWFj2': 4922, 'pleaseeee': 4923, 'aside': 4924, 'excitement': 4925, 'vent': 4926, 'painful': 4927, 'H3k3oWOhD1': 4928, '#flights': 4929, ' 3444': 4930, '8hrs': 4931, 'level': 4932, 'ABC': 4933, 'threaten': 4934, '@americanone': 4935, 'overall': 4936, 'tense': 4937, '@lpalumbo': 4938, 'aZltJhf7lv': 4939, 'custom': 4940, 'start': 4941, 'pleasantly': 4942, '#UA5525': 4943, 'baggagefail': 4944, '@ChicagoMidway': 4945, '53': 4946, '#22': 4947, 'airfare': 4948, '@TonySimsMMA': 4949, ' 833': 4950, '@CBarrows': 4951, 'rapid': 4952, 'STARBUCKS': 4953, '#LoveSongFriday': 4954, 'yellow': 4955, 'weren': 4956, '@CBSPhilly': 4957, 'suffer': 4958, 'KvfwajVViD': 4959, '44ZHmfDIW6': 4960, 'obvious': 4961, 'mobile': 4962, 'tattoo': 4963, '3960': 4964, ' 769': 4965, '$ 2': 4966, 'hint': 4967, 'Doumented': 4968, 'induce': 4969, 'bottle': 4970, '600': 4971, 'gear': 4972, ' 3763': 4973, '6PM': 4974, 'irate': 4975, 'no-enertainment-on-6-hour-flight': 4976, '@vincenzolandino': 4977, 'daughter': 4978, '#expected': 4979, '49FLbgzZkd': 4980, 'happily': 4981, 'indicate': 4982, 'AL': 4983, 'hospital': 4984, 'unwill': 4985, 'Fly-fi': 4986, 'AA1119': 4987, 'Hv': 4988, 'super': 4989, 'unforeseeable': 4990, '#lostluggage': 4991, 'XW': 4992, 'article': 4993, 'C22': 4994, 'TIMCO': 4995, '#1408': 4996, 'iy': 4997, 'web': 4998, '#UA6136': 4999, 'tar-mat': 5000, '#WorstAirlineEver': 5001, 'CnctL7G1ef': 5002, '#nogate': 5003, 'far': 5004, 'm67WnBglXQ': 5005, 'feel': 5006, 'fruit': 5007, 'miami': 5008, 'hours-': 5009, ' 123': 5010, 'accountability': 5011, 'lifeline': 5012, 'bNgpli8JT6': 5013, 'spec': 5014, 'meh': 5015, 'leave': 5016, 'fiancé': 5017, 'parent': 5018, 'JFK-LAS': 5019, ' 10:10': 5020, 'reckless': 5021, '#ilookyoung': 5022, 'doubtful': 5023, '@DreSparkles': 5024, '#ua6076': 5025, 'jetblue': 5026, 'SLC': 5027, 'psychological': 5028, 'wilco': 5029, ' 36': 5030, 'gas': 5031, ' 1106': 5032, 'Really': 5033, 'dumb': 5034, 'immediate': 5035, '9xkiy0Kq2j': 5036, 'Italy': 5037, 'checkout': 5038, '#ExpoWest': 5039, 'dog': 5040, 'hr': 5041, 'fire': 5042, 'unsat': 5043, 'aback': 5044, 'Rica': 5045, 'zone': 5046, 'KkwiwI97A4': 5047, 'nosedive': 5048, 'grp': 5049, 'nightmarish': 5050, 'new': 5051, '#notahappycustomer': 5052, 'differ': 5053, '1person': 5054, 'details--that': 5055, 'Chicago': 5056, '#Flight293': 5057, ' 8473573.': 5058, ' 502': 5059, 'Expedia': 5060, 'medication': 5061, 'ypu': 5062, '#1758': 5063, 'inept': 5064, 'cab': 5065, 'signup': 5066, '$150': 5067, 'facebook': 5068, 'emboss': 5069, 'cabine': 5070, '#evenLate': 5071, 'wSgYckCIIO': 5072, 'Unsure': 5073, 'border': 5074, '),': 5075, ' 1051.': 5076, 'informative': 5077, 'UA1750': 5078, 'tremendous': 5079, 'extra': 5080, 'reason': 5081, 'IVR': 5082, '#alwaysdelayed': 5083, 'SMF': 5084, 'essence': 5085, 'UT5GrRwAaA': 5086, 'E9': 5087, 'Kelly': 5088, 'use': 5089, 'nonrefundable': 5090, 'chill': 5091, 'C25': 5092, 'undermine': 5093, 'FGRbpAZSiX': 5094, 'DSM': 5095, 'globe': 5096, 'yard': 5097, 'UA5029': 5098, ';': 5099, 'peculiar': 5100, 'heavy': 5101, ' 1700.': 5102, 'impress': 5103, '20': 5104, '!!!!!!!!!': 5105, ' 449': 5106, 'Ottawa': 5107, '#Appreciation': 5108, 'POS': 5109, 'metro': 5110, 'ML1JaCpmch': 5111, '#FAIL': 5112, 'suite': 5113, '#outofbusiness': 5114, 'LOVEEEE': 5115, 'wVGpp3Ymz1': 5116, 'PR-friendly': 5117, '#weak': 5118, '2h30m': 5119, 'Des': 5120, 'Marriott': 5121, 'Vacation-': 5122, '#passbook': 5123, 'daily': 5124, 'over': 5125, 'msp': 5126, 'dehydrate': 5127, 'intent': 5128, 'wrestle': 5129, 'SJU': 5130, 'within': 5131, 'cust': 5132, 'crappy': 5133, '@robinreda': 5134, 'habitually': 5135, 'proactive': 5136, 'motto': 5137, 'wave': 5138, 'recently': 5139, 'lax-Syd': 5140, '@carlw1980': 5141, '#LFT5': 5142, 'SBN': 5143, '@superben': 5144, 'aIyC9WV5oq': 5145, '610-362-7498': 5146, 'unbelievable': 5147, 'shake': 5148, 'MN': 5149, ' 11:59': 5150, 'week': 5151, 'rubber': 5152, 'refreshment': 5153, 'earth': 5154, 'w': 5155, '#friendlysky': 5156, ' 504': 5157, 'situation-': 5158, 'manilla': 5159, '9:30am': 5160, 'fay': 5161, 'alarm': 5162, 'initiative': 5163, ' 26.': 5164, 'treatment': 5165, 'smoooothest': 5166, ' 40': 5167, '#goodflight': 5168, '#planB': 5169, 'Q3': 5170, 'UA1568': 5171, 'daddy': 5172, '#smoothtransition': 5173, '@naia_miaa': 5174, '1st': 5175, '#SellMyPointsSoon': 5176, '@cobedien': 5177, 'Parizad': 5178, 'rule': 5179, '#GreatService': 5180, 'sass': 5181, 'preferably': 5182, ' 100.': 5183, '#ihatemergers': 5184, 'proportion': 5185, 'Usually': 5186, '#lowstandards': 5187, '#ContinentalAirlines': 5188, 'MKpoGNntYC': 5189, 'while': 5190, 'syastem': 5191, 'Korea': 5192, '@ejacqui': 5193, '#livethelegend': 5194, 'junk': 5195, '#AADelay': 5196, '$65': 5197, 'victim': 5198, 'deadhead': 5199, 'praise': 5200, ' 533': 5201, '#2hourwaitsucks': 5202, '@FlyANA_official': 5203, 'UA1416': 5204, 'color': 5205, 'psgrs': 5206, '@DelonGerry': 5207, '#theyareallbetter': 5208, 'ZfqMpGXVS6': 5209, '#goodcustomerservice': 5210, 'american': 5211, 'portray': 5212, '@yorkshire2002': 5213, '$180': 5214, 'rwrd': 5215, 'tweet': 5216, '#texasisclosed': 5217, 'about': 5218, '@Sb5551': 5219, 'cart': 5220, '1857': 5221, 'Philadelphia': 5222, '…': 5223, 'UA1566': 5224, 'eventually': 5225, 'incur': 5226, 'mysterious': 5227, 'VP': 5228, 'Apparently': 5229, '#onlywaytofly': 5230, ' 1831': 5231, 'thatthis': 5232, '#frauds': 5233, 'world': 5234, '#clockwork': 5235, '10p': 5236, 'auto-rebook': 5237, 'clown': 5238, ' 1636': 5239, 'outsource': 5240, 'lock': 5241, 'interest': 5242, 'body': 5243, 'Ann': 5244, 'rank': 5245, 'help': 5246, 'transparency': 5247, ' 44,000': 5248, '@preboard': 5249, 'eat': 5250, ' 5238': 5251, '4kLfywwMq1': 5252, '59pm': 5253, 'horror': 5254, 'recognition': 5255, 'fl': 5256, 'MIA-SFO': 5257, 'bounce': 5258, '#cyberattack': 5259, 'behind': 5260, 'mood': 5261, 'pasengers': 5262, '@HDsportsguy': 5263, '#Boo': 5264, 'VX': 5265, '#customerservice': 5266, 'pressurization': 5267, 'bouncer': 5268, '@Matt_e_boss': 5269, 'Blizzue': 5270, '#10': 5271, '9hr': 5272, ' 11:35': 5273, 'backroads': 5274, '@americanairlines': 5275, 'wrath': 5276, '@nbsnewsr': 5277, 'preggo': 5278, 'owMaXOyEhZ': 5279, '#2070': 5280, '#ritacomo': 5281, 'UNITEDFAIL': 5282, 'Ou': 5283, 'faves': 5284, 'sweep': 5285, 'pax': 5286, '#stingy': 5287, 'entree': 5288, '#delayed': 5289, 'foresight': 5290, 'special': 5291, 'BlueManity': 5292, '@MarciaVeronicaa': 5293, '@RenHotels': 5294, '@Ruth_Slobodin': 5295, '#Love': 5296, 'mask': 5297, 'contagious': 5298, 'foot': 5299, '#GetMartyHome': 5300, '#us2146': 5301, 'turn': 5302, '5ZNMwxDI9U': 5303, 'mismanagement': 5304, 'canx': 5305, 'indignation': 5306, '!!!!!!!!': 5307, '#WorstAirline': 5308, '#false': 5309, 'sad': 5310, '#Aspen': 5311, '#satisfied': 5312, 'sue': 5313, '#SWADiversity': 5314, 'Tahiti': 5315, '@traveloneworld': 5316, 'confirm': 5317, 'schedule': 5318, 'dealing': 5319, 'traffic': 5320, 'heartbroken': 5321, 'credibility': 5322, 'vet': 5323, 'BUF': 5324, '#frustrating': 5325, '@down': 5326, 'shouldnt': 5327, 'among': 5328, 'Honestly': 5329, 'Cinci': 5330, 'board': 5331, 'electrical': 5332, 'gesture': 5333, 'compare': 5334, 'recent': 5335, 'joy': 5336, 'fully': 5337, 'US628': 5338, 'Hopefully': 5339, 'vuxf4r4Unu': 5340, ' 2330': 5341, '#vegan': 5342, '#mental': 5343, 'unserviceable': 5344, 'speak': 5345, 'verify': 5346, 'conflict': 5347, 'redirect': 5348, '#failphone': 5349, 'reunite': 5350, 'destination': 5351, ' 1750': 5352, '#cabinfever': 5353, 'Deane': 5354, 'HI76BOavXY': 5355, 'arbitrary': 5356, 'f': 5357, '5IMDckODfx': 5358, '#IMPORTANTFLIGHT': 5359, '#lazy': 5360, 'sync': 5361, '1071': 5362, '#pr': 5363, 'multi': 5364, '15mins': 5365, 'cross': 5366, 'Cincinnati': 5367, 'conversational': 5368, 'amazingly': 5369, '#nocommunication': 5370, 'l': 5371, 'Volkswagen': 5372, 'w3XS6TVpZg': 5373, ' 1491': 5374, 'conference': 5375, '40th': 5376, ' 1684': 5377, \"'\": 5378, 'sincere': 5379, 'YokkHHQcMP': 5380, 'bat': 5381, 'tomrw': 5382, '$382': 5383, '@PHLAirport': 5384, 'offend': 5385, ' 919': 5386, 'silicon': 5387, '#nosecuritylines': 5388, ' 104': 5389, '#BHM': 5390, 'sprawl': 5391, 'flgjt': 5392, 'balance': 5393, '#typical': 5394, 'aw': 5395, '#leavingtomm': 5396, 'UA3782': 5397, 'diabetic': 5398, 'rude': 5399, 'including': 5400, 'flite': 5401, 'insulin': 5402, ' 777': 5403, '#freeflight': 5404, ' 1337': 5405, 'SDF': 5406, 'bin': 5407, 'incompetent': 5408, 'yep': 5409, 'day': 5410, 'dmed': 5411, 'January': 5412, 'CABO': 5413, '#alwaysLate': 5414, ' 1798': 5415, 'review': 5416, '15-18': 5417, 'undies': 5418, 'disguise': 5419, 'ZZPs5ywVE2': 5420, '@dfwairport': 5421, 'CX': 5422, '#mergerdisaster': 5423, 'assignment': 5424, ' 703,': 5425, 'TJYCQH': 5426, '#ruined': 5427, 'Jamaica': 5428, 'afraid': 5429, '@BDinDallas': 5430, 'future': 5431, 'dean': 5432, 'fair': 5433, 'random': 5434, 'bt': 5435, '#keepitclassy': 5436, ' 9:04': 5437, 'disgraceful': 5438, 'vaca': 5439, 'Rozana': 5440, 'complainer': 5441, 'outta': 5442, 'ban': 5443, 'desperately': 5444, 'personal': 5445, '8': 5446, 'coincidence': 5447, '#craftbeer': 5448, '1am': 5449, 'defibrillator': 5450, ' 890': 5451, '@PayPal': 5452, 'tweetin': 5453, 'pull': 5454, '@thewayoftheid': 5455, '#whyabcwhy': 5456, 'inquiry': 5457, ' 7': 5458, 'p6ucbVlv5E': 5459, 'my': 5460, 'rush': 5461, 'jersey': 5462, '#denverairport': 5463, 'agnt': 5464, 'Officially': 5465, 'define': 5466, 'Q5a7jtkI5K': 5467, 'patronize': 5468, '@emeyerson': 5469, 'estimate': 5470, 'proficient': 5471, 'BZE': 5472, 'MR': 5473, '#HappyFriday': 5474, ' 1700': 5475, 'irresponsible': 5476, 'since': 5477, '@mitchsunderland': 5478, 'isdelayed': 5479, '.\"....': 5480, 'sooooooo': 5481, 'semantics': 5482, 'ZKOE6clGiU': 5483, 'popular': 5484, 'when': 5485, \"'.\": 5486, '#5amMisery': 5487, '#closepwcs': 5488, 'note': 5489, 'wallet': 5490, 'sarcasm': 5491, 'pnr': 5492, 'B': 5493, '#BeBetter': 5494, 'majority': 5495, 'monopoly': 5496, '#photography': 5497, ' 2339': 5498, 'Lufthansa': 5499, 'Newark-Brussels': 5500, 'cocktail': 5501, 'card': 5502, 'announce': 5503, ';)': 5504, 'towards': 5505, '1ker': 5506, '#NoClothesNoInfo': 5507, 'dollar': 5508, 'gBIw9ugFNm': 5509, 'gift': 5510, 'inconvenient': 5511, ' 1:10': 5512, 'plumber': 5513, 'middle': 5514, 'ar': 5515, 'mikehertz7': 5516, 'pPVA4Rch9f': 5517, 'pasta': 5518, '#heathrow': 5519, 'camp': 5520, 'different': 5521, 'ta': 5522, 'evry': 5523, 'BKK': 5524, ' 4146': 5525, 'BWI-EWR-MCO': 5526, '#CarryOnBagsSlowEverybodyDown': 5527, 'psych': 5528, 'LOL': 5529, 'tld': 5530, 'GRU': 5531, 'amid': 5532, '#showsomerespect': 5533, 'hLZaHXkdSn': 5534, 'iCloud': 5535, 'instance': 5536, '#currentlysittingontarmac': 5537, 'nearly': 5538, 'improve': 5539, 'hospice': 5540, '#missingtheoscars': 5541, 'tonic': 5542, 'gr8': 5543, '#shouldwearmasks': 5544, 'JM8gQ1KGrF': 5545, 'ea': 5546, 'favor': 5547, 'tv': 5548, 'summit': 5549, 'XZMSCW': 5550, '#annoying': 5551, '#painandsuffering': 5552, 'carpet': 5553, 'lense': 5554, '#winkwink': 5555, 'md80': 5556, 'unnecessarily': 5557, '3pm': 5558, 'illogical': 5559, '@HeidiMacey': 5560, 'bright': 5561, 'EWR-STI': 5562, 'biscuit': 5563, 'Copa': 5564, '$700,': 5565, 'Govt': 5566, '#chicago': 5567, 'Tory': 5568, 'filling': 5569, 'viable': 5570, 'tKVmHBkeC3': 5571, 'lodging': 5572, 'soul': 5573, 'supv': 5574, 'potential': 5575, ' 4,': 5576, '#mytimeismoney': 5577, 'Flightling': 5578, ' 445': 5579, '3d': 5580, 'Everytime': 5581, 'vail': 5582, 'GJ': 5583, 'affiliate': 5584, '#AmericanAirlines': 5585, ' 2.24': 5586, 'intro': 5587, 'yZH4ZRQM0i': 5588, 'ckin': 5589, 'statement': 5590, 'Jacksonville': 5591, 'scene': 5592, ' 795': 5593, 'birth': 5594, '@fllairport': 5595, 'didn': 5596, '#genious': 5597, '#woof': 5598, 'volleyball': 5599, ' 33': 5600, ' 9:25': 5601, 'DQnn0Rf1V8': 5602, 'Callbacks': 5603, 'reimburse': 5604, '#refreshed': 5605, '#onhold': 5606, 'Dr': 5607, 'PA': 5608, '#poor': 5609, 'consumer': 5610, 'art-luggage': 5611, 'N': 5612, 'AgPb45v8wt': 5613, 'surly': 5614, 'RDU--reimburse': 5615, 'dawn': 5616, 'DR': 5617, 'worm': 5618, 'aweful': 5619, 'measly': 5620, 'revue': 5621, '@tfgreenairport': 5622, 'UA1740': 5623, '#ABQ': 5624, 'UA4904': 5625, 'customer-friendly': 5626, '#bagsflyfreebutnotwithme': 5627, 'trashy': 5628, 'Truly': 5629, 'REALLY': 5630, 'closet': 5631, 'overhead': 5632, ' 2,000': 5633, 'NL': 5634, 'AwGjkjIIac': 5635, 'understaff': 5636, 'ISIS': 5637, 'amend': 5638, 'disorganise': 5639, '@krescate': 5640, 'Elizabeth': 5641, 'g8': 5642, '#686': 5643, '2npXB6oBMr': 5644, '@southwestair': 5645, '@bostongarden': 5646, 'prayer': 5647, '@fox8news': 5648, 'engage': 5649, 'Austrian': 5650, ' 11:47': 5651, 'honest': 5652, '@UCtraveladvisor': 5653, 'Lauderdale': 5654, 'waspaid': 5655, 'piss': 5656, '9zA6xb1h89': 5657, 'brand': 5658, 'bm9O2K5X5J': 5659, 'commence': 5660, '#3797': 5661, 'Joni': 5662, 'app': 5663, 'helped-2': 5664, 'SJC': 5665, 'walk-around': 5666, 'Montego': 5667, 'snowy': 5668, 'Ur': 5669, 'receipt': 5670, 'healing': 5671, '$24': 5672, 'crew': 5673, 'sham': 5674, '\"!': 5675, 'person': 5676, '45minutes': 5677, 'havoc': 5678, 'frankly': 5679, 'jeff': 5680, 'peel': 5681, 'QjKL4aBprG': 5682, 'flt': 5683, 'err': 5684, '#TheBachelor': 5685, 'lavatory': 5686, 'motion': 5687, '@tpallini': 5688, 'hectic': 5689, 'NJ': 5690, '#UA5037': 5691, 'Yummy': 5692, 'courtesy': 5693, 'coverage': 5694, '01pm': 5695, 'requested-': 5696, ' 12:08': 5697, '9º': 5698, '4': 5699, 'farce': 5700, 'BOS': 5701, 'VAhdekVOKe': 5702, '#tgcyaLate': 5703, 'dismiss': 5704, 'technically': 5705, '4hr': 5706, '@nburnside26': 5707, '7ujt8VTCpa': 5708, '@rockinwellness': 5709, ' 614': 5710, 'adjust': 5711, '#americanairlines': 5712, 'premium': 5713, 'mortify': 5714, 'Gatwick': 5715, '@sa_craig': 5716, '#unhappy': 5717, 'sponsor': 5718, 'UA1665': 5719, ' 11:00.': 5720, '#senseless': 5721, ' 1418': 5722, 'reveal': 5723, '304min': 5724, '$10': 5725, 'attitudy-customer': 5726, 'elaborate': 5727, '#aafail': 5728, 'incompetentmanagers': 5729, '@kkwhb': 5730, 'Stacey': 5731, 'ruin': 5732, 'stretch': 5733, 'USAIR': 5734, 'Domingo': 5735, 'PS': 5736, 'jfk': 5737, 'ef4P0HISHb': 5738, 'TPA-DFW-AUS': 5739, 'Segway': 5740, 'runway': 5741, 'nOPq5xIsbS': 5742, 'Farelock': 5743, '#BudweiserDuels': 5744, 'deoderant': 5745, 'US4485': 5746, 'stmt': 5747, 'mEOAlCIPdD': 5748, 'preventative': 5749, 'Quito': 5750, 'Tks': 5751, 'angst-iest': 5752, 'poorly': 5753, 'disappointment': 5754, 'Clifton': 5755, 'prebook': 5756, '!!!!': 5757, '#Bluemanity': 5758, '#jfk': 5759, 'sunburn': 5760, ' 691': 5761, '#sorude': 5762, 'Cust': 5763, 'magical': 5764, 'cherry': 5765, 'rainy': 5766, '#633': 5767, 'automate': 5768, 'boy': 5769, 'china': 5770, 'church-mouse': 5771, '@lpdstock': 5772, 'ff': 5773, '@dsearls': 5774, ' 1565': 5775, 'Cmh': 5776, 'well': 5777, '25': 5778, '#lostbags': 5779, 'tZZJhuIbCH': 5780, 'humour': 5781, 'Feb': 5782, 'inclement': 5783, 'greensboro': 5784, '#letsgoalready': 5785, 'hail': 5786, '#worst2unitedflightsever': 5787, ' 705': 5788, 'closer': 5789, 'AA3490': 5790, 'your': 5791, ' 512': 5792, 'short': 5793, 'Dani': 5794, '#pisspoor': 5795, 'goddamn': 5796, 'boofin': 5797, 'Devalued-': 5798, 'vhp2GtDWPk': 5799, 'Logan': 5800, 'tear': 5801, '72h': 5802, 'Vegas-Chicago': 5803, 'yield': 5804, 'prolly': 5805, '767-300': 5806, 'honey': 5807, 'fluster': 5808, 'partly': 5809, '#annoyed': 5810, '#allgood': 5811, 'compatible': 5812, '6th': 5813, 'baby': 5814, 'fasten': 5815, 'confusion': 5816, '#newlifetimecustomer': 5817, 'anything': 5818, 'safely': 5819, '#ThePoopQueen': 5820, '#BloodyMary': 5821, 'mind': 5822, ' 1715.': 5823, 'calm': 5824, 'in-flight': 5825, 'FAQ': 5826, '@VirginAmerica': 5827, 'motel': 5828, '_-': 5829, 'greenville': 5830, 'UA3388': 5831, '#256746438028': 5832, '#SwitchingBoth': 5833, 'study': 5834, 'whilst': 5835, 'cake': 5836, '2x': 5837, 'burbank': 5838, 'Moines': 5839, 'ONT': 5840, 'flexibility': 5841, 'gVgKHbx1RB': 5842, '$75.00': 5843, ' 3138': 5844, 'Shouldn': 5845, '#beatstheothers': 5846, ' 6:44.': 5847, 'thre': 5848, 'esUu0hiAjM': 5849, 'frame': 5850, 'ahold': 5851, 'Actually': 5852, 'almost': 5853, 'arent': 5854, 'golden': 5855, 'tom': 5856, 'ps': 5857, 'No': 5858, 'air': 5859, 'bhm': 5860, 'wail': 5861, 'work': 5862, 'Supvrs': 5863, 'gracious': 5864, 'vegetarian': 5865, 'online-be': 5866, 'SWA': 5867, 'comms': 5868, ' 0510': 5869, '#fwiw': 5870, 'course': 5871, 'risk': 5872, 'understandable': 5873, 'RYXbPLgMnK': 5874, '#flight2149': 5875, '#jetblues': 5876, '#problemsolvers': 5877, 'prepay': 5878, '@CinziannaP': 5879, 'cycle': 5880, 'cmh': 5881, 'Cleveland': 5882, 'HNL': 5883, 'waste': 5884, 'meal': 5885, 'swivel': 5886, 'package': 5887, '619-': 5888, 'over-': 5889, 'urgent': 5890, '_': 5891, 'humiliate': 5892, 'US733': 5893, '@highbuddyyy': 5894, 'Mia': 5895, 'trick': 5896, 'hand': 5897, 'DividendMiles': 5898, 'cute': 5899, '@msscottwg': 5900, 'ftw': 5901, 'sight': 5902, 'Amazingly': 5903, 'UA': 5904, '#LFW15': 5905, 'weather': 5906, 'ago': 5907, 'iNNP0Kkyby': 5908, 'end': 5909, 'specific': 5910, 'Kate': 5911, 'self': 5912, 'Susan': 5913, '#sarcasm': 5914, '#badpolicy': 5915, 'in': 5916, 'sell': 5917, '17': 5918, 'fridge': 5919, 'Nearly': 5920, '#dontmakemegooutside': 5921, 'moon': 5922, '70s': 5923, '#unhappytraveler': 5924, 'geek': 5925, 'hahah': 5926, ' 2672': 5927, 'quickly': 5928, '#frightening': 5929, 'fuckinf': 5930, 'exasperate': 5931, 'logistically': 5932, 'splitting': 5933, ' 680': 5934, 'wrongfully': 5935, '#LOL': 5936, 'screensand': 5937, 'go': 5938, '#mint': 5939, 'yeehaw': 5940, '#delay': 5941, 'TUL': 5942, 'surprisingly': 5943, 'downtown': 5944, 'GNV': 5945, 'purchase': 5946, 'IAH-DFW': 5947, '4helped': 5948, ' 7:21': 5949, ' 6600': 5950, 'physically': 5951, 'hopeless': 5952, ' 60': 5953, 'courier': 5954, 'c26': 5955, 'OQZ7Wc4lLA': 5956, 'nix': 5957, 'formality': 5958, 'standby': 5959, '#donotflyusair': 5960, '#vacation': 5961, '@staralliance': 5962, 'missin': 5963, ' 12:20': 5964, 'snafu': 5965, 'Upaz1eF3Dl': 5966, 'loc': 5967, 'awesomeee': 5968, 'payment': 5969, 'blind': 5970, 'duck': 5971, 'employ': 5972, '#LOVE': 5973, '@jdbwaffles': 5974, 'shoulda': 5975, 'hashtag': 5976, '#customer': 5977, 'lightning': 5978, ' 630': 5979, 'peep': 5980, 'cable': 5981, ' 0162389030167,': 5982, 'commercial': 5983, '#WhyAreYouYelling': 5984, 'Ireland': 5985, 'typically': 5986, 'assurance': 5987, 'metal': 5988, '#crooked': 5989, ' 2,': 5990, 'QKkJdFObOS': 5991, 'Syracuse': 5992, '@meggersrocks': 5993, 'dam': 5994, 'fabulous': 5995, 'abysmal': 5996, 'unbelieavle': 5997, 'pout': 5998, '@Dumas2TTG': 5999, 'haha': 6000, 'e-ticket': 6001, '#worstthingever': 6002, 'lose': 6003, 'virtually': 6004, 'QQBMUG': 6005, '#allrepresentativesbusy': 6006, ' 634': 6007, ' 6:18': 6008, 'bull': 6009, 'procedure': 6010, '@JedediahBila': 6011, ' 6475': 6012, '#1623': 6013, '#shameonyou': 6014, 'unplan': 6015, 'sabotage': 6016, 'mundane': 6017, 'NKloZcNtto': 6018, 'sentinel': 6019, 'supervisor': 6020, '$1051': 6021, ' 1773': 6022, 'suit': 6023, '44': 6024, '@KarinSLee': 6025, 'scary': 6026, 'chain': 6027, 'panick': 6028, 'o3WlaInImY': 6029, 'potato': 6030, 'werenot': 6031, '#Equality': 6032, 'blackmail': 6033, '#flySWA': 6034, 'agt': 6035, ' 20,': 6036, 'MRN': 6037, 'RT': 6038, 'auto': 6039, 'finger': 6040, 'california': 6041, 'meantime': 6042, 'F-A-N-T-A-S-T-I-c': 6043, ' 90': 6044, 'thicken': 6045, 'couldn': 6046, ' 118': 6047, ' 1086': 6048, 'essential': 6049, '24-26': 6050, 'nerve': 6051, 'malfunction': 6052, 'ua3710': 6053, 'break': 6054, 'Q': 6055, '@MichaelBColeman': 6056, '@beatsmusic': 6057, '#answerthis': 6058, '#pregnantwithtwins': 6059, 'action': 6060, 'pray': 6061, 'AA919': 6062, 'pilot': 6063, ' 3970,': 6064, 'paste': 6065, 'easy': 6066, 'reroute': 6067, '#NOANSWER': 6068, 'one': 6069, 'impolite': 6070, 'hike': 6071, '$209': 6072, '#ANGRY': 6073, '@HayleyMad': 6074, 'grievance': 6075, 'burst': 6076, '?\"': 6077, 'Mommy': 6078, '#southwestAir': 6079, 'dulles': 6080, '#brokenwheel': 6081, 'DFW-CLT': 6082, 'dinner': 6083, 'helpline': 6084, '44pm': 6085, 'shuttle': 6086, 'interpret': 6087, 'capt': 6088, 'state': 6089, 'ORF': 6090, '#itscostingmeincome': 6091, 'form': 6092, 'Canadaair': 6093, '.......': 6094, '7hrs': 6095, 'overkill': 6096, '#unitedlies': 6097, 'complimentary': 6098, 'covert': 6099, ' 85': 6100, ' 1.75': 6101, 'stndby': 6102, ' 1706': 6103, ' 1971': 6104, ' 1181': 6105, 'dest': 6106, 'Sked': 6107, '@Darquenloveli': 6108, 'shelf': 6109, 'LGA-CLE-den': 6110, '3KhGjoFgpX': 6111, 'happening': 6112, 'Ute': 6113, 'insta': 6114, 'ball': 6115, ' 1020': 6116, 'normal': 6117, 'batman': 6118, '@SouthwestAir-': 6119, 'useles': 6120, 'chairman': 6121, 'Bos': 6122, '@TSA': 6123, 'UVF': 6124, '1': 6125, 'decent': 6126, 'Fran': 6127, '40pm': 6128, 'red-head': 6129, 'Midway': 6130, '#JFK': 6131, '#Airlines': 6132, 'beanie': 6133, 'Uq2ooPjPwg': 6134, '#RunAround': 6135, ' 79': 6136, ' 1531': 6137, '#Vida': 6138, 'mRfBjtePef': 6139, 'Meelan': 6140, ' 4439': 6141, '#MDW': 6142, 'excruciatingly': 6143, 'advsry': 6144, 'Highly': 6145, '#horrible': 6146, '#BonsInTheSky': 6147, 'taking': 6148, 'locate': 6149, 'contribution-to-pool': 6150, 'MQXC64': 6151, 'enjoy': 6152, '#TokyoMarathon2015': 6153, 'loan': 6154, 'nc': 6155, 'excellent': 6156, 'Velcro': 6157, 'subtlety': 6158, 'explain': 6159, '6pm': 6160, ' 20': 6161, 'seam': 6162, 'memorize': 6163, 'offender': 6164, 'sail': 6165, ' 1610': 6166, 'Q37pOWn6uv': 6167, 'anniversary': 6168, '?!!!': 6169, 'virgin': 6170, 'CMH-ORD': 6171, 'rudestaff': 6172, '#saveface': 6173, '#85832': 6174, '#justwantmybed': 6175, 'ROC': 6176, 'stall': 6177, 'boss': 6178, 'witty': 6179, 'driver': 6180, ' 8:20,': 6181, 'instant': 6182, 'blatant': 6183, 'mgr': 6184, 'recap': 6185, 'Flightedflight': 6186, 'pact': 6187, '#Antitrust': 6188, 'reLate': 6189, ' 49': 6190, 'cut': 6191, 'paseengers': 6192, '#mosiacfail': 6193, 'hotline': 6194, ' 545': 6195, ' 3113': 6196, ' 556': 6197, '#ROC': 6198, 'JNqNbk7HuT': 6199, '#BQONPA': 6200, 'someones': 6201, 'adopt': 6202, 'Andrews': 6203, 'MEX': 6204, 'ok': 6205, 'downgrade': 6206, '495': 6207, 'cancell': 6208, 'Nc0ES6e4Lf': 6209, 'difficulties**': 6210, '@TheVDT': 6211, 'U1ViEuiDF5': 6212, 'regional': 6213, 'UA5282': 6214, '@rylietolbert15': 6215, ' 1881': 6216, 'ceo': 6217, 'Evry': 6218, 'pho': 6219, 'ours': 6220, '30am': 6221, '#SeattleBound': 6222, 'Dublin': 6223, '#nevergettinghome': 6224, 'line': 6225, ' 8.5': 6226, '#YourAgentsHaveNoClue': 6227, 'nowhereland': 6228, 'waitin': 6229, 'Orlando': 6230, 'oaaret': 6231, '#lostrevenue': 6232, '#wtf': 6233, '#United': 6234, ' 1138': 6235, 'bullshit': 6236, 'Charles': 6237, 'connetion': 6238, 'back-end': 6239, 'Marty': 6240, 'R1OQAVEO7I': 6241, 'round': 6242, 'love': 6243, '#unitedsucksdick': 6244, 'bookable': 6245, '#noapology': 6246, 't4gcKs2bh5': 6247, 'colleague': 6248, ' 470': 6249, 'hdndl11785': 6250, ' 1200': 6251, 'avenue': 6252, 'Saipan': 6253, 'RKVCZBpdCE': 6254, '@warriors': 6255, 'Charlotte': 6256, 'upgrd': 6257, ' 400': 6258, '@simonroesner': 6259, 'emailmailto': 6260, 'sabe': 6261, 'news': 6262, 'leverage': 6263, 'Yo': 6264, 'itin': 6265, '200': 6266, ' 6.5': 6267, 'mess': 6268, ')': 6269, 'real': 6270, 'sKEbqKtxvX': 6271, 'depot': 6272, 'icy': 6273, 'switch': 6274, 'charger': 6275, '#miserablemorning': 6276, 'F-in': 6277, 'miraculously': 6278, 'sudden': 6279, 'voice': 6280, '0kN7PjelZL': 6281, 'Okc': 6282, 'Cannot': 6283, 'Fedex': 6284, '#WillNeverFlyWithYou': 6285, 'Courtney': 6286, 'nonworking': 6287, 'getconnected': 6288, ' 4461': 6289, 'neveind': 6290, 'anybody': 6291, 'A-': 6292, 'matter-': 6293, 'caroline': 6294, 'Oy': 6295, '350pm': 6296, 'Santo': 6297, 'workng': 6298, ' 1836': 6299, 'mistreatment': 6300, 'amaze': 6301, 'evennotified': 6302, 'hoop': 6303, 'welcome': 6304, 'Roberto': 6305, '$8': 6306, 'unlike': 6307, 'PlatinumEventually': 6308, 'build': 6309, 'MSP': 6310, 'exchange': 6311, '#flight838': 6312, '#Official': 6313, '17A': 6314, 'tkts': 6315, 'unless': 6316, '#thatisall': 6317, 'underserve': 6318, 'depress': 6319, '@seanMFmadden': 6320, 'Slightly': 6321, 'firm': 6322, '#SnowStorm': 6323, 'awhile': 6324, '#notfair': 6325, '@WaltDisneyWorld': 6326, '#communicationiskey': 6327, '#Again': 6328, 'Orleans': 6329, 'realtime': 6330, 'include': 6331, '#sweet': 6332, '@MegZezzo': 6333, 'monitor': 6334, 'nasty': 6335, 'mooks': 6336, ' 1152': 6337, '.?': 6338, 'should': 6339, ' 2009': 6340, ' 3933': 6341, 'mtn': 6342, 'northeast': 6343, 'sporadically': 6344, 'teem': 6345, 'sibling': 6346, 'fudgin': 6347, 'wasappreciated': 6348, 'g12sn5qsqZ': 6349, 'flight911': 6350, 'undergoe': 6351, '@hegshmeg': 6352, 'Mgmt': 6353, '\"...': 6354, 'live': 6355, ' 16866853,': 6356, ' 1583.': 6357, 'UfBdr5AxeO': 6358, '@ChooseChicago': 6359, 'Flightations': 6360, 'jacket': 6361, 'cnx': 6362, '#spoiled': 6363, 'DIA': 6364, 'francisco': 6365, 'Brancato': 6366, 'inevitable': 6367, 'rtrn': 6368, 'workaround': 6369, '#beefjerky': 6370, '#nowarmclothes': 6371, 'password': 6372, '$350': 6373, ':(': 6374, '#UDUB': 6375, '#sos': 6376, '5': 6377, 'eligible': 6378, '#AA919': 6379, ' 8.20': 6380, 'buck': 6381, '41am': 6382, 'commitment': 6383, 'David': 6384, 'LAiGgef9Kj': 6385, 'ppl': 6386, 'ping': 6387, 'rem': 6388, 'F5IXyw8XyB': 6389, ' 1951.': 6390, ' 1:': 6391, 'dim': 6392, \"'?\": 6393, '#LUVSWA': 6394, 'row7': 6395, ' 402,': 6396, '@ezemanalyst': 6397, ' 1748': 6398, 'coke': 6399, '@hhagerty': 6400, 'chart': 6401, 'XFWXsRwkHa': 6402, 'USXLON': 6403, '@jsumiyasu': 6404, 'tequila': 6405, 'elite': 6406, '1230': 6407, 'INVALID_LOYALTY_MEMBER_ACCOUNT_status': 6408, '#NewOrleans': 6409, 'airplane': 6410, 'kit': 6411, 'refundable': 6412, 'overlook': 6413, 'absorber': 6414, '#wannagohome': 6415, '9tbsJquw41': 6416, 'intimate': 6417, '#friends': 6418, '#efficencies': 6419, 'Barclays': 6420, 'Ladan': 6421, 'UA381': 6422, 'unconscionable': 6423, '#aa': 6424, 'hah': 6425, 'neglect': 6426, 'danger': 6427, 'presentation': 6428, 'profitability': 6429, 'bride': 6430, 'space': 6431, 'beautifull': 6432, 'finale': 6433, 'pea': 6434, 'match': 6435, 'invite': 6436, 'BWI-SJD': 6437, 'bean': 6438, 'similar': 6439, 'stick': 6440, 'BRCsjBxG2s': 6441, 'Collectively': 6442, '#college': 6443, 'pair': 6444, 'suggest': 6445, 'overfill': 6446, 'den': 6447, '#FixYourStuff': 6448, 'equipment': 6449, '@packermama1': 6450, 'hubby': 6451, 'decorum': 6452, '$19': 6453, 'Memphis': 6454, 'scrum': 6455, 'sanitize': 6456, 'cowardly': 6457, 'minimum': 6458, 'entire': 6459, ' 672': 6460, 'im': 6461, 'rant': 6462, 'either': 6463, 'Wayne': 6464, 'harass': 6465, 'hell': 6466, 'CSS': 6467, 'Xmas': 6468, 'living': 6469, 'YOURE': 6470, 'tedious': 6471, 'tough': 6472, '#dontmakemebeg': 6473, 'resent': 6474, 'forever': 6475, 'compensate': 6476, 'individual': 6477, 'ballbag': 6478, 'navigate': 6479, 'wk': 6480, 'lea': 6481, 'rip': 6482, 'test': 6483, 'ice': 6484, 'Wednesday': 6485, 'approximately': 6486, 'Ripoff': 6487, 'TBD': 6488, 'US84': 6489, '8AM': 6490, 'PHL': 6491, 'LGA-FLL': 6492, '#PHLtoLAS': 6493, 'beyond': 6494, '#LAX': 6495, 'total': 6496, 'power': 6497, 'mailbox': 6498, '@USAIRWAYS': 6499, 'apart': 6500, 'OxY1Jnpjm3': 6501, 'Hughes': 6502, 'reopen': 6503, 'remains': 6504, 'Taylor': 6505, '10hrs': 6506, '#mosaicmecrazy': 6507, 'east': 6508, 'Nippon': 6509, '#badwebsite': 6510, 'seat': 6511, 'open': 6512, 'Instagram': 6513, '$154': 6514, 'platter': 6515, 'sh**': 6516, '#lies': 6517, '5hpSqVRjK8': 6518, 'support-': 6519, 'July': 6520, 'purifier': 6521, 'authoritative': 6522, ' 1618': 6523, '#brandmance': 6524, '@Suntimes': 6525, 'hd': 6526, 'hemisphere': 6527, 'overchging': 6528, '@SDFAirport': 6529, ' 6:20': 6530, 'filing': 6531, '#sosmart': 6532, 'Herndon': 6533, 'insubstantial': 6534, 'Negroni': 6535, 'stress': 6536, 'pl': 6537, 'Precheck': 6538, 'cncld': 6539, 'apparently': 6540, ' 7:38': 6541, 'mexico': 6542, '#neverflyvirginforbusiness': 6543, '–': 6544, 'reciprocate': 6545, 'housing': 6546, '101': 6547, 'Congrats': 6548, '#nofun': 6549, 'glow': 6550, 'Denise': 6551, 'AWOL': 6552, ' 11:31': 6553, 'Angeles': 6554, 'fu': 6555, '#SouthwestSucks': 6556, 'learn': 6557, 'GPU': 6558, 'airfares': 6559, 'inebriate': 6560, 'qgtCao1J2U': 6561, 'ncguZDgDaQ': 6562, '46mins': 6563, 'NfAQHhr09j': 6564, 'swallow': 6565, 'CR': 6566, '@Medium': 6567, ']': 6568, 'zOUOwgv3Q6': 6569, 'chge': 6570, '@FoxNews': 6571, 'steer': 6572, '#jetbluemess': 6573, 'again--late': 6574, ' 45.': 6575, '@TheAcademy': 6576, 'rebook-please': 6577, 'lunch': 6578, 'headphone': 6579, 'Intel': 6580, '#Nashville': 6581, '@eDreams_en': 6582, ' 1,223.22': 6583, '@jannasaurusrex': 6584, 'tempLate': 6585, 'cluster': 6586, 'resolution': 6587, '#lawyerup': 6588, '#boycott': 6589, ' 9.50': 6590, 'first': 6591, 'temperature': 6592, '#stuckintampa': 6593, 'ILM': 6594, '#GetYourActTogether': 6595, 'Clt': 6596, 'buy': 6597, 'playa': 6598, '@RnCahill': 6599, '@laurasbrown5': 6600, '#luv': 6601, '2days': 6602, 'Patrick': 6603, '#45minflight': 6604, 'GoGo': 6605, 'AA153': 6606, 'sheer': 6607, 'fe': 6608, 'manager': 6609, 'stupid': 6610, 'US643': 6611, '#5237': 6612, 'yogurt': 6613, 'September': 6614, 'mechanic': 6615, 'Nj': 6616, '#Mintalicious': 6617, '//': 6618, '#welldone': 6619, 'allowable': 6620, '??!': 6621, '@TinaIsBack': 6622, 'public': 6623, 'IMRLAu77iH': 6624, 'EVR': 6625, 'official': 6626, '40min': 6627, 'why': 6628, ' 460': 6629, ' 1712': 6630, 'county': 6631, ' 2160': 6632, 'MDW-san': 6633, 'unexpected': 6634, 'MVP': 6635, ' 456': 6636, 'streamline': 6637, 'internet': 6638, '@hotelstonight': 6639, '#Backwards': 6640, 'jetways': 6641, '14hrs': 6642, 'relation': 6643, '#DTW': 6644, 'sr': 6645, '666': 6646, 'gotta': 6647, 'remind': 6648, '#Dreamliner': 6649, 'weblink': 6650, 'pump': 6651, 'online': 6652, 'themselves': 6653, '@Cosmopolitan': 6654, 'release': 6655, 'RDU': 6656, 'much': 6657, 'singe': 6658, 'reschedule': 6659, 'favourite': 6660, '#ugh': 6661, 'aggravation': 6662, 'madhouse': 6663, 'turnaround': 6664, '$2,000': 6665, ' 3.30.': 6666, 'Philly-': 6667, 'show': 6668, 'mad': 6669, 'keep': 6670, '#Photography': 6671, ' 713': 6672, 'Bday': 6673, '56': 6674, ' 441': 6675, ' 48': 6676, 'lotttttttt': 6677, 'boson': 6678, 'phf': 6679, 'trys': 6680, 'beware': 6681, 'literally': 6682, 'incorrectly': 6683, '#worksnicely': 6684, '#FGKXV5': 6685, 'grouchy': 6686, 'resort': 6687, 'care': 6688, '#peeved': 6689, ' 2495': 6690, 'finder': 6691, 'bridesmaid': 6692, 'negotiate': 6693, 'NfjAuW16vZ': 6694, 'annnnnd': 6695, 'not': 6696, 'JAN': 6697, 'worry': 6698, 'Rebecca': 6699, '@L_Burley11': 6700, 'ORD-NRT': 6701, 'AA215': 6702, 'fleek': 6703, '@runDisney': 6704, 'info-': 6705, '#kudos': 6706, 'cleanliness': 6707, 'house': 6708, '#feltthelove': 6709, 'KCqeBEej7S': 6710, 'ring': 6711, '@StartingBloc': 6712, 'structure': 6713, 'disrupt': 6714, '#wastedeffort': 6715, 'Tucson': 6716, 'combine': 6717, 'obey': 6718, 'vPDRPLXj5a': 6719, ' 1099': 6720, 'casimir': 6721, 'travelocity': 6722, '#servicedog': 6723, '#rudeservice': 6724, 'Kristy': 6725, '@anku': 6726, 'transf': 6727, 'anna': 6728, 'pleasure': 6729, 'lady': 6730, 'anticipate': 6731, 'originally': 6732, 'prds': 6733, 'himself': 6734, '@whitterbug': 6735, 'eff': 6736, '#Getyourlife': 6737, 'monthly': 6738, 'hog': 6739, 'YNc2ZUt4zz': 6740, '$95.': 6741, 'born': 6742, '@nytimes': 6743, 'consistency': 6744, '$89': 6745, 'UA1023': 6746, 'EOULD': 6747, 'noooooooooooooooooooooope': 6748, 'warm': 6749, 'iEG2ObcEpp': 6750, 'UA1470': 6751, 'dwell': 6752, 'every': 6753, 'shot': 6754, 'Oscar': 6755, '#hiremorepoeple': 6756, 'Juan': 6757, 'compassionate': 6758, '#AmazingFlightCrew': 6759, 'tap': 6760, 'dozen': 6761, 'tryin': 6762, 'wheel': 6763, 'proactively': 6764, 'footrest': 6765, 'sort': 6766, ' 5268': 6767, 'jal': 6768, '$416': 6769, 'a3YCFlaLxV': 6770, 'crow': 6771, ' 9:58': 6772, '4-10': 6773, 'HA': 6774, ' 5': 6775, 'coin': 6776, '#unitedfails': 6777, 'nobody': 6778, ' 2348': 6779, '@cavs': 6780, 'recourse': 6781, '$170': 6782, 'bnFlHPXtmw': 6783, 'subsequent': 6784, 'plane-so': 6785, 'MSY': 6786, '#ohio': 6787, 'downnnnn': 6788, 'biceps': 6789, 'f-1571AUS': 6790, 'fam': 6791, '@TheNateK': 6792, '#JVMChat': 6793, 'restructure': 6794, 'LAX-OGG-lax': 6795, 'tad': 6796, 'allow': 6797, 'Unhelpful': 6798, 'reassign': 6799, '#Waste': 6800, 'expense': 6801, ' 7:10': 6802, 'epic': 6803, 'Pandora': 6804, 'interupt': 6805, 'existence': 6806, ' 27': 6807, 'this': 6808, 'bevy': 6809, 'integrate': 6810, 'peace': 6811, 'vs': 6812, 'system': 6813, 'thinke': 6814, 'SFO': 6815, 'achieve': 6816, 'possible': 6817, 'XXY2d2iMnP': 6818, 'centricity': 6819, '#Greatcustomerservice': 6820, 'everything': 6821, 'confirme': 6822, '#earlybirdmeansnothing': 6823, '#nobaggagefees': 6824, '#Starving': 6825, ' 3913': 6826, 'box': 6827, 'Kansas': 6828, '#HorribleService': 6829, 'ny': 6830, ' 74': 6831, 'AA2450': 6832, 'tiny': 6833, 'Tandoori': 6834, 'squash': 6835, 'Wernicke': 6836, '#OnHoldForever': 6837, 'possession': 6838, 'EXACTLY': 6839, 'avalible': 6840, ' 46': 6841, '#alsoyayforsnacks': 6842, 'bite': 6843, 'son': 6844, ' 4828': 6845, '#Nah': 6846, 'SFO-YYJ': 6847, 'thnx': 6848, 'SHITTY': 6849, 'onboard': 6850, 'UA4935': 6851, '#old': 6852, '$250': 6853, '#WORSTCUSTOMERSERVICE': 6854, 'Cessna': 6855, 'investigation': 6856, 'response': 6857, '@freddieawards': 6858, 'bug': 6859, 'sop': 6860, '@PhD_Mama_': 6861, '@dustyob': 6862, 'ferry': 6863, 'fcuk': 6864, 'corp': 6865, ' 768': 6866, 'club': 6867, 'solution': 6868, '#2771': 6869, 'do-I': 6870, ' 1533': 6871, '@dad_or_alive': 6872, '#NYFW': 6873, '#blessed': 6874, 'man': 6875, 'onhold': 6876, 'respect': 6877, '@airport': 6878, 'jax': 6879, 'pm': 6880, 'honestly': 6881, 'exercise': 6882, 'wink': 6883, 'Cavan': 6884, 'loop': 6885, 'aggressive': 6886, 'landing': 6887, 'walk': 6888, '#toughtomakeplans': 6889, ' 7:44': 6890, 'graphic': 6891, '@elwoodblues77': 6892, '@corybronze': 6893, '#jetbluefame': 6894, 'tooooo': 6895, 'zukes': 6896, '@intuit': 6897, 'dividend': 6898, '@MarriottRewards': 6899, 'advertising': 6900, 'conv': 6901, ' 54': 6902, 'chase': 6903, 'g4WwR6VBRQ': 6904, 'announcer': 6905, 'mouth': 6906, '...)': 6907, 'evidence': 6908, 'sfo-sea': 6909, '@jlhalldc': 6910, 'website--': 6911, '#flyUnited': 6912, '#furious': 6913, 'Christine': 6914, 'value': 6915, ' 1826': 6916, 'juice': 6917, 'someone': 6918, 'safety': 6919, 'video': 6920, 'CyoOnZfTdC': 6921, 'Balt': 6922, 'reimbursement': 6923, 'mid': 6924, '#DivadaPouch': 6925, 'spaghetti': 6926, ' 1449': 6927, 'tryn': 6928, 'unsuccessful': 6929, '#IsItTheGaryKellyWay': 6930, 'Intl': 6931, 'know-': 6932, 'illness': 6933, '#jetbluemember': 6934, 'roger': 6935, 'lie': 6936, 'Cha': 6937, '55': 6938, 'Noone': 6939, 'atd2Sm8HF4': 6940, 'SWAir-': 6941, 'bump': 6942, 'AA5411': 6943, 'bet': 6944, 'social': 6945, '10': 6946, '#DFW': 6947, 'volunteer': 6948, ' 584': 6949, 'private': 6950, '#airbus321seat14Fproblems': 6951, 'harbor': 6952, '@SweetingR': 6953, 'name': 6954, 'gladly': 6955, ' 12:15': 6956, 'execution': 6957, ' 1338': 6958, 'mercy': 6959, 'sunglass': 6960, 'evidently': 6961, 'lounge': 6962, 'local': 6963, '#unitedSucks': 6964, '0EWj7oKlji': 6965, 'collection': 6966, 'tonight': 6967, 'but': 6968, '#zombie': 6969, 'pleeeeeeeease': 6970, 'mths': 6971, '16c9ex79Rk': 6972, 'prison': 6973, 'PUJ': 6974, 'JGdu5us8Dz': 6975, 'cheer': 6976, '#cun': 6977, '#happycustomer': 6978, '#disruption': 6979, 'talke': 6980, 'handle': 6981, 'squish': 6982, ' 1.000': 6983, '#ridiculous': 6984, 'return': 6985, 'wipe': 6986, 'Wendi': 6987, 'Louis': 6988, '@DosEquis': 6989, '@Southwestair': 6990, 'breathe': 6991, 'IH5w9nfKz2': 6992, '@T5Sparrow': 6993, 'kung': 6994, '2nY5TuXFqf': 6995, 'incompetency': 6996, 'T1': 6997, '$165.': 6998, 'galaxy': 6999, '#waive': 7000, 'mistakeFURIOUS': 7001, 'oxgen': 7002, '#2063': 7003, 'flip': 7004, 'previously': 7005, '50hrs': 7006, 'toledo': 7007, 'h': 7008, '#TSA': 7009, 'atlantic': 7010, 'surfer': 7011, 'won': 7012, 'separately': 7013, ' 50,000': 7014, 'LIQWoblFbT': 7015, 'position-': 7016, 'actual': 7017, 'sprint': 7018, 'nonperformance': 7019, 'stupidity': 7020, 'reflection': 7021, 'Awwweesssooomee': 7022, 'fashion': 7023, '@sarahpompei': 7024, 'pulse': 7025, '2pm': 7026, '#neptune': 7027, 'legitimate': 7028, 'BLUEtiful': 7029, '25th': 7030, '#notafanofyourmerger': 7031, '@ABC11_WTVD': 7032, 'everytime': 7033, 'empathy': 7034, '?!!': 7035, 'surround': 7036, ' 0372389047497': 7037, 'south': 7038, '#frequentflyerappreciates': 7039, 'airport': 7040, 'Flightledflight': 7041, '\".': 7042, 'Carmen': 7043, '#worsttripofmylife': 7044, 'reso': 7045, 'UGGH': 7046, 'million': 7047, 'UA1002': 7048, '#gettingoffplane': 7049, 'difficulty': 7050, ' 32': 7051, 'DirectTV': 7052, ' 2:20': 7053, 'uncertainty': 7054, '.”': 7055, '4840': 7056, 'AirportCardio': 7057, ' 4097': 7058, 'matt': 7059, 'condo': 7060, 'UA1764': 7061, '#flyjetblue': 7062, '#passengerbillofrights': 7063, 'BGM': 7064, 'twenty': 7065, 'abc': 7066, '#worstcustomerservice': 7067, 'preference': 7068, '@allegiantair': 7069, 'YVR': 7070, 'Tld': 7071, 'recharge': 7072, 'backing': 7073, 'kc': 7074, 'systemwide': 7075, '#shouldigetoutandpush': 7076, 'Brandi': 7077, 'availab': 7078, '6AM': 7079, 'Xoxo': 7080, 'richard': 7081, '22iPGeIcSm': 7082, '+?': 7083, '#LiveOnFOX17': 7084, 'EMS': 7085, 'five': 7086, ' 4110': 7087, 'Dallas': 7088, 'preselect': 7089, '#Avgeek': 7090, 'tmccExYaaQ': 7091, 'Ithica': 7092, 'LAUREN': 7093, '20min': 7094, 'allergic': 7095, 'severe': 7096, '30PM': 7097, '$159.': 7098, 'alternative': 7099, ' 463': 7100, 'applause': 7101, 'greedy': 7102, 'UA3466': 7103, 'A1': 7104, '#WTF': 7105, 'Gabriela': 7106, 'B46': 7107, '27.Just': 7108, 'cool': 7109, '@ThisIsCoach': 7110, 'hope': 7111, 'EP': 7112, '@Stone9956': 7113, '#flysouthwest': 7114, '25-oct': 7115, '@jhamilton2007': 7116, 'Andrew': 7117, 'few': 7118, 'announcement': 7119, 'Georgia': 7120, '#thankful': 7121, '#INeedCoffee': 7122, 'rid': 7123, '#UA1724': 7124, 'la-la': 7125, 'na': 7126, 'specialist': 7127, ' 816': 7128, 'improper': 7129, '7PM': 7130, 'Jedediah': 7131, 'diverge': 7132, 'Ahhhhh': 7133, 'German': 7134, ' 386': 7135, 'funeral': 7136, 'see': 7137, 'Btw': 7138, 'functional': 7139, '........': 7140, '4x': 7141, '$1038': 7142, 'Jim': 7143, 'nada': 7144, '@philpete': 7145, '#tripofalifetime': 7146, 'Amex': 7147, 'acc': 7148, 'Philly': 7149, 'pressure': 7150, 're-accommodation': 7151, 'laughe': 7152, 'fantastic': 7153, '#381': 7154, '41G': 7155, 'struggle': 7156, '@PamGrout': 7157, 'Oct': 7158, 'fine': 7159, '#SOhappy': 7160, 'wander': 7161, 'Barklays': 7162, '@getmeontop': 7163, '#byod': 7164, '@sfo': 7165, '#makeovertime': 7166, 'bitch': 7167, 'gin': 7168, 'mid-B': 7169, 'PM': 7170, 'US3825': 7171, 'accommodation': 7172, ' 1903': 7173, 'appeal': 7174, 'disturb': 7175, 'revieving': 7176, 'Washington': 7177, '#GoingForGreat': 7178, 'UA6016053916': 7179, 'poorplanning': 7180, 'resolve': 7181, 'table': 7182, 'great': 7183, 'cutting': 7184, '#lastflightofthenight': 7185, ' 44': 7186, 'derrick': 7187, 'trial': 7188, 'incentive': 7189, 'Reno': 7190, '$1000': 7191, 'AA2402': 7192, 'Cuz': 7193, 'yall': 7194, 'M9Nywr5Kbs': 7195, 'ingredient': 7196, 'Knoxville': 7197, 'fear': 7198, 'wlcm': 7199, '@MurphyJulie': 7200, 'there': 7201, 'characterize': 7202, '#RipOffs': 7203, 'yourself': 7204, 'strike': 7205, 'capability': 7206, 'inside': 7207, 'top': 7208, '#hitawall': 7209, 'she': 7210, 'head': 7211, 'shatter': 7212, 'restriction': 7213, 'Bhm': 7214, 'insanity': 7215, '@comcast': 7216, 'inaccurate': 7217, 'satisfactory': 7218, ' 4.5': 7219, 'expect': 7220, 'bummer': 7221, 'Jacquie': 7222, 'trash': 7223, 'aOEaeszDLX': 7224, 'sleep': 7225, 'advis': 7226, 'Unknowledgeable': 7227, ' 3466': 7228, '#takemeback': 7229, 'ERI-EWR': 7230, 'FS4VE7': 7231, ' 651': 7232, 'contend': 7233, 'AA157': 7234, 'LH7631': 7235, ' 7:30': 7236, 'think': 7237, 'TrueBlue': 7238, '#albanyairport': 7239, 'satisfactorily': 7240, 'perform': 7241, 'reboard': 7242, 'phl-dfw': 7243, 'avRTOWTyzk': 7244, '#PHX': 7245, 'extraordinary': 7246, '#TakeResponsibility': 7247, ' 4420,': 7248, '@DIRECTTV': 7249, ' 2': 7250, 'putt': 7251, 'extent': 7252, 'instruct': 7253, 'dead': 7254, '50pm': 7255, '#Thankful': 7256, 'on-call': 7257, '#bestemployees': 7258, 'concentrate': 7259, 'perhaps': 7260, 'pref': 7261, 'speciifc': 7262, 'Cty': 7263, 'tFaNXBh1Cf': 7264, 'privilege': 7265, 'shortage': 7266, 'twelve': 7267, '6491': 7268, 'dc-10': 7269, ' 1109': 7270, 'basic': 7271, 'dread': 7272, 'Spagnuolo': 7273, 'exacerbate': 7274, '@were': 7275, 'Russ': 7276, 'Lima': 7277, 'clarification': 7278, '?)': 7279, '#weakservice': 7280, 'something': 7281, '@FtLauderdaleSun': 7282, '#babyfood': 7283, 'Desperately': 7284, '#usairwaysfail': 7285, 'education': 7286, 'phone': 7287, 'decide': 7288, '#bullying': 7289, 'Birmingham': 7290, '#Wronganswer': 7291, 'sine': 7292, 'reFlight': 7293, 'CMH-oak': 7294, '@Southwest': 7295, ' 2222,': 7296, 'IAD': 7297, 'bout': 7298, '#LUVisbetter': 7299, 'because': 7300, 'query': 7301, 'or': 7302, '#NeverAgain': 7303, 'WTH': 7304, 'expens': 7305, '#ragandisney': 7306, '#SanFrancisco': 7307, '@brewcrewfan8': 7308, 'memo': 7309, '#anotherfail': 7310, 'measure': 7311, 'detector': 7312, 'meeting': 7313, 'DVR': 7314, 'BHM': 7315, 'shout': 7316, 'NY6CS7jRuV': 7317, '$79': 7318, 'watch': 7319, 'bourbon': 7320, 'actively': 7321, ' 910': 7322, 'against': 7323, 'apt': 7324, 'c19': 7325, '2nite': 7326, '@SpecialOlympics': 7327, 'gng': 7328, '2.5yrs': 7329, 'DAL-AUS': 7330, 'condolence': 7331, 'angel': 7332, ' 1729': 7333, 'aviv': 7334, '1at': 7335, 'department': 7336, 'shade': 7337, 'worth': 7338, 'md': 7339, '#fustrated': 7340, '#ShoutOut': 7341, ' 622': 7342, ' 1848,': 7343, 'holdup': 7344, 'discuss': 7345, 'accurately': 7346, 'able': 7347, '#travelfail': 7348, ' 2:30': 7349, '#worstservice': 7350, 'night': 7351, 'Definitely': 7352, ' 915': 7353, 'suppose': 7354, 'anyway': 7355, '#LifeIsGood': 7356, 'emergency': 7357, '@DCA': 7358, 'Info': 7359, ' 3511': 7360, ' 5:05': 7361, 'Cabo': 7362, 'AA2401': 7363, 'qn5odUGFqK': 7364, 'April': 7365, 'expensive': 7366, 'srv': 7367, '@flightaware': 7368, 'pricey': 7369, '@Leinenkugels': 7370, 'nim': 7371, ' 1839': 7372, 'superhero': 7373, '#whatstheholdup': 7374, 'Indy': 7375, 'unusable': 7376, '70plus': 7377, 'specifically': 7378, 'impact': 7379, ' 737': 7380, ' 1644': 7381, 'blah': 7382, '#customerexperience': 7383, 'nitrogen': 7384, '#ThereIsAFirstForEverything': 7385, '7-hour': 7386, 'up': 7387, 'commit': 7388, 'ding': 7389, 'conveniently': 7390, 'prime': 7391, 'computer': 7392, 'Smh': 7393, '#justsaying': 7394, 'mechanics': 7395, '?!??': 7396, 'vegan': 7397, ' 38': 7398, 'insult': 7399, 'fwwe7f': 7400, '3dDQq0gQni': 7401, 'nwk': 7402, 'hv': 7403, 'Barbados': 7404, 'Thanku': 7405, 'conveyor': 7406, '9rAGncw2Bk': 7407, '#switch2SBux': 7408, '#OhioProbz': 7409, '72RMpkOGwu': 7410, 'stain': 7411, 'Cana': 7412, ' 51': 7413, 'leg': 7414, 'iOS': 7415, 'strategy': 7416, 'flat': 7417, 'KMQuLY9g5E': 7418, 'disorganization': 7419, '#andthewinneris': 7420, '#NaviMumbai': 7421, 'mo': 7422, '#500': 7423, '#FCmostinnovative': 7424, 'sentimental': 7425, 'alas': 7426, ' 1384': 7427, 'problem': 7428, '#angryandsober': 7429, '@SpiritAirlines': 7430, 'MzZfGqfHu2': 7431, 'Thks': 7432, 'extension': 7433, '#Pathetic': 7434, 'rich': 7435, '25mins': 7436, 'witness': 7437, '#stress': 7438, 'wrench': 7439, 'cloud': 7440, 'hare': 7441, 'style': 7442, 'spoil': 7443, 'pX8hQOKS3R': 7444, '+': 7445, 'dispatch': 7446, 'Indianapolis': 7447, '#lostsuitcase': 7448, 'Los': 7449, 'pound': 7450, 'Narita': 7451, 'pride': 7452, 'moderate': 7453, 'tNY9uIpha5': 7454, '@CookJaycook123': 7455, 'pin': 7456, '#inept': 7457, ' 1032': 7458, '#theydontanswer': 7459, 'significantly': 7460, 'cream': 7461, '#1531': 7462, 'honeymoon': 7463, '#aaadvantage': 7464, 'Westchester': 7465, 'york': 7466, '#onlyblue': 7467, ' 849': 7468, '#homewardbound': 7469, '#gogo': 7470, 'spread': 7471, '#doesntfeellikestatusyet': 7472, 'intern': 7473, 'becuase': 7474, 'convo': 7475, 'agreement': 7476, 'impossibly': 7477, 'lower': 7478, 'assistance': 7479, '15lb': 7480, '#2daysofunitedfailures': 7481, 'host': 7482, 'fritz': 7483, 'ambassador': 7484, 'el': 7485, '820pm': 7486, 'allergy': 7487, 'OMG': 7488, 'supp': 7489, 'briefing': 7490, 'now': 7491, 'visit': 7492, '656.xx': 7493, 'John': 7494, '#wah': 7495, 'tlPBaupIk5': 7496, 'addtl': 7497, '#liars': 7498, 'FJBFSC': 7499, 'uninformed': 7500, '#needcoffee': 7501, 'agency': 7502, 'hFjYN2vtVj': 7503, 'chewey': 7504, 'insensitive': 7505, '@bretharold': 7506, 'jetbridge': 7507, 'gong': 7508, 'ERI-ORD': 7509, 'QdXfT9qqT9': 7510, 'us651621': 7511, '???!!': 7512, ' 2293': 7513, 'CLE-SFO': 7514, ' 7403607771.': 7515, '#bastards': 7516, 'next': 7517, 'Kay': 7518, 'N598JB': 7519, '#wifi': 7520, 'hepl': 7521, '!!!!!!!!!!!!!!!!!!!!!!!!!!!': 7522, 'device': 7523, 'QRxz0bGbtq': 7524, 'cx': 7525, '18': 7526, 'dfw-lax': 7527, 'horse': 7528, 'tTXRSyNLxr': 7529, 'Yall': 7530, 'aboout': 7531, 'GRK': 7532, '@Marriott': 7533, 'faithful': 7534, 'gorgeous': 7535, '18feb': 7536, '#1': 7537, '1pm': 7538, 'attach': 7539, '#1776': 7540, '#1071': 7541, 'flt1533': 7542, '12pm': 7543, 'Columbia': 7544, 'RR': 7545, 'GJT': 7546, 'miler': 7547, 'Nicole': 7548, 'valid': 7549, '—': 7550, 'USAirways': 7551, '19': 7552, 'salt': 7553, 'Delaney': 7554, 'corporate': 7555, '$566.80': 7556, 'designer': 7557, ' 2100': 7558, '$100': 7559, 'Nah': 7560, 'iAd': 7561, 'naval': 7562, 'painless': 7563, ' 4016688561': 7564, 'particularly': 7565, 'gracias': 7566, 'UA936': 7567, '#people': 7568, 'OKC': 7569, 'pay': 7570, '@BET': 7571, 'undo': 7572, '#scareways': 7573, '#letsgo': 7574, '@Leopolds_ic': 7575, 'gate': 7576, 'isn': 7577, 'DEN-DFW': 7578, 'atl': 7579, 'dispute': 7580, 'five-word': 7581, 'brave': 7582, '@bwood': 7583, '$59': 7584, 'order': 7585, 'STL': 7586, 'hassle': 7587, 'flight424': 7588, '#FreeNeverSucks': 7589, 'early': 7590, '...(': 7591, 'overprice': 7592, 'family': 7593, ' 502,': 7594, 'SFO-FLL': 7595, ' 21': 7596, 'door': 7597, 'relay': 7598, '23': 7599, 'financial': 7600, 'xtra': 7601, 'purely': 7602, ' 226': 7603, 'existent': 7604, '?).': 7605, 'free': 7606, '#NoService': 7607, 'journey': 7608, 'scatter': 7609, '9Gx5mMmubb': 7610, '4-minute': 7611, ' 4471': 7612, '@hotmail': 7613, 'C4': 7614, 'lingo': 7615, 'maybe': 7616, 'sunny': 7617, 'Flightst': 7618, 'Supposedly': 7619, 'fraud': 7620, 'download': 7621, 'perk': 7622, '@fispahani': 7623, 'FlightLED': 7624, 'hooray': 7625, 'tier': 7626, '#bluecarpet': 7627, '#RoadWarrior': 7628, ' 494.': 7629, 'considerable': 7630, 'shoutout': 7631, 'imagine': 7632, 'fustrated': 7633, 'place': 7634, '@emrey35': 7635, 'os': 7636, 'Wtf': 7637, '@A_Life_Story_': 7638, 'impossible': 7639, 'resume': 7640, 'LE2V9D': 7641, 'FSZ4YO': 7642, 'cue': 7643, 'insane': 7644, '#bestairline': 7645, '@TheEllenShow': 7646, 'fligths': 7647, 'treacherous': 7648, 'guilty': 7649, 'descent': 7650, 'content': 7651, '#jokesonus': 7652, '1791': 7653, 'gun': 7654, 'aviation': 7655, 'Didnt': 7656, '#Fail': 7657, '4hrs': 7658, 'very': 7659, '#dictionary': 7660, 'cockroach': 7661, '@mxo42': 7662, 'F6DK04': 7663, '24th': 7664, 'evn': 7665, ' 356': 7666, 'follow': 7667, '#howisthatpossible': 7668, 'Naelah': 7669, 'out-of-date': 7670, 'Idaho': 7671, '#travel': 7672, 'emRUbu4WzD': 7673, 'A3ZZ0F': 7674, '0': 7675, 'cIh1qNllcM': 7676, 'checkpoint': 7677, '1hr': 7678, ' 1672.': 7679, 'homeward': 7680, '#joke': 7681, 'hello': 7682, 'sit': 7683, '#technology': 7684, 'JFK-lax': 7685, '#thankyou': 7686, '@ABCNetwork': 7687, '@burningman': 7688, 'Yikes': 7689, 'hockey': 7690, 'ser': 7691, 'qualify': 7692, 'liable': 7693, 'bitchy': 7694, 'Capt': 7695, 'nullify': 7696, 'personalize': 7697, 'impressive': 7698, 'phone-not': 7699, 'whatsoever': 7700, '#getmeoffthisbird': 7701, '37d': 7702, 'support': 7703, 'contractor': 7704, '#Complaint': 7705, 'bur': 7706, 'Jesus': 7707, '#TrueBlueColors': 7708, 'notification-': 7709, 'msg': 7710, 'stubborn': 7711, '#JustGetMeHome': 7712, '#MiAmore': 7713, 'soooo': 7714, ' 395.': 7715, 'Fudgers': 7716, 'prepare': 7717, 'Wi-Fi': 7718, 'substantial': 7719, '1-800-433-7300': 7720, '46min': 7721, '#unitedworstever': 7722, 'traveller': 7723, 'countless': 7724, 'profit': 7725, 'Barbara': 7726, '46n9kDcsxU': 7727, 'usual': 7728, 'Ij4xL01tKX': 7729, 'aspen': 7730, 'quantas': 7731, '50K': 7732, 'software': 7733, 'average': 7734, 'hstg': 7735, 'Janet': 7736, 'UA1516': 7737, '@nyjets': 7738, '#systemwide': 7739, 'corporation': 7740, 'lo': 7741, ' 433': 7742, 'SC': 7743, 'GSP': 7744, 'ohk': 7745, 'fool': 7746, '#bagsflyfree': 7747, 'l7hSnLgie2': 7748, 'forth': 7749, 'terra': 7750, 'quality': 7751, 'beautifully': 7752, 'On-hold': 7753, 'fuck': 7754, 'counter': 7755, 'PanAm': 7756, 'town': 7757, 'adjacent': 7758, '699': 7759, '#DividendRewards': 7760, 'scold': 7761, 'post': 7762, '2chng': 7763, 'audio': 7764, '!....': 7765, 'assign': 7766, 'snack': 7767, 'luggage': 7768, 'pillow': 7769, '38E': 7770, '@AmericanAir-everyone': 7771, 'shambles': 7772, 'honor': 7773, 'revisit': 7774, 'worldwide': 7775, 'ATL-AUS': 7776, 'vw2v8GVnGq': 7777, 'mama': 7778, 'NsJWVTTjGo': 7779, '24hrs': 7780, 'nail': 7781, 'recommendation': 7782, 'bigger': 7783, ' 2417': 7784, 'etc': 7785, 'whiplash': 7786, 'nickel': 7787, ' 4609': 7788, 'lap': 7789, 'hahahahaha': 7790, 'Regina': 7791, ' 959': 7792, 'satisfaction': 7793, 'bake': 7794, '#reclameaqui': 7795, 'armrest': 7796, '#youcouldntmakethis': 7797, '@hgeronemus': 7798, 'fligth': 7799, 'Hasn': 7800, 'agent-book': 7801, '@yvonneokaka': 7802, 'intend': 7803, '#TT': 7804, 'country': 7805, 'hook': 7806, 'Non-vegan': 7807, 'O0745APIau': 7808, 'clueless': 7809, 'sou': 7810, 'cae': 7811, 'delayed-no': 7812, '#awkward': 7813, 'U69fAfqhsF': 7814, 'ATH': 7815, 'plunder': 7816, 'recycle': 7817, 'fixe': 7818, '04SDytT7zd': 7819, 'breathing': 7820, 'Avis': 7821, 'EczHcmM5vi': 7822, 'sick': 7823, 'butt': 7824, 'tire': 7825, 'wish': 7826, 'GSA': 7827, 'alternate': 7828, 'UA475': 7829, '@Maddie_flood': 7830, 'consumption': 7831, ' 2062': 7832, '#noair': 7833, 'advantage': 7834, 'unknow': 7835, ' 129': 7836, 'failback': 7837, 'from': 7838, 'scQUjbvsTA': 7839, ' 738,': 7840, ' 98': 7841, 'Shouldnt': 7842, 'cnxns': 7843, '#jetbluerocks': 7844, 'chicago': 7845, ' 408.': 7846, 'FRA-cat': 7847, ' 1:45': 7848, 'checkin': 7849, 'trip': 7850, 'mindset': 7851, '8qsQMM7KF2': 7852, 'ORD--': 7853, '#gratitude': 7854, 'stamp': 7855, ' 1843': 7856, ' 5.': 7857, ' 700': 7858, ' 1416': 7859, 'liar': 7860, ' 6.99': 7861, ' 304': 7862, '#business': 7863, ' 305': 7864, 'cram': 7865, 'SBA': 7866, 'oui': 7867, 'major': 7868, 'Louisville': 7869, 'XT': 7870, '@Reagan_airport': 7871, 'to-': 7872, 'UTAH': 7873, '#AA': 7874, 'aus': 7875, 'manifest': 7876, 'b': 7877, '#SF': 7878, 'CSRs': 7879, ' 10:35': 7880, 'buyer': 7881, 'discount': 7882, ' 495': 7883, 'thankyou': 7884, 'might': 7885, 'surfboard': 7886, 'shine': 7887, 'oneworld': 7888, 'aboard': 7889, 'PJs': 7890, 'defend': 7891, 'decline': 7892, 'kick': 7893, 'steal': 7894, 'common': 7895, '#cheatcustomers': 7896, 'Hilton': 7897, '@united-rebook': 7898, 'PVD-IAD': 7899, 'grasshopper': 7900, 'bussey': 7901, 'basically': 7902, 'connectin': 7903, 'Hilo': 7904, 'true': 7905, 'rectify': 7906, '#tellyourstory': 7907, 'scenario': 7908, 'Tanpa': 7909, 'elhxUV0Uj1': 7910, 'kinda': 7911, 'menu': 7912, 'O': 7913, ' 475': 7914, 'continental': 7915, ' 1109.': 7916, '@TatianaKing': 7917, '#mia': 7918, 'UA1266': 7919, '#spousal': 7920, '$49': 7921, '@PhilaCarService': 7922, 'curt': 7923, 'o': 7924, 'comm': 7925, 'Annnndddd': 7926, 'cheesy': 7927, ' 559': 7928, 'JB': 7929, '#Southwest': 7930, 'Plitt': 7931, '48hrs': 7932, ' 528': 7933, 'biz': 7934, 'iconography': 7935, 'B18': 7936, 'Thnx': 7937, '#AlwaysDelayedOnUnited': 7938, 'Bagage': 7939, 'flt1727': 7940, '57am': 7941, 'strange': 7942, 'copilot': 7943, 'unprofessionalism': 7944, 'boat-style': 7945, 'rental': 7946, 'char': 7947, 'minimal': 7948, 'remove': 7949, '@jetblue': 7950, 'heat': 7951, 'ystday': 7952, '#wishmyflightwaslonger': 7953, 'community': 7954, 'CaptiveAudience': 7955, 'appreciate': 7956, '#London': 7957, '#nomoAA': 7958, ' 4.': 7959, 'incident': 7960, 'steward': 7961, 'PHX': 7962, '#bummed': 7963, '@MO3TVida': 7964, 'lauderdale-Bogotá': 7965, 'sf': 7966, ' 12': 7967, 'Mex': 7968, '#usairwaysfailscustomers': 7969, 'neighbor': 7970, 'nvLnGLnMGN': 7971, 'retake': 7972, 'lax29108m': 7973, '#hopetogetanswersoon': 7974, '$179': 7975, 'Kinda': 7976, 'whole': 7977, 'constant': 7978, 'NOLA': 7979, '#done': 7980, 'ideal': 7981, 'XOXO': 7982, 'justify': 7983, '#BaggageDrama': 7984, 'behalf': 7985, '@USAirways-': 7986, 'gosh': 7987, 'young': 7988, 'sign-on': 7989, 'promptly': 7990, '#failover': 7991, 'reagan': 7992, 'tryna': 7993, 'nor': 7994, '#HELP': 7995, 'Az': 7996, 'culture': 7997, '#whenitsnowsitpours': 7998, '#ORD': 7999, 'Shawn': 8000, '#slow-fi': 8001, '#poorservice': 8002, '@LAS': 8003, 'whom': 8004, 'overhear': 8005, '#happytweet': 8006, 'latinamerican': 8007, 'void': 8008, 'req': 8009, 'make': 8010, 'throw': 8011, ' 5302': 8012, '#3hourdelay': 8013, 'sense': 8014, 'blow': 8015, '#fail': 8016, 'UA469': 8017, 'vacate': 8018, 'F38ish': 8019, 'infant': 8020, 'unavoidable': 8021, 'date': 8022, 'logic': 8023, 'ralph': 8024, '#Stranded': 8025, 'illiterate': 8026, '#LostinLove': 8027, 'observe': 8028, 'remember': 8029, 'PWM': 8030, 'dust': 8031, '#curvygirltravels': 8032, 'count': 8033, '#thanksamericanairlines': 8034, ' 5:51': 8035, 'exclusively': 8036, ' 4840': 8037, '#GetMeOuttaHere': 8038, '@CGJase': 8039, 'inconvenience': 8040, 'Effin': 8041, 'hop': 8042, '7-10': 8043, 'EWR-PDX': 8044, 'beloved': 8045, 'absolute': 8046, ' 1137,': 8047, '2.': 8048, '#nolove': 8049, 'occur': 8050, 'leathery': 8051, 'contract': 8052, ' 4278': 8053, 'handedly': 8054, 'Chinese': 8055, 'unusual': 8056, 'Bueno': 8057, '$304': 8058, '#service': 8059, 'feck': 8060, 'entertainment': 8061, '@pattonoswalt': 8062, 'crook': 8063, 'Extremely': 8064, '1m36NTPTR8': 8065, 'youd': 8066, 'anywhere': 8067, 'swindle': 8068, 'flutter': 8069, 'dissatisfy': 8070, '@Kaha58': 8071, 'lot': 8072, 'Annamarie': 8073, 'YEG': 8074, 'result': 8075, '#417': 8076, '#1687': 8077, 'overflow': 8078, 'uncourteous': 8079, '#LieFlat': 8080, '#jetblueBlues': 8081, '#goodenoughmother': 8082, '1.5hrs': 8083, 'McLarren': 8084, '#ishouldhavedriven': 8085, ' 4200': 8086, 'inactivity': 8087, 'deliver': 8088, 'cricket': 8089, 'gLXFwP6nQH': 8090, 'in-browser': 8091, 'rage': 8092, '$375': 8093, '130am': 8094, '@Mia': 8095, 'Yuma': 8096, 'things--the': 8097, 'bloat': 8098, '@0xjared': 8099, 'internationally': 8100, 'dm': 8101, 'fist': 8102, 'Fam': 8103, '#CustExp': 8104, 'carol': 8105, 'Firefox': 8106, 'wantcharge': 8107, 'Parker': 8108, '#neverflyvirgin': 8109, 'Uld0hWFkfo': 8110, '50AM': 8111, 'criterion': 8112, 'walkway': 8113, 'DAL-MDW': 8114, '@41CGQueen': 8115, 'alone': 8116, 'flyfi': 8117, '24-2': 8118, 'Fedora': 8119, 'damage': 8120, '#Frankfurt': 8121, '#8thtime5MonthsOld': 8122, '1170': 8123, 'transatlantic': 8124, ' 1108': 8125, 'Lucia': 8126, '#no2jetblue': 8127, 'didnt': 8128, 'Dfw': 8129, 'IG2dgctt2M': 8130, '#surf': 8131, 'mot': 8132, 'Clarence': 8133, 'idk': 8134, 'sunshine': 8135, '$856.81': 8136, 'feeling': 8137, '$35': 8138, ' 4369.': 8139, '#missmykids': 8140, 'C38': 8141, '75yo': 8142, ' 11:51': 8143, 'followup': 8144, 'fix': 8145, 'm81rV0blxs': 8146, ' 17.': 8147, ' 2334': 8148, '#bullshit': 8149, 'scale': 8150, ' 790': 8151, 'Faaaannntastic': 8152, 'prepurchase': 8153, 'Wilmington': 8154, '#FAILINGYOURCUSTOMER': 8155, 'florida': 8156, 'competitor': 8157, 'operate': 8158, 'awe': 8159, 'stollen': 8160, 'restore': 8161, ' 11:50': 8162, 'non-service': 8163, ' 5141': 8164, 'herbal': 8165, 'offer': 8166, 'flex': 8167, 'genius': 8168, 'mass': 8169, '#flight293': 8170, 'painfully': 8171, 'JIEYCat1Ek': 8172, '#ijustwanttobeinBoston': 8173, 'standard': 8174, 'notice': 8175, 'smh': 8176, 'efficiency': 8177, 'C26': 8178, '#fakesincerity': 8179, 'profile': 8180, 'final': 8181, 'consistently': 8182, 'Gnv': 8183, '22': 8184, ' 404': 8185, ' 964078': 8186, 'ATL-HOU': 8187, 'JMnkJ6Bmc2': 8188, 'bird': 8189, 'front-end': 8190, 'arbitrarily': 8191, 'greeting': 8192, 'non-empty': 8193, ' 1001': 8194, 'Fyi': 8195, 'AA1657': 8196, 'drunk': 8197, 'WDAKTmr7Mj': 8198, 'a320': 8199, 'Brent': 8200, 'Lynn': 8201, 'bush': 8202, '7VeE44MACM': 8203, 'forecast': 8204, 'hit': 8205, ' 635.': 8206, 'compound': 8207, 'arrange': 8208, '#piss': 8209, '#1007': 8210, '$440.': 8211, '@jlittle100': 8212, 'login': 8213, 'acquire': 8214, 'Julie': 8215, ',,,': 8216, 'Thailand': 8217, 'chuckhole': 8218, 'accord': 8219, 'METARs': 8220, 'lisa': 8221, 'LITERALLY': 8222, 'terribly': 8223, '#FlyUS': 8224, 'grateful': 8225, 'advertise': 8226, 'regardless': 8227, '#americanisbetter': 8228, '@annricord': 8229, 'pie': 8230, 'smybag': 8231, '@me': 8232, 'bked': 8233, 'absurd': 8234, '@SeanVRose': 8235, 'laura': 8236, '#idlovetoask': 8237, 'grant': 8238, 'gonna': 8239, ' 10:30.': 8240, '#LondonFashionWeek': 8241, 'attitude': 8242, '#NoSupport': 8243, '!??': 8244, 'mission': 8245, 'BEqoTLNugc': 8246, 'elevator': 8247, '@wamo66': 8248, 'guinea': 8249, 'sanitizer': 8250, 'mag': 8251, 'unbalance': 8252, 'Rachel': 8253, '@bdl': 8254, 'bwi': 8255, 'tone': 8256, 'flight': 8257, '@travisamex': 8258, '#youcandobetter': 8259, ' 1703,': 8260, 'nonexistent': 8261, '#UA4753': 8262, 'med': 8263, 'attdt': 8264, 'cause': 8265, ' 5350': 8266, ' 424': 8267, 'utterly': 8268, 'Iberia': 8269, 'consider': 8270, 'jealous': 8271, 'Monika': 8272, 'DFW': 8273, 'bham': 8274, ' 918': 8275, 'Scooby': 8276, ' 6:47': 8277, '#EpicFail': 8278, 'cutoff': 8279, '#lovesouthwest': 8280, 'ability': 8281, 'death': 8282, '@FatTire': 8283, '#PRBound': 8284, 'old': 8285, 'assure': 8286, 'evolve': 8287, 'TpzhjX7Hbt': 8288, 'stellar': 8289, 'BOS-FLL': 8290, 'quirkiness': 8291, 'Asia': 8292, '@Amagrino': 8293, ' 953': 8294, '!)': 8295, '00p': 8296, 'ah': 8297, '?!?': 8298, 'las': 8299, 'Boeing': 8300, 'courteous': 8301, 'travel': 8302, 'cert': 8303, 'occupy': 8304, 'split': 8305, 'Bc': 8306, 'lip': 8307, ' 2086': 8308, 'Dubai': 8309, 'rr': 8310, 'Tasha': 8311, 'Huh': 8312, '@c_istudios': 8313, '‘': 8314, 'Eri': 8315, 'Watson': 8316, 'area': 8317, '#JETBLUE': 8318, 'handbag': 8319, 'Yvonne': 8320, 'unfortunate': 8321, 'Maui': 8322, '@HelsinkiAirport': 8323, 'VX399': 8324, ' 86': 8325, 'seemless': 8326, 'toiletry': 8327, 'whereabouts': 8328, 'misbehavior': 8329, 'redeye': 8330, '#uncomfortable': 8331, 'modification': 8332, 'domestic': 8333, 'hlp': 8334, 'Mtgs': 8335, '#Hour20Delay': 8336, 'MHtT': 8337, 'heading': 8338, '#SOS': 8339, 'fiction': 8340, '#nooption': 8341, ' 380': 8342, 'Gt6umHbh43': 8343, 'stand': 8344, 'amateurish': 8345, 'deboard': 8346, 'chairmans': 8347, ' 70': 8348, 'Midland': 8349, '#ColtsMissingBags': 8350, 'srsly': 8351, 'C8mqEzXVdH': 8352, 'coach': 8353, 'itinerary': 8354, 'which': 8355, 'prefference': 8356, 'hadn': 8357, 'comically': 8358, 'extinct': 8359, 'royal': 8360, '???': 8361, 'interfere': 8362, '#trueblue': 8363, 'hosp': 8364, '#NoExcuses': 8365, 'Soooo': 8366, 'hazard': 8367, 'wating': 8368, 'Smisek': 8369, ':)': 8370, 'un': 8371, 'android': 8372, 'vacatinn': 8373, 'Qf0Oc2HqeZ': 8374, 'annual': 8375, 'push': 8376, 'ive': 8377, ' 699.': 8378, 'apx': 8379, 'sloooooow': 8380, 'DEN-': 8381, 'X4tDY84dBH': 8382, 'spend': 8383, 'reqs': 8384, 'so': 8385, 'maker': 8386, 'overwhelm': 8387, 'improvement': 8388, 'anyone': 8389, 'at-gate': 8390, 'afternoon': 8391, '@IFlyOAKland': 8392, 'certain': 8393, 'anxiety': 8394, '#skytrax': 8395, 'txting': 8396, 'SPEAK*': 8397, 'ab': 8398, 'austin': 8399, 'everyone': 8400, 'challenge': 8401, '#badcustomersrvice': 8402, 'await': 8403, '#whatacluster': 8404, 'NeHnsDCkTY': 8405, '’': 8406, '++.': 8407, '#waiting': 8408, 'daryl': 8409, 'twice': 8410, '#3367': 8411, 'spectacular': 8412, 'Carlton': 8413, 'central': 8414, ' 1028': 8415, 'thin': 8416, '#AATeam': 8417, ' 5612': 8418, 'san': 8419, 'Olympic': 8420, 'toothpaste': 8421, 'mDbDYomrs7': 8422, 'rudely-return': 8423, 'intact': 8424, '#ThankGoodness': 8425, '#flight1797': 8426, '1801-': 8427, '@slcairport': 8428, 'cp': 8429, '#myVXexperience': 8430, '#failure': 8431, 'hayden': 8432, 'clearing': 8433, 'mark': 8434, 'reachable': 8435, 'pamper': 8436, ' 440,': 8437, 'U': 8438, 'inability': 8439, 'Samantha': 8440, 'NY': 8441, '#WereNotinCaliAnymore': 8442, 'soon': 8443, '4ward': 8444, '214-725-1966': 8445, 'em': 8446, '#inefficient': 8447, 'pseudo-voucher': 8448, '#besty': 8449, ' 17': 8450, ' 1274': 8451, '#FirstClass': 8452, 'fresno': 8453, 'assume': 8454, 'swing': 8455, '@4geiger': 8456, 'cuss': 8457, 'ski': 8458, 'Mr': 8459, '#4435': 8460, 'kindness': 8461, 'DTW': 8462, 'wouldve': 8463, 'odds': 8464, 'misplace': 8465, 'groupA': 8466, '!\"': 8467, 'user': 8468, 'patience': 8469, 'establish': 8470, 'MvYoizRPdE': 8471, '5182': 8472, '#GetItTogether': 8473, '#nogearnotraining': 8474, 'perspective': 8475, '#StrandUsInDenver': 8476, 'Laguardia': 8477, 'belong': 8478, 't3Gnk2N7LD': 8479, '@paulgordonbrown': 8480, 'Jeanette': 8481, '#usairsucks': 8482, 'happy': 8483, 'eager': 8484, ' 1080.': 8485, 'available': 8486, 'headline': 8487, '@BattierCCIpuppy': 8488, 'allowance': 8489, 'brain': 8490, 'crisis': 8491, 'delicious': 8492, '#needtocatchmynextflight': 8493, 'scam': 8494, 'NH': 8495, 'seg': 8496, 'holder': 8497, '@cbcallinaday': 8498, 'stop': 8499, '3months': 8500, 'fb': 8501, 'kiosk': 8502, '@nanceebing': 8503, 'roll': 8504, 'apparent': 8505, 'flightaware': 8506, 'spotify': 8507, ' 1:34': 8508, 'fake': 8509, 'zigzag': 8510, 'contain': 8511, '}}': 8512, 'gent': 8513, '#dissaponted': 8514, '#flyingwithUS': 8515, '@cameron__roe': 8516, '#theworst': 8517, 'Flcnnn2USD': 8518, '#again': 8519, 'buddy': 8520, '1stClass': 8521, 'FF': 8522, '@jameswester': 8523, '#orf': 8524, 'irritate': 8525, 'SJQEmDtQmA': 8526, '#careyon': 8527, 'Q4VNMB': 8528, 'midnight': 8529, 'Calderon': 8530, 'Hayes': 8531, 'concept': 8532, 'booklet': 8533, '#Belize': 8534, 'Couldn': 8535, 'door-clo': 8536, 'pool': 8537, 'phl-mia': 8538, 'cinnabons': 8539, 'compete': 8540, 'TOS': 8541, 'maint': 8542, '#waitingforbags': 8543, '#OscarNight': 8544, '0400': 8545, 'Cartagena': 8546, 'spill': 8547, 'good': 8548, 'reluctant': 8549, '#shocked': 8550, 'Daniel': 8551, '4am': 8552, 'sol': 8553, 'UA938': 8554, 'cup': 8555, 'EUl6sDURbU': 8556, '730a': 8557, '@JetBlue': 8558, '@BuffaloAirport': 8559, 'tO': 8560, '#scheduling': 8561, 'apathetic': 8562, 'shrug': 8563, 'VA': 8564, ' 1081': 8565, 'inaccessibility': 8566, '@BarclaycardUS': 8567, 'trust': 8568, 'carseat': 8569, 'marathon': 8570, 'FINALLY': 8571, ' 11.5': 8572, 'n': 8573, 'profitable': 8574, '@FinleyBklynCFS': 8575, '#reFlight': 8576, 'inferior': 8577, 'wall': 8578, 'load': 8579, '#lovejetBlue': 8580, 'FT1892': 8581, 'must': 8582, 'vibrant': 8583, 'aisle': 8584, 'beought': 8585, 'sweetheart': 8586, 'retain': 8587, 'gill': 8588, 'Srvc': 8589, 'fleet': 8590, 'yearly': 8591, '@CiscoJimFrench': 8592, '@RLDelahunty': 8593, 'supporter': 8594, '#3345': 8595, 'gay': 8596, '#JetBlue': 8597, 'mislead': 8598, 'dare': 8599, '@AuroraBIZ': 8600, 'UA5025': 8601, '#TailfinThursday': 8602, 'Unfortunately': 8603, '#yourphonesystemsucks': 8604, '#ExecutivePlatinumMeansNothing': 8605, 'shoe': 8606, 'BUF-CLT': 8607, '@GMA': 8608, ' 10:20': 8609, 'dUhBJ41jHx': 8610, 'instrument': 8611, '#southwestrocks': 8612, 'deal-': 8613, '#Surat': 8614, '#funnycaptain': 8615, 'negative': 8616, 'cough*': 8617, 'preciation': 8618, 'list': 8619, '#feelbetter': 8620, 'frequent': 8621, 'Espinosa': 8622, 'irrops': 8623, 'unrealistic': 8624, 'large': 8625, 'repartee': 8626, ' 1156': 8627, 'pid': 8628, '@KathrynSotelo': 8629, 'would-be': 8630, 'practical': 8631, '#24h': 8632, 'receive': 8633, 'cane': 8634, '@BostonBBB': 8635, 'instead': 8636, '#1K': 8637, ' 806.': 8638, 'quite': 8639, 'book': 8640, 'static': 8641, '#PrincessHalf': 8642, '#454': 8643, '#horribleservice': 8644, 'kiss': 8645, 'idea': 8646, 'filthy': 8647, 'thanx': 8648, '#Suboptimal': 8649, ' 50': 8650, '@coachGS': 8651, '#tiredofwaiting': 8652, 'inexperienced': 8653, '#newamericanairline': 8654, 'strand': 8655, ':\"': 8656, '#919': 8657, 'recline': 8658, 'replane': 8659, 'costa': 8660, 'NA5G5EAKPA': 8661, 'network': 8662, '#nonewplanes': 8663, 'owner': 8664, 'little': 8665, 'cockpit': 8666, 'Hi-my': 8667, 'uppp': 8668, 'sir': 8669, 'nicely': 8670, 'absolutely': 8671, 'Blatimore': 8672, 'cramp': 8673, 'they': 8674, 'burn': 8675, 'bfPfW6eyKU': 8676, ' 23,': 8677, '#peanutsonaplatter': 8678, 'toilet': 8679, '@EllaHenderson': 8680, 'sympathize': 8681, 'mF7rABGn8a': 8682, 'pit': 8683, 'developer': 8684, 'understatement': 8685, '#persistence': 8686, 'Ms': 8687, 'saviour': 8688, 'providence': 8689, '#FlyingItForward': 8690, ' 55': 8691, 'Bobbi': 8692, 'wear': 8693, 'would': 8694, 'Thomas': 8695, 'ahead': 8696, 'Darrel': 8697, 'usually': 8698, '#NotImpressed': 8699, 'aircrft': 8700, '#why': 8701, ' 3,000': 8702, '@stephenrodrick': 8703, 'violation': 8704, 'bunch': 8705, '@d_goodspeed': 8706, 'first-time-flying-w-a-16mo': 8707, 'strongly': 8708, 'capitalize': 8709, 'patch': 8710, 'incorrect': 8711, 'miss': 8712, 'cruel': 8713, '#savethoseseats': 8714, '07': 8715, 'trueblue': 8716, '@lindaSWC': 8717, 'please': 8718, 'veteran': 8719, 'sexy': 8720, 'nope': 8721, '10am': 8722, '@derekc21': 8723, 'its': 8724, ' 1898': 8725, '$188': 8726, 'pic': 8727, 'feb': 8728, ' 1318': 8729, 'terry': 8730, 'srvc': 8731, 'hub': 8732, 'expeditious': 8733, ' 1820': 8734, 'terror': 8735, 'gang': 8736, ' 10...': 8737, 'deed': 8738, 'Sedholm': 8739, '@Travelzoo': 8740, '#9': 8741, 'global': 8742, 'Gf': 8743, 'pigeon': 8744, 'rear': 8745, 'Taiwan': 8746, 'logistics': 8747, '37,000ft': 8748, 'the': 8749, 'Colombian': 8750, 'Francisco': 8751, 'C47': 8752, 'fra': 8753, 'AvyqdMpi1Y': 8754, '#nohelp': 8755, 'certainly': 8756, '@auciello': 8757, 'fort': 8758, 'hide': 8759, 'AUrn07pWD4': 8760, '#startups': 8761, 'Zurich': 8762, 'dXuX6DBfd3': 8763, 'B6': 8764, '8PM': 8765, 'dial': 8766, 'visibly': 8767, 'Guam': 8768, '#GIS2015': 8769, '6.55pm': 8770, 'zgOQoxjBQY': 8771, '@BernhardtJH': 8772, '@9NEWS': 8773, '#octaviannightmare': 8774, 'deplane': 8775, 'Baltimore': 8776, 'it': 8777, 'A30': 8778, 'fast': 8779, 'jeopardy': 8780, '#LGA': 8781, 'unsympathetic': 8782, 'beautiful': 8783, 'base': 8784, 'pro': 8785, 'befor': 8786, 'geg': 8787, '#ORDNoise': 8788, 'meet': 8789, 'discomfort': 8790, 'kp': 8791, ' 245.': 8792, 'Piela': 8793, 'Q5SB0DaVuy': 8794, ' 4465': 8795, '#jetblueanyone': 8796, '2hr30': 8797, 'notify': 8798, 'impediment': 8799, 'considerate': 8800, 'SEA-HOU': 8801, 'OK': 8802, 'lug': 8803, 'mega': 8804, '#hipunis': 8805, '$299.': 8806, 'weak': 8807, '6000': 8808, 'UA304': 8809, '#AnswerThePhone': 8810, 'without': 8811, ' 4567': 8812, 'cuz': 8813, '#dobetterJetBlue': 8814, 'for4': 8815, 'pedophile': 8816, 'UA1130': 8817, '4-6hrs': 8818, 'inexpensive': 8819, 'ALEX': 8820, 'offload': 8821, 'Obama': 8822, '#JetBlueRocks': 8823, 'error': 8824, 'deodorant': 8825, '#bademployeeproblem': 8826, '?“': 8827, 'else': 8828, 'better-from': 8829, 'lga': 8830, ' 5001': 8831, 'tsa': 8832, '#TUS': 8833, 'tow': 8834, '@nelsjeff': 8835, 'dfw': 8836, 'billion': 8837, 'yes': 8838, 'commutation': 8839, '@GoPro': 8840, 'clincher': 8841, 'emerg': 8842, 'for40': 8843, 'dick': 8844, 'pocket': 8845, 'RX': 8846, '#654': 8847, 'possibly': 8848, 'CHL': 8849, '3075-': 8850, '#GetPhilz': 8851, '1syWlmTZek': 8852, '8WBzOrRn3C': 8853, '@ItsLaLoca': 8854, 'gently': 8855, 'fucken': 8856, 'btw': 8857, 'luxury': 8858, 'okaaaaay': 8859, '6KpyhckA9l': 8860, '210pm': 8861, '@danahajek': 8862, 'wise': 8863, '15min': 8864, 'inconsistent': 8865, 'albeit': 8866, 'Amy': 8867, 'prank': 8868, 'information': 8869, 'BA': 8870, ' 20.': 8871, '8HH4P2': 8872, 'constantly': 8873, '#getmeoffthisplane': 8874, '#1572': 8875, 'DALLAS': 8876, '#luggagegate': 8877, 'hug': 8878, 'fail': 8879, 'overheat': 8880, 'sweet': 8881, '#ELP': 8882, '#shame': 8883, 'shes': 8884, 'pile': 8885, 'delivery': 8886, '#Flyingainteasy': 8887, 'title': 8888, '#8477733': 8889, '#dividendsmember': 8890, 'pop': 8891, 'water': 8892, '@the_USO': 8893, 'a68d5fULmH': 8894, '@virginAmerica': 8895, '5xGnyHGAFz': 8896, ' 437': 8897, 'ay': 8898, ' 1019': 8899, '@tennetexan': 8900, 'Phillip': 8901, '#Atlantic': 8902, ' 964077,': 8903, 'simple': 8904, 'seem': 8905, '#SOBEWFF': 8906, 'FAA': 8907, 'dirty': 8908, 'sys': 8909, '#theworstairlineever': 8910, '@UpInAirClaire': 8911, ' 653.': 8912, 'look': 8913, ':(,': 8914, 'human': 8915, 'laughter': 8916, 'yup': 8917, 'guide': 8918, 'UNBELIEVABLE': 8919, 'contact': 8920, 'sticker': 8921, 'yo': 8922, 'loud': 8923, 'ua688': 8924, 'bizarre': 8925, 'Atlanta': 8926, 'PVD': 8927, 'chat': 8928, 'survive': 8929, '@benjaminokeefe': 8930, '#Americant': 8931, ' 1242': 8932, 'Gnight': 8933, 'giant': 8934, 'refuse': 8935, 'Tabitha': 8936, '#AirlineSecurity': 8937, 'the15hours': 8938, 'appall': 8939, '#whathappend': 8940, 'AA': 8941, 'thirty': 8942, '.,': 8943, 'dFmvmiBH4x': 8944, 'inch': 8945, 'NOLO': 8946, '#DisneyPrincessHalfMarathon': 8947, 'prove': 8948, 'February': 8949, 'SERIOUSLY': 8950, 'likely': 8951, 'mediocre': 8952, 'F6COpX1Fvj': 8953, 'Victoria': 8954, 'Aaron': 8955, '#badairline': 8956, '.(': 8957, '1130pm': 8958, 'completely': 8959, 'we': 8960, '#FareCompare': 8961, 'nationwide': 8962, 'vFTUyJh45X': 8963, '#fb': 8964, '63zaQ2lt8f': 8965, 'ahlXHhKiyn': 8966, 'prop': 8967, 'N7pSuEJDC8': 8968, 'wat': 8969, '#dullessucks': 8970, 'dplQ3mhQGD': 8971, 'various': 8972, 'credential': 8973, 'ms': 8974, 'shortcoming': 8975, 'flyer': 8976, 'condescend': 8977, 'aren': 8978, '@daysinn': 8979, 'disorganize': 8980, '#fakeawards': 8981, '@Saxonandparole': 8982, 'hardly': 8983, 'salad': 8984, 'E190': 8985, 'Doin': 8986, 'combative': 8987, 'AA3031so': 8988, 'Shannon': 8989, 'responsive': 8990, 'hotter': 8991, '6-year-old': 8992, 'sparkle': 8993, ' 2015.': 8994, 'delta': 8995, 'festivity': 8996, '@CBSNews': 8997, '#shameful': 8998, 'produce': 8999, 'Dmed': 9000, 'KfKjF1ZtGi': 9001, '@AARP': 9002, 'southwest': 9003, 'Flightled': 9004, 'AnEqXZR4bp': 9005, 'luckily': 9006, '#211pilot': 9007, '@flysaa': 9008, '#BusinessTravel': 9009, '@LASairport': 9010, 'ravioli': 9011, 'ystrdy': 9012, 'invoice': 9013, '#forcedovernight': 9014, 'guyyyys': 9015, 'soc': 9016, 'immediately': 9017, '15yr': 9018, '#lastflightwithyouever': 9019, '#usuck': 9020, '2hr15min': 9021, 'veg': 9022, 'non': 9023, '#AmericanAir': 9024, '#PoorService': 9025, 'innovation': 9026, 'until': 9027, 'drone': 9028, ' 3:30': 9029, 'MSN': 9030, 'de': 9031, 'volume--can': 9032, 'dal': 9033, ' 6373': 9034, 'quirky': 9035, '???!!!': 9036, 'camera': 9037, 'inspect': 9038, '2.5hours': 9039, '1mnth': 9040, 'happen': 9041, '#UnFriendlySkies': 9042, 'costumer': 9043, 'bae': 9044, 'bankruptcy': 9045, '#lovedflyingwiththem': 9046, 'onhXHCO6bK': 9047, 'Comenity': 9048, 'world-hungry': 9049, 'obscene': 9050, '49min': 9051, 'vOxcghciJi': 9052, 'warrant': 9053, 'home': 9054, 'tail': 9055, 'number': 9056, 'anyone40min': 9057, ' 600': 9058, '#ShelleyandMarcRock': 9059, 'b44': 9060, '@jessicajaymes': 9061, 'USExpress': 9062, '#jetblueforever': 9063, 'phl-ord': 9064, 'nonprofit': 9065, 'Cincy': 9066, 'clothing': 9067, 'Emily': 9068, '2eDgc6TbLs': 9069, '#disabledtraveler': 9070, 'friend': 9071, '#leanin': 9072, ' 343': 9073, '3am': 9074, 'bozos': 9075, 'upgd': 9076, '4ojrSDWPkK': 9077, 'buf': 9078, ')??': 9079, '#DividendMiles': 9080, 'cookie': 9081, '#WinterWeather': 9082, 'crate': 9083, 'dickheads': 9084, 'PBI-JFK': 9085, 'wknd': 9086, 'tempt': 9087, 'mimosa': 9088, '#customerservicefail': 9089, 'preboard': 9090, 'paper': 9091, 'repeatably': 9092, '#ImJustSaying': 9093, 'bf': 9094, 'mandatory': 9095, 'correspondence': 9096, 'YYJ': 9097, 'accessible': 9098, '@caterobbie': 9099, 'need2know': 9100, 'PayPal': 9101, 'geez': 9102, 'determine': 9103, 'professional': 9104, 'flu': 9105, 'grandmother': 9106, 'carrier': 9107, ' 2015': 9108, '#singer': 9109, 'bread': 9110, 'prevent': 9111, 'wit': 9112, 'AZ': 9113, 'Google': 9114, 'VbUxfPCKfa': 9115, 'bdl-dca': 9116, 'flower': 9117, 'acpt': 9118, ' 206': 9119, 'fate': 9120, 'dedication': 9121, 'cry': 9122, 'curious': 9123, 'edgy': 9124, '@DuaneNClark': 9125, 'career': 9126, 'Iceland': 9127, 'rcvd': 9128, 'Spain': 9129, ' 29': 9130, '#EnoughIsEnough': 9131, 'after2': 9132, 'CLE': 9133, '#JustDoIt': 9134, 'vega': 9135, '@olive201': 9136, '#2224': 9137, '@MrJustyn': 9138, '#2962': 9139, 'Wifi': 9140, '#Flight5182': 9141, '3X': 9142, 'timing': 9143, '#UA484': 9144, '#freedrinkcoupons': 9145, '#oldseatnocushion': 9146, '@bershawnjackson': 9147, '@ProfessorpaUL15': 9148, 'abt': 9149, 'field': 9150, 'deeply': 9151, 'UsAirways-': 9152, 'Ive': 9153, ' 1917.': 9154, 'BDL': 9155, '1472': 9156, 'WIFI': 9157, ' 175': 9158, 'fly': 9159, 'UA862': 9160, 'direction': 9161, 'weekday': 9162, 'UA5097': 9163, 'Appleton': 9164, 'manner': 9165, '#inflight': 9166, 'nation': 9167, '10x': 9168, 'Uncharacteristic': 9169, 'shameful': 9170, 'DUH': 9171, 'unload': 9172, '#terriblecustomerservice': 9173, 'FA': 9174, 'BTW': 9175, '#NeedCoffee': 9176, 'copy': 9177, 'BOS-CLT': 9178, 'Ord': 9179, ' 1547.': 9180, 'weather-': 9181, 'weird': 9182, 'blanket': 9183, '6yo': 9184, 'luxurious': 9185, 'charm': 9186, '@TMadCLE': 9187, '#unreal': 9188, 'highlight': 9189, 'DTV': 9190, ' 715': 9191, '@AirCanada': 9192, ' 636': 9193, 'spin-spin-dry': 9194, '#NewAmerican': 9195, 'attention': 9196, 'xx': 9197, 'disbelief': 9198, '#keepingit100': 9199, 'lake': 9200, 'anymore': 9201, 'answer-': 9202, 'twitter': 9203, '#servicefail': 9204, '@Rizzilient': 9205, 'endless': 9206, 'charter': 9207, 'find': 9208, 'Tuesday': 9209, 'understandably': 9210, 'spanish': 9211, 'la': 9212, 'Post-master': 9213, 'cease': 9214, '3860': 9215, '@loganex': 9216, '#mybday': 9217, 'garage': 9218, 'approx': 9219, 'ch': 9220, '#8': 9221, 'EST': 9222, 'TXhYJ40llG': 9223, 'FLT': 9224, '00a': 9225, 'Singapore': 9226, 'rating': 9227, 'csr': 9228, '#1641': 9229, '8-10': 9230, 'Frankfurt': 9231, '30min': 9232, 'vile': 9233, '#4047': 9234, '203-382-3312': 9235, '@triflight': 9236, 'firing': 9237, 'lb': 9238, 'dTLGUQ1kAk': 9239, 'reclaim': 9240, 'connection': 9241, '#uncaring': 9242, 'whip': 9243, '#ord': 9244, 'hipster': 9245, 'savannah': 9246, 'thng': 9247, 'Re-flight': 9248, 'expansion': 9249, 'Jaipur': 9250, 'shld': 9251, '#293': 9252, '#lame': 9253, 'Marie': 9254, 'hole': 9255, 'wow': 9256, '2118': 9257, 're-cheduled': 9258, '#ATL': 9259, 'pple': 9260, 'tracker': 9261, 'SMA': 9262, '#unitedairline': 9263, 'intentional': 9264, 'tara': 9265, 'Passbook': 9266, 'Tampa': 9267, '$50': 9268, 'increase': 9269, 'skycap': 9270, 'insurance': 9271, 'STL2ATL': 9272, 'reactivate': 9273, 'mainline': 9274, 'self-service': 9275, 'sev': 9276, 'consideration': 9277, 'multimedia': 9278, 'air*': 9279, 'stair': 9280, ' 2646.': 9281, '#toolittletooLate': 9282, ' 4565': 9283, '#wedontcarebecauseyoupaidalready': 9284, 'previous': 9285, '#dontflyusairways': 9286, ' 834.': 9287, 'HDoXiM6NZ2': 9288, ' 02': 9289, 'personally': 9290, 'past': 9291, 'moment': 9292, 'Absolutely': 9293, '#CustServ': 9294, 'subscribe': 9295, 'MC': 9296, '#oscars2015': 9297, 'paris': 9298, '202.88': 9299, 'mammoth': 9300, 'btr': 9301, '#FlySWA': 9302, '#notourfaultyoudontuseyourgatesright': 9303, 'excess': 9304, 'gunna': 9305, '@joyadventuremom': 9306, 'serve': 9307, 'beauty': 9308, '#love': 9309, 'IGkoGyWksr': 9310, 'safari': 9311, 'breakfast': 9312, '#Very': 9313, 'cattle2slaughter': 9314, 'drag': 9315, 'snowbound': 9316, '#precioustime': 9317, '#americanairlinesfail': 9318, '#flight': 9319, 'accident': 9320, ' 5347': 9321, 'despite': 9322, 'uniform': 9323, '@PGATOUR': 9324, 'Maine': 9325, 'MAF': 9326, ' 745': 9327, ' 644': 9328, 'gain': 9329, ' 42:': 9330, ' 9:30': 9331, '#gooutofbusiness': 9332, 'bdng': 9333, '@EdPlotts': 9334, 'tisk': 9335, 'reset': 9336, 'four': 9337, 'herd': 9338, '...\"': 9339, 'horrible': 9340, 'datum': 9341, 'approve': 9342, ' 5418': 9343, 'sometimes': 9344, 'Utterly': 9345, ' 1:30': 9346, '#loyal': 9347, 'via': 9348, 'C68LD9': 9349, 'B15': 9350, '#Delta': 9351, '#failagain': 9352, 'strip': 9353, 'efficiently': 9354, 'wc': 9355, '#reservations': 9356, 'misguide': 9357, 'hurt': 9358, '$275': 9359, 'reverse': 9360, 'product': 9361, 'bttr': 9362, 'at': 9363, 'Faire': 9364, 'comfortably': 9365, 'many': 9366, 'donkey': 9367, 'mistake': 9368, '{': 9369, 'gZ9GqDT7Jj': 9370, ' 57': 9371, 'food': 9372, 'A49': 9373, 'browser': 9374, 'hero': 9375, 'SDQ': 9376, '1120am': 9377, 'get': 9378, ' 7403607771': 9379, ' 1665': 9380, ' 5534': 9381, 'try': 9382, '@cnnbrk': 9383, 'dunkin': 9384, '50th': 9385, ' 703': 9386, '@emilylyonss': 9387, 'Plz': 9388, ' 11:15': 9389, 'remedy': 9390, 'seasonal': 9391, 'fwd': 9392, 'Q2': 9393, 'bandwidth': 9394, 'unemployment': 9395, 'pretend': 9396, '#DCA': 9397, '00,don': 9398, '@RobertDwyer': 9399, 'competent': 9400, 'city': 9401, 'UK': 9402, 'than': 9403, 'yours': 9404, 'vision': 9405, 'dc10': 9406, 'fell': 9407, '3days': 9408, 'up-': 9409, '#thanksDC': 9410, 'on-time': 9411, 'backwards': 9412, 'Fav': 9413, 'PITT': 9414, 'Ahah': 9415, 'business': 9416, 'origami': 9417, 'reassess': 9418, 'phil': 9419, 'concert': 9420, '20th-30th': 9421, '#truebluemember4life': 9422, 'program': 9423, 'documentation': 9424, ' 1050': 9425, 'breeze': 9426, 'particular': 9427, 'security': 9428, 'shortcut': 9429, '@FlyEIA': 9430, 'Nancy': 9431, 'correctly': 9432, 'asshole': 9433, '#Cancelled': 9434, '#flightnightmare': 9435, ' 1907': 9436, '#Frustrated': 9437, 'accompaniment': 9438, 'dos': 9439, 'leadership': 9440, '#Leastthebeverageswillbecold': 9441, '[': 9442, ' 1612': 9443, 'whats': 9444, 'lEdNoCdQee': 9445, 'her-': 9446, 'photo': 9447, '#airline': 9448, 'map': 9449, 'UA1616': 9450, ' 10:55': 9451, '9pm': 9452, 'black': 9453, '#connection': 9454, '#jk': 9455, ' 4050': 9456, 'inefficient': 9457, 'trite': 9458, 'NC': 9459, 'nature': 9460, 'gan': 9461, 'max': 9462, 'expectation': 9463, 'sub-par': 9464, '8th': 9465, '22-MDW': 9466, '56eSsfOOwt': 9467, 'A320': 9468, 'Flightn': 9469, ' 457': 9470, ' 695': 9471, ' 0162424965446': 9472, '#stranded': 9473, '@google': 9474, 'a': 9475, '597': 9476, '@dartmedia': 9477, 'tiks': 9478, 'snow': 9479, 'fat': 9480, 'gsp': 9481, '8Hh0c63TIe': 9482, 'notification': 9483, 'PARKER': 9484, 'client': 9485, 'barely': 9486, 'A330': 9487, 'claime': 9488, 'flexible': 9489, 'vinyl': 9490, 'Ourguest': 9491, '20...still': 9492, '..': 9493, 'doubt': 9494, '10A': 9495, 'nowhere': 9496, 'guest': 9497, 'noneother': 9498, 'info': 9499, 'trend': 9500, 'Norris': 9501, 'crash': 9502, 'gem': 9503, 'Travelocity': 9504, 'realize': 9505, 'livery': 9506, '#notmyfault': 9507, ' 2470': 9508, 'equal': 9509, '#TSAnightmare': 9510, '#stillbagless': 9511, 'CAC': 9512, 'mltple': 9513, '#businesstrip': 9514, '#jvstatus': 9515, '#rude': 9516, 'represent': 9517, 'underweight': 9518, 'Sivi': 9519, 'drive': 9520, 'oak': 9521, ' 6.': 9522, ' 2302': 9523, 'AA1401': 9524, 'VQTyza6Mzu': 9525, 'wiyh': 9526, 'key': 9527, 'hard': 9528, 'Maarten': 9529, 'installation': 9530, '#piggy': 9531, '#flywhonotblue': 9532, 'bay': 9533, 'AHHHH': 9534, '@FlyKnoxville': 9535, 'Austin-Bergstrom': 9536, 'thx': 9537, 'Seriously': 9538, 'Thanx': 9539, 'STT': 9540, 'third': 9541, '#Vodkatonics': 9542, '@CLTDouglas': 9543, '!”': 9544, 'patiently': 9545, 'stewardess': 9546, 'roller': 9547, 'MIA-LGA': 9548, 'weasel': 9549, 'oDlall5eDH': 9550, '#MoodlitMonday': 9551, '#fendforyourself': 9552, 'slide': 9553, 'comp': 9554, 'usable': 9555, 'IMO': 9556, 'taste': 9557, 'wGYzTnjCXm': 9558, 'raleigh': 9559, 'frustratingly': 9560, '#worstflight': 9561, '@rikrik__': 9562, '1701': 9563, 'cheap1': 9564, 'intl': 9565, '1AM': 9566, '#Missed': 9567, '#ProfitBeforePeople': 9568, 'AA138': 9569, '150am': 9570, 'Meagan': 9571, 'educate': 9572, 'elsewhere': 9573, ' 1562': 9574, 'CEO': 9575, 'Raleigh': 9576, 'cultural': 9577, 'rob': 9578, 'BCN': 9579, 'simply': 9580, 'call': 9581, 'FO': 9582, 'Freddie': 9583, 'hour': 9584, '#BedofRoses': 9585, 'TA': 9586, ' 799': 9587, 'Providenciales': 9588, 'worthless': 9589, 'designate': 9590, 'Svc': 9591, 'usair': 9592, 'integration': 9593, 'slog': 9594, 'kbHYM5GkAP': 9595, '#FlySouthwest': 9596, 'G6455C': 9597, '@UnitedAirlines': 9598, 'Phil': 9599, 'YMFTw1uyHr': 9600, '#611': 9601, 'universally': 9602, 'if': 9603, 'customer': 9604, 'scotch': 9605, 'kudo': 9606, 't-minus': 9607, 'tonite': 9608, '#epicfailunited': 9609, 'captain': 9610, '#SouthwestSmoothie': 9611, 'leak': 9612, 'svc': 9613, '#steps': 9614, 'tree': 9615, 'separate': 9616, '@macario2': 9617, 'ASAP': 9618, 'atl-ord': 9619, '#flierfriendly': 9620, 'Auf': 9621, 'KN': 9622, 'invest': 9623, 'US624': 9624, '3rd': 9625, 'impair': 9626, ' 2954,': 9627, 'bellagio': 9628, '5Db9eSBNzG': 9629, 'despise': 9630, ' 30': 9631, 'thnkx': 9632, 'msgs': 9633, 'uvf': 9634, 'CFI1E3KXA9': 9635, 'united-first': 9636, 'today': 9637, 'txfd': 9638, 'unbelievably': 9639, 'woo': 9640, 'Plse': 9641, '1way': 9642, 'plain': 9643, 'subscription': 9644, 'zip': 9645, 'correLate': 9646, 'touchdown': 9647, 'QKquRagGoO': 9648, 'DTHEyOFXrB': 9649, 'want': 9650, 'YYZ': 9651, 'Greeeaat': 9652, '$1300': 9653, ')?': 9654, '#NoFun': 9655, 'tweeter': 9656, 'huh': 9657, 'PNR': 9658, 'Shout-out': 9659, 'wellbeing': 9660, 'k': 9661, '#Platinum': 9662, '#dallas': 9663, 'basket': 9664, 'atrocious': 9665, '$1130': 9666, 'UKdjjijroW': 9667, 'property': 9668, 'UA1116': 9669, 'perfect': 9670, '#redwineisbetter': 9671, 'consolation': 9672, 'JH': 9673, 'AAL': 9674, ' 4179': 9675, 'cold': 9676, ' 1627': 9677, 'arpt': 9678, '10PM': 9679, 'unite': 9680, 'seatbelt': 9681, 'whisper': 9682, '#southworst': 9683, 'Her': 9684, 'cudtomers': 9685, 'woman': 9686, 'Newburgh': 9687, 'spring': 9688, 'sneak': 9689, 'IM': 9690, ' 5097': 9691, '#FingersCrossed': 9692, ' 2007.': 9693, '3499': 9694, 'GGuAA1JvDF': 9695, 'MCE': 9696, 'side': 9697, 'alt': 9698, '16hr': 9699, ' 1558': 9700, 'none': 9701, '#inconvenience': 9702, '#nodrinks': 9703, 'bailey': 9704, '#virginamerica': 9705, 'relieve': 9706, '#freecomedyshow': 9707, 'freezing': 9708, 'Montreal': 9709, 'theflight': 9710, 'B11': 9711, 'Pref': 9712, 'DOUG': 9713, 'increment': 9714, 'flaw': 9715, '#crummyservice': 9716, 'hey': 9717, 'bags': 9718, 'dirt': 9719, '#Philadelphia': 9720, '#damn': 9721, 'b40': 9722, '#emb145': 9723, 'gofundme': 9724, 'UA6doUA34l': 9725, 'unt': 9726, '$73': 9727, 'doc': 9728, '@SilverAirwsys': 9729, '#unbelievable': 9730, 'vineyard': 9731, '#ionlyflyblue': 9732, 'gig': 9733, 'disappoint': 9734, 'CS1673hrqQ': 9735, 'Miami-PhL': 9736, 'such': 9737, '#4053': 9738, 'rain': 9739, 'xC6jQ70r7B': 9740, ' 4914': 9741, 'Flightlations': 9742, 'dpted': 9743, 'faith': 9744, 'abroad': 9745, 'wide': 9746, 'another': 9747, 'amazings': 9748, 'company': 9749, '@fly2ohare': 9750, 'latte': 9751, 'rad': 9752, 'hostel': 9753, 'bicycle': 9754, 'maiden': 9755, ' 2014': 9756, 'fiancee': 9757, 'upcoming': 9758, '@FerrisSalameh': 9759, 'TK3aOpdtSQ': 9760, 'bougth': 9761, '@CNNMoney': 9762, '80-100': 9763, '@NTrustOpen': 9764, 'TPA': 9765, 'affordable': 9766, 'throne': 9767, '#outraged': 9768, '55min': 9769, 'sympathy': 9770, ' 1316': 9771, ' 4524': 9772, 'modify': 9773, 'weekly': 9774, '9R9OmzQAVI': 9775, '@love_dragonss': 9776, 'poison': 9777, '#ImproveTheProcess': 9778, 'nKAFbjyARi': 9779, '!!!!!': 9780, 'Geneva': 9781, '#southwest': 9782, 'celebrate': 9783, 'SAN68059M': 9784, 'A319': 9785, 'female': 9786, '#makingthingseasy': 9787, 'aging': 9788, 'distributor': 9789, '@MelissaAFrancis': 9790, 'wonder': 9791, '#BS': 9792, ' 8.10': 9793, 'refresh': 9794, '#UnitedHatesUsAll': 9795, '15th': 9796, 'pointless': 9797, ' 435': 9798, '55mins': 9799, 'CMH': 9800, 'unmonitored': 9801, '@lopezlaymari': 9802, 'cheat': 9803, 'reiterate': 9804, 'applaud': 9805, 'screen': 9806, 'ATL': 9807, 'SAV': 9808, 'marry': 9809, 'often': 9810, 'immensely': 9811, '#norush': 9812, '#tears': 9813, 'ride': 9814, 'DL': 9815, ' 2014.': 9816, '2HXsDP0ha4': 9817, 'height': 9818, 'put': 9819, 'freq': 9820, 'multiple': 9821, 'intelligent': 9822, 'quotation': 9823, 'SRQ': 9824, 'opinion': 9825, '639p': 9826, 'invalid': 9827, '#takingthistothetop': 9828, ' 348': 9829, '#nashville': 9830, 'lane': 9831, '28hrs': 9832, 'control': 9833, 'oyLgeao7Y8': 9834, 'inner': 9835, '#hotel': 9836, 'yummy': 9837, 'engineer': 9838, '@USairways': 9839, 'RcdH183Q1J': 9840, 'hot': 9841, '2nd': 9842, 'van': 9843, 'bottom': 9844, 'folk': 9845, 'unorganized': 9846, 'mktg': 9847, 'dropping': 9848, 'clothes': 9849, '#jetbluehatesbtv': 9850, 'McKinnie': 9851, 'FUnited': 9852, 'LYcARlTFHl': 9853, '1A': 9854, 'XijYrPsLZK': 9855, 'phenomenal': 9856, 'tammy': 9857, 'Burroughs': 9858, 'workforce': 9859, 'quit': 9860, 'permanent': 9861, 'between': 9862, 'attendent': 9863, 'Guardia': 9864, 'relevant': 9865, '@alan_bledsoe': 9866, 'band': 9867, 'begin': 9868, 'twist': 9869, 'shall': 9870, 'unpleased': 9871, 'square': 9872, 'connectfor': 9873, 'Cxld': 9874, 'prev': 9875, 'uplink': 9876, 'session': 9877, 'calamity': 9878, 'emphasize': 9879, '#703': 9880, 'portion': 9881, '..,': 9882, 'hometown': 9883, 'superb': 9884, 'reliable': 9885, 'six': 9886, '2a': 9887, '@DadBoner': 9888, 'accrue': 9889, 'shame': 9890, '05pm': 9891, 'GF': 9892, '#Byebyejetblue': 9893, 'Guatemala': 9894, '#8Q6MFD': 9895, '#comeon': 9896, 'CqMm7nuE9m': 9897, 'havent': 9898, ' 1228': 9899, 'vice': 9900, 'till': 9901, '.': 9902, 'mco': 9903, '#southwestairlines': 9904, ' 6170': 9905, 'high': 9906, 'Lon': 9907, 'HAHA': 9908, '$130': 9909, 'brotha': 9910, 'intelligence': 9911, 'JhaU4K48yv': 9912, ' 3750': 9913, '45mins': 9914, 'suprise': 9915, 'swap': 9916, 'gist': 9917, 'xDjzkC34GB': 9918, 'it-': 9919, 'insufficient': 9920, 'bom': 9921, 'fight': 9922, 'manually': 9923, '@DENAirport': 9924, 'certificate': 9925, '@TyWinter': 9926, 'BOOOO': 9927, '$75': 9928, 'Dulles': 9929, '#moneynotspentonunited': 9930, '#gottogetbetter': 9931, ' 35,000': 9932, 'M-phx': 9933, '@KyleJudah': 9934, 'nearby': 9935, 'Canada': 9936, 'all': 9937, ' 140': 9938, 'grandbabies': 9939, '455': 9940, 'crystal': 9941, '#AmericanView': 9942, 'depend': 9943, '#communicationFAIL': 9944, '#ValentinesDay': 9945, '@Expedia': 9946, '$39': 9947, 'C9': 9948, 'UA6002': 9949, 'unreasonable': 9950, ' 4011.': 9951, 'freeze': 9952, 'iqu0PPVq2S': 9953, 'B91': 9954, 'mJkpgVXmPC': 9955, 'AA1103': 9956, 'child': 9957, 'setup': 9958, 'extortion': 9959, ' 1534.': 9960, 'scavenger': 9961, 'StBernard': 9962, 'UnitedFirst': 9963, 'trivialize': 9964, '9hour': 9965, 'calling': 9966, 'inconvience*': 9967, '#RMOUG15': 9968, 'chronological': 9969, 'issue': 9970, ' 2.5': 9971, 'hatch': 9972, 'hack': 9973, 'console': 9974, 'sarcastic': 9975, 'eQePkkPSXM': 9976, 'police': 9977, 'creative': 9978, '#CHItoCLE': 9979, '#overwhelming': 9980, '@DatingRev': 9981, 'get2': 9982, 'SW': 9983, '13EWR-lax': 9984, '#smh': 9985, '#sittingonthetarmac': 9986, 'hormonal': 9987, '#ithelpsabit': 9988, '@gerri_elliott': 9989, 'planner': 9990, 'Bye': 9991, 'booze': 9992, '/': 9993, ' 1146': 9994, '#nocustomerservice': 9995, '#tryagain': 9996, 'plow': 9997, 'lookin': 9998, 'dc': 9999, 'permission': 10000, 'develop': 10001, '#AllYouCanJetPass': 10002, 'qd2lyUXAZg': 10003, 'earn': 10004, 'AA-no': 10005, '!': 10006, '11a': 10007, 'EMV': 10008, 'quarter': 10009, 'significant': 10010, 'Wasn': 10011, 'Pittsburg': 10012, '15minutes': 10013, 'sGckBopATA': 10014, 'sk6W9XQaQB': 10015, 'understand': 10016, ' 1348': 10017, 'important': 10018, ' 964012,': 10019, '@abigailedge': 10020, 'Ap': 10021, 'AA76': 10022, 'evening': 10023, 'deliberate': 10024, 'fla': 10025, '26': 10026, 'synonymous': 10027, '#justsayin': 10028, 'league': 10029, '@fly2midway': 10030, 'verbal': 10031, 'guideline': 10032, 'UA1641': 10033, 'london': 10034, '#wontflyagainwithyou': 10035, 'UA1270': 10036, '@SouthwestOliver': 10037, 'publish': 10038, '????!!!': 10039, 'grumpy': 10040, ' 2120.': 10041, 'GTSVYB': 10042, ' 2:00': 10043, 'after': 10044, '1601': 10045, 'zurich': 10046, 'wonked': 10047, 'CLT': 10048, '$777.70': 10049, '@Budget': 10050, 'misunderstand': 10051, 'chocoLate': 10052, 'remain': 10053, ' 472': 10054, '@Cayman_island': 10055, 'valley': 10056, 'Unacceptable': 10057, '@Cowboycerrone': 10058, 'freak': 10059, '#notokay': 10060, 'PHL-MCO': 10061, '#friendlyskies': 10062, 'R9ZsVzuRLw': 10063, 'shit': 10064, 'non-weather': 10065, 'film': 10066, ',': 10067, 'folding': 10068, '#aa2924': 10069, 'lil': 10070, 'employee': 10071, 'bye': 10072, 'argueing': 10073, 'relief': 10074, '#6': 10075, 'JFK': 10076, 'how': 10077, 'away': 10078, 'DoUNotWantMyBusiness': 10079, '70oz': 10080, '#ual': 10081, '#BadCustomerService': 10082, 'ask': 10083, 'hahaha': 10084, '#happycamper': 10085, '#ExecPlat': 10086, 'wi-fi': 10087, 'DNMsblzumr': 10088, '#military': 10089, 'FU': 10090, '@christinebpc': 10091, '#Android': 10092, 'subterfuge': 10093, '@SonyaSloanMD': 10094, 'Mostly': 10095, 'Columbus': 10096, ' 1679': 10097, 'Tx': 10098, 'authorize': 10099, 'consultant': 10100, '7D': 10101, '#linesforever': 10102, 'chief': 10103, '#3415': 10104, 'Ohare': 10105, ' 103': 10106, 'health': 10107, 'ugh': 10108, 'GR8': 10109, 'uH6UwuOSC0': 10110, '$1,200.': 10111, ' 4:00': 10112, '@SAMoore10': 10113, 'programmer': 10114, 'Sarah': 10115, 'Tokyo': 10116, '#EWR': 10117, '@americanairlnes': 10118, 'reevaluate': 10119, 'search': 10120, 'KeyrpFlHil': 10121, '#AA291': 10122, 'bumper': 10123, 'sourhwest': 10124, 'rez': 10125, 'nola': 10126, 'Monday': 10127, 'steel': 10128, '#flight2031': 10129, 'ETD': 10130, 'redeem': 10131, 'jWL26G6lRw': 10132, 'cxld': 10133, 'outrageous': 10134, 'A37N3oHOKL': 10135, 'Brazil': 10136, 'part': 10137, 'ooh': 10138, 'delight': 10139, 'George': 10140, '#lostmybusiness': 10141, '#US3645': 10142, '#RSW': 10143, 'friendly': 10144, '@love': 10145, '1AtEafnC6R': 10146, 'fend': 10147, 'really': 10148, ' 1818': 10149, '$779.': 10150, '#flyerfriendly': 10151, 'heyyyy': 10152, 'Panamerican': 10153, 'meanwhile': 10154, 'partial': 10155, 'FIVE**': 10156, '#FLL': 10157, '#terribleservice': 10158, 'disaster': 10159, '5,': 10160, '2fails': 10161, '#LAS': 10162, 'crowd': 10163, 'i': 10164, '14': 10165, '@usair': 10166, 'confrontational': 10167, 'unreachable': 10168, 'MCI': 10169, 'trvl': 10170, 'bubbly': 10171, 'AA1679': 10172, 'only': 10173, ' 2015,': 10174, '$1200,': 10175, '#SanDiego': 10176, 'admit': 10177, 'brd': 10178, 'Melinda': 10179, '@MandarinJourney': 10180, 'then': 10181, 'Aviv': 10182, '#grateful': 10183, '#globe': 10184, 'discrimination': 10185, '#stickingToDelta': 10186, '#Blushing': 10187, 'MRAW3qDw4D': 10188, 'four-yr-old': 10189, 'miscount': 10190, 'effortless': 10191, '30th': 10192, '45pm': 10193, 'red': 10194, 'ridiculous': 10195, 'dca': 10196, 'FuCHZRZjg5': 10197, 'retire': 10198, '@SeguineJ': 10199, 'hollow': 10200, 'EOM': 10201, '30a': 10202, ' 4532': 10203, '2go': 10204, 'site': 10205, 'amp': 10206, 'stressor': 10207, '#kmdw': 10208, 'Im': 10209, 'reservation-': 10210, 'answer': 10211, 'unpleasant': 10212, '$30': 10213, 'casual': 10214, '”.': 10215, '#wheelsup': 10216, '#nohelponboard': 10217, 'KTN': 10218, 'CB': 10219, 'physical': 10220, '@Imaginedragons': 10221, ' 2244': 10222, 'user-perceive': 10223, '#soLate': 10224, 'park': 10225, 'j4cj0lrF2d': 10226, 'unhelpful': 10227, 'rec': 10228, 'EatUp': 10229, '904AM': 10230, ' 648': 10231, '@XFINITY': 10232, '#dontchangeathing': 10233, 'double': 10234, 'hopefully': 10235, ' 4125': 10236, '24': 10237, '#8hrs': 10238, ' 1002': 10239, 'race': 10240, ' 3389': 10241, 'Olavarria': 10242, 'Unbelievable': 10243, 'upgrade': 10244, '@dmb41shows': 10245, 'can': 10246, 'PE': 10247, 'Iceday': 10248, '#StLouis': 10249, 'press': 10250, 'communications-': 10251, 'lame': 10252, 'night-_-': 10253, 'shuck': 10254, 'other': 10255, ' 2139': 10256, 'cking': 10257, 'Exit-row': 10258, 'term': 10259, '#USAIR': 10260, ' 250': 10261, 'golf': 10262, 'UA1151': 10263, '80s': 10264, 'A9': 10265, '#MEX': 10266, 'hold': 10267, ' 3349,': 10268, 'Bluemanity': 10269, '$574': 10270, 'NYC-Buenos': 10271, 'cot': 10272, 'bc': 10273, 'Flt': 10274, 'chip': 10275, 'alternatively': 10276, '@Cinnabon': 10277, 'exceed': 10278, 'Brendan': 10279, 'chapman': 10280, 'restaff': 10281, 'usa': 10282, 'boggle': 10283, 'apron': 10284, 'Sharon': 10285, ' 249': 10286, '@united': 10287, 'São': 10288, 'phrase': 10289, 'Daytona': 10290, '11th': 10291, '#tcf': 10292, 'be4': 10293, 'SjVEelween': 10294, 'KDzQcZlpyR': 10295, 'knack': 10296, 'text': 10297, ' 65,000': 10298, 'flier': 10299, 'realistically': 10300, 'waive': 10301, 'overcharge': 10302, 'silver': 10303, 'bracket': 10304, ' 0316': 10305, 'GMA': 10306, 'desert': 10307, 'cud': 10308, ' 1285': 10309, 'flatter': 10310, ' 4438': 10311, 'acknowledgement': 10312, '#MileagePlus': 10313, 'AA2416': 10314, 'wth': 10315, '#byebyeusairline': 10316, 'Italian': 10317, 'A-list': 10318, '#BlackHistoryMonth': 10319, 'brother': 10320, 'Hmmm': 10321, 'vomit': 10322, 'tvs': 10323, '@barrettkarabis': 10324, '#ewr': 10325, ' 989': 10326, 'email': 10327, '?!?\"': 10328, 'Santa': 10329, 'circuit': 10330, 'tsk': 10331, '#Ripoff': 10332, ' 11': 10333, 'chkout': 10334, '@beantownmatty': 10335, 'deep': 10336, 'Iah': 10337, '2TrgEMteBZ': 10338, 'roundtrip': 10339, 'MTY': 10340, 'TRBL': 10341, '@airnzusa': 10342, '#standby': 10343, 'cattle': 10344, 'bussines': 10345, '33': 10346, '@emxlyy': 10347, 'people': 10348, 'call-centre': 10349, 'decency': 10350, 'pacific': 10351, 'CbV7f3KBKx': 10352, 'shoddy': 10353, 'ZCC82U': 10354, '.)': 10355, 'stink': 10356, ' 4040': 10357, 'arvls': 10358, 'hoot': 10359, 'print': 10360, 'any1': 10361, ' 1254': 10362, '#angrycustomer': 10363, 'father': 10364, 'Lusaka': 10365, '!!!!!!': 10366, 'stocker': 10367, 'deactivate': 10368, 'beneficial': 10369, '#CLT': 10370, 'item': 10371, 'Winston': 10372, 'sister': 10373, 'environment': 10374, 'wrap': 10375, 'lemme': 10376, 'GUC': 10377, 'movement': 10378, 'rave': 10379, 'bulb': 10380, 'Dulles-Washington': 10381, '7am': 10382, 'YYC': 10383, 'BRO': 10384, 'disrespect': 10385, '#sittingontheplane': 10386, '#flyunited': 10387, 'reduce': 10388, 'earnings': 10389, ' 850.': 10390, 'cite': 10391, '2qJbCv5jzq': 10392, 'rubbish': 10393, 'madden': 10394, '#OneHourOnHold': 10395, '30-60': 10396, '#stillwaiting': 10397, '#patienceiswearingthin': 10398, 'green': 10399, '#AA953': 10400, 'WnY9TzsR8N': 10401, '8am': 10402, '#fedup': 10403, 'grassy': 10404, 'AA1061': 10405, 'Vancouver': 10406, '#unitedsucks': 10407, '#firstlove': 10408, '@AMiltx3': 10409, '#baggagelost': 10410, ' 5545': 10411, 'LGA-IAH': 10412, 'rescue': 10413, '#BEST': 10414, '@carrieunderwood': 10415, 'haven': 10416, 'Cancun': 10417, 'esd3XD5V1r': 10418, 'bach': 10419, '#LUV': 10420, 'identical': 10421, 'plastic': 10422, '#NeverflyUSairways': 10423, ';(': 10424, 'XlTV5z6sT1': 10425, '26pm': 10426, 'rsw': 10427, 'strict': 10428, 'grind': 10429, '@maatkare67': 10430, '3618': 10431, 'comfortable': 10432, ' 0638': 10433, 'robin': 10434, 'knee': 10435, '$500.': 10436, 'relative': 10437, '9rx5HOmM25': 10438, '#UA1481': 10439, 'bold': 10440, 'probably': 10441, 'equip': 10442, 'plane-wide': 10443, '@msnbc': 10444, 'marriage': 10445, 'refsd': 10446, 'thus': 10447, 'P': 10448, ' 30.': 10449, '?!???': 10450, 'breezy': 10451, 'dangerous': 10452, '#getmeoffrhisFUCKINplane': 10453, 'morning--': 10454, 'Tiffany': 10455, 'tomo': 10456, ' 3487': 10457, 'cater': 10458, '2k': 10459, ' 62': 10460, 'success': 10461, 'choice': 10462, ' 42': 10463, 'yet': 10464, 'apologise': 10465, 'select': 10466, 'theft': 10467, '#KeepIt100': 10468, 'eagle': 10469, '#WellDone': 10470, 'dialup': 10471, '6kqLhVaP7G': 10472, 'Zabsonre': 10473, 'master': 10474, 'P8xFhq4kps': 10475, '19B': 10476, 'too': 10477, '@VirginAtlantic': 10478, 'convenient': 10479, 'zCBJyo6lsN': 10480, 'precious': 10481, 'radish': 10482, '@VelourLive': 10483, 'zero': 10484, 'regulation': 10485, 'MSY-DCA': 10486, ' 4720': 10487, 'raise': 10488, 'delinquent': 10489, 'ramp': 10490, '#b738': 10491, ' 7:30,': 10492, '@unfriendly': 10493, 'swell': 10494, 'belt': 10495, 'agian': 10496, 'advisory': 10497, '#2251': 10498, 'overbk': 10499, '#sloooowresponses': 10500, 'unhappy': 10501, 'HIsc4NdMgZ': 10502, 'Michele': 10503, '@nokidhungry': 10504, '#horribleattitudes': 10505, 'demote': 10506, 'unschedule': 10507, 'downhill': 10508, 'Completely': 10509, 'rigorous': 10510, 'smart': 10511, 'bench': 10512, 'com': 10513, 'caller': 10514, 'substitute': 10515, '@manuel_c': 10516, 'bogota': 10517, 'magic': 10518, 'PEK': 10519, 'dude': 10520, 'Austic': 10521, 'whose': 10522, '@southwest': 10523, 'insanely': 10524, '#fabulous': 10525, '#Rica': 10526, 'survey': 10527, '9hrs': 10528, 'secret': 10529, '50m': 10530, '#flightdelay': 10531, 'cabin': 10532, 'shock': 10533, 'USAir': 10534, '#AwfulCustomerService': 10535, '#answerthephone': 10536, 'wouldn': 10537, '$40': 10538, 'hypocrisy': 10539, 'brothaaaaaa': 10540, 'hou': 10541, 'unexpactable': 10542, ' 1620.': 10543, 'Ox4w6KtsGI': 10544, '#isthisyourfirsttry': 10545, ' 604.': 10546, 'G9b6e0a2sZ': 10547, 'series': 10548, 'Ewr': 10549, 'wonderful': 10550, 'chi': 10551, 'Marsha': 10552, 'NE': 10553, '3hours': 10554, 'steamboat': 10555, 'jackass': 10556, 'hyperlink': 10557, '@vitaminwater': 10558, '@american': 10559, 'HASN': 10560, '5084773604': 10561, '22nd': 10562, '#bushleague': 10563, '#flybetter': 10564, 'electronic': 10565, 'Shavon': 10566, 'merger': 10567, 'Yay': 10568, '@UnitedAppeals': 10569, 'disgust': 10570, 'becuz': 10571, 'slice': 10572, '#socialtantrum': 10573, 'Tix': 10574, '#wtfodds': 10575, 'policy': 10576, 'command': 10577, 'oatmeal': 10578, 'massage': 10579, 'earphone': 10580, 'will1531': 10581, 'Fd2TNYcTrB': 10582, ' 742': 10583, 'pLate': 10584, 'geG4nghmIE': 10585, 'unfold': 10586, '#nochill': 10587, '#flightattendant': 10588, 'relax': 10589, '#pissed': 10590, 'apologize': 10591, 'Robert': 10592, 'consistent': 10593, ' 3935.': 10594, '@AskPayPal': 10595, 'WX': 10596, '7iM9rHIvyR': 10597, 'surprise': 10598, 'exit': 10599, 'coast': 10600, 'undue': 10601, ' 1:02': 10602, ' 354': 10603, '#4649': 10604, ' 3818': 10605, '6F': 10606, '#sfo': 10607, 'omg': 10608, 'duty': 10609, 'DestinationDragons': 10610, 'engagement': 10611, 'svcs': 10612, ' 619': 10613, 'emp': 10614, '#evermoreroom': 10615, '@twitter': 10616, 'link': 10617, 'nvm': 10618, '@DeltaAssist': 10619, 'bother': 10620, '#swapic': 10621, 'napkin': 10622, '#dreampath': 10623, '#ABCNews': 10624, 'cathay': 10625, 'hat': 10626, '#minefits': 10627, 'OGG': 10628, 'DQJl8vZ2h2': 10629, '901HLNgBtX': 10630, 'coming': 10631, '35A': 10632, 'ktn': 10633, 'Hah': 10634, 'flow': 10635, 'F*CKING': 10636, 'website': 10637, 'warn': 10638, 'puerto': 10639, '#nothelpful': 10640, '#Mumbai': 10641, '#1585': 10642, '#BETHonors': 10643, 'Unreal': 10644, ' 2350': 10645, '#getmehome': 10646, '#218': 10647, 'respectful': 10648, 'Kathryn': 10649, 'exec': 10650, ' 15.99': 10651, 'UA23': 10652, 'preclude': 10653, 'nyc': 10654, 'dramatically': 10655, '#nofood': 10656, 'tGSB1DfPS3': 10657, '2am': 10658, 'Miranda': 10659, '#americanairsucks': 10660, 'transfer': 10661, '#wastedtime': 10662, 'inflation': 10663, '#OrangeCounty': 10664, 'checkIn': 10665, 'some': 10666, 'Unsolicited': 10667, ' 6:15': 10668, '#Chicago': 10669, '#disunited': 10670, 'grouping': 10671, 'IHA': 10672, ' 2:12.': 10673, 'allll': 10674, '#bachelorpartymishap': 10675, 'quiet': 10676, '9148445695': 10677, ' 606': 10678, 'twitterz': 10679, 'reissue': 10680, 'television': 10681, 'charleston-very': 10682, 'Cali': 10683, '2day': 10684, 'AA3181': 10685, ' 101': 10686, ' 1212.': 10687, 'p-nut': 10688, 'dismissive': 10689, '#punishedforflying': 10690, 'A4': 10691, 'Agt': 10692, '12h': 10693, 'res': 10694, '#whybeAAFF': 10695, 'discontinue': 10696, 'kelsey': 10697, 'onto': 10698, '#Failing': 10699, 'devastate': 10700, '40k': 10701, 'membership': 10702, '….': 10703, '#notnice': 10704, 'acknowledgment': 10705, 'qantas': 10706, '5pm': 10707, 'blindside': 10708, '18fMr06mn6': 10709, 'clear': 10710, 'Exec': 10711, 'TgSLjjN6g0': 10712, 'hard-earn': 10713, 'Rita': 10714, '513mph': 10715, '@yyz': 10716, 'resole': 10717, '#ripoff': 10718, 'automatically': 10719, 'during': 10720, '@andyellwood': 10721, 'https': 10722, 'tix': 10723, 'inventory': 10724, 'management': 10725, 'fA7Nygn1Ux': 10726, '6delays': 10727, '6MBK79mdnW': 10728, 'ondemand': 10729, 'Incredibly': 10730, 'oAflfr7WXB': 10731, 'path': 10732, 'Chgd': 10733, '@tsa': 10734, '2rsw': 10735, '67': 10736, 'noodle': 10737, '#wth': 10738, '#imtired': 10739, 'ref': 10740, 'rqstd': 10741, 'assistant': 10742, 'stray': 10743, 'rough': 10744, 'BTV': 10745, '#UNCvsDUKE': 10746, 'hilarious': 10747, 'wd': 10748, 'extenuate': 10749, 'unserved': 10750, 'snobby': 10751, 'passbook': 10752, 'responsible': 10753, 'loaner': 10754, 'actually': 10755, '#awesome': 10756, 'wheelchair': 10757, 'reservation': 10758, 'MHT': 10759, ' 769.': 10760, 'tripitPro': 10761, 'sales': 10762, 'exp': 10763, '@bostonlogan': 10764, 'obqIro1bUJ': 10765, 'athlete': 10766, '@EWR': 10767, 'reunion': 10768, 'fr1': 10769, 'vary': 10770, '@HeinekenUSACorp': 10771, 'inflight': 10772, ' 645': 10773, '#usairwayssuck': 10774, '#ITFITS': 10775, 'VM': 10776, '$297': 10777, 'UGH': 10778, '#695': 10779, 'ERW': 10780, 'frm': 10781, ' 8:25': 10782, '2': 10783, ' 755': 10784, 'worrisome': 10785, 'qRXvZFrD1Z': 10786, 'happend': 10787, 'successful': 10788, 'sprinkle': 10789, 'LA': 10790, 'Neverflyunited': 10791, '@NationalAirpor': 10792, 'stroller': 10793, 'desk': 10794, 'BNA': 10795, 'priority': 10796, '12am': 10797, '@justynmoro': 10798, 'chnge': 10799, 'lile': 10800, 'thousand': 10801, 'verbally': 10802, 'blast': 10803, 'operational': 10804, 'TY': 10805, 'ORD-seriously': 10806, 'ua3659': 10807, ' 2312': 10808, 'snap': 10809, 'ottawa': 10810, 'Cm4roIypc2': 10811, 'selfie': 10812, 'homeless': 10813, '#Chiberia': 10814, '@bgr1061': 10815, '#lostacustomer': 10816, 'DEN-CLE': 10817, 'pity': 10818, 'hBsJ2sF17h': 10819, 'PJ': 10820, 'idol': 10821, '@motherpollock': 10822, 'CCNDJP': 10823, '@JimDayTV': 10824, 'AA1675': 10825, ' 4827': 10826, 'sitter': 10827, 'J': 10828, 'joker': 10829, 'hahahah': 10830, 'UA1532': 10831, 'nvr': 10832, 'gn30p75KqB': 10833, 'att': 10834, 'wife': 10835, 'that': 10836, 'DoCmvoTWTI': 10837, 'personnel': 10838, '#FRUSTRATED': 10839, 'slowness': 10840, 'herb': 10841, 'minutes--and': 10842, '#NewYork': 10843, 'woohoo': 10844, '@Jack_Kairys': 10845, 'Milan': 10846, 'recognize': 10847, '#UnitedAirlines': 10848, 'online-': 10849, ' 12:40.': 10850, 'laugh': 10851, '+!': 10852, 'PSA': 10853, 'competition': 10854, 'JAX': 10855, ' 16': 10856, 'Totally': 10857, '50min': 10858, '#leatherseats': 10859, 'mis-purchase': 10860, 'min': 10861, 'shouldn': 10862, 'Fupf0UAyir': 10863, 'entitle': 10864, 'consecutive': 10865, '#workforce': 10866, 'focus': 10867, '#poorcustomerservice': 10868, 'fuel': 10869, '2020': 10870, 'Punta': 10871, 'page': 10872, 'plat': 10873, '#1lesscustomer': 10874, '#DoNotFlyWithThem': 10875, 'seriously': 10876, 'evil': 10877, 'wererunning': 10878, '9a': 10879, ' 2934': 10880, 'slow': 10881, 'anxious': 10882, '15-hr': 10883, '#freeconcert': 10884, ' 6:35': 10885, 'hahahaha': 10886, 'T1RYpzEBc8': 10887, 'ozs': 10888, '1-way': 10889, 'lazy': 10890, 'me-right': 10891, 'AP': 10892, 'whoever': 10893, 'Nooooo': 10894, '#RedCarpet': 10895, 'KcVUbUYExc': 10896, '2.5hrs': 10897, 'assult': 10898, 'yest': 10899, 'hospitality': 10900, 'suspend': 10901, 'cheque': 10902, 'smoothly': 10903, 'unnecessary': 10904, 'island': 10905, 'http': 10906, 'extralight': 10907, 'bike': 10908, 'cng': 10909, 'limit': 10910, 'paradise': 10911, 'HPN': 10912, '919-675-0985': 10913, '@ggreenwald': 10914, ' 669': 10915, 'tux': 10916, 'wAA': 10917, 'LoLuWfCi11': 10918, 'yr': 10919, 'Manchester': 10920, 'Couldnt': 10921, 'equally': 10922, '#DevotedyYours': 10923, '#hungry': 10924, 'row': 10925, 'useless': 10926, '8441639': 10927, 'attempt': 10928, 'covering': 10929, 'annnnddddd': 10930, 'ass': 10931, 'shower': 10932, 'sexual': 10933, 'flts': 10934, 'embody': 10935, '#tbt': 10936, '#diehardvirgin': 10937, 'curb': 10938, ' 5012': 10939, 'B8': 10940, 'going2': 10941, 'cheese': 10942, 'unlikely': 10943, 'definition': 10944, 'pricy': 10945, '@sadie4406': 10946, 'UA4646': 10947, '#nothappy': 10948, 'nervous': 10949, '#usairways': 10950, 'baggage': 10951, 'Heathrow': 10952, 'JT': 10953, 'excuse': 10954, 'balloon': 10955, '#9NEWSBusiness': 10956, '1XdLbiBClP': 10957, '#JetBlueBOS': 10958, '#lostandforgotten': 10959, 'beer': 10960, 'goin': 10961, 'condescension': 10962, 'connectns': 10963, '@maryella_green': 10964, 'method': 10965, '#ohboy': 10966, 'DPhQRgkdoA': 10967, '#netneutrality': 10968, 'uncontrollable': 10969, 'reactive': 10970, 'promotion': 10971, 'unempathetic': 10972, 'fll': 10973, 'word': 10974, ' 4333': 10975, '#united': 10976, '#alreadyrebookedonce': 10977, 'technical': 10978, '@dultch97': 10979, 'hear': 10980, 'thick': 10981, 'coldly': 10982, 'install': 10983, 'proper': 10984, '#customerloyalty': 10985, 'passenegers': 10986, '68': 10987, '2morrow': 10988, ' 9:19': 10989, 'Rico': 10990, 'shiz': 10991, 'Honalulu': 10992, 'reference': 10993, 'sadden': 10994, 'trouble': 10995, 'Toronto': 10996, 'lightbulb': 10997, 'def': 10998, '#sFO': 10999, '#ineedabeer': 11000, 'miserable': 11001, '@jordnnicole7': 11002, '#airbus': 11003, 'Alex': 11004, '#shouldhaveflowndelta': 11005, 'predictable': 11006, 'hve': 11007, 'CLT-': 11008, 'exist': 11009, 'timed-out': 11010, ' 211': 11011, 'miscalculation': 11012, 'blue': 11013, 'dance': 11014, 'Flightness': 11015, 'Venetia': 11016, '#weaktea': 11017, 'terrible': 11018, '#crappy': 11019, 'clarify': 11020, 'Flightled--thor': 11021, 'yZXfe7au22': 11022, '863-': 11023, 'sum1': 11024, '@thirty_live': 11025, 'del-ewr': 11026, '2440': 11027, 'texas': 11028, 'IFC': 11029, 'buggy': 11030, '#legroom': 11031, 'Hayden': 11032, 'girlfriend': 11033, 'Helene': 11034, '#needtogethome': 11035, 'memory': 11036, ' 4500': 11037, 'MP': 11038, 'as': 11039, 'plan': 11040, ' 5559': 11041, 'machine': 11042, 'Tk': 11043, 'negligence': 11044, 'mait': 11045, 'around': 11046, '#worstairline': 11047, ' 746': 11048, '737-800': 11049, 'expand': 11050, 'KP': 11051, ' 1923.': 11052, '#fast': 11053, 'Inpolite': 11054, 'uncaring': 11055, 'groan': 11056, 'weekend': 11057, '#SouthwestLuvSweeps': 11058, 'calibrate': 11059, 'badge': 11060, 'BC': 11061, 'BQN': 11062, '#dca': 11063, 'could': 11064, '1:34': 11065, 'charge': 11066, ' 4009.': 11067, 'supposedly': 11068, ' 2023': 11069, ' 20,748': 11070, 'UA1429': 11071, 'Everglades': 11072, 'Gmail': 11073, '#YOW': 11074, ' 955': 11075, ' 1172.': 11076, 'fifty': 11077, 'til': 11078, 'pricing': 11079, ' 2012': 11080, '$358': 11081, 'bna-rdu': 11082, 'magazine': 11083, 'buzz': 11084, 'gray': 11085, 'Toby': 11086, 'MWA': 11087, 'again': 11088, 'belonging': 11089, '#stuckonaplane': 11090, 'benefit': 11091, 'LulGnwEfFH': 11092, 'excusable': 11093, ' 1735': 11094, 'expose': 11095, '9mEOzBO4xl': 11096, '#youdidit': 11097, '130': 11098, 'ypbkCiRBXu': 11099, '#PastMyPatienceExpirationDate': 11100, 'Iwas': 11101, 'weary': 11102, '#customers': 11103, 'sch': 11104, 'never': 11105, 'positive': 11106, '#noplacelikehome': 11107, 'diminish': 11108, 'Blegh': 11109, 'makeup': 11110, 'google': 11111, 'king': 11112, '#miatoiah': 11113, 'dialogue': 11114, 'seet': 11115, 'Russia': 11116, 'target': 11117, 'b12': 11118, 'Houston-bush': 11119, 'Heller': 11120, 'ORY89eEGek': 11121, '0pRGySvuRm': 11122, 'preflight': 11123, 'Sacramento': 11124, '12B': 11125, ' 1,5': 11126, 'simultaneously': 11127, '2yr': 11128, 'law': 11129, 'share': 11130, 'holler': 11131, 'ready': 11132, 'smooth': 11133, 'username': 11134, '24h': 11135, '#NoXTraLegRoom': 11136, 'ignorant': 11137, 'Rockies': 11138, 'husband': 11139, 'besides': 11140, 'Paulo': 11141, 'sime': 11142, 'sinus': 11143, 'Jeanine': 11144, 'UA647': 11145, '#mosaic': 11146, '#greedy': 11147, 'secondary': 11148, 'Owen': 11149, 'forgive': 11150, '1230am': 11151, 'myNZitCovn': 11152, 'zv6CfPoHl5': 11153, 'prechk': 11154, 'who': 11155, 'no-one': 11156, 'alcohol': 11157, 'Bos-SF': 11158, '#thankU': 11159, 'UA1297': 11160, 'interrupt': 11161, '#Mint': 11162, 'historically': 11163, 'r7ibqr4CYd': 11164, 'TX': 11165, 'chg': 11166, '30': 11167, 'catch': 11168, 'soak': 11169, 'BWI': 11170, ' 1875': 11171, 'alot': 11172, 'hy0VrfhjHt': 11173, 'Glenn': 11174, 'severely': 11175, '#chillpill': 11176, '#Ever': 11177, 'rampers': 11178, '#usairheads': 11179, 'cHGy5yrVka': 11180, 'RaeAnn': 11181, ' 40,000': 11182, 'skycaps': 11183, 'stow': 11184, 'Int': 11185, 'platitude': 11186, 'rookie': 11187, '$15': 11188})\n"
     ]
    }
   ],
   "source": [
    "#let' first  build a default dictionary to assign each word a unique location in the feature vector\n",
    "from collections import defaultdict, Counter\n",
    "word_to_index_dict = defaultdict(int)\n",
    "for index , word in enumerate(unique_word):\n",
    "    word_to_index_dict[word] = index\n",
    "print (word_to_index_dict)    "
   ]
  },
  {
   "cell_type": "code",
   "execution_count": 26,
   "metadata": {},
   "outputs": [],
   "source": [
    "# Let's create a reverse dictionary  for mapping index to word. It will help in debugging etc.\n",
    "# See how we used dictionary comprehension\n",
    "index_to_word_dict = { value:key  for key, value in word_to_index_dict.items()}"
   ]
  },
  {
   "cell_type": "code",
   "execution_count": 27,
   "metadata": {},
   "outputs": [
    {
     "data": {
      "text/plain": [
       "(9232,)"
      ]
     },
     "execution_count": 27,
     "metadata": {},
     "output_type": "execute_result"
    }
   ],
   "source": [
    "num_messages = training_messages.shape\n",
    "num_messages"
   ]
  },
  {
   "cell_type": "markdown",
   "metadata": {},
   "source": []
  },
  {
   "cell_type": "markdown",
   "metadata": {},
   "source": [
    "Let's create a numpy integer matrix of **num_messages X num_unique_words**, initialized with zero"
   ]
  },
  {
   "cell_type": "code",
   "execution_count": 28,
   "metadata": {},
   "outputs": [
    {
     "name": "stdout",
     "output_type": "stream",
     "text": [
      "(9232, 11189)\n"
     ]
    }
   ],
   "source": [
    "# each row in training_X is our x_i\n",
    "training_X = np.zeros((len(training_messages), len(unique_word)), dtype=int)\n",
    "print(training_X.shape)\n",
    "test_X = np.zeros((len(test_messages), len(unique_word)), dtype=int)"
   ]
  },
  {
   "cell_type": "code",
   "execution_count": 29,
   "metadata": {},
   "outputs": [],
   "source": [
    "def build_feature(text, word_to_index_dict):\n",
    "    feature = np.zeros((len(word_to_index_dict),), dtype=int)\n",
    "    word_freq =  Counter(text)\n",
    "    # setting the word count in text_no row of text_features\n",
    "    for word, freq in word_freq.items():\n",
    "        if word in word_to_index_dict:\n",
    "            index_of_word = word_to_index_dict[word]\n",
    "            feature[index_of_word] = freq\n",
    "    return feature        \n",
    "for text_no, text in enumerate(training_messages):\n",
    "    training_X[text_no] = build_feature(text, word_to_index_dict)\n",
    "    \n",
    "for text_no, text in enumerate(test_messages):\n",
    "    test_X[text_no] = build_feature(text, word_to_index_dict)"
   ]
  },
  {
   "cell_type": "markdown",
   "metadata": {},
   "source": [
    "\n",
    "## How we check if it above code is right ?\n",
    "## Let's do some primitive checking on a text message"
   ]
  },
  {
   "cell_type": "code",
   "execution_count": 30,
   "metadata": {},
   "outputs": [
    {
     "name": "stdout",
     "output_type": "stream",
     "text": [
      "Counter({'.': 2, '@USAirways': 1, 'three': 1, 'hour': 1, 'on': 1, 'hold': 1, 'then': 1, 'disconnect': 1, 'Conf': 1, 'EBHSET': 1, 'need': 1, 'to': 1, 'be': 1, 'home': 1, 'Sunday': 1, 'for': 1, 'interview': 1})\n",
      "##Encoding for text no 7 in feature vector is ##\n",
      "to 1\n",
      "for 1\n",
      "three 1\n",
      "interview 1\n",
      "@USAirways 1\n",
      "need 1\n",
      "on 1\n",
      "disconnect 1\n",
      "Conf 1\n",
      "be 1\n",
      "EBHSET 1\n",
      "Sunday 1\n",
      "home 1\n",
      "hour 1\n",
      ". 2\n",
      "then 1\n",
      "hold 1\n"
     ]
    }
   ],
   "source": [
    "text_no =7\n",
    "message_word_count = Counter(training_messages.iloc[text_no])\n",
    "print(message_word_count)\n",
    "\n",
    "# Let' check non zero location in text_features to see if count is set properly\n",
    "print('##Encoding for text no {} in feature vector is ##'.format(text_no))\n",
    "for i, count in enumerate(training_X[text_no]):\n",
    "    if count >0:\n",
    "        print(index_to_word_dict[i], count)\n"
   ]
  },
  {
   "cell_type": "markdown",
   "metadata": {},
   "source": [
    "<font color= 'red' > Make sure Counter and encoding gives same results in above cell </font>"
   ]
  },
  {
   "cell_type": "markdown",
   "metadata": {},
   "source": [
    "# We have successfully converted messages into a numpy matrix of feature vectors.\n",
    "\n",
    "<img src=\"https://images.unsplash.com/photo-1532081274113-50aa6c277925?ixlib=rb-1.2.1&ixid=eyJhcHBfaWQiOjEyMDd9&auto=format&fit=crop&w=1950&q=80\" alt=\"Well done\" width=\"500\" height=\"400\">\n"
   ]
  },
  {
   "cell_type": "markdown",
   "metadata": {},
   "source": [
    "# Let's convert positive and negative label to 1 and 0  respectively"
   ]
  },
  {
   "cell_type": "code",
   "execution_count": 39,
   "metadata": {},
   "outputs": [
    {
     "name": "stdout",
     "output_type": "stream",
     "text": [
      "<class 'pandas.core.series.Series'>\n"
     ]
    },
    {
     "data": {
      "text/plain": [
       "9266     negative\n",
       "9165     negative\n",
       "10514    negative\n",
       "4511     positive\n",
       "9663     negative\n",
       "14028    negative\n",
       "11147    negative\n",
       "10294    negative\n",
       "5304     negative\n",
       "7875     positive\n",
       "Name: airline_sentiment, dtype: object"
      ]
     },
     "execution_count": 39,
     "metadata": {},
     "output_type": "execute_result"
    }
   ],
   "source": [
    "print (type(training_labels))\n",
    "training_labels.head(10)# can check from head too"
   ]
  },
  {
   "cell_type": "code",
   "execution_count": 40,
   "metadata": {},
   "outputs": [
    {
     "data": {
      "text/plain": [
       "array([1, 1, 0, 1, 0, 0, 0])"
      ]
     },
     "execution_count": 40,
     "metadata": {},
     "output_type": "execute_result"
    }
   ],
   "source": [
    "# This is our training_y value\n",
    "training_y = (training_labels.values == 'positive').astype(int)\n",
    "test_y = (test_labels.values == 'positive').astype(int)\n",
    "training_y[9225:]"
   ]
  },
  {
   "cell_type": "markdown",
   "metadata": {},
   "source": [
    "# Training the model or estimating parameters $\\theta$ of the model\n",
    "Now we have vector feature representation $x_i$ of our text samples. \n",
    "\n",
    "Let review some theory and see what parameters we need to estimate for Naive bayes model.\n",
    "\n",
    "We know that we classify a text $x_i$  to a class c= POSITIVE or c= NEGATIVE which has maximum value of $P(c|x_i).$ Using bayes rule we have $P(c|x_i) = \\frac{P(x_i|c) P(c)}{P(x_i)} \\propto P(x_i|c) P(c)$ as normalization doesn't depend on class label. \n",
    "\n",
    "In naive bayes assumption for modeling class conditional densities, we have $P(x_i|c) = \\prod_j^D P(x_{ij}|c)$ assuming  $x_i \\in \\mathbb{R}^D$\n",
    "\n",
    "**Note:$D$ is size of our vacabulary ($|V|$) build from text document corpus i.e D = |V|**\n",
    "\n",
    "**what probability distribution we should choose for $P(x_{ij}|c)?$ **\n",
    "\n",
    "Each value $x_{ij}$ is an integer values and there are total $D$ different unique values(word). This definetly suits a **$D$ side die** situation. \n",
    "\n",
    "**Infact, once we have learned $P(x_{ij}|c)?$ i.e probabilites of different sides for positive and negative die,**\n",
    "** positive or negative text generation in bag of word model is nothing but rolling positive or negative die. Pick the word dictated by the side of die throw.**\n",
    "\n",
    "Now we  know that we can put multinomial distribution for such situation. Hence\n",
    "<font size = 6> \n",
    "$P(x_i|c) = \\frac{n_i !}{\\prod_j^D x_{ij|C}!} P(c) \\prod^{D} P(w_j|c)^{x_{ij}} \\propto P(c) \\prod^{D} P(w_j|c)^{x_{ij}}$ \n",
    "</font>\n",
    "as normalization doesn't depend on class label\n",
    "\n",
    "We know that using MLE estimate we have\n",
    "<font size = 8> \n",
    "$P(w_j|c) = \\frac{\\sum_{i=1}^N x_{ij}\\mathbb{1}(y_i=c)}{\\sum_{k=1}^{D} \\sum_{i=1}^N x_{ik}\\mathbb{1}(y_i=c)}.$ \n",
    "</font>\n",
    "where $\\mathbb{1}$ is indicator function.\n",
    "\n",
    "\n",
    "- Hence the parameters are nothing  nothing but relative frequency of $w_j$ in documents of class c=NEGATIVE or c= POSITIVE\n",
    "with respect to the total number of words in documents of that class.\n",
    "\n",
    "- We can sum our numpy text_feature matrix along row or dim 0 to get total frequency of each feature for positive and negative class\n",
    "- normalize total frequency of each feature with total frequency of all the features for each class.\n",
    "- prior class  densities are estimated as $P(c) = \\frac{N_c}{N}.$ Where $N_c$ are number of document/text in class k.\n",
    "\n",
    "- So we have to learn **num_unique_words** parameters for each die\n",
    "- and 2  class densities.\n",
    "\n",
    "\n",
    "# Let's learn the parameters for c= positive(1) and c= negative(0)\n",
    "\n"
   ]
  },
  {
   "cell_type": "code",
   "execution_count": 33,
   "metadata": {
    "scrolled": true
   },
   "outputs": [
    {
     "name": "stdout",
     "output_type": "stream",
     "text": [
      "(9232, 11189)\n",
      "1890\n",
      "(1890, 11189)\n",
      "(11189,)\n",
      "11189\n",
      "[13  2  1  1  2  1  4  3  1  1]\n",
      "54812\n",
      "11189\n"
     ]
    },
    {
     "data": {
      "text/plain": [
       "array([2.98007932e-04, 4.58473741e-05, 2.29236870e-05, 2.29236870e-05,\n",
       "       4.58473741e-05])"
      ]
     },
     "execution_count": 33,
     "metadata": {},
     "output_type": "execute_result"
    }
   ],
   "source": [
    "# First estimate for positive\n",
    "\n",
    "# summing up per feature count\n",
    "print(training_X.shape)\n",
    "training_X_positive = training_X[training_y ==1]\n",
    "print(len(training_X_positive))\n",
    "print(training_X_positive.shape)\n",
    "#print(training_X_positive[:5])\n",
    "per_feature_count =np.sum(training_X_positive, axis = 0)+1\n",
    "print(per_feature_count.shape)\n",
    "print(len(per_feature_count))\n",
    "print(per_feature_count[:10])\n",
    "print(np.sum(per_feature_count)+len(per_feature_count))\n",
    "print(np.count_nonzero(per_feature_count))\n",
    "parameters_w_positive = per_feature_count/(np.sum(per_feature_count))\n",
    "\n",
    "parameters_w_positive[:5]"
   ]
  },
  {
   "cell_type": "markdown",
   "metadata": {},
   "source": [
    "# Let's estimate parameters for negative"
   ]
  },
  {
   "cell_type": "markdown",
   "metadata": {},
   "source": [
    "# Q 3(.5 Point): Write code similarly to negative class to estimate following parameter parameters_w_negative for negative class."
   ]
  },
  {
   "cell_type": "code",
   "execution_count": 34,
   "metadata": {},
   "outputs": [
    {
     "name": "stdout",
     "output_type": "stream",
     "text": [
      "(7342, 11189)\n",
      "(11189,)\n",
      "11189\n",
      "[6.75331692e-04 6.75331692e-05 1.03897183e-05 ... 1.55845775e-05\n",
      " 1.03897183e-05 1.55845775e-05]\n",
      "<class 'int'>\n",
      "0\n",
      "1\n"
     ]
    }
   ],
   "source": [
    "# Write code here\n",
    "training_X_negative = training_X[training_y ==0]\n",
    "print(training_X_negative.shape)\n",
    "per_feature_count = np.sum(training_X_negative, axis = 0)+1\n",
    "print(per_feature_count.shape)\n",
    "print(np.count_nonzero(per_feature_count))\n",
    "parameters_w_negative = per_feature_count/(np.sum(per_feature_count)+len(per_feature_count))\n",
    "\n",
    "print(parameters_w_negative)\n",
    "\n",
    "NEGATIVE_CLASS, POSITIVE_CLASS = range(2)\n",
    "print(type(NEGATIVE_CLASS))\n",
    "print(NEGATIVE_CLASS)\n",
    "print(POSITIVE_CLASS)"
   ]
  },
  {
   "cell_type": "markdown",
   "metadata": {},
   "source": [
    "# Zero probability issue\n",
    "As we can see some of the probability can be zero. It will create problem when we estimate probability of a new document in test set if that was not in training set. \n",
    "\n",
    "If any of the term in product is zero it will result in zero product. If any of the class don't have this term then probability of this document for any class will be zero. If we play log trick for comparing product of probability, we will be in trouble as log of zero is not defined."
   ]
  },
  {
   "cell_type": "markdown",
   "metadata": {},
   "source": [
    "**One way to handle this situtation to add a fake 1 count of the word in each class. This is called Laplace law of succession or add one smoothing**.\n",
    "\n",
    "We estimate\n",
    "<font size = 8> \n",
    "$P(w_j|c) = \\frac{\\sum_{i=1}^N x_{ij}\\mathbb{1}(y_i=c) + 1}{\\sum_{k=1}^{D} \\sum_{i=1}^N x_{ik}\\mathbb{1}(y_i=c) + |V|}.$ \n",
    "</font>\n",
    "where $\\mathbb{1}$ is indicator function and $|V|$ is size of our dictionary.\n",
    "\n",
    "This can be done by adding a row of ones to training_X_positive and training_X_negative\n"
   ]
  },
  {
   "cell_type": "markdown",
   "metadata": {},
   "source": [
    "# Once we learn have learned the model(i.e its parameters, probabilities of different words occuring in positive die and negative die), how good is our model ?\n",
    "- Let take out our test data convert to count feature vector using same dictionaries\n",
    "- Calculate the probability if test data belonging to Positive or negative. i.e if probability is >=.5 Positive otherwise negative\n",
    " or we can calculate the ratio\n",
    " <font size = 5>\n",
    " $\\frac{P(x_{test}|c=positive)}{P(x_{test}|c=negative)} = \\frac{ P(c=positive)  \\prod^{D}_{j =1} P(w_j|c=positive)^{x_{test,j}}} { P(c= negative)\\prod^{D}_{j=1} P(w_j|c=negative)^{x_{test, j}}}$ \n",
    " </font>\n",
    " \n",
    " **Note:Generally such large product of probabilities, turns out to be zero because of computer representation limits of real numbers.**\n",
    " \n",
    " Another option is let take log on right hand side and after some manipulation one can show that if\n",
    " <font size = 5>\n",
    "  $\\sum_{j =1}^{D} (x_{test,j})log (P(w_j|c=positive)) +log(P(c= positive)) \\ge log(P(c=negative))+ \\sum_{j =1}^{D} (x_{test,j})log (P(w_j|c=negative))$\n",
    "  \n",
    "  </font>\n",
    "  \n",
    " then it is positive otherwise negative\n",
    " \n",
    " \n",
    " \n",
    " \n",
    "- Compare with test data label and let's report accuracy and confusion matrix\n",
    "\n",
    "Let's do these steps"
   ]
  },
  {
   "cell_type": "markdown",
   "metadata": {},
   "source": [
    "# Let's build a class for our multinomial naive bayes and estimate its new parameters based on  Laplace law of succession or add one smoothing.\n",
    "\n",
    "You will use this same class on test challenge datasets."
   ]
  },
  {
   "cell_type": "markdown",
   "metadata": {},
   "source": [
    "# Q 4 (3 = .5 + 2(1+1)+ .5) Perform the following activity in the following multinomial_naive_bayes class \n",
    "\n",
    "- Implement \\_calculate\\_prior function\n",
    "- Finish fit function\n",
    "- Finish accuracy calculation"
   ]
  },
  {
   "cell_type": "code",
   "execution_count": 35,
   "metadata": {},
   "outputs": [],
   "source": [
    "class multinomial_naive_bayes(object):\n",
    "    \n",
    "    NEGATIVE_CLASS, POSITIVE_CLASS = range(2)\n",
    "    \n",
    "    def __init__(self, class_prior=(.5, .5), fit_prior=True):\n",
    "        \n",
    "        self._class_prior= class_prior\n",
    "        self._fit_prior = fit_prior\n",
    "        \n",
    "        \n",
    "    def fit(self, training_X, training_y):\n",
    "        '''\n",
    "        Finishi this function. Store the parameters\n",
    "        for positive class in self._parameters_w_positive\n",
    "        for negative class in self._parameters_w_negative\n",
    "        See how predict method relies on these paramters.\n",
    "        '''\n",
    "        #Write code here for estimating self._parameters_w_positive and self._parameters_w_negative\n",
    "        training_X_positive = training_X[training_y==1]\n",
    "        training_X_negative = training_X[training_y==0]\n",
    "        pos_per_feature_count = np.sum(training_X_positive, axis = 0)+1\n",
    "        neg_per_feature_count = np.sum(training_X_negative, axis = 0)+1\n",
    "        #print(len(training_X_positive))\n",
    "        #print(len(training_X_negative))\n",
    "        self._parameters_w_positive = pos_per_feature_count/(np.sum(pos_per_feature_count)+len(pos_per_feature_count))\n",
    "        self._parameters_w_negative = neg_per_feature_count/(np.sum(neg_per_feature_count)+len(neg_per_feature_count))\n",
    "        if self._fit_prior:\n",
    "            self._class_prior = self._calculate_prior(len(training_X_positive), len(training_X_negative))\n",
    "            print(self._class_prior)\n",
    "        #print('negative_params:' + str(self._parameters_w_negative))\n",
    "        #print('positve+params:' + str(self._parameters_w_positive))\n",
    "        #print(self._class_prior)\n",
    "        return self    \n",
    "            \n",
    "    def _calculate_prior(self, n_positive, n_negative):    \n",
    "        '''\n",
    "        Finish this function to return prior of negative and positive class\n",
    "        comment or remove the NotImplementedError \n",
    "        '''\n",
    "        print(\"calculating priors\")\n",
    "        print(\"number of positive tweets:  \" + str(n_positive))\n",
    "        print(\"number of negative tweets:  \" + str(n_negative))\n",
    "        print(\"total number of training tweets:  \" + str(len(training_X)))\n",
    "        pos_prior = n_positive/len(training_X)\n",
    "        neg_prior = n_negative/len(training_X)\n",
    "        print(\"return a tuple: first element = negatives, second element = positives\")\n",
    "        return (neg_prior,pos_prior)\n",
    "        #raise NotImplementedError(\"implement this!\")\n",
    "        \n",
    "        \n",
    "    def _calculate_score(self, parameters,test_text, class_prior):\n",
    "            \n",
    "            #print(parameters)\n",
    "            #print(test_text)\n",
    "            #print(class_prior)\n",
    "            return np.sum(nnp.log(p.power(parameters,test_text))) + class_prior            \n",
    "        \n",
    "    def predict(self, test_X, test_y):\n",
    "        '''\n",
    "        predict the accuracy\n",
    "        '''\n",
    "        positive_score = np.zeros_like(test_y,dtype=float)\n",
    "        negative_score = np.zeros_like(test_y,dtype=float)\n",
    "        print (\"shape of arrays to store positive and negative scores\" + str(positive_score.shape) + \":\" + str(negative_score.shape)) # just printing to make sure shape is right\n",
    "\n",
    "\n",
    "        for idx, test_text in enumerate(test_X):# this will fetch row by row, encoded test messages\n",
    "            positive_score[idx] = self._calculate_score(self._parameters_w_positive,\n",
    "                                                       test_text,\n",
    "                                                        np.log(self._class_prior[multinomial_naive_bayes.POSITIVE_CLASS]))\n",
    "            negative_score[idx] = self._calculate_score(self._parameters_w_negative,\n",
    "                                                        test_text, np.log(self._class_prior[multinomial_naive_bayes.NEGATIVE_CLASS]))\n",
    "        print(\"first 20 scores from positive array:\\n\" + str(positive_score[:20]))\n",
    "        print(\"first 20 scores from negative array:\\n\" + str(negative_score[:20]))\n",
    "        \n",
    "        ## Write code here\n",
    "        #Look at the equation above  for deciding the class label and finish \n",
    "        # the code for accuracy calculation\n",
    "        self.class_label = np.zeros_like(test_y,dtype=float)\n",
    "      #  np.set_printoptions(threshold=np.inf)\n",
    "        #self.class_label = positive_score - negative_score\n",
    "        for idx in range(0,len(self.class_label)) :\n",
    "             self.class_label[idx] = positive_score[idx] - negative_score[idx]\n",
    "        #print(self.class_label[:5])   \n",
    "             if self.class_label[idx] > 0 :\n",
    "                self.class_label[idx] = 1 \n",
    "             else:\n",
    "                self.class_label[idx] = 0\n",
    "        print(\"class label subtracts negatives scores from positive one and sets positive scores to 1:\\n\" + str(self.class_label[:20]))\n",
    "        print(\"first 20 true lablels from test_y:\\n\" + str(test_y[:20]))\n",
    "        self.accuracy_test = np.zeros_like(test_y,dtype=float)\n",
    "        for idx in range(0,len(self.class_label)) :\n",
    "              if self.class_label[idx] == test_y[idx] :\n",
    "                    self.accuracy_test[idx] = 1\n",
    "        print(\"if prediction matches label in test_y set it to 1, otherwise 0\\n\" + str(self.accuracy_test[:20]))  \n",
    "        print(\"note: first non-matching one is 11th element\")\n",
    "        \n",
    "        print(\"how many nonzero elements: (ones we got right)\" + str(np.count_nonzero(self.accuracy_test)))\n",
    "           \n",
    "        print(\"hown many total elements in the test label:\" + str(len(self.accuracy_test)))\n",
    "        print(\"accuracy is total right/total in set\")\n",
    "        accuracy = np.count_nonzero(self.accuracy_test)/len(self.accuracy_test)\n",
    "            \n",
    "        return accuracy\n",
    "        \n",
    "    "
   ]
  },
  {
   "cell_type": "code",
   "execution_count": 36,
   "metadata": {},
   "outputs": [],
   "source": [
    "clf = multinomial_naive_bayes()"
   ]
  },
  {
   "cell_type": "code",
   "execution_count": 37,
   "metadata": {},
   "outputs": [
    {
     "name": "stdout",
     "output_type": "stream",
     "text": [
      "calculating priors\n",
      "number of positive tweets:  1890\n",
      "number of negative tweets:  7342\n",
      "total number of training tweets:  9232\n",
      "return a tuple: first element = negatives, second element = positives\n",
      "(0.7952772963604853, 0.20472270363951472)\n"
     ]
    },
    {
     "data": {
      "text/plain": [
       "<__main__.multinomial_naive_bayes at 0x7fe2d80e8c70>"
      ]
     },
     "execution_count": 37,
     "metadata": {},
     "output_type": "execute_result"
    }
   ],
   "source": [
    "clf.fit(training_X, training_y)\n"
   ]
  },
  {
   "cell_type": "code",
   "execution_count": 38,
   "metadata": {},
   "outputs": [
    {
     "name": "stdout",
     "output_type": "stream",
     "text": [
      "shape of arrays to store positive and negative scores(2309,):(2309,)\n"
     ]
    },
    {
     "ename": "NameError",
     "evalue": "name 'nnp' is not defined",
     "output_type": "error",
     "traceback": [
      "\u001b[0;31m---------------------------------------------------------------------------\u001b[0m",
      "\u001b[0;31mNameError\u001b[0m                                 Traceback (most recent call last)",
      "\u001b[0;32m<ipython-input-38-8ba9d639d956>\u001b[0m in \u001b[0;36m<module>\u001b[0;34m\u001b[0m\n\u001b[0;32m----> 1\u001b[0;31m \u001b[0mclf\u001b[0m\u001b[0;34m.\u001b[0m\u001b[0mpredict\u001b[0m\u001b[0;34m(\u001b[0m\u001b[0mtest_X\u001b[0m\u001b[0;34m,\u001b[0m \u001b[0mtest_y\u001b[0m\u001b[0;34m)\u001b[0m\u001b[0;34m\u001b[0m\u001b[0;34m\u001b[0m\u001b[0m\n\u001b[0m",
      "\u001b[0;32m<ipython-input-35-b71964503bea>\u001b[0m in \u001b[0;36mpredict\u001b[0;34m(self, test_X, test_y)\u001b[0m\n\u001b[1;32m     66\u001b[0m \u001b[0;34m\u001b[0m\u001b[0m\n\u001b[1;32m     67\u001b[0m         \u001b[0;32mfor\u001b[0m \u001b[0midx\u001b[0m\u001b[0;34m,\u001b[0m \u001b[0mtest_text\u001b[0m \u001b[0;32min\u001b[0m \u001b[0menumerate\u001b[0m\u001b[0;34m(\u001b[0m\u001b[0mtest_X\u001b[0m\u001b[0;34m)\u001b[0m\u001b[0;34m:\u001b[0m\u001b[0;31m# this will fetch row by row, encoded test messages\u001b[0m\u001b[0;34m\u001b[0m\u001b[0;34m\u001b[0m\u001b[0m\n\u001b[0;32m---> 68\u001b[0;31m             positive_score[idx] = self._calculate_score(self._parameters_w_positive,\n\u001b[0m\u001b[1;32m     69\u001b[0m                                                        \u001b[0mtest_text\u001b[0m\u001b[0;34m,\u001b[0m\u001b[0;34m\u001b[0m\u001b[0;34m\u001b[0m\u001b[0m\n\u001b[1;32m     70\u001b[0m                                                         np.log(self._class_prior[multinomial_naive_bayes.POSITIVE_CLASS]))\n",
      "\u001b[0;32m<ipython-input-35-b71964503bea>\u001b[0m in \u001b[0;36m_calculate_score\u001b[0;34m(self, parameters, test_text, class_prior)\u001b[0m\n\u001b[1;32m     54\u001b[0m             \u001b[0;31m#print(test_text)\u001b[0m\u001b[0;34m\u001b[0m\u001b[0;34m\u001b[0m\u001b[0;34m\u001b[0m\u001b[0m\n\u001b[1;32m     55\u001b[0m             \u001b[0;31m#print(class_prior)\u001b[0m\u001b[0;34m\u001b[0m\u001b[0;34m\u001b[0m\u001b[0;34m\u001b[0m\u001b[0m\n\u001b[0;32m---> 56\u001b[0;31m             \u001b[0;32mreturn\u001b[0m \u001b[0mnp\u001b[0m\u001b[0;34m.\u001b[0m\u001b[0msum\u001b[0m\u001b[0;34m(\u001b[0m\u001b[0mnnp\u001b[0m\u001b[0;34m.\u001b[0m\u001b[0mlog\u001b[0m\u001b[0;34m(\u001b[0m\u001b[0mp\u001b[0m\u001b[0;34m.\u001b[0m\u001b[0mpower\u001b[0m\u001b[0;34m(\u001b[0m\u001b[0mparameters\u001b[0m\u001b[0;34m,\u001b[0m\u001b[0mtest_text\u001b[0m\u001b[0;34m)\u001b[0m\u001b[0;34m)\u001b[0m\u001b[0;34m)\u001b[0m \u001b[0;34m+\u001b[0m \u001b[0mclass_prior\u001b[0m\u001b[0;34m\u001b[0m\u001b[0;34m\u001b[0m\u001b[0m\n\u001b[0m\u001b[1;32m     57\u001b[0m \u001b[0;34m\u001b[0m\u001b[0m\n\u001b[1;32m     58\u001b[0m     \u001b[0;32mdef\u001b[0m \u001b[0mpredict\u001b[0m\u001b[0;34m(\u001b[0m\u001b[0mself\u001b[0m\u001b[0;34m,\u001b[0m \u001b[0mtest_X\u001b[0m\u001b[0;34m,\u001b[0m \u001b[0mtest_y\u001b[0m\u001b[0;34m)\u001b[0m\u001b[0;34m:\u001b[0m\u001b[0;34m\u001b[0m\u001b[0;34m\u001b[0m\u001b[0m\n",
      "\u001b[0;31mNameError\u001b[0m: name 'nnp' is not defined"
     ]
    }
   ],
   "source": [
    "clf.predict(test_X, test_y)"
   ]
  },
  {
   "cell_type": "markdown",
   "metadata": {},
   "source": [
    "<font color = 'BlueViolet' size = 6> Following code will show why python eco system shines.\n",
    "We will use python library sklearn to build  multinomial Naive Bayes classifier </font>"
   ]
  },
  {
   "cell_type": "markdown",
   "metadata": {},
   "source": [
    "# Q 5 (.5 = .25(training part) +.25 point(evaluation part)) Write code here to train MultinomialNB classifer  from sklearn and report accuracy in test set\n",
    "\n",
    "Check if you get same accuracy number"
   ]
  },
  {
   "cell_type": "code",
   "execution_count": 41,
   "metadata": {},
   "outputs": [
    {
     "name": "stdout",
     "output_type": "stream",
     "text": [
      "0\n"
     ]
    },
    {
     "data": {
      "text/plain": [
       "0.916847119965353"
      ]
     },
     "execution_count": 41,
     "metadata": {},
     "output_type": "execute_result"
    }
   ],
   "source": [
    "from sklearn.naive_bayes import MultinomialNB\n",
    "# Write the code here\n",
    "clf = MultinomialNB()\n",
    "clf.fit(training_X, training_y)\n",
    "clf_pred = clf.predict(test_X)\n",
    "print(clf_pred[4])\n",
    "clf.score(test_X, test_y)\n"
   ]
  },
  {
   "cell_type": "code",
   "execution_count": null,
   "metadata": {},
   "outputs": [],
   "source": []
  }
 ],
 "metadata": {
  "kernelspec": {
   "display_name": "Python 3",
   "language": "python",
   "name": "python3"
  },
  "language_info": {
   "codemirror_mode": {
    "name": "ipython",
    "version": 3
   },
   "file_extension": ".py",
   "mimetype": "text/x-python",
   "name": "python",
   "nbconvert_exporter": "python",
   "pygments_lexer": "ipython3",
   "version": "3.8.5"
  },
  "toc": {
   "base_numbering": 1,
   "nav_menu": {},
   "number_sections": false,
   "sideBar": true,
   "skip_h1_title": false,
   "title_cell": "Table of Contents",
   "title_sidebar": "Contents",
   "toc_cell": false,
   "toc_position": {},
   "toc_section_display": true,
   "toc_window_display": false
  },
  "varInspector": {
   "cols": {
    "lenName": 16,
    "lenType": 16,
    "lenVar": 40
   },
   "kernels_config": {
    "python": {
     "delete_cmd_postfix": "",
     "delete_cmd_prefix": "del ",
     "library": "var_list.py",
     "varRefreshCmd": "print(var_dic_list())"
    },
    "r": {
     "delete_cmd_postfix": ") ",
     "delete_cmd_prefix": "rm(",
     "library": "var_list.r",
     "varRefreshCmd": "cat(var_dic_list()) "
    }
   },
   "types_to_exclude": [
    "module",
    "function",
    "builtin_function_or_method",
    "instance",
    "_Feature"
   ],
   "window_display": false
  }
 },
 "nbformat": 4,
 "nbformat_minor": 4
}
